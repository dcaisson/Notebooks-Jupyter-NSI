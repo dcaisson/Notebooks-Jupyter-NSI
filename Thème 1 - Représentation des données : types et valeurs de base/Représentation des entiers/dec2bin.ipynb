{
 "cells": [
  {
   "cell_type": "code",
   "execution_count": 1,
   "metadata": {},
   "outputs": [],
   "source": [
    "def dec2bin(n):\n",
    "    \"\"\" Permet la conversion de la base $10$ vers la base $2$\n",
    "    Entrée : un entier naturel n\n",
    "    Sortie : une chaine de caractères qui donne l'écriture\n",
    "    de n en base 2\n",
    "    \"\"\"\n",
    "    if n == 0:\n",
    "        return \"0\"\n",
    "    else:\n",
    "        b = \"\"\n",
    "        while n != 0:\n",
    "            pass"
   ]
  },
  {
   "cell_type": "code",
   "execution_count": null,
   "metadata": {},
   "outputs": [],
   "source": [
    "# Quelques tests\n",
    "assert dec2bin(436) == \"110110100\"\n",
    "assert dec2bin(1000) == \"1111101000\"\n",
    "assert dec2bin(0) == \"0\""
   ]
  }
 ],
 "metadata": {
  "finalized": {
   "timestamp": 1618448989742,
   "trusted": true
  },
  "kernelspec": {
   "display_name": "Python 3 (ipykernel)",
   "language": "python",
   "name": "python3"
  },
  "language_info": {
   "codemirror_mode": {
    "name": "ipython",
    "version": 3
   },
   "file_extension": ".py",
   "mimetype": "text/x-python",
   "name": "python",
   "nbconvert_exporter": "python",
   "pygments_lexer": "ipython3",
   "version": "3.8.11"
  },
  "latex_envs": {
   "LaTeX_envs_menu_present": true,
   "autoclose": false,
   "autocomplete": true,
   "bibliofile": "biblio.bib",
   "cite_by": "apalike",
   "current_citInitial": 1,
   "eqLabelWithNumbers": true,
   "eqNumInitial": 1,
   "hotkeys": {
    "equation": "Ctrl-E",
    "itemize": "Ctrl-I"
   },
   "labels_anchors": false,
   "latex_user_defs": false,
   "report_style_numbering": false,
   "user_envs_cfg": false
  }
 },
 "nbformat": 4,
 "nbformat_minor": 2
}
