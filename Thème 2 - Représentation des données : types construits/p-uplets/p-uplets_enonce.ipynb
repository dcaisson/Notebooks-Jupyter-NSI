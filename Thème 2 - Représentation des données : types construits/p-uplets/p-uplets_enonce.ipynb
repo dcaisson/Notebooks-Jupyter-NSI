{
 "cells": [
  {
   "cell_type": "markdown",
   "metadata": {
    "slideshow": {
     "slide_type": "-"
    }
   },
   "source": [
    "# Les p-uplets (ou tuples) en Python"
   ]
  },
  {
   "cell_type": "markdown",
   "metadata": {
    "slideshow": {
     "slide_type": "skip"
    }
   },
   "source": [
    "## Sommaire \n",
    "[**1. Définition et opérations**](#definition-operations)  \n",
    "&nbsp;&nbsp;&nbsp;&nbsp;[1.1 Définition](#definition)  \n",
    "&nbsp;&nbsp;&nbsp;&nbsp;[1.2 Créer un p-uplet](#creer-p-uplet)  \n",
    "&nbsp;&nbsp;&nbsp;&nbsp;[1.3 Similarités avec les listes](#similarites-avec-listes)  \n",
    "&nbsp;&nbsp;&nbsp;&nbsp;[1.4 Différences avec les listes](#differences-avec-listes)  \n",
    "[**2. Exercices**](#exercices)  \n",
    "&nbsp;&nbsp;&nbsp;&nbsp;[Exercice 1](#exercice-1)  \n",
    "&nbsp;&nbsp;&nbsp;&nbsp;[Exercice 2](#exercice-2)"
   ]
  },
  {
   "cell_type": "markdown",
   "metadata": {
    "slideshow": {
     "slide_type": "slide"
    }
   },
   "source": [
    "## 1. Définition et opérations<a id=\"definition-operations\"></a>"
   ]
  },
  {
   "cell_type": "markdown",
   "metadata": {
    "slideshow": {
     "slide_type": "slide"
    }
   },
   "source": [
    "### 1.1 Définition<a id=\"definition\"></a>\n",
    "Un objet de type **tuple**, un **p-uplet**, est une suite ordonnée d’éléments qui peuvent être chacun de n’importe quel type. On parlera indifféremment de **p-uplet** ou de **tuple**.\n",
    "\n",
    "Un **p-uplet** est utilisé comme **enregistrement** de données hétérogènes qui sont liées entre elles, par exemple pour une ville : (nom, code postal, latitude, longitude)."
   ]
  },
  {
   "cell_type": "code",
   "execution_count": null,
   "metadata": {
    "slideshow": {
     "slide_type": "subslide"
    }
   },
   "outputs": [],
   "source": [
    "# Exemple de p-uplet\n",
    "ma_ville = (\"Papeete\", 98714, -17.53, -149.57)"
   ]
  },
  {
   "cell_type": "markdown",
   "metadata": {},
   "source": [
    "### 1.2 Créer un p-uplet<a id=\"creer-p-uplet\"></a>\n",
    "En Python, un **p-uplet** est un objet de type ``tuple``. Pour définir un p-uplet, on écrit entre parenthèses la séquence ordonnée des éléments qu'il contient."
   ]
  },
  {
   "cell_type": "markdown",
   "metadata": {},
   "source": [
    "### 1.3 Similarités avec les listes<a id=\"similarites-avec-listes\"></a>"
   ]
  },
  {
   "cell_type": "markdown",
   "metadata": {},
   "source": [
    "#### Aliasing"
   ]
  },
  {
   "attachments": {},
   "cell_type": "markdown",
   "metadata": {},
   "source": [
    "Un objet de type ``tuple`` partage de nombreuses propriétés avec les objets de type ``list``. En particulier, sa valeur est une référence vers la zone mémoire où est stockée la séquence d'objets. \n"
   ]
  },
  {
   "cell_type": "markdown",
   "metadata": {},
   "source": [
    "#### Accès aux éléments d'un p-uplet"
   ]
  },
  {
   "cell_type": "markdown",
   "metadata": {},
   "source": [
    "On peut accéder aux éléments d'un p-uplet de la même façon qu'avec des listes :"
   ]
  },
  {
   "cell_type": "code",
   "execution_count": null,
   "metadata": {},
   "outputs": [],
   "source": [
    "ma_ville[1]"
   ]
  },
  {
   "cell_type": "markdown",
   "metadata": {},
   "source": [
    "#### Taille d'un p-uplet"
   ]
  },
  {
   "cell_type": "code",
   "execution_count": null,
   "metadata": {},
   "outputs": [],
   "source": [
    "len(ma_ville)"
   ]
  },
  {
   "cell_type": "markdown",
   "metadata": {},
   "source": [
    "#### Parcourir un p-uplet"
   ]
  },
  {
   "cell_type": "code",
   "execution_count": null,
   "metadata": {},
   "outputs": [],
   "source": [
    "for i in range(len(ma_ville)):\n",
    "    print(f\"Indice : {i}, valeur : {ma_ville[i]}\")"
   ]
  },
  {
   "cell_type": "markdown",
   "metadata": {},
   "source": [
    "#### Appartenance"
   ]
  },
  {
   "cell_type": "code",
   "execution_count": null,
   "metadata": {},
   "outputs": [],
   "source": [
    "mes_villes_preferees = (\"Papeete\", \"Paris\", \"Barcelone\", \"Auckland\", \"Las Vegas\")"
   ]
  },
  {
   "cell_type": "code",
   "execution_count": null,
   "metadata": {},
   "outputs": [],
   "source": [
    "\"Las Vegas\" in mes_villes_preferees"
   ]
  },
  {
   "cell_type": "code",
   "execution_count": null,
   "metadata": {
    "scrolled": true
   },
   "outputs": [],
   "source": [
    "\"Sydney\" in mes_villes_preferees"
   ]
  },
  {
   "cell_type": "markdown",
   "metadata": {},
   "source": [
    "### 1.4 Différences avec les listes<a id=\"differences-avec-listes\"></a>"
   ]
  },
  {
   "cell_type": "markdown",
   "metadata": {},
   "source": [
    "Les objets de type ``tuple`` diffèrent de ceux de type ``list`` car <font color=\"red\">ils ne peuvent être modifiés une fois qu'ils sont créés</font> : on dit qu'ils sont **immutables**. Ils partagent cette prorpriété avec les chaînes de caractères de type ``str``.  \n",
    "\n",
    "En particulier, on ne peut pas ajouter des éléments à un p-uplet comme pour un tableau avec la méthode ``append``."
   ]
  },
  {
   "cell_type": "code",
   "execution_count": null,
   "metadata": {},
   "outputs": [],
   "source": [
    "# un p-uplet est immutable\n",
    "mes_villes_preferees[0] = \"Sydney\""
   ]
  },
  {
   "cell_type": "code",
   "execution_count": null,
   "metadata": {
    "scrolled": true
   },
   "outputs": [],
   "source": [
    "# on ne peut pas utiliser append de la même façon qu'avec les listes\n",
    "mes_villes_preferees.append(\"Sydney\")"
   ]
  },
  {
   "cell_type": "markdown",
   "metadata": {},
   "source": [
    "## 2. Exercices<a id=\"exercices\"></a>"
   ]
  },
  {
   "cell_type": "markdown",
   "metadata": {},
   "source": [
    "### Exercice 1<a id=\"exercice-1\"></a>"
   ]
  },
  {
   "cell_type": "markdown",
   "metadata": {},
   "source": [
    "Dans le plan muni d'un repère orthonormé, on représente chaque point par le p-uplet de ses coordonnées : ``(abscisse, ordonnee)`` :"
   ]
  },
  {
   "cell_type": "code",
   "execution_count": null,
   "metadata": {},
   "outputs": [],
   "source": [
    "M = (1, 2)\n",
    "N = (3, 4)"
   ]
  },
  {
   "cell_type": "markdown",
   "metadata": {},
   "source": [
    "Compléter la fonction ci-dessous afin que ``milieu(A, B)`` retourne le p-uplet des coordonnées du milieu du segment $[AB]$."
   ]
  },
  {
   "cell_type": "code",
   "execution_count": null,
   "metadata": {},
   "outputs": [],
   "source": [
    "def milieu(A, B):\n",
    "    pass"
   ]
  },
  {
   "cell_type": "markdown",
   "metadata": {},
   "source": [
    "### Exercice 2<a id=\"exercice-2\"></a>"
   ]
  },
  {
   "cell_type": "markdown",
   "metadata": {},
   "source": [
    "Écrire une fonction ``longueurs(A, B, C)`` qui prend en paramètres trois points (trois p-uplets) ``A``, ``B`` et ``C`` et retourne le triplet des longueurs des côtés $[AB]$, $[AC]$ et $[BC]$."
   ]
  },
  {
   "cell_type": "code",
   "execution_count": null,
   "metadata": {},
   "outputs": [],
   "source": [
    "# À vous de jouer !"
   ]
  }
 ],
 "metadata": {
  "kernelspec": {
   "display_name": "Python 3.9.13 64-bit",
   "language": "python",
   "name": "python3"
  },
  "language_info": {
   "codemirror_mode": {
    "name": "ipython",
    "version": 3
   },
   "file_extension": ".py",
   "mimetype": "text/x-python",
   "name": "python",
   "nbconvert_exporter": "python",
   "pygments_lexer": "ipython3",
   "version": "3.9.13"
  },
  "latex_envs": {
   "LaTeX_envs_menu_present": true,
   "autoclose": false,
   "autocomplete": true,
   "bibliofile": "biblio.bib",
   "cite_by": "apalike",
   "current_citInitial": 1,
   "eqLabelWithNumbers": true,
   "eqNumInitial": 1,
   "hotkeys": {
    "equation": "Ctrl-E",
    "itemize": "Ctrl-I"
   },
   "labels_anchors": false,
   "latex_user_defs": false,
   "report_style_numbering": false,
   "user_envs_cfg": false
  },
  "rise": {
   "scroll": true
  },
  "vscode": {
   "interpreter": {
    "hash": "f9f85f796d01129d0dd105a088854619f454435301f6ffec2fea96ecbd9be4ac"
   }
  }
 },
 "nbformat": 4,
 "nbformat_minor": 2
}
