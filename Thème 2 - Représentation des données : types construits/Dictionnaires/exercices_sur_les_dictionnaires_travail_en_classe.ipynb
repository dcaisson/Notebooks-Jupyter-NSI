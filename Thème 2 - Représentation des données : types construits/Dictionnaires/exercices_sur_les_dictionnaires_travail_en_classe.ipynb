{
 "cells": [
  {
   "cell_type": "markdown",
   "metadata": {
    "slideshow": {
     "slide_type": "-"
    }
   },
   "source": [
    "# Quelques exercices sur les dictionnaires"
   ]
  },
  {
   "cell_type": "markdown",
   "metadata": {
    "slideshow": {
     "slide_type": "slide"
    }
   },
   "source": [
    "## Exercice 1 &ndash; Nombre d'occurrences"
   ]
  },
  {
   "cell_type": "markdown",
   "metadata": {},
   "source": [
    "D'après Le Larousse : « En logique, place occupée par un symbole dans une formule. »\n",
    "- Le nombre d'occurrences du caractère ``\"o\"`` dans ``\"bonjour\"`` est 2 ;\n",
    "- le nombre d'occurrences du caractère ``\"b\"`` dans ``\"bonjour\"`` est 1 ;\n",
    "- le nombre d'occurrences du caractère ``\"B\"`` dans ``\"bonjour\"`` est 0 ;\n",
    "- le nombre d'occurrences du caractère ``\" \"`` dans ``\"Bonjour à tous !\"`` est 3."
   ]
  },
  {
   "cell_type": "markdown",
   "metadata": {},
   "source": [
    "On souhaite stocker les nombres d'occurrences dans un dictionnaire dont les clés sont les caractères de la phrase et les valeurs le nombre d'occurrences du caractère.\n",
    "\n",
    "Écrire une fonction ``occurrence_lettres`` prenant comme paramètre une chaine de caractères ``phrase``. Cette fonction doit renvoyer un dictionnaire des nombres d'occurrences des caractères présents dans ``phrase``."
   ]
  },
  {
   "cell_type": "code",
   "execution_count": 1,
   "metadata": {},
   "outputs": [],
   "source": [
    "# À vous de jouer !\n",
    "def occurrence_lettres(chaine):\n",
    "    dico = {}\n",
    "    # on parcourt la chaine de caractères\n",
    "    for c in chaine:\n",
    "        # si c est une des clés\n",
    "        if c in dico.keys():\n",
    "            dico[c] = dico[c] + 1\n",
    "        else:\n",
    "            dico[c] = 1             \n",
    "    return dico"
   ]
  },
  {
   "cell_type": "code",
   "execution_count": 2,
   "metadata": {},
   "outputs": [],
   "source": [
    "assert occurrence_lettres(\"Bonjour à tous !\") == {'B': 1, 'o': 3, 'n': 1, 'j': 1, 'u': 2, \n",
    "                                           'r': 1, ' ': 3, 'à': 1, 't': 1, 's': 1, '!': 1}"
   ]
  },
  {
   "cell_type": "code",
   "execution_count": 3,
   "metadata": {},
   "outputs": [],
   "source": [
    "assert occurrence_lettres(\"ababbab\") == {\"a\": 3, \"b\": 4}"
   ]
  },
  {
   "cell_type": "markdown",
   "metadata": {},
   "source": [
    "## Exercice 2 &ndash; Fusion de dictionnaires"
   ]
  },
  {
   "cell_type": "markdown",
   "metadata": {},
   "source": [
    "Le responsable d'un site web dispose de deux tableaux contenant des informations sur les abonnés du site :\n",
    "- le premier tableau contient l'adresse email de chaque abonné ainsi que son identifiant (un nombre entier unique) ;\n",
    "- le second tableau contient l'identifiant de **certains** abonnés ainsi que leur &laquo; pseudo &raquo;.\n",
    "\n",
    "Toutes les adresses email et tous les identifiants sont uniques.\n",
    "\n",
    "Par exemple :\n",
    "\n",
    "- le premier tableau :\n",
    "\n",
    "|      Email     | ID |\n",
    "|:--------------:|:--:|\n",
    "| alice@fake.com |  1 |\n",
    "|  bob@bidon.fr  |  2 |\n",
    "| chris@false.uk |  3 |\n",
    "\n",
    "- le second tableau :\n",
    "\n",
    "| ID | Pseudo |\n",
    "|:--:|:------:|\n",
    "|  1 |  alice |\n",
    "|  2 |   B0b  |\n",
    "\n",
    "Comme  on peut le voir, le second tableau ne contient pas nécessairement les informations de tous les abonnés.\n",
    "\n",
    "Ces tableaux sont codés en Python sous forme de dictionnaires. On aura ainsi :"
   ]
  },
  {
   "cell_type": "code",
   "execution_count": null,
   "metadata": {},
   "outputs": [],
   "source": [
    "emails_ids = {'alice@fake.com': 1, 'bob@bidon.fr': 2, 'chris@false.uk': 3}\n",
    "ids_pseudos = {1: 'alice', 2: 'B0b'}"
   ]
  },
  {
   "cell_type": "markdown",
   "metadata": {},
   "source": [
    "Le responsable du site vous demande d'associer à chaque adresse email, le pseudo correspondant. Si un abonné n'a pas de pseudo associé, on donnera son adresse email à la place.\n",
    "\n",
    "Vous devez donc écrire en Python la fonction ``fusion`` prenant en argument les deux dictionnaires et renvoyant le dictionnaire dont les clés sont les adresses email des abonnés et les valeurs leur pseudo (ou leur adresse email s'il n'ont pas renseigné de pseudo)."
   ]
  },
  {
   "cell_type": "code",
   "execution_count": 4,
   "metadata": {},
   "outputs": [],
   "source": [
    "# À vous de jouer !\n",
    "def fusion(ei, ip):\n",
    "    # ep est le dictionnaire obtenu en fusionnant ei et ip\n",
    "    ep = {}\n",
    "    # on parcourt le dictionnaire ei\n",
    "    for email in ei.keys():\n",
    "        id = ei[email]\n",
    "        if id in ip.keys():\n",
    "            ep[email] = ip[id]\n",
    "        else:    \n",
    "            ep[email] = email\n",
    "    return ep"
   ]
  },
  {
   "cell_type": "code",
   "execution_count": 6,
   "metadata": {},
   "outputs": [],
   "source": [
    "emails_ids = {'alice@fake.com': 1, 'bob@bidon.fr': 2, 'chris@false.uk': 3}\n",
    "ids_pseudos = {1: 'alice', 2: 'B0b', 3: 'ChristoF'}\n",
    "assert fusion(emails_ids, ids_pseudos) == {'alice@fake.com': 'alice', 'bob@bidon.fr': 'B0b', \n",
    "                                             'chris@false.uk': 'ChristoF'}"
   ]
  },
  {
   "cell_type": "code",
   "execution_count": 7,
   "metadata": {},
   "outputs": [],
   "source": [
    "emails_ids_2 = {'alice@fake.com': 1, 'bob@bidon.fr': 2, 'chris@false.uk': 3}\n",
    "ids_pseudos_2 = {1: 'alice', 2: 'B0b'}\n",
    "assert fusion(emails_ids_2, ids_pseudos_2) == {'alice@fake.com': 'alice', 'bob@bidon.fr': 'B0b',\n",
    "                                          'chris@false.uk': 'chris@false.uk'}"
   ]
  },
  {
   "cell_type": "markdown",
   "metadata": {},
   "source": [
    "## Exercice 3 &ndash; Inversion d'un dictionnaire"
   ]
  },
  {
   "cell_type": "markdown",
   "metadata": {},
   "source": [
    "Un dictionnaire associe des valeurs à des clés, comme par exemple ``{\"Paris\": \"Tour Eiffel\", \"Rome\": \"Colisée\", \"Berlin\": \"Reichtag\", \"Londres\": \"Big Ben\"}`` qui associe ``\"Tour Eiffel\"`` à la clé ``\"Paris\"``.\n",
    "\n",
    "Dans certains cas il est possible d'inverser ce dictionnaire en associant à chaque valeur sa clé d'origine. C'est le cas de l'exemple précédent avec ``{\"Tour Eiffel\": \"Paris\", \"Colisée\": \"Rome\", \"Reichtag\": \"Berlin\", \"Big Ben\": \"Londres\"}`` mais pas du dictionnaire ``{\"Paris\": \"P\", \"Lyon\": \"L\", \"Nantes\": \"N\", \"Lille\": \"L\"}`` puisque la valeur ``\"L\"`` est associée à la fois à la clé ``\"Lyon\"`` et à la clé ``\"Lille\"``.\n",
    "\n",
    "Vous devez écrire une fonction ``inverser`` de paramètre ``dico`` qui renvoie le dictionnaire inversé de ``dico`` lorsqu'il peut être construit et le dictionnaire vide ``{}`` dans le cas contraire."
   ]
  },
  {
   "cell_type": "code",
   "execution_count": 22,
   "metadata": {},
   "outputs": [],
   "source": [
    "# À vous de jouer !\n",
    "def inverser(dico):\n",
    "    dico_inverse = {}\n",
    "    # booléen qui indique s'il y une valeur en double\n",
    "    doublon = False\n",
    "    # on parcourt le dictionnaire dico\n",
    "    for cle in dico.keys():\n",
    "        if dico[cle] in dico_inverse:\n",
    "            doublon = True\n",
    "        # on inverse clé et valeur et on ajoute dans dico_inverse\n",
    "        dico_inverse[dico[cle]] = cle\n",
    "    # si doublon = True\n",
    "    if doublon: # ou if doublon == True (moins bien)\n",
    "    # on renvoie {}\n",
    "        resultat = {}    \n",
    "    # sinon, on renvoie dico_inverse\n",
    "    else:\n",
    "        resultat = dico_inverse\n",
    "    return resultat"
   ]
  },
  {
   "cell_type": "code",
   "execution_count": 20,
   "metadata": {},
   "outputs": [],
   "source": [
    "assert inverser({'a': 5, 'b': 7}) == {5: 'a', 7: 'b'}"
   ]
  },
  {
   "cell_type": "code",
   "execution_count": 21,
   "metadata": {},
   "outputs": [],
   "source": [
    "assert inverser({'a': 5, 'b': 7, 'c': 5}) == {}\n",
    "assert inverser({\"Paris\": \"Tour Eiffel\", \"Rome\": \"Colisée\", \n",
    "                 \"Berlin\": \"Reichtag\", \"Londres\": \"Big Ben\"}) == {'Tour Eiffel': 'Paris', 'Colisée': 'Rome',\n",
    "                                                                  'Reichtag': 'Berlin', 'Big Ben': 'Londres'}\n",
    "assert inverser({\"Paris\": \"P\", \"Lyon\": \"L\", \"Nantes\": \"N\", \"Lille\": \"L\"}) == {}"
   ]
  }
 ],
 "metadata": {
  "kernelspec": {
   "display_name": "Python 3 (ipykernel)",
   "language": "python",
   "name": "python3"
  },
  "language_info": {
   "codemirror_mode": {
    "name": "ipython",
    "version": 3
   },
   "file_extension": ".py",
   "mimetype": "text/x-python",
   "name": "python",
   "nbconvert_exporter": "python",
   "pygments_lexer": "ipython3",
   "version": "3.9.10"
  },
  "latex_envs": {
   "LaTeX_envs_menu_present": true,
   "autoclose": false,
   "autocomplete": true,
   "bibliofile": "biblio.bib",
   "cite_by": "apalike",
   "current_citInitial": 1,
   "eqLabelWithNumbers": true,
   "eqNumInitial": 1,
   "hotkeys": {
    "equation": "Ctrl-E",
    "itemize": "Ctrl-I"
   },
   "labels_anchors": false,
   "latex_user_defs": false,
   "report_style_numbering": false,
   "user_envs_cfg": false
  },
  "rise": {
   "scroll": true
  }
 },
 "nbformat": 4,
 "nbformat_minor": 2
}
