{
 "cells": [
  {
   "cell_type": "markdown",
   "metadata": {
    "slideshow": {
     "slide_type": "-"
    }
   },
   "source": [
    "# Tête de série"
   ]
  },
  {
   "cell_type": "markdown",
   "metadata": {},
   "source": [
    "L'organisateur d'un tournoi sportif souhaite déterminer le nom du joueur participant le mieux classé dans le classement international.\n",
    "\n",
    "Les classements des joueurs sont des entiers tous distincts et compris entre 1 et len(classement).\n",
    "\n",
    "Il connaît donc le nom des participants au tournoi, donné sous forme d'une liste, ainsi que le classement, donné sous forme d'un dictionnaire.\n",
    "\n",
    "Par exemple :"
   ]
  },
  {
   "cell_type": "code",
   "execution_count": 1,
   "metadata": {},
   "outputs": [],
   "source": [
    "participants = ['Stefanos', 'Rafael', 'David', 'Novak']\n",
    "classement = {'Novak': 1, 'Daniil': 2, 'Alexander': 3, 'Stefanos': 4, 'Rafael': 5}"
   ]
  },
  {
   "cell_type": "markdown",
   "metadata": {},
   "source": [
    "Comme on peut le voir dans l'exemple :\n",
    "- tous les joueurs classés ne sont pas obligatoirement inscrits au tournoi (ici Daniil et Alexander ne participent pas):\n",
    "- certains participants au tournoi, invités d'honneur, n'ont pas de classement (David ici)... On considérera donc qu'ils sont moins bien classés que n'importe lequel des joueurs classés.\n",
    "\n",
    "Écrire une fonction ``tete_de_serie(participants, classement)`` prenant en arguments la liste des joueurs inscrits au tournoi ainsi que le classement et renvoyant le prénom du joueur le mieux classé. Si le tournoi ne comporte que des joueurs non-classés, la fonction renverra le prénom du premier joueur de la liste."
   ]
  },
  {
   "cell_type": "code",
   "execution_count": null,
   "metadata": {},
   "outputs": [],
   "source": [
    "# À vous de jouer !"
   ]
  },
  {
   "cell_type": "code",
   "execution_count": null,
   "metadata": {},
   "outputs": [],
   "source": [
    "# Quelques tests à compléter\n",
    "classement = {'Novak': 1, 'Daniil': 2, 'Alexander': 3, 'Stefanos': 4, 'Rafael': 5}"
   ]
  },
  {
   "cell_type": "code",
   "execution_count": null,
   "metadata": {},
   "outputs": [],
   "source": [
    "participants = ['Stefanos', 'Novak', 'Rafael']\n",
    "# assert tete_de_serie(participants, classement) =="
   ]
  },
  {
   "cell_type": "code",
   "execution_count": null,
   "metadata": {},
   "outputs": [],
   "source": [
    "participants = ['Stefanos', 'Rafael', 'David', 'Novak']\n",
    "# assert tete_de_serie(participants, classement) =="
   ]
  },
  {
   "cell_type": "code",
   "execution_count": null,
   "metadata": {},
   "outputs": [],
   "source": [
    "participants = ['David', 'Novak', 'Alexander', 'Daniil']\n",
    "# assert tete_de_serie(participants, classement) =="
   ]
  },
  {
   "cell_type": "code",
   "execution_count": null,
   "metadata": {},
   "outputs": [],
   "source": [
    "participants = ['David', 'Olivier']\n",
    "# assert tete_de_serie(participants, classement) =="
   ]
  }
 ],
 "metadata": {
  "kernelspec": {
   "display_name": "Python 3 (ipykernel)",
   "language": "python",
   "name": "python3"
  },
  "language_info": {
   "codemirror_mode": {
    "name": "ipython",
    "version": 3
   },
   "file_extension": ".py",
   "mimetype": "text/x-python",
   "name": "python",
   "nbconvert_exporter": "python",
   "pygments_lexer": "ipython3",
   "version": "3.9.10"
  },
  "latex_envs": {
   "LaTeX_envs_menu_present": true,
   "autoclose": false,
   "autocomplete": true,
   "bibliofile": "biblio.bib",
   "cite_by": "apalike",
   "current_citInitial": 1,
   "eqLabelWithNumbers": true,
   "eqNumInitial": 1,
   "hotkeys": {
    "equation": "Ctrl-E",
    "itemize": "Ctrl-I"
   },
   "labels_anchors": false,
   "latex_user_defs": false,
   "report_style_numbering": false,
   "user_envs_cfg": false
  },
  "rise": {
   "scroll": true
  }
 },
 "nbformat": 4,
 "nbformat_minor": 2
}
