{
 "cells": [
  {
   "cell_type": "markdown",
   "metadata": {
    "slideshow": {
     "slide_type": "-"
    }
   },
   "source": [
    "# Fiche élève &ndash; Les dictionnaires en Python"
   ]
  },
  {
   "cell_type": "markdown",
   "metadata": {
    "slideshow": {
     "slide_type": "skip"
    }
   },
   "source": [
    "## Sommaire \n",
    "[**1. Un exemple**](#un-exemple)  \n",
    "&nbsp;&nbsp;&nbsp;&nbsp;[1.1 Situation](#situation)  \n",
    "&nbsp;&nbsp;&nbsp;&nbsp;[1.2 Avec Python](#avec-python)    \n",
    "[**2. Définitions et propriétés d'un dictionnaire**](#definitions-proprietes)  \n",
    "&nbsp;&nbsp;&nbsp;&nbsp;[2.1 Définitions](#definitions)  \n",
    "&nbsp;&nbsp;&nbsp;&nbsp;[2.2 Méthodes ``.keys()`` et ``.values()``](#keys-values)  \n",
    "&nbsp;&nbsp;&nbsp;&nbsp;[2.3 Parcourir un dictionnaire``](#parcourir-dictionnaire)  \n",
    "&nbsp;&nbsp;&nbsp;&nbsp;[2.4 Création d'un dictionnaire vide](#dictionnaire-vide)  \n",
    "&nbsp;&nbsp;&nbsp;&nbsp;[2.5 Ajout/modification d'un élément dans un dictionnaire](#ajout-modification-element)  \n",
    "&nbsp;&nbsp;&nbsp;&nbsp;[2.6 Suppression d'une valeur](#suppression-valeur)  \n",
    "[**3. Exercices**](#exercices)  \n",
    "&nbsp;&nbsp;&nbsp;&nbsp;[Exercice 1](#exercice-1)  \n",
    "&nbsp;&nbsp;&nbsp;&nbsp;[Exercice 2](#exercice-2)  \n",
    "&nbsp;&nbsp;&nbsp;&nbsp;[Exercice 3](#exercice-3)"
   ]
  },
  {
   "cell_type": "markdown",
   "metadata": {
    "slideshow": {
     "slide_type": "slide"
    }
   },
   "source": [
    "## 1. Un exemple<a id=\"un-exemple\"></a>"
   ]
  },
  {
   "cell_type": "markdown",
   "metadata": {
    "slideshow": {
     "slide_type": "slide"
    }
   },
   "source": [
    "### 1.1 Situation<a id=\"situation\"></a>\n",
    "\n",
    "Chaque élément d'une liste en Python est accessible par son indice. Ce dernier est en quelque sorte &laquo; la place &raquo; de l'élément dans la liste. On peut dire que cet indice est **la clé** qui permet d'accéder à l'élément.  \n",
    "\n",
    "Dans un **dictionnaire**, chaque élément est accessible par une clé qui n'est plus forcément un nombre : cette clé peut être une chaîne de caractère, un nombre etc.  \n",
    "\n",
    "Imaginons que je fasse un inventaire de mon dressing :\n",
    "\n",
    "| **habits** | **quantité** |\n",
    "|:----------:|:------------:|\n",
    "|    jeans   |       5      |\n",
    "|  t-shirts  |      12      |\n",
    "|  chemises  |       7      |"
   ]
  },
  {
   "cell_type": "markdown",
   "metadata": {
    "slideshow": {
     "slide_type": "subslide"
    }
   },
   "source": [
    "### 1.2 Avec Python : un dictionnaire, des clés et des valeurs<a id=\"avec-python\"></a>\n",
    "\n",
    "En Python, on peut utiliser un dictionnaire pour représenter le contenu de mon dressing :"
   ]
  },
  {
   "cell_type": "code",
   "execution_count": 1,
   "metadata": {},
   "outputs": [],
   "source": [
    "dressing = {\"jeans\": 3, \"t-shirts\": 12, \"chemises\": 7}"
   ]
  },
  {
   "cell_type": "code",
   "execution_count": 2,
   "metadata": {},
   "outputs": [
    {
     "data": {
      "text/plain": [
       "3"
      ]
     },
     "execution_count": 2,
     "metadata": {},
     "output_type": "execute_result"
    }
   ],
   "source": [
    "# On peut accéder à une valeur grâce à sa clé\n",
    "dressing[\"jeans\"]"
   ]
  },
  {
   "cell_type": "markdown",
   "metadata": {},
   "source": [
    "Dans le code ci-dessus, ``\"jeans\"`` est **la clé** et ``3`` **la valeur**."
   ]
  },
  {
   "cell_type": "markdown",
   "metadata": {},
   "source": [
    "**Remarque. &ndash;** Attention, une clé peut aussi être un nombre :"
   ]
  },
  {
   "cell_type": "code",
   "execution_count": 3,
   "metadata": {},
   "outputs": [],
   "source": [
    "dictionnaire = {1: 2, 2: 3, 3: 5, 4: 7}"
   ]
  },
  {
   "cell_type": "code",
   "execution_count": 4,
   "metadata": {},
   "outputs": [
    {
     "data": {
      "text/plain": [
       "7"
      ]
     },
     "execution_count": 4,
     "metadata": {},
     "output_type": "execute_result"
    }
   ],
   "source": [
    "dictionnaire[4]"
   ]
  },
  {
   "cell_type": "markdown",
   "metadata": {},
   "source": [
    "## 2. Définitions et propriétés d'un dictionnaire<a id=\"definitions-proprietes\"></a>"
   ]
  },
  {
   "cell_type": "markdown",
   "metadata": {},
   "source": [
    "### 2.1 Définitions<a id=\"definitions\"></a>\n",
    "\n",
    "Dans un dictionnaire, les éléments (les valeurs) ne sont pas ordonnées. Un dictionnaire fonctionne par un système ``clé: valeur``.\n",
    "\n",
    "Les clés, comme les valeurs, peuvent être de types différents. Un dictionnaire est délimité par des accolades."
   ]
  },
  {
   "cell_type": "markdown",
   "metadata": {},
   "source": [
    "**Rappel. &ndash;**  \n",
    "- crochets ``[]``$\\rightarrow$ listes ;\n",
    "- parenthèses ``()`` $\\rightarrow$ p-uplets."
   ]
  },
  {
   "cell_type": "markdown",
   "metadata": {},
   "source": [
    "### 2.2 Méthodes ``.keys()`` et ``.values()``<a id=\"keys-values\"></a>  \n",
    "\n",
    "Pour lister les clés d'un dictionnaire :"
   ]
  },
  {
   "cell_type": "code",
   "execution_count": 5,
   "metadata": {},
   "outputs": [
    {
     "data": {
      "text/plain": [
       "dict_keys(['jeans', 't-shirts', 'chemises'])"
      ]
     },
     "execution_count": 5,
     "metadata": {},
     "output_type": "execute_result"
    }
   ],
   "source": [
    "dressing.keys()"
   ]
  },
  {
   "cell_type": "code",
   "execution_count": 6,
   "metadata": {},
   "outputs": [
    {
     "name": "stdout",
     "output_type": "stream",
     "text": [
      "jeans\n",
      "t-shirts\n",
      "chemises\n"
     ]
    }
   ],
   "source": [
    "for cle in dressing.keys():\n",
    "    print(cle)"
   ]
  },
  {
   "cell_type": "markdown",
   "metadata": {},
   "source": [
    "Pour lister les valeurs d'un dictionnaire :"
   ]
  },
  {
   "cell_type": "code",
   "execution_count": 7,
   "metadata": {},
   "outputs": [
    {
     "data": {
      "text/plain": [
       "dict_values([3, 12, 7])"
      ]
     },
     "execution_count": 7,
     "metadata": {},
     "output_type": "execute_result"
    }
   ],
   "source": [
    "dressing.values()"
   ]
  },
  {
   "cell_type": "code",
   "execution_count": 8,
   "metadata": {},
   "outputs": [
    {
     "name": "stdout",
     "output_type": "stream",
     "text": [
      "3\n",
      "12\n",
      "7\n"
     ]
    }
   ],
   "source": [
    "for valeur in dressing.values():\n",
    "    print(valeur)"
   ]
  },
  {
   "cell_type": "markdown",
   "metadata": {},
   "source": [
    "### 2.3 Parcourir un dictionnaire<a id=\"parcourir-dictionnaire\"></a> "
   ]
  },
  {
   "cell_type": "code",
   "execution_count": 11,
   "metadata": {},
   "outputs": [
    {
     "name": "stdout",
     "output_type": "stream",
     "text": [
      "3\n",
      "12\n",
      "7\n"
     ]
    }
   ],
   "source": [
    "for habit in dressing:\n",
    "    print(dressing[habit])"
   ]
  },
  {
   "cell_type": "code",
   "execution_count": 12,
   "metadata": {},
   "outputs": [
    {
     "name": "stdout",
     "output_type": "stream",
     "text": [
      "3\n",
      "12\n",
      "7\n"
     ]
    }
   ],
   "source": [
    "for habit in dressing.keys():\n",
    "    print(dressing[habit])"
   ]
  },
  {
   "cell_type": "markdown",
   "metadata": {},
   "source": [
    "### 2.4 Création d'un dictionnaire vide<a id=\"dictionnaire-vide\"></a> \n",
    "\n",
    "Deux méthodes existent : utiliser ``dict()`` ou ``{}``."
   ]
  },
  {
   "cell_type": "code",
   "execution_count": 13,
   "metadata": {},
   "outputs": [
    {
     "data": {
      "text/plain": [
       "{}"
      ]
     },
     "execution_count": 13,
     "metadata": {},
     "output_type": "execute_result"
    }
   ],
   "source": [
    "# Exemple avec dict()\n",
    "un_dico = dict()\n",
    "un_dico"
   ]
  },
  {
   "cell_type": "code",
   "execution_count": 14,
   "metadata": {},
   "outputs": [],
   "source": [
    "un_dico[\"Sarah\"] = \"Connor\""
   ]
  },
  {
   "cell_type": "code",
   "execution_count": 15,
   "metadata": {},
   "outputs": [
    {
     "data": {
      "text/plain": [
       "{'Sarah': 'Connor'}"
      ]
     },
     "execution_count": 15,
     "metadata": {},
     "output_type": "execute_result"
    }
   ],
   "source": [
    "un_dico"
   ]
  },
  {
   "cell_type": "code",
   "execution_count": 16,
   "metadata": {},
   "outputs": [],
   "source": [
    "# Exemple avec {}\n",
    "repertoire = {}\n",
    "repertoire[\"Vaitea\"] = \"87 11 22 33\""
   ]
  },
  {
   "cell_type": "code",
   "execution_count": 17,
   "metadata": {},
   "outputs": [
    {
     "data": {
      "text/plain": [
       "{'Vaitea': '87 11 22 33'}"
      ]
     },
     "execution_count": 17,
     "metadata": {},
     "output_type": "execute_result"
    }
   ],
   "source": [
    "repertoire"
   ]
  },
  {
   "cell_type": "markdown",
   "metadata": {},
   "source": [
    "### 2.5 Ajout/modification d'un élément dans un dictionnaire<a id=\"ajout-modification-element\"></a> "
   ]
  },
  {
   "cell_type": "code",
   "execution_count": 18,
   "metadata": {},
   "outputs": [],
   "source": [
    "# Ajout d'un élément\n",
    "dressing[\"chaussettes\"] = 200"
   ]
  },
  {
   "cell_type": "code",
   "execution_count": 19,
   "metadata": {},
   "outputs": [
    {
     "data": {
      "text/plain": [
       "{'jeans': 3, 't-shirts': 12, 'chemises': 7, 'chaussettes': 200}"
      ]
     },
     "execution_count": 19,
     "metadata": {},
     "output_type": "execute_result"
    }
   ],
   "source": [
    "dressing"
   ]
  },
  {
   "cell_type": "code",
   "execution_count": 20,
   "metadata": {},
   "outputs": [],
   "source": [
    "# Modification d'un élément\n",
    "dressing[\"chaussettes\"] = 20"
   ]
  },
  {
   "cell_type": "code",
   "execution_count": 21,
   "metadata": {},
   "outputs": [
    {
     "data": {
      "text/plain": [
       "{'jeans': 3, 't-shirts': 12, 'chemises': 7, 'chaussettes': 20}"
      ]
     },
     "execution_count": 21,
     "metadata": {},
     "output_type": "execute_result"
    }
   ],
   "source": [
    "dressing"
   ]
  },
  {
   "cell_type": "markdown",
   "metadata": {},
   "source": [
    "### 2.6 Suppression d'une valeur<a id=\"suppression-element\"></a> \n",
    "Pour supprimer une valeur, on utilise ``del`` (déjà rencontrée pour les listes) :"
   ]
  },
  {
   "cell_type": "code",
   "execution_count": 22,
   "metadata": {},
   "outputs": [],
   "source": [
    "del dressing[\"chaussettes\"]"
   ]
  },
  {
   "cell_type": "code",
   "execution_count": 23,
   "metadata": {},
   "outputs": [
    {
     "data": {
      "text/plain": [
       "{'jeans': 3, 't-shirts': 12, 'chemises': 7}"
      ]
     },
     "execution_count": 23,
     "metadata": {},
     "output_type": "execute_result"
    }
   ],
   "source": [
    "dressing"
   ]
  },
  {
   "cell_type": "markdown",
   "metadata": {},
   "source": [
    "## 3. Exercices<a id=\"exercices\"></a>"
   ]
  },
  {
   "cell_type": "markdown",
   "metadata": {},
   "source": [
    "### Exercice 1<a id=\"exercice-1\"></a>"
   ]
  },
  {
   "cell_type": "markdown",
   "metadata": {},
   "source": [
    "On reprend l'exemple du dictionnaire ``dressing``:"
   ]
  },
  {
   "cell_type": "code",
   "execution_count": 24,
   "metadata": {},
   "outputs": [],
   "source": [
    "dressing = {\"jeans\": 3, \"t-shirts\": 12, \"chemises\": 7}"
   ]
  },
  {
   "cell_type": "code",
   "execution_count": 25,
   "metadata": {},
   "outputs": [
    {
     "data": {
      "text/plain": [
       "{'jeans': 3, 't-shirts': 12, 'chemises': 7}"
      ]
     },
     "execution_count": 25,
     "metadata": {},
     "output_type": "execute_result"
    }
   ],
   "source": [
    "dressing"
   ]
  },
  {
   "cell_type": "markdown",
   "metadata": {},
   "source": [
    "Écrire une fonction ``achat(habit)`` qui augmente de $1$ le nombre d'habits (jeans, t-shirt, ou chemises) de mon dressing."
   ]
  },
  {
   "cell_type": "code",
   "execution_count": 26,
   "metadata": {},
   "outputs": [],
   "source": [
    "def achat(habit):\n",
    "    dressing[habit] = dressing[habit] + 1"
   ]
  },
  {
   "cell_type": "code",
   "execution_count": 27,
   "metadata": {},
   "outputs": [
    {
     "data": {
      "text/plain": [
       "{'jeans': 4, 't-shirts': 12, 'chemises': 7}"
      ]
     },
     "execution_count": 27,
     "metadata": {},
     "output_type": "execute_result"
    }
   ],
   "source": [
    "achat(\"jeans\")\n",
    "dressing"
   ]
  },
  {
   "cell_type": "code",
   "execution_count": 28,
   "metadata": {},
   "outputs": [
    {
     "data": {
      "text/plain": [
       "{'jeans': 4, 't-shirts': 462, 'chemises': 7}"
      ]
     },
     "execution_count": 28,
     "metadata": {},
     "output_type": "execute_result"
    }
   ],
   "source": [
    "# Gabriel veut acheter 450 t-shirts\n",
    "for i in range(450):\n",
    "    achat(\"t-shirts\")\n",
    "dressing"
   ]
  },
  {
   "cell_type": "markdown",
   "metadata": {},
   "source": [
    "### Exercice 2<a id=\"exercice-2\"></a>"
   ]
  },
  {
   "cell_type": "markdown",
   "metadata": {},
   "source": [
    "1. Essayer le code suivant. Qu'observe-t-on ? Pourquoi ?"
   ]
  },
  {
   "cell_type": "code",
   "execution_count": 29,
   "metadata": {},
   "outputs": [
    {
     "ename": "KeyError",
     "evalue": "'savates'",
     "output_type": "error",
     "traceback": [
      "\u001b[0;31m---------------------------------------------------------------------------\u001b[0m",
      "\u001b[0;31mKeyError\u001b[0m                                  Traceback (most recent call last)",
      "\u001b[0;32m/tmp/ipykernel_7707/915612715.py\u001b[0m in \u001b[0;36m<module>\u001b[0;34m\u001b[0m\n\u001b[0;32m----> 1\u001b[0;31m \u001b[0machat\u001b[0m\u001b[0;34m(\u001b[0m\u001b[0;34m\"savates\"\u001b[0m\u001b[0;34m)\u001b[0m\u001b[0;34m\u001b[0m\u001b[0;34m\u001b[0m\u001b[0m\n\u001b[0m",
      "\u001b[0;32m/tmp/ipykernel_7707/3955196471.py\u001b[0m in \u001b[0;36machat\u001b[0;34m(habit)\u001b[0m\n\u001b[1;32m      1\u001b[0m \u001b[0;32mdef\u001b[0m \u001b[0machat\u001b[0m\u001b[0;34m(\u001b[0m\u001b[0mhabit\u001b[0m\u001b[0;34m)\u001b[0m\u001b[0;34m:\u001b[0m\u001b[0;34m\u001b[0m\u001b[0;34m\u001b[0m\u001b[0m\n\u001b[0;32m----> 2\u001b[0;31m     \u001b[0mdressing\u001b[0m\u001b[0;34m[\u001b[0m\u001b[0mhabit\u001b[0m\u001b[0;34m]\u001b[0m \u001b[0;34m=\u001b[0m \u001b[0mdressing\u001b[0m\u001b[0;34m[\u001b[0m\u001b[0mhabit\u001b[0m\u001b[0;34m]\u001b[0m \u001b[0;34m+\u001b[0m \u001b[0;36m1\u001b[0m\u001b[0;34m\u001b[0m\u001b[0;34m\u001b[0m\u001b[0m\n\u001b[0m",
      "\u001b[0;31mKeyError\u001b[0m: 'savates'"
     ]
    }
   ],
   "source": [
    "achat(\"savates\")"
   ]
  },
  {
   "cell_type": "markdown",
   "metadata": {},
   "source": [
    "Explication : ``\"savates\"`` n'est pas une des clés du dictionnaire ``dressing``."
   ]
  },
  {
   "cell_type": "markdown",
   "metadata": {},
   "source": [
    "2. Le mot ``in`` permet de tester l'appartenance d'une clé à un dictionnaire."
   ]
  },
  {
   "cell_type": "code",
   "execution_count": 30,
   "metadata": {},
   "outputs": [
    {
     "data": {
      "text/plain": [
       "False"
      ]
     },
     "execution_count": 30,
     "metadata": {},
     "output_type": "execute_result"
    }
   ],
   "source": [
    "\"savates\" in dressing"
   ]
  },
  {
   "cell_type": "code",
   "execution_count": 31,
   "metadata": {},
   "outputs": [
    {
     "data": {
      "text/plain": [
       "True"
      ]
     },
     "execution_count": 31,
     "metadata": {},
     "output_type": "execute_result"
    }
   ],
   "source": [
    "\"jeans\" in dressing"
   ]
  },
  {
   "cell_type": "markdown",
   "metadata": {},
   "source": [
    "3. Améliorer la fonction ``achat(habit)`` de l'exercice précédent."
   ]
  },
  {
   "cell_type": "code",
   "execution_count": 32,
   "metadata": {},
   "outputs": [],
   "source": [
    "# À vous de jouer !\n",
    "def achat(habit):\n",
    "    # si habit est une des clés, on ajoute 1 à la valeur\n",
    "    if habit in dressing:\n",
    "        dressing[habit] = dressing[habit] + 1\n",
    "    # sinon, on rajoute habit dans le dictionnaire\n",
    "    # avec la valeur 1\n",
    "    else:\n",
    "        dressing[habit] = 1"
   ]
  },
  {
   "cell_type": "code",
   "execution_count": 33,
   "metadata": {},
   "outputs": [
    {
     "data": {
      "text/plain": [
       "{'jeans': 4, 't-shirts': 462, 'chemises': 7}"
      ]
     },
     "execution_count": 33,
     "metadata": {},
     "output_type": "execute_result"
    }
   ],
   "source": [
    "dressing"
   ]
  },
  {
   "cell_type": "code",
   "execution_count": 34,
   "metadata": {},
   "outputs": [
    {
     "data": {
      "text/plain": [
       "{'jeans': 4, 't-shirts': 463, 'chemises': 7}"
      ]
     },
     "execution_count": 34,
     "metadata": {},
     "output_type": "execute_result"
    }
   ],
   "source": [
    "achat(\"t-shirts\")\n",
    "dressing"
   ]
  },
  {
   "cell_type": "code",
   "execution_count": 35,
   "metadata": {},
   "outputs": [
    {
     "data": {
      "text/plain": [
       "{'jeans': 4, 't-shirts': 463, 'chemises': 7, 'casquettes': 1}"
      ]
     },
     "execution_count": 35,
     "metadata": {},
     "output_type": "execute_result"
    }
   ],
   "source": [
    "achat(\"casquettes\")\n",
    "dressing"
   ]
  },
  {
   "cell_type": "markdown",
   "metadata": {},
   "source": [
    "### Exercice 3<a id=\"exercice-3\"></a>"
   ]
  },
  {
   "cell_type": "markdown",
   "metadata": {},
   "source": [
    "On considère la liste ci-dessous :"
   ]
  },
  {
   "cell_type": "code",
   "execution_count": null,
   "metadata": {},
   "outputs": [],
   "source": [
    "lst = ['5717', '1133', '5545', '4031', '6398', '2734', '3070', \n",
    "       '1346', '7849', '7288', '7587', '6217', '8240', '5733', \n",
    "       '6466', '7972', '7341', '6616', '5061', '2441', '2571', \n",
    "       '4496', '4831', '5395', '8584', '3033', '6266', '2452', \n",
    "       '6909', '3021', '5404', '3799', '5053', '8096', '2488', \n",
    "       '8519', '6896', '7300', '5914', '7464', '5068', '1386', \n",
    "       '9898', '8313', '1072', '1441', '7333', '5691', '6987', \n",
    "       '5255']"
   ]
  },
  {
   "cell_type": "markdown",
   "metadata": {},
   "source": [
    "Quel chiffre est le plus utilisé pour écrire les nombres de cette liste ?"
   ]
  },
  {
   "cell_type": "code",
   "execution_count": null,
   "metadata": {},
   "outputs": [],
   "source": [
    "# À vous de jouer !"
   ]
  }
 ],
 "metadata": {
  "celltoolbar": "Slideshow",
  "kernelspec": {
   "display_name": "Python 3 (ipykernel)",
   "language": "python",
   "name": "python3"
  },
  "language_info": {
   "codemirror_mode": {
    "name": "ipython",
    "version": 3
   },
   "file_extension": ".py",
   "mimetype": "text/x-python",
   "name": "python",
   "nbconvert_exporter": "python",
   "pygments_lexer": "ipython3",
   "version": "3.9.10"
  },
  "latex_envs": {
   "LaTeX_envs_menu_present": true,
   "autoclose": false,
   "autocomplete": true,
   "bibliofile": "biblio.bib",
   "cite_by": "apalike",
   "current_citInitial": 1,
   "eqLabelWithNumbers": true,
   "eqNumInitial": 1,
   "hotkeys": {
    "equation": "Ctrl-E",
    "itemize": "Ctrl-I"
   },
   "labels_anchors": false,
   "latex_user_defs": false,
   "report_style_numbering": false,
   "user_envs_cfg": false
  },
  "rise": {
   "scroll": true
  }
 },
 "nbformat": 4,
 "nbformat_minor": 2
}
