{
 "cells": [
  {
   "cell_type": "markdown",
   "metadata": {
    "slideshow": {
     "slide_type": "-"
    }
   },
   "source": [
    "# Anniversaires"
   ]
  },
  {
   "cell_type": "markdown",
   "metadata": {},
   "source": [
    "On dispose d'un dictionnaire Python dans lequel :\n",
    "- les clés sont les prénoms de différentes personnes (il n'y a aucun prénom en double);\n",
    "- les valeurs sont les mois de naissance de ces personnes stockées sous forme de nombres entiers (``1`` pour janvier, ... ``12`` pour décembre)\n",
    "\n",
    "Par exemple :"
   ]
  },
  {
   "cell_type": "code",
   "execution_count": 1,
   "metadata": {},
   "outputs": [],
   "source": [
    "naissances = {'Nicolas': 10, 'Antoine': 7, 'Camille': 7}"
   ]
  },
  {
   "cell_type": "markdown",
   "metadata": {},
   "source": [
    "Écrire une fonction ``anniversaires(naissances, mois)`` prenant en paramètres le dictionnaire décrit ci-dessus ainsi qu'un numéro d'un mois et renvoyant la liste contenant les prénoms des personnes nées durant ce mois, triée par ordre alphabétique."
   ]
  },
  {
   "cell_type": "code",
   "execution_count": 1,
   "metadata": {},
   "outputs": [],
   "source": [
    "# À vous de jouer !\n",
    "def anniversaires(naissances, mois):\n",
    "    prenoms = []\n",
    "    for personne in naissances.keys(): # ou in naissances\n",
    "        if naissances[personne] == mois:\n",
    "            prenoms.append(personne)\n",
    "    prenoms.sort()\n",
    "    return prenoms"
   ]
  },
  {
   "cell_type": "code",
   "execution_count": 2,
   "metadata": {},
   "outputs": [],
   "source": [
    "# Quelques tests\n",
    "# Compléter les tests ci-dessous\n",
    "assert anniversaires({'Nicolas': 10, 'Antoine': 7, 'Camille': 7}, 1) == []\n",
    "assert anniversaires({'Nicolas': 10, 'Antoine': 7, 'Camille': 7}, 10) == ['Nicolas']\n",
    "assert anniversaires({'Nicolas': 10, 'Antoine': 7, 'Camille': 7}, 7) == ['Antoine', 'Camille']\n",
    "assert anniversaires({'Nicolas': 10, 'Antoine': 7, 'Camille': 7}, 13) == []\n",
    "assert anniversaires({}, 1) == []"
   ]
  }
 ],
 "metadata": {
  "kernelspec": {
   "display_name": "Python 3 (ipykernel)",
   "language": "python",
   "name": "python3"
  },
  "language_info": {
   "codemirror_mode": {
    "name": "ipython",
    "version": 3
   },
   "file_extension": ".py",
   "mimetype": "text/x-python",
   "name": "python",
   "nbconvert_exporter": "python",
   "pygments_lexer": "ipython3",
   "version": "3.9.10"
  },
  "latex_envs": {
   "LaTeX_envs_menu_present": true,
   "autoclose": false,
   "autocomplete": true,
   "bibliofile": "biblio.bib",
   "cite_by": "apalike",
   "current_citInitial": 1,
   "eqLabelWithNumbers": true,
   "eqNumInitial": 1,
   "hotkeys": {
    "equation": "Ctrl-E",
    "itemize": "Ctrl-I"
   },
   "labels_anchors": false,
   "latex_user_defs": false,
   "report_style_numbering": false,
   "user_envs_cfg": false
  },
  "rise": {
   "scroll": true
  }
 },
 "nbformat": 4,
 "nbformat_minor": 2
}
