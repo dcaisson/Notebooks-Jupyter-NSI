{
 "cells": [
  {
   "cell_type": "markdown",
   "metadata": {
    "slideshow": {
     "slide_type": "-"
    }
   },
   "source": [
    "# Les amis de mes amis"
   ]
  },
  {
   "cell_type": "markdown",
   "metadata": {},
   "source": [
    "On considère le schéma suivant où une flèche allant d'une personne Α vers une personne B indique que la personne A &laquo; suit &raquo; la personne B sur son compte *Immediam*. On dit alors que B est un ami de A.\n",
    "\n",
    "Voici un exemple de réseau *Immediam* : \n",
    "\n",
    "![image](https://github.com/dcaisson/Notebooks-Jupyter-NSI/raw/main/amis_d_amis_immediam.jpg)\n",
    "\n",
    "On représente ce réseau *Immediam* en machine par un dictionnaire où les clés sont les chaînes de caractères correspondant aux noms des personnes inscrites, et les valeurs associées sont des listes de chaînes de caractères, représentant les personnes suivies.\n",
    "\n",
    "Écrire une fonction ``amis_d_amis(reseau, membre)`` qui prend en argument un dictionnaire ``reseau`` représentant un tel réseau *Immediam* et une chaîne de caractères ``membre`` qui représente un membre du réseau et qui renvoie la liste des amis des amis de ``membre`` (dans l'ordre alphabétique), à l'exclusion de lui-même et sans doublon. "
   ]
  },
  {
   "cell_type": "code",
   "execution_count": 11,
   "metadata": {},
   "outputs": [],
   "source": [
    "immediam = {\n",
    "'Anna': ['Billy'],\n",
    "'Billy': ['Anna', 'Eroll'],\n",
    "'Carl': ['Billy'],\n",
    "'Dora': ['Gaby'],\n",
    "'Eroll': ['Billy', 'Dora', 'Flynn', 'Gaby'],\n",
    "'Flynn': ['Gaby'],\n",
    "'Gaby': ['Eroll']\n",
    "}"
   ]
  },
  {
   "cell_type": "code",
   "execution_count": 12,
   "metadata": {},
   "outputs": [],
   "source": [
    "# À vous de jouer !\n",
    "def amis_d_amis(reseau, membre):\n",
    "    amis_des_amis = []\n",
    "    # amis est la liste des amis de membre\n",
    "    amis = reseau[membre]\n",
    "    # on parcourt la liste des amis de membre\n",
    "    for ami in amis:\n",
    "        # on regarde la liste des amis de ami\n",
    "        for copain in reseau[ami]:\n",
    "            if copain != membre and not(copain in amis_des_amis):\n",
    "                amis_des_amis.append(copain)   \n",
    "    # on trie par ordre alphabétique\n",
    "    amis_des_amis.sort()\n",
    "    return amis_des_amis"
   ]
  },
  {
   "cell_type": "code",
   "execution_count": 14,
   "metadata": {},
   "outputs": [],
   "source": [
    "# Quelques tests (compléter le premier test proposé)\n",
    "assert amis_d_amis(immediam, 'Gaby') == ['Billy', 'Dora', 'Flynn']\n",
    "assert amis_d_amis(immediam, 'Billy') == ['Dora', 'Flynn', 'Gaby']\n",
    "assert amis_d_amis(immediam, 'Eroll') == ['Anna', 'Gaby']\n",
    "assert amis_d_amis(immediam, 'Dora') == ['Eroll']"
   ]
  }
 ],
 "metadata": {
  "kernelspec": {
   "display_name": "Python 3 (ipykernel)",
   "language": "python",
   "name": "python3"
  },
  "language_info": {
   "codemirror_mode": {
    "name": "ipython",
    "version": 3
   },
   "file_extension": ".py",
   "mimetype": "text/x-python",
   "name": "python",
   "nbconvert_exporter": "python",
   "pygments_lexer": "ipython3",
   "version": "3.9.10"
  },
  "latex_envs": {
   "LaTeX_envs_menu_present": true,
   "autoclose": false,
   "autocomplete": true,
   "bibliofile": "biblio.bib",
   "cite_by": "apalike",
   "current_citInitial": 1,
   "eqLabelWithNumbers": true,
   "eqNumInitial": 1,
   "hotkeys": {
    "equation": "Ctrl-E",
    "itemize": "Ctrl-I"
   },
   "labels_anchors": false,
   "latex_user_defs": false,
   "report_style_numbering": false,
   "user_envs_cfg": false
  },
  "rise": {
   "scroll": true
  }
 },
 "nbformat": 4,
 "nbformat_minor": 2
}
