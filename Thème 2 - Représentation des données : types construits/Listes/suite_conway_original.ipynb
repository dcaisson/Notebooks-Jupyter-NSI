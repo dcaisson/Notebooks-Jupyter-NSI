{
 "cells": [
  {
   "cell_type": "markdown",
   "id": "e11abd40",
   "metadata": {},
   "source": [
    "# Suite audioactive de Conway"
   ]
  },
  {
   "cell_type": "markdown",
   "id": "dcbff3a0",
   "metadata": {},
   "source": [
    "La suite de Conway est une suite mathématique inventée en 1986 par le mathématicien John Horton Conway, initialement sous le nom de « suite audioactive ». Elle est également connue sous le nom anglais de *Look and Say* (« regarde et dis »). Dans cette suite, un terme se détermine en annonçant les chiffres formant le terme précédent. En voici les premiers termes :\n",
    "\n",
    "- 1\n",
    "- 11\n",
    "- 21\n",
    "- 1211\n",
    "- 111221\n",
    "- 312211"
   ]
  },
  {
   "cell_type": "markdown",
   "id": "9806942b",
   "metadata": {},
   "source": [
    "1. Préciser le terme suivant de cette suite."
   ]
  },
  {
   "cell_type": "markdown",
   "id": "693e3071",
   "metadata": {},
   "source": [
    "2. On décide de modéliser un terme de la suite par la liste de ses chiffres :"
   ]
  },
  {
   "cell_type": "code",
   "execution_count": null,
   "id": "1ca86824",
   "metadata": {},
   "outputs": [],
   "source": [
    "TERME_1 = [1]\n",
    "TERME_2 = [1, 1]\n",
    "TERME_3 = [2, 1]\n",
    "TERME_4 = [1, 2, 1, 1]\n",
    "TERME_5 = [1, 1, 1, 2, 2, 1]\n",
    "TERME_6 = [3, 1, 2, 2, 1, 1]\n",
    "TERME_7 = [1, 3, 1, 1, 2, 2, 2, 1]"
   ]
  },
  {
   "cell_type": "markdown",
   "id": "6143a424",
   "metadata": {},
   "source": [
    "Écrire une fonction `conway_suivante(terme)` qui renvoie, sous forme de liste, le terme de la suite de Conway qui suit `terme`."
   ]
  },
  {
   "cell_type": "code",
   "execution_count": null,
   "id": "9ac08fd0",
   "metadata": {},
   "outputs": [],
   "source": [
    "# À vous de jouer !\n",
    "def conway_suivante(terme):\n",
    "    pass"
   ]
  },
  {
   "cell_type": "code",
   "execution_count": null,
   "id": "1d59fe8f",
   "metadata": {},
   "outputs": [],
   "source": [
    "# Quelques tests\n",
    "TERME_7 = [1, 3, 1, 1, 2, 2, 2, 1]\n",
    "TERME_8 = [1, 1, 1, 3, 2, 1, 3, 2, 1, 1]\n",
    "assert conway_suivante(TERME_6) == TERME_7\n",
    "assert conway_suivante(TERME_7) == TERME_8"
   ]
  }
 ],
 "metadata": {
  "kernelspec": {
   "display_name": "Python 3.8 (ipykernel)",
   "language": "python",
   "name": "python3.8"
  },
  "language_info": {
   "codemirror_mode": {
    "name": "ipython",
    "version": 3
   },
   "file_extension": ".py",
   "mimetype": "text/x-python",
   "name": "python",
   "nbconvert_exporter": "python",
   "pygments_lexer": "ipython3",
   "version": "3.8.12"
  },
  "latex_envs": {
   "LaTeX_envs_menu_present": true,
   "autoclose": false,
   "autocomplete": true,
   "bibliofile": "biblio.bib",
   "cite_by": "apalike",
   "current_citInitial": 1,
   "eqLabelWithNumbers": true,
   "eqNumInitial": 1,
   "hotkeys": {
    "equation": "Ctrl-E",
    "itemize": "Ctrl-I"
   },
   "labels_anchors": false,
   "latex_user_defs": false,
   "report_style_numbering": false,
   "user_envs_cfg": false
  }
 },
 "nbformat": 4,
 "nbformat_minor": 5
}
