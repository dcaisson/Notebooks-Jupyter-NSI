{
 "cells": [
  {
   "cell_type": "markdown",
   "id": "76bc2e6b",
   "metadata": {},
   "source": [
    "<h1 style=\"color:DarkSlateBlue\">Mini-projet &ndash; Le jeu de la vie</h1>"
   ]
  },
  {
   "cell_type": "markdown",
   "id": "18e00879",
   "metadata": {},
   "source": [
    "<h2 style=\"color:CornflowerBlue\">Présentation et règles du jeu</h2>"
   ]
  },
  {
   "cell_type": "markdown",
   "id": "70c68d82",
   "metadata": {},
   "source": [
    "<h3 style=\"color:LightSkyBlue\">Introduction</h3>"
   ]
  },
  {
   "cell_type": "markdown",
   "id": "9cad0212",
   "metadata": {},
   "source": [
    "Le jeu de la vie est un [automate cellulaire](https://fr.wikipedia.org/wiki/Automate_cellulaire), un modèle simple pour représenter l'évolution de cellules placées sur une grille. Chaque cellule de la grille est soit vivante, soit morte.\n",
    "\n",
    "Voici un exemple de grille dans laquelle 4 cellules (en noir) sont vivantes, les autres (en gris) mortes.\n",
    "\n",
    "![premier_exemple](premier_exemple.png)"
   ]
  },
  {
   "cell_type": "markdown",
   "id": "5ae4efef",
   "metadata": {},
   "source": [
    "<h3 style=\"color:LightSkyBlue\">Règles du jeu</h3>"
   ]
  },
  {
   "cell_type": "markdown",
   "id": "052b08c9",
   "metadata": {},
   "source": [
    "La grille évolue selon deux règles simples de changement d'état pour chaque cellule :"
   ]
  },
  {
   "cell_type": "markdown",
   "id": "f9506984",
   "metadata": {},
   "source": [
    "<h4 style=\"color:MediumPurple\">Règle 1 : une cellule vivante qui possède 2 ou 3 voisines vivantes reste vivante, sinon elle meurt.</h4>\n",
    "\n",
    "&nbsp;&nbsp;&nbsp;&nbsp;&nbsp;*&ndash; Exemple 1 : la cellule centrale (vivante) possède exactement 2 voisines vivantes. À l'étape d'après, elle restera vivante.*\n",
    "\n",
    "![v2v_red](v2v_red.png)\n",
    "\n",
    "&nbsp;&nbsp;&nbsp;&nbsp;&nbsp;*&ndash; Exemple 2 : la cellule centrale possède exactement 3 voisines vivantes. À l'étape suivante, elle restera vivante.*\n",
    "\n",
    "![v3v](v3v.png)\n",
    "\n",
    "&nbsp;&nbsp;&nbsp;&nbsp;&nbsp;*&ndash; Exemple 3 : la cellule centrale sera morte à l'étape suivante.*\n",
    "\n",
    "![v4v](v4v.png)\n",
    "\n",
    "<h4 style=\"color:MediumPurple\">Règle 2 : une cellule morte qui  possède exactement trois cellules vivantes, devient vivante, sinon elle reste morte.</h4>\n",
    "\n",
    "&nbsp;&nbsp;&nbsp;&nbsp;&nbsp;*&ndash; Exemple 4 : la cellule centrale (morte) possède exactement trois voisines vivantes. À l'étape suivante, elle sera vivante.*\n",
    "\n",
    "![m3v](m3v.png)\n",
    "\n",
    "&nbsp;&nbsp;&nbsp;&nbsp;&nbsp;*&ndash; Exemple 5 : la cellule centrale (morte) possède exactement quatre voisines vivantes. À l'étape suivante, elle restera morte.*\n",
    "\n",
    "![m4v](m4v.png)"
   ]
  },
  {
   "cell_type": "markdown",
   "id": "7db443f9",
   "metadata": {},
   "source": [
    "<h3 style=\"color:LightSkyBlue\">Une étape</h3>"
   ]
  },
  {
   "cell_type": "markdown",
   "id": "c249abe5",
   "metadata": {},
   "source": [
    "Voici par exemple comment évolue une structure connue sous le nom de &laquo; clignotant &raquo; :\n",
    "\n",
    "![clignotant_evolution](clignotant_evolution.png)"
   ]
  },
  {
   "cell_type": "markdown",
   "id": "1236cd2a",
   "metadata": {},
   "source": [
    "<h2 style=\"color:CornflowerBlue\">Fichiers <code>*.life</code> et configurations</h2>"
   ]
  },
  {
   "cell_type": "markdown",
   "id": "c974dac0",
   "metadata": {},
   "source": [
    "Dans ce projet, nous utiliserons de simples fichiers texte avec l'extension `life` pour stocker des configurations de grilles. Dans chaque fichier `*.life` :\n",
    "- chaque ligne correspond à une ligne de la grille ;\n",
    "- chaque cellule morte est représentée par le caractère `.` ;\n",
    "- chaque cellule vivante est représentée par le caractère `O` (la lettre O majuscule).\n",
    "\n",
    "Considérons par exemple la grille ci-dessous :\n",
    "\n",
    "![v2v](v2v.png)\n",
    "\n",
    "Le fichier `*.life` permettant de la stocker est un fichier texte de 5 lignes dont le contenu est le suivant :\n",
    "\n",
    "```text\n",
    ".....\n",
    "..O..\n",
    ".OO..\n",
    ".....\n",
    ".....\n",
    "```"
   ]
  },
  {
   "cell_type": "markdown",
   "id": "5dd19f88",
   "metadata": {},
   "source": [
    "<h2 style=\"color:CornflowerBlue\">Partie A &ndash; Lecture d'un fichier <code>*.life</code> pour charger une configuration de départ</h2>"
   ]
  },
  {
   "cell_type": "markdown",
   "id": "59875cc1",
   "metadata": {},
   "source": [
    "<h4 style=\"color:MediumPurple\">Convertir une ligne d'un fichier <code>*.life</code> en une liste de <code>0</code> et de <code>1</code></h4>"
   ]
  },
  {
   "cell_type": "markdown",
   "id": "a899544c",
   "metadata": {},
   "source": [
    "<div style=\"color:ForestGreen\">\n",
    "    <p>Écrire une fonction <code>conversion</code> qui :\n",
    "    <ul>\n",
    "        <li> prend en paramètre une ligne d'un fichier <code>*.life</code> (une chaîne de caractères qui se termine par <code>\\n</code>) ;</li>\n",
    "        <li> renvoie une liste contenant des <code>0</code> et des <code>1</code> où chaque <code>0</code> correspond au caractère <code>.</code> et chaque <code>1</code> au caractère <code>O</code>.</li>\n",
    "    </ul>\n",
    "    </p>\n",
    "    <p>\n",
    "    Par exemple, <code>conversion(\"..OO.O\\n\")</code> renvoie la liste <code>[0, 0, 1, 1, 0, 1]</code>.\n",
    "    </p>\n",
    "<strong>Ne pas oublier d'écrire la documentation de la fonction !</strong>\n",
    "</div>"
   ]
  },
  {
   "cell_type": "code",
   "execution_count": null,
   "id": "47addb03",
   "metadata": {},
   "outputs": [],
   "source": [
    "#À vous de jouer !\n",
    "def conversion(ligne):\n",
    "    pass"
   ]
  },
  {
   "cell_type": "code",
   "execution_count": null,
   "id": "7b4f9b44",
   "metadata": {},
   "outputs": [],
   "source": [
    "assert conversion(\"..OO.O\\n\") == [0, 0, 1, 1, 0, 1]\n",
    "assert conversion(\"..OOO...\\n\") == [0, 0, 1, 1, 1, 0, 0, 0]"
   ]
  },
  {
   "cell_type": "markdown",
   "id": "8985d400",
   "metadata": {},
   "source": [
    "<h4 style=\"color:MediumPurple\">Lecture d'un fichier <code>*.life</code> et récupération d'une liste de listes de <code>0</code> et de <code>1</code></h4>"
   ]
  },
  {
   "cell_type": "markdown",
   "id": "43be5b05",
   "metadata": {},
   "source": [
    "<div style=\"color:ForestGreen\">\n",
    "    <p>Écrire une fonction <code>lecture</code> qui :\n",
    "        <ul>\n",
    "            <li>prend en paramètre le nom d'un fichier <code>*.life</code> (une chaîne de caractères) ;</li>\n",
    "            <li>renvoie une liste de listes où chaque sous-liste correspond à une ligne du fichier <code>*.life</code>.</li>\n",
    "        </ul>\n",
    "    </p>\n",
    "    <p>Par exemple, si le contenu du fichier <code>glider.life</code> est le suivant :\n",
    "    </p>\n",
    "\n",
    "<pre><code>\n",
    ".O.\n",
    "..O\n",
    "OOO\n",
    "</code></pre>\n",
    "\n",
    "<code>lecture(\"glider.life\")</code> renvoie la liste ci-dessous:\n",
    "\n",
    "```py\n",
    "[\n",
    "    [0, 1, 0],\n",
    "    [0, 0, 1],\n",
    "    [1, 1, 1]\n",
    "]\n",
    "```\n",
    "<strong>Ne pas oublier d'écrire la documentation de la fonction !</strong>"
   ]
  },
  {
   "cell_type": "code",
   "execution_count": null,
   "id": "458e6d71",
   "metadata": {},
   "outputs": [],
   "source": [
    "#À vous de jouer !\n",
    "def lecture(configuration):\n",
    "    pass"
   ]
  },
  {
   "cell_type": "markdown",
   "id": "fb2cf291",
   "metadata": {},
   "source": [
    "**Avant d'essayer votre fonction, ne pas oublier de télécharger le fichier `glider.life` et de l'ouvrir dans Basthon !**"
   ]
  },
  {
   "cell_type": "code",
   "execution_count": null,
   "id": "a59a78c5",
   "metadata": {},
   "outputs": [],
   "source": [
    "lecture(\"glider.life\")"
   ]
  },
  {
   "cell_type": "code",
   "execution_count": null,
   "id": "2f637e1d",
   "metadata": {},
   "outputs": [],
   "source": [
    "assert lecture(\"glider.life\") == [\n",
    "    [0, 1, 0],\n",
    "    [0, 0, 1],\n",
    "    [1, 1, 1]\n",
    "]"
   ]
  },
  {
   "cell_type": "markdown",
   "id": "bc446d42",
   "metadata": {},
   "source": [
    "<h2 style=\"color:CornflowerBlue\">Partie B &ndash; Nombre de voisins et configuration suivante</h3>"
   ]
  },
  {
   "cell_type": "markdown",
   "id": "87761685",
   "metadata": {},
   "source": [
    "Le but de cette partie est de déterminer la configuration suivante d'une grille à partir d'une configuration initiale. Nous représenterons une grille par une liste de listes contenant des `0` et des `1` :\n",
    "- chaque sous-liste correspond à une ligne de la grille ;\n",
    "- chaque `0` correspond à une cellule morte ;\n",
    "- chaque `1` à une cellule vivante.\n",
    "\n",
    "Par exemple, la grille ci-dessous :\n",
    "\n",
    "![glider](glider.png)\n",
    "\n",
    "sera représentée par la liste de listes :\n",
    "\n",
    "```python\n",
    "[\n",
    "    [0, 1, 0],\n",
    "    [0, 0, 1],\n",
    "    [1, 1, 1]\n",
    "]\n",
    "```"
   ]
  },
  {
   "cell_type": "markdown",
   "id": "ccbb51a4",
   "metadata": {},
   "source": [
    "<h4 style=\"color:MediumPurple\">Détermination de la grille contenant le nombre de voisins</h4>"
   ]
  },
  {
   "cell_type": "markdown",
   "id": "b3ba6672",
   "metadata": {},
   "source": [
    "<div style=\"color:ForestGreen\">\n",
    "    Compléter la fonction <code>voisins</code> ci-dessous qui :\n",
    "    <ul>\n",
    "        <li>prend en paramètre une grille (une liste de listes contenant des <code>0</code> et des <code>1</code>) ;</li>\n",
    "        <li>renvoie une nouvelle grille contenant le nombre de voisins de chaque cellule de la grille.</li>\n",
    "    </ul>\n",
    "    <p>Par exemple, avec :</p>\n",
    "\n",
    "```py\n",
    "grille = [\n",
    "    [0, 0, 0],\n",
    "    [1, 1, 1],\n",
    "    [0, 0, 0]\n",
    "]\n",
    "```\n",
    "    \n",
    "`voisins(grille)` renvoie la liste de listes ci-dessous :\n",
    "\n",
    "```py\n",
    "[\n",
    "    [2, 3, 2], \n",
    "    [1, 2, 1], \n",
    "    [2, 3, 2]\n",
    "]\n",
    "```\n",
    "</div>"
   ]
  },
  {
   "cell_type": "code",
   "execution_count": null,
   "id": "e35d8973",
   "metadata": {},
   "outputs": [],
   "source": [
    "#À vous de jouer !\n",
    "def voisins(grille):\n",
    "    \"\"\"Prend en paramètre une liste de listes correspondant à une grille \n",
    "       et renvoie la liste de listes donnant le nombre de voisins\n",
    "       vivants de chaque cellule de grille\n",
    "       \n",
    "       Par exemple, avec grille = [[0, 0, 0], [1, 1, 1], [0, 0, 0]],\n",
    "       voisins(grille) renvoie [[2, 3, 2], [1, 2, 1], [2, 3, 3]].\n",
    "    \"\"\"\n",
    "    lignes = len(grille)\n",
    "    colonnes = len(grille[0])\n",
    "    #initialisation de grille_voisins avec des 0 (cellules toutes mortes)\n",
    "    grille_voisins = [[0 for j in range(colonnes)] for i in range(lignes)]\n",
    "    for i in range(lignes):\n",
    "        for j in range(colonnes):\n",
    "            #...\n",
    "            if i == 0 and j == 0:\n",
    "                nb_voisins = ...\n",
    "            #coin supérieur droit\n",
    "            elif i == 0 and j == colonnes - 1:\n",
    "                nb_voisins = grille[0][colonnes-2] + grille[1][colonnes-2] + grille[1][colonnes-1]\n",
    "            #...\n",
    "            elif i == lignes - 1 and j == 0:\n",
    "                nb_voisins = ...\n",
    "            #coin inférieur droit\n",
    "            elif i == lignes - 1 and j == colonnes - 1:\n",
    "                nb_voisins = grille[lignes-1][colonnes-2] +  grille[lignes-2][colonnes-2] + grille[lignes-2][colonnes-1]\n",
    "            #bande supérieure\n",
    "            elif i == 0:\n",
    "                nb_voisins = ...\n",
    "            #...\n",
    "            elif j == 0:\n",
    "                nb_voisins = ...\n",
    "            #bande latérale droite\n",
    "            elif j == colonnes - 1:\n",
    "                nb_voisins = ...\n",
    "            #bande inférieure\n",
    "            elif i == lignes - 1:\n",
    "                nb_voisins = grille[i][j-1] + grille[i-1][j-1] + grille[i-1][j] + grille[i-1][j+1] + grille[i][j+1]\n",
    "            #\"intérieur\"\n",
    "            else:\n",
    "                nb_voisins = ...\n",
    "            grille_voisins[i][j] = ...\n",
    "    return grille_voisins"
   ]
  },
  {
   "cell_type": "code",
   "execution_count": null,
   "id": "9d1c09c5",
   "metadata": {},
   "outputs": [],
   "source": [
    "assert voisins([[0, 0, 0], [1, 1, 1], [0, 0, 0]]) == [[2, 3, 2], [1, 2, 1], [2, 3, 2]]"
   ]
  },
  {
   "cell_type": "markdown",
   "id": "cf8ea0e3",
   "metadata": {},
   "source": [
    "<h4 style=\"color:MediumPurple\">Détermination de la grille contenant la configuration suivante</h4>"
   ]
  },
  {
   "cell_type": "markdown",
   "id": "ac7bc83b",
   "metadata": {},
   "source": [
    "<div style=\"color:ForestGreen\">\n",
    "    <p>Compléter la fonction <code>suivante</code> ci-dessous qui :\n",
    "        <ul>\n",
    "            <li>prend en paramètre une grille (une liste de listes contenant des <code>0</code> et des <code>1</code>) ;</li>\n",
    "            <li>renvoie la grille correspondant à la configuration suivante.</li>\n",
    "        </ul>\n",
    "    </p>\n",
    "    <p>Par exemple, avec :</p>\n",
    "\n",
    "```py\n",
    "grille = [\n",
    "    [0, 0, 0],\n",
    "    [1, 1, 1],\n",
    "    [0, 0, 0]\n",
    "]\n",
    "```\n",
    "\n",
    "<code>suivante(grille)</code> renvoie la liste de listes ci-dessous :\n",
    "\n",
    "```py\n",
    "[\n",
    "    [0, 1, 0], \n",
    "    [0, 1, 0], \n",
    "    [0, 1, 0]\n",
    "]\n",
    "```\n",
    "</div>"
   ]
  },
  {
   "cell_type": "code",
   "execution_count": null,
   "id": "1477603c",
   "metadata": {},
   "outputs": [],
   "source": [
    "#À vous de jouer !\n",
    "def suivante(grille):\n",
    "    \"\"\"Prend en paramètre une liste de listes correspondant à une grille\n",
    "       et renvoie la grille correspondant à la configuration suivante\n",
    "       \n",
    "       Par exemple, avec grille = [[0, 0, 0], [1, 1, 1], [0, 0, 0]],\n",
    "       suivante(grille) renvoie [[0, 1, 0], [0, 1, 0], [0, 1, 0]].\n",
    "    \"\"\"\n",
    "    lignes = len(grille)\n",
    "    colonnes = len(grille[0])\n",
    "    #initialisation de grille_suivante avec des 0 (cellules toutes mortes)\n",
    "    grille_suivante = [[0 for j in range(colonnes)] for i in range(lignes)]\n",
    "    grille_voisins = voisins(grille)\n",
    "    #il ne reste plus qu'à trouver quelles cellules seront vivantes à la génération suivante\n",
    "    for i in range(lignes):\n",
    "        for j in range(colonnes):\n",
    "            #règle 1 : une cellule vivante possédant deux ou trois cellules voisines vivantes le reste, sinon elle meurt\n",
    "            if grille[i][j] == ... and (...):\n",
    "                grille_suivante[i][j] = ...\n",
    "            #règle 2 : une cellule morte possédant exactement trois cellules voisines vivantes devient vivante (elle naît)\n",
    "            if ...:\n",
    "                grille_suivante[i][j] = ...\n",
    "    return grille_suivante            "
   ]
  },
  {
   "cell_type": "code",
   "execution_count": null,
   "id": "9d1137bd",
   "metadata": {},
   "outputs": [],
   "source": [
    "#tests avec le clignotant\n",
    "assert suivante([[0, 0, 0], [1, 1, 1], [0, 0, 0]]) == [[0, 1, 0], [0, 1, 0], [0, 1, 0]]\n",
    "assert suivante([[0, 1, 0], [0, 1, 0], [0, 1, 0]]) == [[0, 0, 0], [1, 1, 1], [0, 0, 0]]"
   ]
  },
  {
   "cell_type": "markdown",
   "id": "94cea019",
   "metadata": {},
   "source": [
    "<h2 style=\"color:CornflowerBlue\">Partie C &ndash; Écriture dans un fichier <code>*.life</code></h2>"
   ]
  },
  {
   "cell_type": "markdown",
   "id": "608e4c52",
   "metadata": {},
   "source": [
    "<h4 style=\"color:MediumPurple\">Convertir une liste de <code>0</code> et de <code>1</code> en une ligne de fichier <code>*.life</code></h4>"
   ]
  },
  {
   "cell_type": "markdown",
   "id": "1a8f129d",
   "metadata": {},
   "source": [
    "<div style=\"color:ForestGreen\">\n",
    "    <p>Écrire une fonction <code>conversion_vers_life</code> qui :\n",
    "        <ul>\n",
    "            <li>prend en paramètre une liste de <code>0</code> et de <code>1</code> ;</li>\n",
    "            <li>renvoie une chaîne de caractères contenant les caractères <code>.</code> (point) et <code>O</code> (lettre <code>O</code> majuscule) où chaque <code>.</code> correspond à un <code>0</code> de la liste et chaque lettre <code>O</code> à un <code>1</code> de la liste.</li>\n",
    "        </ul>\n",
    "    <p>Par exemple, <code>conversion_vers_life([0, 0, 0, 1, 0])</code> renvoie la chaîne de caractères <code>\"...O.\"</code>.</p>\n",
    "<strong>Ne pas oublier d'écrire la documentation de la fonction !</strong>\n",
    "</div>"
   ]
  },
  {
   "cell_type": "code",
   "execution_count": null,
   "id": "1da4c745",
   "metadata": {},
   "outputs": [],
   "source": [
    "#À vous de jouer !\n",
    "def conversion_vers_life(liste):\n",
    "    pass"
   ]
  },
  {
   "cell_type": "code",
   "execution_count": null,
   "id": "f98d93fd",
   "metadata": {},
   "outputs": [],
   "source": [
    "#tests\n",
    "assert conversion_vers_life([0, 0, 0, 1, 0]) == \"...O.\"\n",
    "assert conversion_vers_life([1, 1, 0, 0]) == \"OO..\""
   ]
  },
  {
   "cell_type": "markdown",
   "id": "22999158",
   "metadata": {},
   "source": [
    "<h4 style=\"color:MediumPurple\">Écrire une liste de listes de <code>0</code> et de <code>1</code> dans un fichier <code>*.life</code></h4>"
   ]
  },
  {
   "cell_type": "markdown",
   "id": "15b77db3",
   "metadata": {},
   "source": [
    "<div style=\"color:ForestGreen\">\n",
    "    <p>Écrire une fonction <code>ecriture</code> qui :\n",
    "      <ul>\n",
    "        <li>prend en paramètres :</li>\n",
    "          <ul>\n",
    "            <li>une liste de listes <code>configuration</code>, de <code>0</code> et de <code>1</code>, correspondant à une grille ;</li>\n",
    "            <li>une chaîne de caractères <code>fichier</code> qui est le nom d'un fichier <code>*.life</code> ;</li>\n",
    "          </ul>\n",
    "        <li>écrit dans un fichier la configuration de la grille au format <code>*.life</code> décrit dans le paragraphe 2.</li>\n",
    "      </ul>\n",
    "    </p>\n",
    "\n",
    "<p>Par exemple, lorsque :</p>\n",
    "\n",
    "```py\n",
    "configuration = [\n",
    "                    [1, 1, 1],\n",
    "                    [1, 0, 1],\n",
    "                    [1, 1, 1]\n",
    "                ]\n",
    "```\n",
    "\n",
    "<code>ecriture(configuration, \"carre.life\")</code> produit un fichier nommé <code>carre.life</code> dont le contenu est le suivant :\n",
    "\n",
    "<pre><code>\n",
    "OOO\n",
    "O.O\n",
    "OOO\n",
    "</code></pre>\n",
    "<strong>Ne pas oublier d'écrire la documentation de la fonction !</strong>\n",
    "</div>"
   ]
  },
  {
   "cell_type": "code",
   "execution_count": null,
   "id": "5fbcb5db",
   "metadata": {},
   "outputs": [],
   "source": [
    "#À vous de jouer !\n",
    "def ecriture(configuration, fichier):\n",
    "    pass"
   ]
  },
  {
   "cell_type": "code",
   "execution_count": null,
   "id": "febfc771",
   "metadata": {},
   "outputs": [],
   "source": [
    "#test (vérifier le fichier produit)\n",
    "carre = [[1, 1, 1], [1, 0, 1], [1, 1, 1]]\n",
    "ecriture(carre, \"carre.life\")"
   ]
  },
  {
   "cell_type": "markdown",
   "id": "9afe8ebf",
   "metadata": {},
   "source": [
    "**Remarque : si vous utilisez Basthon, pour télécharger le fichier précédent, exécuter la cellule suivante.**"
   ]
  },
  {
   "cell_type": "code",
   "execution_count": null,
   "id": "c75efd36",
   "metadata": {},
   "outputs": [],
   "source": [
    "import basthon\n",
    "\n",
    "basthon.download(\"carre.life\")"
   ]
  },
  {
   "cell_type": "markdown",
   "id": "c5e8452b",
   "metadata": {},
   "source": [
    "<h2 style=\"color:CornflowerBlue\">Configurations successives</h4>"
   ]
  },
  {
   "cell_type": "markdown",
   "id": "1b65ed22",
   "metadata": {},
   "source": [
    "*Fichiers nécessaires :*\n",
    "- *`clignotant.life` ;*\n",
    "- *`animate.sh`.*"
   ]
  },
  {
   "cell_type": "markdown",
   "id": "d4d03b1c",
   "metadata": {},
   "source": [
    "<h4 style=\"color:MediumPurple\">Fonction <code>generation</code></h4>"
   ]
  },
  {
   "cell_type": "markdown",
   "id": "60b74c3e",
   "metadata": {},
   "source": [
    "<div style=\"color:ForestGreen\">\n",
    "Que fait la fonction <code>generation</code> ci-dessous ? En particulier, expliquer la ligne 5.\n",
    "</div>"
   ]
  },
  {
   "cell_type": "markdown",
   "id": "1c1fe3de",
   "metadata": {},
   "source": [
    "*Répondre dans cette cellule*"
   ]
  },
  {
   "cell_type": "code",
   "execution_count": null,
   "id": "9649a420",
   "metadata": {},
   "outputs": [],
   "source": [
    "def generation(configuration, n):\n",
    "    #on récupère la grille de la configuration initiale\n",
    "    grille = lecture(configuration)\n",
    "    i = 0\n",
    "    ecriture(grille, f\"{i}.txt\")\n",
    "    for i in range(1, n+1):\n",
    "        grille = suivante(grille)\n",
    "        ecriture(grille, f\"{i}.txt\")"
   ]
  },
  {
   "cell_type": "code",
   "execution_count": null,
   "id": "503b9c83",
   "metadata": {},
   "outputs": [],
   "source": [
    "#test\n",
    "generation(\"clignotant.life\", 10)"
   ]
  },
  {
   "cell_type": "markdown",
   "id": "5cf90a49",
   "metadata": {},
   "source": [
    "<h4 style=\"color:MediumPurple\">Animation dans un terminal à l'aide d'un script</h4>"
   ]
  },
  {
   "cell_type": "markdown",
   "id": "10da2d11",
   "metadata": {},
   "source": [
    "<div style=\"color:ForestGreen\">\n",
    "    <ol>\n",
    "        <li>Télécharger le script <code>animate.sh</code> puis le placer dans le même répertoire que les fichiers <code>*.life</code> générés.</li>\n",
    "        <li>Le compléter afin qu'il affiche les fichiers générés précédemment, dans un ordre à préciser.</li>\n",
    "        <li>Ouvrir un terminal puis rendre le script <code>animate.sh</code> exécutable.</li>\n",
    "        <li>L'exécuter.</li>\n",
    "    </ol>\n",
    "</div>"
   ]
  },
  {
   "cell_type": "markdown",
   "id": "9ed9d37e",
   "metadata": {},
   "source": [
    "<p xmlns:dct=\"http://purl.org/dc/terms/\" xmlns:vcard=\"http://www.w3.org/2001/vcard-rdf/3.0#\">\n",
    "  <a rel=\"license\"\n",
    "     href=\"http://creativecommons.org/publicdomain/zero/1.0/\">\n",
    "    <img src=\"https://licensebuttons.net/p/zero/1.0/88x31.png\" style=\"border-style: none;\" alt=\"CC0\" />\n",
    "  </a>\n",
    "  <br />\n",
    "  To the extent possible under law,\n",
    "  <span resource=\"[_:publisher]\" rel=\"dct:publisher\">\n",
    "    <span property=\"dct:title\">David Caisson</span></span>\n",
    "  has waived all copyright and related or neighboring rights to\n",
    "  <span property=\"dct:title\">Découverte du jeu de la vie en première NSI</span>.\n",
    "This work is published from:\n",
    "<span property=\"vcard:Country\" datatype=\"dct:ISO3166\"\n",
    "      content=\"FR\" about=\"[_:publisher]\">\n",
    "  France</span>.\n",
    "</p>"
   ]
  }
 ],
 "metadata": {
  "kernelspec": {
   "display_name": "Python 3 (ipykernel)",
   "language": "python",
   "name": "python3"
  },
  "language_info": {
   "codemirror_mode": {
    "name": "ipython",
    "version": 3
   },
   "file_extension": ".py",
   "mimetype": "text/x-python",
   "name": "python",
   "nbconvert_exporter": "python",
   "pygments_lexer": "ipython3",
   "version": "3.10.9"
  },
  "latex_envs": {
   "LaTeX_envs_menu_present": true,
   "autoclose": false,
   "autocomplete": true,
   "bibliofile": "biblio.bib",
   "cite_by": "apalike",
   "current_citInitial": 1,
   "eqLabelWithNumbers": true,
   "eqNumInitial": 1,
   "hotkeys": {
    "equation": "Ctrl-E",
    "itemize": "Ctrl-I"
   },
   "labels_anchors": false,
   "latex_user_defs": false,
   "report_style_numbering": false,
   "user_envs_cfg": false
  },
  "vscode": {
   "interpreter": {
    "hash": "916dbcbb3f70747c44a77c7bcd40155683ae19c65e1c03b4aa3499c5328201f1"
   }
  }
 },
 "nbformat": 4,
 "nbformat_minor": 5
}
