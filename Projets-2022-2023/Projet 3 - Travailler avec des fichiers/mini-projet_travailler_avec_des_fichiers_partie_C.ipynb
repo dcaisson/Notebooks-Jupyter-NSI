{
 "cells": [
  {
   "cell_type": "markdown",
   "metadata": {},
   "source": [
    "# Mini-projet &ndash; Travailler avec des fichiers &ndash; Partie C"
   ]
  },
  {
   "cell_type": "markdown",
   "metadata": {},
   "source": [
    "## 3. Fonction `plus_frequent`"
   ]
  },
  {
   "cell_type": "markdown",
   "metadata": {},
   "source": [
    "Écrire une fonction ``plus_frequent`` qui prend en paramètres :\n",
    "- un dictionnaire ``d`` dont les clés sont des mots (chaînes de caractères) et les valeurs des entiers positifs ou nuls ;\n",
    "- et un entier (non nul) ``k``,\n",
    "et qui renvoie le mot de ``k`` lettres qui est associé, dans le dictionnaire ``d``, à la plus grande valeur. \n",
    "\n",
    "Précisions :\n",
    "  - La fonction renvoie la chaîne vide si ``d`` ne contient aucun mot de ``k`` lettres.\n",
    "  - En cas d'égalité, on choisira au hasard.   \n",
    "\n",
    "**Remarque. &ndash; Ne pas oublier d'écrire la documentation de cette fonction.**"
   ]
  },
  {
   "cell_type": "markdown",
   "metadata": {},
   "source": [
    "**Commencer par écrire quelques tests pour bien comprendre l'énoncé.**"
   ]
  },
  {
   "cell_type": "code",
   "execution_count": null,
   "metadata": {},
   "outputs": [],
   "source": [
    "def plus_frequent(d, k):\n",
    "    pass"
   ]
  }
 ],
 "metadata": {
  "kernelspec": {
   "display_name": "Python 3 (ipykernel)",
   "language": "python",
   "name": "python3"
  },
  "language_info": {
   "codemirror_mode": {
    "name": "ipython",
    "version": 3
   },
   "file_extension": ".py",
   "mimetype": "text/x-python",
   "name": "python",
   "nbconvert_exporter": "python",
   "pygments_lexer": "ipython3",
   "version": "3.10.8"
  },
  "latex_envs": {
   "LaTeX_envs_menu_present": true,
   "autoclose": false,
   "autocomplete": true,
   "bibliofile": "biblio.bib",
   "cite_by": "apalike",
   "current_citInitial": 1,
   "eqLabelWithNumbers": true,
   "eqNumInitial": 1,
   "hotkeys": {
    "equation": "Ctrl-E",
    "itemize": "Ctrl-I"
   },
   "labels_anchors": false,
   "latex_user_defs": false,
   "report_style_numbering": false,
   "user_envs_cfg": false
  }
 },
 "nbformat": 4,
 "nbformat_minor": 4
}
