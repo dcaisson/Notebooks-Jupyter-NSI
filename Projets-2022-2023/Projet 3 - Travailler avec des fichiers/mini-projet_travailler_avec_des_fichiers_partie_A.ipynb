{
 "cells": [
  {
   "cell_type": "markdown",
   "metadata": {},
   "source": [
    "# Mini-projet &ndash; Travailler avec des fichiers &ndash; Partie A"
   ]
  },
  {
   "cell_type": "markdown",
   "metadata": {},
   "source": [
    "## 1. Fonction ``occurrences``"
   ]
  },
  {
   "cell_type": "markdown",
   "metadata": {},
   "source": [
    "Écrire une fonction ``occurrences`` qui prend en paramètre une liste et renvoie un dictionnaire donnant, pour chaque valeur de la liste, le nombre de fois que cette valeur apparaît.   \n",
    "**Remarque. &ndash; Ne pas oublier d'écrire la documentation de cette fonction**"
   ]
  },
  {
   "cell_type": "markdown",
   "metadata": {},
   "source": [
    "**Pour vous aider, quelques tests sont fournis. Compléter le quatrième test.**"
   ]
  },
  {
   "cell_type": "code",
   "execution_count": null,
   "metadata": {},
   "outputs": [],
   "source": [
    "#À vous de jouer\n",
    "def occurrences(liste):\n",
    "    pass"
   ]
  },
  {
   "cell_type": "code",
   "execution_count": null,
   "metadata": {},
   "outputs": [],
   "source": [
    "#Quelques tests\n",
    "assert occurrences([\"a\", \"b\", \"a\", \"c\", \"c\", \"d\"]) == {\"a\": 2, \"b\": 1, \"c\": 2, \"d\": 1}\n",
    "assert occurrences([\"a\", \"a\", \"a\", \"b\"]) == {\"a\": 3, \"b\": 1}\n",
    "assert occurrences([\"a\", \"b\", \"c\", \"d\", \"e\"]) == {\"a\": 1, \"b\": 1, \"c\": 1, \"d\": 1, \"e\": 1}\n",
    "#assert occurrences([\"a\", \"b\", \"b\", \"c\", \"c\", \"c\"]) == à compléter"
   ]
  }
 ],
 "metadata": {
  "kernelspec": {
   "display_name": "Python 3 (ipykernel)",
   "language": "python",
   "name": "python3"
  },
  "language_info": {
   "codemirror_mode": {
    "name": "ipython",
    "version": 3
   },
   "file_extension": ".py",
   "mimetype": "text/x-python",
   "name": "python",
   "nbconvert_exporter": "python",
   "pygments_lexer": "ipython3",
   "version": "3.10.8"
  },
  "latex_envs": {
   "LaTeX_envs_menu_present": true,
   "autoclose": false,
   "autocomplete": true,
   "bibliofile": "biblio.bib",
   "cite_by": "apalike",
   "current_citInitial": 1,
   "eqLabelWithNumbers": true,
   "eqNumInitial": 1,
   "hotkeys": {
    "equation": "Ctrl-E",
    "itemize": "Ctrl-I"
   },
   "labels_anchors": false,
   "latex_user_defs": false,
   "report_style_numbering": false,
   "user_envs_cfg": false
  }
 },
 "nbformat": 4,
 "nbformat_minor": 4
}
