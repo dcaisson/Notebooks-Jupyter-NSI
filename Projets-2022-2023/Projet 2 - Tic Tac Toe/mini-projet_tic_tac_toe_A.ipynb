{
 "cells": [
  {
   "cell_type": "markdown",
   "metadata": {},
   "source": [
    "# Mini-projet &ndash; Tic Tac Toe &ndash; Partie A"
   ]
  },
  {
   "cell_type": "markdown",
   "metadata": {},
   "source": [
    "Le but de ce projet est d'écrire une version du jeu Tic Tac Toe dans laquelle deux joueurs humains s'affrontent.\n",
    "Une liste de listes `grille` donne l'état de la grille de jeu à tout instant. Par exemple, à la grille ci-dessous :\n",
    "\n",
    "```\n",
    "X|O|X   \n",
    " |X|O\n",
    "O| |\n",
    "```\n",
    "\n",
    "correspond la liste suivante :\n",
    "\n",
    "```python\n",
    "[\n",
    " ['X', 'O', 'X'], \n",
    " [' ', 'X', 'O'], \n",
    " ['O', ' ', ' ']\n",
    "]\n",
    "```   \n",
    "\n",
    "Noter qu'à chaque case vide correspond la chaîne de caractères ``' '`` (et non la chaîne de caractères vide ``''``)."
   ]
  },
  {
   "cell_type": "markdown",
   "metadata": {},
   "source": [
    "Pour simplifier, à chaque tour de jeu, le joueur dont c'est le tour choisit l'endroit où placer son &laquo; jeton &raquo; ('X' ou 'O') en entrant un chiffre qui correspond à une position sur la grille :\n",
    "\n",
    "```\n",
    "7|8|9\n",
    "4|5|6\n",
    "1|2|3\n",
    "```"
   ]
  },
  {
   "cell_type": "code",
   "execution_count": null,
   "metadata": {},
   "outputs": [],
   "source": [
    "grille = [\n",
    "          ['X', 'O', 'X'], \n",
    "          [' ', 'X', 'O'], \n",
    "          ['O', ' ', ' ']\n",
    "         ]"
   ]
  },
  {
   "cell_type": "markdown",
   "metadata": {},
   "source": [
    "## 1. Grilles tests"
   ]
  },
  {
   "cell_type": "markdown",
   "metadata": {},
   "source": [
    "Définir trois grilles tests :\n",
    "- une grille ``grille_ligne_gagnante`` avec une ligne gagnante ;\n",
    "- une grille ``grille_colonne_gagnante`` avec une colonne gagnante ;\n",
    "- une grille ``grille_diagonale_gagnante`` avec une diagonale gagnante.\n",
    "\n",
    "**Attention. &ndash; Ces grilles doivent correspondre à une partie &laquo; possible &raquo;**."
   ]
  },
  {
   "cell_type": "code",
   "execution_count": null,
   "metadata": {},
   "outputs": [],
   "source": [
    "# À vous de jouer (grille_ligne_gagnante)"
   ]
  },
  {
   "cell_type": "code",
   "execution_count": null,
   "metadata": {},
   "outputs": [],
   "source": [
    "# À vous de jouer (grille_colonne_gagnante)"
   ]
  },
  {
   "cell_type": "code",
   "execution_count": null,
   "metadata": {},
   "outputs": [],
   "source": [
    "# À vous de jouer (diagonale)"
   ]
  },
  {
   "cell_type": "markdown",
   "metadata": {},
   "source": [
    "## 2. Fonction ``afficher_grille(grille)``"
   ]
  },
  {
   "cell_type": "markdown",
   "metadata": {},
   "source": [
    "Écrire une fonction ``afficher_grille()`` qui prend en paramètre une liste de listes représentant une grille, et qui l'affiche comme précisé dans l'introduction du projet.   \n",
    "**Ne pas oublier d'écrire la documentation de la fonction.**"
   ]
  },
  {
   "cell_type": "code",
   "execution_count": null,
   "metadata": {},
   "outputs": [],
   "source": [
    "# À vous de jouer !\n",
    "def afficher_grille(grille):\n",
    "    pass"
   ]
  },
  {
   "cell_type": "code",
   "execution_count": null,
   "metadata": {},
   "outputs": [],
   "source": [
    "afficher_grille(grille_ligne_gagnante)"
   ]
  },
  {
   "cell_type": "code",
   "execution_count": null,
   "metadata": {},
   "outputs": [],
   "source": [
    "afficher_grille(grille_colonne_gagnante)"
   ]
  },
  {
   "cell_type": "code",
   "execution_count": null,
   "metadata": {},
   "outputs": [],
   "source": [
    "afficher_grille(grille_diagonale_gagnante)"
   ]
  }
 ],
 "metadata": {
  "kernelspec": {
   "display_name": "Python 3 (ipykernel)",
   "language": "python",
   "name": "python3"
  },
  "language_info": {
   "codemirror_mode": {
    "name": "ipython",
    "version": 3
   },
   "file_extension": ".py",
   "mimetype": "text/x-python",
   "name": "python",
   "nbconvert_exporter": "python",
   "pygments_lexer": "ipython3",
   "version": "3.10.8"
  },
  "latex_envs": {
   "LaTeX_envs_menu_present": true,
   "autoclose": false,
   "autocomplete": true,
   "bibliofile": "biblio.bib",
   "cite_by": "apalike",
   "current_citInitial": 1,
   "eqLabelWithNumbers": true,
   "eqNumInitial": 1,
   "hotkeys": {
    "equation": "Ctrl-E",
    "itemize": "Ctrl-I"
   },
   "labels_anchors": false,
   "latex_user_defs": false,
   "report_style_numbering": false,
   "user_envs_cfg": false
  }
 },
 "nbformat": 4,
 "nbformat_minor": 2
}
