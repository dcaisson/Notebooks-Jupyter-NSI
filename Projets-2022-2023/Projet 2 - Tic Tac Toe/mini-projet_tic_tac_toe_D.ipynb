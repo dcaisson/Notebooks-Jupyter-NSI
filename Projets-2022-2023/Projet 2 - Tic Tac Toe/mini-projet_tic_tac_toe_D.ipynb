{
 "cells": [
  {
   "cell_type": "markdown",
   "metadata": {},
   "source": [
    "# Mini-projet &ndash; Tic Tac Toe &ndash; Partie D"
   ]
  },
  {
   "cell_type": "markdown",
   "metadata": {},
   "source": [
    "Le but de ce projet est d'écrire une version du jeu Tic Tac Toe dans laquelle deux joueurs humains s'affrontent.\n",
    "Une liste de listes `grille` donne l'état de la grille de jeu à tout instant. Par exemple, à la grille ci-dessous :\n",
    "\n",
    "```\n",
    "X|O|X   \n",
    " |X|O\n",
    "O| |\n",
    "```\n",
    "\n",
    "correspond la liste suivante :\n",
    "\n",
    "```python\n",
    "[\n",
    " ['X', 'O', 'X'], \n",
    " [' ', 'X', 'O'], \n",
    " ['O', ' ', ' ']\n",
    "]\n",
    "```   \n",
    "\n",
    "Noter qu'à chaque case vide correspond la chaîne de caractères ``' '`` (et non la chaîne de caractères vide ``''``)."
   ]
  },
  {
   "cell_type": "markdown",
   "metadata": {},
   "source": [
    "Pour simplifier, à chaque tour de jeu, le joueur choisit l'endroit où placer son &laquo; jeton &raquo; ('X' ou 'O') en entrant un chiffre qui correspond à une position sur la grille :\n",
    "\n",
    "```\n",
    "7|8|9\n",
    "4|5|6\n",
    "1|2|3\n",
    "```"
   ]
  },
  {
   "cell_type": "code",
   "execution_count": null,
   "metadata": {},
   "outputs": [],
   "source": [
    "grille = [\n",
    "          ['X', 'O', 'X'], \n",
    "          [' ', 'X', 'O'], \n",
    "          ['O', ' ', ' ']\n",
    "         ]"
   ]
  },
  {
   "cell_type": "markdown",
   "metadata": {},
   "source": [
    "## 5. Fonctions disponibles et jeu !"
   ]
  },
  {
   "cell_type": "markdown",
   "metadata": {},
   "source": [
    "### 5.1 Fonctions disponibles"
   ]
  },
  {
   "cell_type": "markdown",
   "metadata": {},
   "source": [
    "Vos camarades ont écrit les fonctions suivantes :\n",
    "\n",
    "- une fonction ``afficher_grille()`` qui prend en paramètre une liste de listes représentant une grille, et qui l'affiche comme précisé dans l'introduction du projet ;  \n",
    "- une fonction ``verifier_alignement`` qui prend en paramètre une liste de listes représentant une grille, et vérifie si cette grille contient une ligne, une colonne ou une diagonale gagnante. La fonction renvoie ``'X'`` (resp. ``'O'``) si la grille contient une ligne, une colonne ou une diagonale gagnante avec des ``'X'`` (resp. des ``'O'``), et ``' '`` si aucun des deux joueurs n'a gagné ;  \n",
    "- une fonction ``jouer_coup`` qui prend en paramètres :   \n",
    "  - un joueur (``'X'`` ou ``'O'``) ;\n",
    "  - une position (un chiffre de 1 à 9) ;\n",
    "  - une grille (une liste de listes),\n",
    "  et qui &laquo; joue &raquo; le coup correspondant.   \n",
    "    **Remarque. &ndash; Afin de simplifier le projet, on supposera que chaque joueur ne joue que des coups valides (c'est-à-dire ne propose que des chiffres correspondant à des cases encore vides).**  \n",
    "    **Attention. &ndash; Cette fonction ne renvoie rien mais modifie la grille qui lui est passée en paramètre.**"
   ]
  },
  {
   "cell_type": "markdown",
   "metadata": {},
   "source": [
    "### 5.2 Le jeu !"
   ]
  },
  {
   "cell_type": "markdown",
   "metadata": {},
   "source": [
    "Programmer le jeu Tic Tac Toe en utilisant les fonctions décrites précédemment pour compléter le code ci-dessous."
   ]
  },
  {
   "cell_type": "code",
   "execution_count": null,
   "metadata": {},
   "outputs": [],
   "source": [
    "# Initialisation de la grille (vide)\n",
    "grille = [\n",
    "          [' ', ' ', ' '], \n",
    "          [' ', ' ', ' '], \n",
    "          [' ', ' ', ' ']\n",
    "         ]\n",
    "# Booleen fini (qui indique si la partie est terminée)\n",
    "fini = False\n",
    "# Chaîne de caractères joueur (qui vaut soit 'X', soit 'O')\n",
    "joueur = 'X'\n",
    "# Variable nb_coups qui permet de savoir quand la grille est pleine\n",
    "nb_coups = 0\n",
    "# Variable gagnant\n",
    "gagnant = ' '\n",
    "\n",
    "while ... and ...: # Compléter les ...\n",
    "    # On affiche la grille\n",
    "\n",
    "    # On récupère le coup du joueur qu'on suppose valide\n",
    "\n",
    "    # On joue le coup\n",
    "\n",
    "    # On vérifie s'il y a un gagnant et on sort de la boucle si c'est le cas\n",
    "\n",
    "    # On incrémente la variable nb_coups\n",
    "\n",
    "    # On change de joueur\n",
    "\n",
    "# Ici, la partie est finie. On affiche le résultat.\n",
    "# D'abord la grille...\n",
    "\n",
    "# ... puis le message indiquant le vainqueur"
   ]
  }
 ],
 "metadata": {
  "kernelspec": {
   "display_name": "Python 3 (ipykernel)",
   "language": "python",
   "name": "python3"
  },
  "language_info": {
   "codemirror_mode": {
    "name": "ipython",
    "version": 3
   },
   "file_extension": ".py",
   "mimetype": "text/x-python",
   "name": "python",
   "nbconvert_exporter": "python",
   "pygments_lexer": "ipython3",
   "version": "3.10.8"
  },
  "latex_envs": {
   "LaTeX_envs_menu_present": true,
   "autoclose": false,
   "autocomplete": true,
   "bibliofile": "biblio.bib",
   "cite_by": "apalike",
   "current_citInitial": 1,
   "eqLabelWithNumbers": true,
   "eqNumInitial": 1,
   "hotkeys": {
    "equation": "Ctrl-E",
    "itemize": "Ctrl-I"
   },
   "labels_anchors": false,
   "latex_user_defs": false,
   "report_style_numbering": false,
   "user_envs_cfg": false
  }
 },
 "nbformat": 4,
 "nbformat_minor": 2
}
