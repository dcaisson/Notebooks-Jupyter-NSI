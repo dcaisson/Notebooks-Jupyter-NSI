{
 "cells": [
  {
   "cell_type": "markdown",
   "metadata": {},
   "source": [
    "# Mini-projet &ndash; Tic Tac Toe &ndash; Partie B"
   ]
  },
  {
   "cell_type": "markdown",
   "metadata": {},
   "source": [
    "Le but de ce projet est d'écrire une version du jeu Tic Tac Toe dans laquelle deux joueurs humains s'affrontent.\n",
    "Une liste de listes `grille` donne l'état de la grille de jeu à tout instant. Par exemple, à la grille ci-dessous :\n",
    "\n",
    "```\n",
    "X|O|X   \n",
    " |X|O\n",
    "O| |\n",
    "```\n",
    "\n",
    "correspond la liste suivante :\n",
    "\n",
    "```python\n",
    "[\n",
    " ['X', 'O', 'X'], \n",
    " [' ', 'X', 'O'], \n",
    " ['O', ' ', ' ']\n",
    "]\n",
    "```   \n",
    "\n",
    "Noter qu'à chaque case vide correspond la chaîne de caractères ``' '`` (et non la chaîne de caractères vide ``''``)."
   ]
  },
  {
   "cell_type": "markdown",
   "metadata": {},
   "source": [
    "Pour simplifier, à chaque tour de jeu, le joueur choisit l'endroit où placer son &laquo; jeton &raquo; ('X' ou 'O') en entrant un chiffre qui correspond à une position sur la grille :\n",
    "\n",
    "```\n",
    "7|8|9\n",
    "4|5|6\n",
    "1|2|3\n",
    "```"
   ]
  },
  {
   "cell_type": "code",
   "execution_count": null,
   "metadata": {},
   "outputs": [],
   "source": [
    "grille = [\n",
    "          ['X', 'O', 'X'], \n",
    "          [' ', 'X', 'O'], \n",
    "          ['O', ' ', ' ']\n",
    "         ]"
   ]
  },
  {
   "cell_type": "markdown",
   "metadata": {},
   "source": [
    "## 3. Fonction ``verifier_alignement``"
   ]
  },
  {
   "cell_type": "markdown",
   "metadata": {},
   "source": [
    "#### Fonction ``verifier_lignes``"
   ]
  },
  {
   "cell_type": "markdown",
   "metadata": {},
   "source": [
    "Écrire une fonction ``verifier_lignes`` qui prend en paramètre une liste de listes représentant une grille, et vérifie si cette grille contient une ligne gagnante. La fonction renvoie ``'X'`` (resp. ``'O'``) si la grille contient une ligne gagnante avec des ``'X'`` (resp. des ``'O'``), et ``' '`` si aucune ligne n'est gagnante.   \n",
    "**Ne pas oublier d'écrire la documentation de la fonction.**"
   ]
  },
  {
   "cell_type": "code",
   "execution_count": null,
   "metadata": {},
   "outputs": [],
   "source": [
    "# À vous de jouer !\n",
    "def verifier_lignes(grille):\n",
    "    pass"
   ]
  },
  {
   "cell_type": "code",
   "execution_count": null,
   "metadata": {},
   "outputs": [],
   "source": [
    "# Test 1\n",
    "grille_1 = [\n",
    "            ['X', 'O', 'X'], \n",
    "            [' ', 'X', 'O'], \n",
    "            ['O', ' ', ' ']\n",
    "           ] \n",
    "assert verifier_lignes(grille_1) == ' '\n",
    "# Test 2\n",
    "grille_2 = [\n",
    "            ['X', 'X', 'X'], \n",
    "            [' ', 'O', 'O'], \n",
    "            ['O', ' ', ' ']\n",
    "           ] \n",
    "assert verifier_lignes(grille_1) == 'X'"
   ]
  },
  {
   "cell_type": "markdown",
   "metadata": {},
   "source": [
    "#### Fonction ``verifier_colonnes``"
   ]
  },
  {
   "cell_type": "markdown",
   "metadata": {},
   "source": [
    "Écrire une fonction ``verifier_colonnes`` qui prend en paramètre une liste de listes représentant une grille, et vérifie si cette grille contient une colonne gagnante. La fonction renvoie ``'X'`` (resp. ``'O'``) si la grille contient une colonne gagnante avec des ``'X'`` (resp. des ``'O'``), et ``' '`` si aucune colonne n'est gagnante.   \n",
    "**Ne pas oublier d'écrire la documentation de la fonction.**"
   ]
  },
  {
   "cell_type": "code",
   "execution_count": null,
   "metadata": {},
   "outputs": [],
   "source": [
    "# À vous de jouer !\n",
    "def verifier_colonnes(grille):\n",
    "    pass"
   ]
  },
  {
   "cell_type": "code",
   "execution_count": null,
   "metadata": {},
   "outputs": [],
   "source": [
    "# Test 1\n",
    "grille_3 = [\n",
    "            ['X', 'O', 'X'], \n",
    "            [' ', 'X', 'O'], \n",
    "            ['O', ' ', ' ']\n",
    "           ] \n",
    "assert verifier_colonnes(grille_3) == ' '\n",
    "# Test 2\n",
    "grille_4 = [\n",
    "            ['X', 'O', 'X'], \n",
    "            ['X', 'O', 'O'], \n",
    "            ['X', ' ', ' ']\n",
    "           ] \n",
    "assert verifier_colonnes(grille_4) == 'X'"
   ]
  },
  {
   "cell_type": "markdown",
   "metadata": {},
   "source": [
    "#### Fonction ``verifier_diagonales``"
   ]
  },
  {
   "cell_type": "markdown",
   "metadata": {},
   "source": [
    "Écrire une fonction ``verifier_diagonales`` qui prend en paramètre une liste de listes représentant une grille, et vérifie si cette grille contient une diagonale gagnante. La fonction renvoie ``'X'`` (resp. ``'O'``) si la grille contient une diagonale gagnante avec des ``'X'`` (resp. des ``'O'``), et ``' '`` si aucune diagonale n'est gagnante.   \n",
    "**Ne pas oublier d'écrire la documentation de la fonction.**"
   ]
  },
  {
   "cell_type": "code",
   "execution_count": null,
   "metadata": {},
   "outputs": [],
   "source": [
    "# À vous de jouer\n",
    "def verifier_diagonales(grille):\n",
    "    pass"
   ]
  },
  {
   "cell_type": "code",
   "execution_count": null,
   "metadata": {},
   "outputs": [],
   "source": [
    "# Test 1\n",
    "grille_5 = [\n",
    "            ['X', 'O', 'X'], \n",
    "            [' ', 'X', 'O'], \n",
    "            ['O', ' ', ' ']\n",
    "           ] \n",
    "assert verifier_diagonales(grille_5) == ' '\n",
    "# Test 2\n",
    "grille_6 = [\n",
    "            ['X', 'X', 'O'], \n",
    "            [' ', 'X', 'O'], \n",
    "            ['O', ' ', 'X']\n",
    "           ] \n",
    "assert verifier_diagonales(grille_6) == 'X'"
   ]
  },
  {
   "cell_type": "markdown",
   "metadata": {},
   "source": [
    "#### Fonction ``verifier_alignement``"
   ]
  },
  {
   "cell_type": "markdown",
   "metadata": {},
   "source": [
    "Écrire une fonction ``verifier_alignement`` qui prend en paramètre une liste de listes représentant une grille, et vérifie si cette grille contient une ligne, une colonne ou une diagonale gagnante. La fonction renvoie ``'X'`` (resp. ``'O'``) si la grille contient une ligne, une colonne ou une diagonale gagnante avec des ``'X'`` (resp. des ``'O'``), et ``' '`` si aucun des deux joueurs n'a gagné.   \n",
    "**Ne pas oublier d'écrire la documentation de la fonction.**"
   ]
  },
  {
   "cell_type": "code",
   "execution_count": null,
   "metadata": {},
   "outputs": [],
   "source": [
    "# À vous de jouer !\n",
    "def verifier_alignement(grille):\n",
    "    pass"
   ]
  }
 ],
 "metadata": {
  "kernelspec": {
   "display_name": "Python 3 (ipykernel)",
   "language": "python",
   "name": "python3"
  },
  "language_info": {
   "codemirror_mode": {
    "name": "ipython",
    "version": 3
   },
   "file_extension": ".py",
   "mimetype": "text/x-python",
   "name": "python",
   "nbconvert_exporter": "python",
   "pygments_lexer": "ipython3",
   "version": "3.10.8"
  },
  "latex_envs": {
   "LaTeX_envs_menu_present": true,
   "autoclose": false,
   "autocomplete": true,
   "bibliofile": "biblio.bib",
   "cite_by": "apalike",
   "current_citInitial": 1,
   "eqLabelWithNumbers": true,
   "eqNumInitial": 1,
   "hotkeys": {
    "equation": "Ctrl-E",
    "itemize": "Ctrl-I"
   },
   "labels_anchors": false,
   "latex_user_defs": false,
   "report_style_numbering": false,
   "user_envs_cfg": false
  }
 },
 "nbformat": 4,
 "nbformat_minor": 2
}
