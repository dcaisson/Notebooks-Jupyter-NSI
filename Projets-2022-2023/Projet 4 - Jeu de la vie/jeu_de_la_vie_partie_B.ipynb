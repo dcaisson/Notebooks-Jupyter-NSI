{
 "cells": [
  {
   "cell_type": "markdown",
   "id": "76bc2e6b",
   "metadata": {},
   "source": [
    "<h1 style=\"color:DarkSlateBlue\">Mini-projet &ndash; Le jeu de la vie &ndash; Partie B</h1>"
   ]
  },
  {
   "cell_type": "markdown",
   "id": "18e00879",
   "metadata": {},
   "source": [
    "<h2 style=\"color:CornflowerBlue\">Présentation et règles du jeu</h2>"
   ]
  },
  {
   "cell_type": "markdown",
   "id": "70c68d82",
   "metadata": {},
   "source": [
    "<h3 style=\"color:LightSkyBlue\">Introduction</h3>"
   ]
  },
  {
   "cell_type": "markdown",
   "id": "9cad0212",
   "metadata": {},
   "source": [
    "Le jeu de la vie est un [automate cellulaire](https://fr.wikipedia.org/wiki/Automate_cellulaire), un modèle simple pour représenter l'évolution de cellules placées sur une grille. Chaque cellule de la grille est soit vivante, soit morte.\n",
    "\n",
    "Voici un exemple de grille dans laquelle 4 cellules (en noir) sont vivantes, les autres (en gris) mortes.\n",
    "\n",
    "![premier_exemple](https://github.com/dcaisson/Notebooks-Jupyter-NSI/blob/main/Projets-2022-2023/Projet%204%20-%20Jeu%20de%20la%20vie/premier_exemple.png?raw=true)"
   ]
  },
  {
   "cell_type": "markdown",
   "id": "5ae4efef",
   "metadata": {},
   "source": [
    "<h3 style=\"color:LightSkyBlue\">Règles du jeu</h3>"
   ]
  },
  {
   "cell_type": "markdown",
   "id": "052b08c9",
   "metadata": {},
   "source": [
    "La grille évolue selon deux règles simples de changement d'état pour chaque cellule :"
   ]
  },
  {
   "cell_type": "markdown",
   "id": "f9506984",
   "metadata": {},
   "source": [
    "<h4 style=\"color:MediumPurple\">Règle 1 : une cellule vivante qui possède 2 ou 3 voisines vivantes reste vivante, sinon elle meurt.</h4>\n",
    "\n",
    "&nbsp;&nbsp;&nbsp;&nbsp;&nbsp;*&ndash; Exemple 1 : la cellule centrale (vivante) possède exactement 2 voisines vivantes. À l'étape d'après, elle restera vivante.*\n",
    "\n",
    "![v2v_red](https://github.com/dcaisson/Notebooks-Jupyter-NSI/blob/main/Projets-2022-2023/Projet%204%20-%20Jeu%20de%20la%20vie/v2v_red.png?raw=true)\n",
    "\n",
    "&nbsp;&nbsp;&nbsp;&nbsp;&nbsp;*&ndash; Exemple 2 : la cellule centrale possède exactement 3 voisines vivantes. À l'étape suivante, elle restera vivante.*\n",
    "\n",
    "![v3v](https://github.com/dcaisson/Notebooks-Jupyter-NSI/blob/main/Projets-2022-2023/Projet%204%20-%20Jeu%20de%20la%20vie/v3v.png?raw=true)\n",
    "\n",
    "&nbsp;&nbsp;&nbsp;&nbsp;&nbsp;*&ndash; Exemple 3 : la cellule centrale sera morte à l'étape suivante.*\n",
    "\n",
    "![v4v](https://github.com/dcaisson/Notebooks-Jupyter-NSI/blob/main/Projets-2022-2023/Projet%204%20-%20Jeu%20de%20la%20vie/v4v.png?raw=true)\n",
    "\n",
    "<h4 style=\"color:MediumPurple\">Règle 2 : une cellule morte qui  possède exactement trois cellules vivantes, devient vivante, sinon elle reste morte.</h4>\n",
    "\n",
    "&nbsp;&nbsp;&nbsp;&nbsp;&nbsp;*&ndash; Exemple 4 : la cellule centrale (morte) possède exactement trois voisines vivantes. À l'étape suivante, elle sera vivante.*\n",
    "\n",
    "![m3v](https://github.com/dcaisson/Notebooks-Jupyter-NSI/blob/main/Projets-2022-2023/Projet%204%20-%20Jeu%20de%20la%20vie/m3v.png?raw=true)\n",
    "\n",
    "&nbsp;&nbsp;&nbsp;&nbsp;&nbsp;*&ndash; Exemple 5 : la cellule centrale (morte) possède exactement quatre voisines vivantes. À l'étape suivante, elle restera morte.*\n",
    "\n",
    "![m4v](https://github.com/dcaisson/Notebooks-Jupyter-NSI/blob/main/Projets-2022-2023/Projet%204%20-%20Jeu%20de%20la%20vie/m4v.png?raw=true)"
   ]
  },
  {
   "cell_type": "markdown",
   "id": "7db443f9",
   "metadata": {},
   "source": [
    "<h3 style=\"color:LightSkyBlue\">Une étape</h3>"
   ]
  },
  {
   "cell_type": "markdown",
   "id": "c249abe5",
   "metadata": {},
   "source": [
    "Voici par exemple comment évolue une structure connue sous le nom de &laquo; clignotant &raquo; :\n",
    "\n",
    "![clignotant_evolution](https://github.com/dcaisson/Notebooks-Jupyter-NSI/blob/main/Projets-2022-2023/Projet%204%20-%20Jeu%20de%20la%20vie/clignotant_evolution.png?raw=true)"
   ]
  },
  {
   "cell_type": "markdown",
   "id": "1236cd2a",
   "metadata": {},
   "source": [
    "<h2 style=\"color:CornflowerBlue\">Fichiers <code>*.life</code> et configurations</h2>"
   ]
  },
  {
   "cell_type": "markdown",
   "id": "c974dac0",
   "metadata": {},
   "source": [
    "Dans ce projet, nous utiliserons de simples fichiers texte avec l'extension `life` pour stocker des configurations de grilles. Dans chaque fichier `*.life` :\n",
    "- chaque ligne correspond à une ligne de la grille ;\n",
    "- chaque cellule morte est représentée par le caractère `.` ;\n",
    "- chaque cellule vivante est représentée par le caractère `O` (la lettre O majuscule).\n",
    "\n",
    "Considérons par exemple la grille ci-dessous :\n",
    "\n",
    "![v2v](https://github.com/dcaisson/Notebooks-Jupyter-NSI/blob/main/Projets-2022-2023/Projet%204%20-%20Jeu%20de%20la%20vie/v2v.png?raw=true)\n",
    "\n",
    "Le fichier `*.life` permettant de la stocker est un fichier texte de 5 lignes dont le contenu est le suivant :\n",
    "\n",
    "```text\n",
    ".....\n",
    "..O..\n",
    ".OO..\n",
    ".....\n",
    ".....\n",
    "```"
   ]
  },
  {
   "cell_type": "markdown",
   "id": "bc446d42",
   "metadata": {},
   "source": [
    "<h2 style=\"color:CornflowerBlue\">Partie B &ndash; Nombre de voisins et configuration suivante</h3>"
   ]
  },
  {
   "cell_type": "markdown",
   "id": "87761685",
   "metadata": {},
   "source": [
    "Le but de cette partie est de déterminer la configuration suivante d'une grille à partir d'une configuration initiale. Nous représenterons une grille par une liste de listes contenant des `0` et des `1` :\n",
    "- chaque sous-liste correspond à une ligne de la grille ;\n",
    "- chaque `0` correspond à une cellule morte ;\n",
    "- chaque `1` à une cellule vivante.\n",
    "\n",
    "Par exemple, la grille ci-dessous :\n",
    "\n",
    "![glider](https://github.com/dcaisson/Notebooks-Jupyter-NSI/blob/main/Projets-2022-2023/Projet%204%20-%20Jeu%20de%20la%20vie/glider.png?raw=true)\n",
    "\n",
    "sera représentée par la liste de listes :\n",
    "\n",
    "```python\n",
    "[\n",
    "    [0, 1, 0],\n",
    "    [0, 0, 1],\n",
    "    [1, 1, 1]\n",
    "]\n",
    "```"
   ]
  },
  {
   "cell_type": "markdown",
   "id": "ccbb51a4",
   "metadata": {},
   "source": [
    "<h4 style=\"color:MediumPurple\">Détermination de la grille contenant le nombre de voisins</h4>"
   ]
  },
  {
   "cell_type": "markdown",
   "id": "b3ba6672",
   "metadata": {},
   "source": [
    "<div style=\"color:ForestGreen\">\n",
    "    Compléter la fonction <code>voisins</code> ci-dessous qui :\n",
    "    <ul>\n",
    "        <li>prend en paramètre une grille (une liste de listes contenant des <code>0</code> et des <code>1</code>) ;</li>\n",
    "        <li>renvoie une nouvelle grille contenant le nombre de voisins de chaque cellule de la grille.</li>\n",
    "    </ul>\n",
    "    <p>Par exemple, avec :</p>\n",
    "\n",
    "<pre><code>\n",
    "grille = [\n",
    "    [0, 0, 0],\n",
    "    [1, 1, 1],\n",
    "    [0, 0, 0]\n",
    "]\n",
    "</code></pre>\n",
    "\n",
    "`voisins(grille)` renvoie la liste de listes ci-dessous :\n",
    "\n",
    "<pre><code>\n",
    "[\n",
    "    [2, 3, 2], \n",
    "    [1, 2, 1], \n",
    "    [2, 3, 2]\n",
    "]\n",
    "</code></pre>\n",
    "</div>"
   ]
  },
  {
   "cell_type": "code",
   "execution_count": 2,
   "id": "e35d8973",
   "metadata": {},
   "outputs": [],
   "source": [
    "#À vous de jouer !\n",
    "def voisins(grille):\n",
    "    lignes = len(grille)\n",
    "    colonnes = len(grille[0])\n",
    "    #initialisation de grille_voisins avec des 0 (cellules toutes mortes)\n",
    "    grille_voisins = [[0 for j in range(colonnes)] for i in range(lignes)]\n",
    "    for i in range(lignes):\n",
    "        for j in range(colonnes):\n",
    "            #coin supérieur gauche\n",
    "            if i == 0 and j == 0:\n",
    "                nb_voisins = ...\n",
    "            #coin supérieur droit\n",
    "            elif i == 0 and j == colonnes - 1:\n",
    "                nb_voisins = grille[0][colonnes-2] + grille[1][colonnes-2] + grille[1][colonnes-1]\n",
    "            #coin inférieur gauche\n",
    "            elif i == lignes - 1 and j == 0:\n",
    "                nb_voisins = grille[lignes-2][0] + grille[lignes-2][1] + grille[lignes-1][1]\n",
    "            #coin inférieur droit\n",
    "            elif i == lignes - 1 and j == colonnes - 1:\n",
    "                nb_voisins = grille[lignes-1][colonnes-2] +  grille[lignes-2][colonnes-2] + grille[lignes-2][colonnes-1]\n",
    "            #bande supérieure\n",
    "            elif i == 0:\n",
    "                nb_voisins = ...\n",
    "            #bande latérale gauche\n",
    "            elif j == 0:\n",
    "                nb_voisins = grille[i-1][0] + grille[i-1][1] + grille[i][1] + grille[i+1][1] + grille[i+1][0]\n",
    "            #bande latérale droite\n",
    "            elif j == colonnes - 1:\n",
    "                nb_voisins = ...\n",
    "            #bande inférieure\n",
    "            elif i == lignes - 1:\n",
    "                nb_voisins = grille[i][j-1] + grille[i-1][j-1] + grille[i-1][j] + grille[i-1][j+1] + grille[i][j+1]\n",
    "            #intérieur\n",
    "            else:\n",
    "                nb_voisins = ...\n",
    "            grille_voisins[i][j] = ...\n",
    "    return grille_voisins"
   ]
  },
  {
   "cell_type": "code",
   "execution_count": 4,
   "id": "9d1c09c5",
   "metadata": {},
   "outputs": [],
   "source": [
    "assert voisins([[0, 0, 0], [1, 1, 1], [0, 0, 0]]) == [[2, 3, 2], [1, 2, 1], [2, 3, 2]]"
   ]
  },
  {
   "cell_type": "markdown",
   "id": "cf8ea0e3",
   "metadata": {},
   "source": [
    "<h4 style=\"color:MediumPurple\">Détermination de la grille contenant la configuration suivante</h4>"
   ]
  },
  {
   "cell_type": "markdown",
   "id": "ac7bc83b",
   "metadata": {},
   "source": [
    "<div style=\"color:ForestGreen\">\n",
    "    <p>Compléter la fonction <code>suivante</code> ci-dessous qui :\n",
    "        <ul>\n",
    "            <li>prend en paramètre une grille (une liste de listes contenant des <code>0</code> et des <code>1</code>) ;</li>\n",
    "            <li>renvoie la grille correspondant à la configuration suivante.</li>\n",
    "        </ul>\n",
    "    </p>\n",
    "    <p>Par exemple, avec :</p>\n",
    "\n",
    "<pre><code>\n",
    "grille = [\n",
    "    [0, 0, 0],\n",
    "    [1, 1, 1],\n",
    "    [0, 0, 0]\n",
    "]\n",
    "</code></pre>\n",
    "\n",
    "<code>suivante(grille)</code> renvoie la liste de listes ci-dessous :\n",
    "\n",
    "<pre><code>\n",
    "[\n",
    "    [0, 1, 0], \n",
    "    [0, 1, 0], \n",
    "    [0, 1, 0]\n",
    "]\n",
    "</code></pre>\n",
    "</div>"
   ]
  },
  {
   "cell_type": "code",
   "execution_count": 19,
   "id": "1477603c",
   "metadata": {},
   "outputs": [],
   "source": [
    "#À vous de jouer !\n",
    "def suivante(grille):\n",
    "    lignes = len(grille)\n",
    "    colonnes = len(grille[0])\n",
    "    #initialisation de grille_suivante avec des 0 (cellules toutes mortes)\n",
    "    grille_suivante = [[0 for j in range(colonnes)] for i in range(lignes)]\n",
    "    grille_voisins = voisins(grille)\n",
    "    #il ne reste plus qu'à trouver quelles cellules seront vivantes à la génération suivante\n",
    "    for i in range(lignes):\n",
    "        for j in range(colonnes):\n",
    "            #règle 1 : une cellule vivante possédant deux ou trois cellules voisines vivantes le reste, sinon elle meurt\n",
    "            if grille[i][j] == 1 and (...):\n",
    "                grille_suivante[i][j] = ...\n",
    "            #règle 2 : une cellule morte possédant exactement trois cellules voisines vivantes devient vivante (elle naît)\n",
    "            if grille[i][j] == 0 and ...:\n",
    "                grille_suivante[i][j] = ...\n",
    "    return grille_suivante            "
   ]
  },
  {
   "cell_type": "code",
   "execution_count": 20,
   "id": "9d1137bd",
   "metadata": {},
   "outputs": [],
   "source": [
    "#tests avec le clignotant\n",
    "assert suivante([[0, 0, 0], [1, 1, 1], [0, 0, 0]]) == [[0, 1, 0], [0, 1, 0], [0, 1, 0]]\n",
    "assert suivante([[0, 1, 0], [0, 1, 0], [0, 1, 0]]) == [[0, 0, 0], [1, 1, 1], [0, 0, 0]]"
   ]
  },
  {
   "cell_type": "markdown",
   "id": "9ed9d37e",
   "metadata": {},
   "source": [
    "<p xmlns:dct=\"http://purl.org/dc/terms/\" xmlns:vcard=\"http://www.w3.org/2001/vcard-rdf/3.0#\">\n",
    "  <a rel=\"license\"\n",
    "     href=\"http://creativecommons.org/publicdomain/zero/1.0/\">\n",
    "    <img src=\"https://licensebuttons.net/p/zero/1.0/88x31.png\" style=\"border-style: none;\" alt=\"CC0\" />\n",
    "  </a>\n",
    "  <br />\n",
    "  To the extent possible under law,\n",
    "  <span resource=\"[_:publisher]\" rel=\"dct:publisher\">\n",
    "    <span property=\"dct:title\">David Caisson</span></span>\n",
    "  has waived all copyright and related or neighboring rights to\n",
    "  <span property=\"dct:title\">Découverte du jeu de la vie en première NSI</span>.\n",
    "This work is published from:\n",
    "<span property=\"vcard:Country\" datatype=\"dct:ISO3166\"\n",
    "      content=\"FR\" about=\"[_:publisher]\">\n",
    "  France</span>.\n",
    "</p>"
   ]
  }
 ],
 "metadata": {
  "kernelspec": {
   "display_name": "Python 3",
   "language": "python",
   "name": "python3"
  },
  "language_info": {
   "codemirror_mode": {
    "name": "ipython",
    "version": 3
   },
   "file_extension": ".py",
   "mimetype": "text/x-python",
   "name": "python",
   "nbconvert_exporter": "python",
   "pygments_lexer": "ipython3",
   "version": "3.10.9 (main, Dec 08 2022, 14:49:06) [GCC]"
  },
  "latex_envs": {
   "LaTeX_envs_menu_present": true,
   "autoclose": false,
   "autocomplete": true,
   "bibliofile": "biblio.bib",
   "cite_by": "apalike",
   "current_citInitial": 1,
   "eqLabelWithNumbers": true,
   "eqNumInitial": 1,
   "hotkeys": {
    "equation": "Ctrl-E",
    "itemize": "Ctrl-I"
   },
   "labels_anchors": false,
   "latex_user_defs": false,
   "report_style_numbering": false,
   "user_envs_cfg": false
  },
  "vscode": {
   "interpreter": {
    "hash": "916dbcbb3f70747c44a77c7bcd40155683ae19c65e1c03b4aa3499c5328201f1"
   }
  }
 },
 "nbformat": 4,
 "nbformat_minor": 5
}
