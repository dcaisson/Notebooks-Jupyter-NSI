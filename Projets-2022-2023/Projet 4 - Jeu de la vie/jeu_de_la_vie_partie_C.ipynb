{
 "cells": [
  {
   "cell_type": "markdown",
   "id": "76bc2e6b",
   "metadata": {},
   "source": [
    "<h1 style=\"color:DarkSlateBlue\">Mini-projet &ndash; Le jeu de la vie &ndash; Partie C</h1>"
   ]
  },
  {
   "cell_type": "markdown",
   "id": "18e00879",
   "metadata": {},
   "source": [
    "<h2 style=\"color:CornflowerBlue\">Présentation et règles du jeu</h2>"
   ]
  },
  {
   "cell_type": "markdown",
   "id": "70c68d82",
   "metadata": {},
   "source": [
    "<h3 style=\"color:LightSkyBlue\">Introduction</h3>"
   ]
  },
  {
   "cell_type": "markdown",
   "id": "9cad0212",
   "metadata": {},
   "source": [
    "Le jeu de la vie est un [automate cellulaire](https://fr.wikipedia.org/wiki/Automate_cellulaire), un modèle simple pour représenter l'évolution de cellules placées sur une grille. Chaque cellule de la grille est soit vivante, soit morte.\n",
    "\n",
    "Voici un exemple de grille dans laquelle 4 cellules (en noir) sont vivantes, les autres (en gris) mortes.\n",
    "\n",
    "![premier_exemple](https://github.com/dcaisson/Notebooks-Jupyter-NSI/blob/main/Projets-2022-2023/Projet%204%20-%20Jeu%20de%20la%20vie/premier_exemple.png?raw=true)"
   ]
  },
  {
   "cell_type": "markdown",
   "id": "5ae4efef",
   "metadata": {},
   "source": [
    "<h3 style=\"color:LightSkyBlue\">Règles du jeu</h3>"
   ]
  },
  {
   "cell_type": "markdown",
   "id": "052b08c9",
   "metadata": {},
   "source": [
    "La grille évolue selon deux règles simples de changement d'état pour chaque cellule :"
   ]
  },
  {
   "cell_type": "markdown",
   "id": "f9506984",
   "metadata": {},
   "source": [
    "<h4 style=\"color:MediumPurple\">Règle 1 : une cellule vivante qui possède 2 ou 3 voisines vivantes reste vivante, sinon elle meurt.</h4>\n",
    "\n",
    "&nbsp;&nbsp;&nbsp;&nbsp;&nbsp;*&ndash; Exemple 1 : la cellule centrale (vivante) possède exactement 2 voisines vivantes. À l'étape d'après, elle restera vivante.*\n",
    "\n",
    "![v2v_red](https://github.com/dcaisson/Notebooks-Jupyter-NSI/blob/main/Projets-2022-2023/Projet%204%20-%20Jeu%20de%20la%20vie/v2v_red.png?raw=true)\n",
    "\n",
    "&nbsp;&nbsp;&nbsp;&nbsp;&nbsp;*&ndash; Exemple 2 : la cellule centrale possède exactement 3 voisines vivantes. À l'étape suivante, elle restera vivante.*\n",
    "\n",
    "![v3v](https://github.com/dcaisson/Notebooks-Jupyter-NSI/blob/main/Projets-2022-2023/Projet%204%20-%20Jeu%20de%20la%20vie/v3v.png?raw=true)\n",
    "\n",
    "&nbsp;&nbsp;&nbsp;&nbsp;&nbsp;*&ndash; Exemple 3 : la cellule centrale sera morte à l'étape suivante.*\n",
    "\n",
    "![v4v](https://github.com/dcaisson/Notebooks-Jupyter-NSI/blob/main/Projets-2022-2023/Projet%204%20-%20Jeu%20de%20la%20vie/v4v.png?raw=true)\n",
    "\n",
    "<h4 style=\"color:MediumPurple\">Règle 2 : une cellule morte qui  possède exactement trois cellules vivantes, devient vivante, sinon elle reste morte.</h4>\n",
    "\n",
    "&nbsp;&nbsp;&nbsp;&nbsp;&nbsp;*&ndash; Exemple 4 : la cellule centrale (morte) possède exactement trois voisines vivantes. À l'étape suivante, elle sera vivante.*\n",
    "\n",
    "![m3v](https://github.com/dcaisson/Notebooks-Jupyter-NSI/blob/main/Projets-2022-2023/Projet%204%20-%20Jeu%20de%20la%20vie/m3v.png?raw=true)\n",
    "\n",
    "&nbsp;&nbsp;&nbsp;&nbsp;&nbsp;*&ndash; Exemple 5 : la cellule centrale (morte) possède exactement quatre voisines vivantes. À l'étape suivante, elle restera morte.*\n",
    "\n",
    "![m4v](https://github.com/dcaisson/Notebooks-Jupyter-NSI/blob/main/Projets-2022-2023/Projet%204%20-%20Jeu%20de%20la%20vie/m4v.png?raw=true)"
   ]
  },
  {
   "cell_type": "markdown",
   "id": "7db443f9",
   "metadata": {},
   "source": [
    "<h3 style=\"color:LightSkyBlue\">Une étape</h3>"
   ]
  },
  {
   "cell_type": "markdown",
   "id": "c249abe5",
   "metadata": {},
   "source": [
    "Voici par exemple comment évolue une structure connue sous le nom de &laquo; clignotant &raquo; :\n",
    "\n",
    "![clignotant_evolution](https://github.com/dcaisson/Notebooks-Jupyter-NSI/blob/main/Projets-2022-2023/Projet%204%20-%20Jeu%20de%20la%20vie/clignotant_evolution.png?raw=true)"
   ]
  },
  {
   "cell_type": "markdown",
   "id": "1236cd2a",
   "metadata": {},
   "source": [
    "<h2 style=\"color:CornflowerBlue\">Fichiers <code>*.life</code> et configurations</h2>"
   ]
  },
  {
   "cell_type": "markdown",
   "id": "c974dac0",
   "metadata": {},
   "source": [
    "Dans ce projet, nous utiliserons de simples fichiers texte avec l'extension `life` pour stocker des configurations de grilles. Dans chaque fichier `*.life` :\n",
    "- chaque ligne correspond à une ligne de la grille ;\n",
    "- chaque cellule morte est représentée par le caractère `.` ;\n",
    "- chaque cellule vivante est représentée par le caractère `O` (la lettre O majuscule).\n",
    "\n",
    "Considérons par exemple la grille ci-dessous :\n",
    "\n",
    "![v2v](https://github.com/dcaisson/Notebooks-Jupyter-NSI/blob/main/Projets-2022-2023/Projet%204%20-%20Jeu%20de%20la%20vie/v2v.png?raw=true)\n",
    "\n",
    "Le fichier `*.life` permettant de la stocker est un fichier texte de 5 lignes dont le contenu est le suivant :\n",
    "\n",
    "```text\n",
    ".....\n",
    "..O..\n",
    ".OO..\n",
    ".....\n",
    ".....\n",
    "```"
   ]
  },
  {
   "cell_type": "markdown",
   "id": "94cea019",
   "metadata": {},
   "source": [
    "<h2 style=\"color:CornflowerBlue\">Partie C &ndash; Écriture dans un fichier <code>*.life</code></h2>"
   ]
  },
  {
   "cell_type": "markdown",
   "id": "608e4c52",
   "metadata": {},
   "source": [
    "<h4 style=\"color:MediumPurple\">Convertir une liste de <code>0</code> et de <code>1</code> en une ligne de fichier <code>*.life</code></h4>"
   ]
  },
  {
   "cell_type": "markdown",
   "id": "1a8f129d",
   "metadata": {},
   "source": [
    "<div style=\"color:ForestGreen\">\n",
    "    <p>Écrire une fonction <code>conversion_vers_life</code> qui :\n",
    "        <ul>\n",
    "            <li>prend en paramètre une liste de <code>0</code> et de <code>1</code> ;</li>\n",
    "            <li>renvoie une chaîne de caractères contenant les caractères <code>.</code> (point) et <code>O</code> (lettre <code>O</code> majuscule) où chaque <code>.</code> correspond à un <code>0</code> de la liste et chaque lettre <code>O</code> à un <code>1</code> de la liste.</li>\n",
    "        </ul>\n",
    "    <p>Par exemple, <code>conversion_vers_life([0, 0, 0, 1, 0])</code> renvoie la chaîne de caractères <code>\"...O.\"</code>.</p>\n",
    "</div>"
   ]
  },
  {
   "cell_type": "code",
   "execution_count": 21,
   "id": "1da4c745",
   "metadata": {},
   "outputs": [],
   "source": [
    "#À vous de jouer !\n",
    "def conversion_vers_life(liste):\n",
    "    pass"
   ]
  },
  {
   "cell_type": "code",
   "execution_count": 22,
   "id": "f98d93fd",
   "metadata": {},
   "outputs": [],
   "source": [
    "#tests\n",
    "assert conversion_vers_life([0, 0, 0, 1, 0]) == \"...O.\"\n",
    "assert conversion_vers_life([1, 1, 0, 0]) == \"OO..\""
   ]
  },
  {
   "cell_type": "markdown",
   "id": "22999158",
   "metadata": {},
   "source": [
    "<h4 style=\"color:MediumPurple\">Écrire une liste de listes de <code>0</code> et de <code>1</code> dans un fichier <code>*.life</code></h4>"
   ]
  },
  {
   "cell_type": "markdown",
   "id": "15b77db3",
   "metadata": {},
   "source": [
    "<div style=\"color:ForestGreen\">\n",
    "    <p>Compléter la fonction <code>ecriture</code> qui :\n",
    "      <ul>\n",
    "        <li>prend en paramètres :</li>\n",
    "          <ul>\n",
    "            <li>une liste de listes `configuration`, de `0` et de `1`, correspondant à une grille ;</li>\n",
    "            <li>une chaîne de caractères `fichier` qui est le nom d'un fichier `*.life` ;</li>\n",
    "          </ul>\n",
    "        <li>écrit dans un fichier la configuration de la grille au format `*.life` décrit dans le paragraphe 2.</li>\n",
    "      </ul>\n",
    "    </p>\n",
    "\n",
    "<p>Par exemple, lorsque :</p>\n",
    "\n",
    "<pre><code>\n",
    "configuration = [\n",
    "                    [1, 1, 1],\n",
    "                    [1, 0, 1],\n",
    "                    [1, 1, 1]\n",
    "                ]\n",
    "</code></pre>\n",
    "\n",
    "<code>ecriture(configuration, \"carre.life\")</code> produit un fichier nommé <code>carre.life</code> dont le contenu est le suivant :\n",
    "\n",
    "<pre><code>\n",
    "OOO\n",
    "O.O\n",
    "OOO\n",
    "</code></pre>\n",
    "</div>"
   ]
  },
  {
   "cell_type": "code",
   "execution_count": 23,
   "id": "5fbcb5db",
   "metadata": {},
   "outputs": [],
   "source": [
    "#À vous de jouer !\n",
    "def ecriture(configuration, fichier):\n",
    "    with open(fichier, \"w\") as f:\n",
    "        for liste in ...:\n",
    "            f.write(...+\"\\n\")"
   ]
  },
  {
   "cell_type": "code",
   "execution_count": 24,
   "id": "febfc771",
   "metadata": {},
   "outputs": [],
   "source": [
    "#test (vérifier le fichier produit)\n",
    "carre = [[1, 1, 1], [1, 0, 1], [1, 1, 1]]\n",
    "ecriture(carre, \"carre.life\")"
   ]
  },
  {
   "cell_type": "markdown",
   "id": "9ed9d37e",
   "metadata": {},
   "source": [
    "<p xmlns:dct=\"http://purl.org/dc/terms/\" xmlns:vcard=\"http://www.w3.org/2001/vcard-rdf/3.0#\">\n",
    "  <a rel=\"license\"\n",
    "     href=\"http://creativecommons.org/publicdomain/zero/1.0/\">\n",
    "    <img src=\"https://licensebuttons.net/p/zero/1.0/88x31.png\" style=\"border-style: none;\" alt=\"CC0\" />\n",
    "  </a>\n",
    "  <br />\n",
    "  To the extent possible under law,\n",
    "  <span resource=\"[_:publisher]\" rel=\"dct:publisher\">\n",
    "    <span property=\"dct:title\">David Caisson</span></span>\n",
    "  has waived all copyright and related or neighboring rights to\n",
    "  <span property=\"dct:title\">Découverte du jeu de la vie en première NSI</span>.\n",
    "This work is published from:\n",
    "<span property=\"vcard:Country\" datatype=\"dct:ISO3166\"\n",
    "      content=\"FR\" about=\"[_:publisher]\">\n",
    "  France</span>.\n",
    "</p>"
   ]
  }
 ],
 "metadata": {
  "kernelspec": {
   "display_name": "Python 3",
   "language": "python",
   "name": "python3"
  },
  "language_info": {
   "codemirror_mode": {
    "name": "ipython",
    "version": 3
   },
   "file_extension": ".py",
   "mimetype": "text/x-python",
   "name": "python",
   "nbconvert_exporter": "python",
   "pygments_lexer": "ipython3",
   "version": "3.10.9 (main, Dec 08 2022, 14:49:06) [GCC]"
  },
  "latex_envs": {
   "LaTeX_envs_menu_present": true,
   "autoclose": false,
   "autocomplete": true,
   "bibliofile": "biblio.bib",
   "cite_by": "apalike",
   "current_citInitial": 1,
   "eqLabelWithNumbers": true,
   "eqNumInitial": 1,
   "hotkeys": {
    "equation": "Ctrl-E",
    "itemize": "Ctrl-I"
   },
   "labels_anchors": false,
   "latex_user_defs": false,
   "report_style_numbering": false,
   "user_envs_cfg": false
  },
  "vscode": {
   "interpreter": {
    "hash": "916dbcbb3f70747c44a77c7bcd40155683ae19c65e1c03b4aa3499c5328201f1"
   }
  }
 },
 "nbformat": 4,
 "nbformat_minor": 5
}
