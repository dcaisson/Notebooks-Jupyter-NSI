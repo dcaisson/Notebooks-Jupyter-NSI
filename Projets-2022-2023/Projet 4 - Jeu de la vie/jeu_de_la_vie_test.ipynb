{
 "cells": [
  {
   "cell_type": "markdown",
   "id": "76bc2e6b",
   "metadata": {},
   "source": [
    "<h1 style=\"color:DarkSlateBlue\">Mini-projet &ndash; Le jeu de la vie</h1>"
   ]
  },
  {
   "cell_type": "markdown",
   "id": "b4dcc64f",
   "metadata": {},
   "source": [
    "- Programmation Python\n",
    "    - Lecture/écriture dans un fichier ;\n",
    "    - listes de listes.\n",
    "- Commandes Linux\n",
    "- Écrire une fonction dont les spécifications sont données\n",
    "- Compléter une fonction dont les spécifications sont données\n",
    "- Comprendre une fonction dont le code est fourni"
   ]
  },
  {
   "cell_type": "markdown",
   "id": "18e00879",
   "metadata": {},
   "source": [
    "<h2 style=\"color:CornflowerBlue\">1 Présentation et règles du jeu</h2>"
   ]
  },
  {
   "cell_type": "markdown",
   "id": "70c68d82",
   "metadata": {},
   "source": [
    "<h3 style=\"color:LightSkyBlue\">1.1 Introduction</h3>"
   ]
  },
  {
   "cell_type": "markdown",
   "id": "9cad0212",
   "metadata": {},
   "source": [
    "Le jeu de la vie est un [automate cellulaire](https://fr.wikipedia.org/wiki/Automate_cellulaire), un modèle simple pour représenter l'évolution de cellules placées sur une grille. Chaque cellule de la grille est soit vivante, soit morte.\n",
    "\n",
    "Voici un exemple de grille dans laquelle 4 cellules (en noir) sont vivantes, les autres (en gris) mortes.\n",
    "\n",
    "![grille_0](grille_0.png)"
   ]
  },
  {
   "cell_type": "markdown",
   "id": "5ae4efef",
   "metadata": {},
   "source": [
    "<h3 style=\"color:LightSkyBlue\">1.2 Règles du jeu</h3>"
   ]
  },
  {
   "cell_type": "markdown",
   "id": "052b08c9",
   "metadata": {},
   "source": [
    "La grille évolue selon deux règles simples de changement d'état pour chaque cellule :"
   ]
  },
  {
   "cell_type": "markdown",
   "id": "f9506984",
   "metadata": {},
   "source": [
    "<h4 style=\"color:MediumPurple\">Règle 1 : une cellule vivante qui possède 2 ou 3 voisines vivantes reste vivante, sinon elle meurt.</h4>\n",
    "\n",
    "&nbsp;&nbsp;&nbsp;&nbsp;&nbsp;*&ndash; Exemple 1 : la cellule centrale (vivante) possède exactement 2 voisines vivantes. À l'étape d'après, elle restera vivante.*\n",
    "\n",
    "![grille_A](grille_A.png)\n",
    "\n",
    "&nbsp;&nbsp;&nbsp;&nbsp;&nbsp;*&ndash; Exemple 2 : la cellule centrale possède exactement 3 voisines vivantes. À l'étape suivante, elle restera vivante.*\n",
    "\n",
    "![grille_B](grille_B.png)\n",
    "\n",
    "&nbsp;&nbsp;&nbsp;&nbsp;&nbsp;*&ndash; Exemple 3 : la cellule centrale, qui possède 4 voisines vivantes, sera morte à l'étape suivante.*\n",
    "\n",
    "![grille_C](grille_C.png)\n",
    "\n",
    "<h4 style=\"color:MediumPurple\">Règle 2 : une cellule morte qui  possède exactement trois cellules vivantes, devient vivante, sinon elle reste morte.</h4>\n",
    "\n",
    "&nbsp;&nbsp;&nbsp;&nbsp;&nbsp;*&ndash; Exemple 4 : la cellule centrale (morte) possède exactement trois voisines vivantes. À l'étape suivante, elle sera vivante.*\n",
    "\n",
    "![grille_D](grille_D.png)\n",
    "\n",
    "&nbsp;&nbsp;&nbsp;&nbsp;&nbsp;*&ndash; Exemple 5 : la cellule centrale (morte) possède exactement quatre voisines vivantes. À l'étape suivante, elle restera morte.*\n",
    "\n",
    "![grille_E](grille_E.png)"
   ]
  },
  {
   "cell_type": "markdown",
   "id": "7db443f9",
   "metadata": {},
   "source": [
    "<h3 style=\"color:LightSkyBlue\">1.3 Une étape</h3>"
   ]
  },
  {
   "cell_type": "markdown",
   "id": "c249abe5",
   "metadata": {},
   "source": [
    "Voici par exemple comment évolue une structure connue sous le nom de &laquo; clignotant &raquo; :\n",
    "\n",
    "![clignotant_evolution](clignotant_evolution.png)"
   ]
  },
  {
   "cell_type": "markdown",
   "id": "1236cd2a",
   "metadata": {},
   "source": [
    "<h2 style=\"color:CornflowerBlue\">2 Fichiers <code>*.life</code> et configurations</h2>"
   ]
  },
  {
   "cell_type": "markdown",
   "id": "6810bf2d",
   "metadata": {},
   "source": [
    "<h3 style=\"color:LightSkyBlue\">2.1 Fichiers <code>*.life</code></h3>"
   ]
  },
  {
   "cell_type": "markdown",
   "id": "c974dac0",
   "metadata": {},
   "source": [
    "Dans ce projet, nous utiliserons de simples fichiers texte avec l'extension `life` pour stocker des configurations de grilles. Dans chaque fichier `*.life` :\n",
    "- chaque ligne correspond à une ligne de la grille ;\n",
    "- chaque cellule morte est représentée par le caractère `.` ;\n",
    "- chaque cellule vivante est représentée par le caractère `O` (la lettre O majuscule).\n",
    "\n",
    "Considérons par exemple la configuration ci-dessous :\n",
    "\n",
    "![grille_A](grille_A.png)\n",
    "\n",
    "Le fichier `*.life` permettant de la stocker est un fichier texte de 5 lignes :\n",
    "\n",
    "```text\n",
    ".....\n",
    "..O..\n",
    ".OO..\n",
    ".....\n",
    ".....\n",
    "```"
   ]
  },
  {
   "cell_type": "markdown",
   "id": "5dd19f88",
   "metadata": {},
   "source": [
    "<h3 style=\"color:LightSkyBlue\">2.2 Lecture d'un fichier <code>*.life</code> pour charger une configuration de départ</h3>"
   ]
  },
  {
   "cell_type": "markdown",
   "id": "59875cc1",
   "metadata": {},
   "source": [
    "<h4 style=\"color:MediumPurple\">Convertir une ligne d'un fichier <code>*.life</code> en une liste de <code>0</code> et de <code>1</code></h4>"
   ]
  },
  {
   "cell_type": "markdown",
   "id": "a899544c",
   "metadata": {},
   "source": [
    "Écrire une fonction `conversion` qui :\n",
    "- prend en paramètre une ligne d'un fichier `*.life` (une chaîne de caractères sans le caractère final \"\\n\") ;\n",
    "- renvoie une liste contenant des `0` et des `1` où chaque `0` correspond au caractère `.` et chaque `1` au caractère `O`.\n",
    "\n",
    "Par exemple, `conversion(\"..OO.O\\n\")` renvoie la liste `[0, 0, 1, 1, 0, 1]`."
   ]
  },
  {
   "cell_type": "code",
   "execution_count": 10,
   "id": "ef600cc1",
   "metadata": {},
   "outputs": [],
   "source": [
    "#Attention, ligne se termine par un caractère \"newline\"\n",
    "def conversion(ligne):\n",
    "    tab = []\n",
    "    for caractere in ligne:\n",
    "        if caractere == \".\":\n",
    "            tab.append(0)\n",
    "        if caractere == \"O\":\n",
    "            tab.append(1)\n",
    "    return tab"
   ]
  },
  {
   "cell_type": "code",
   "execution_count": 27,
   "id": "94d58259",
   "metadata": {},
   "outputs": [],
   "source": [
    "assert conversion(\"..OO.O\") == [0, 0, 1, 1, 0, 1]\n",
    "assert conversion(\"..OOO...\") == [0, 0, 1, 1, 1, 0, 0, 0]"
   ]
  },
  {
   "cell_type": "markdown",
   "id": "8985d400",
   "metadata": {},
   "source": [
    "<h4 style=\"color:MediumPurple\">Lecture d'un fichier <code>*.life</code> et récupération d'une liste de listes de <code>0</code> et de <code>1</code></h4>"
   ]
  },
  {
   "cell_type": "markdown",
   "id": "43be5b05",
   "metadata": {},
   "source": [
    "Écrire une fonction `lecture` qui :\n",
    "- prend en paramètre le nom d'un fichier `*.life` (une chaîne de caractères) ;\n",
    "- renvoie une liste de listes où chaque sous-liste correspond à une ligne du fichier `*.life`.\n",
    "\n",
    "Par exemple, si le contenu du fichier `glider.life` est le suivant :\n",
    "\n",
    "```text\n",
    ".O.\n",
    "..O\n",
    "OOO\n",
    "```\n",
    "\n",
    "`lecture(\"glider.life\")` renvoie la liste ci-dessous:\n",
    "\n",
    "```python\n",
    "[\n",
    "    [0, 1, 0],\n",
    "    [0, 0, 1],\n",
    "    [1, 1, 1]\n",
    "]\n",
    "```"
   ]
  },
  {
   "cell_type": "code",
   "execution_count": 12,
   "id": "458e6d71",
   "metadata": {},
   "outputs": [],
   "source": [
    "def lecture(configuration):\n",
    "    grille = []\n",
    "    with open(configuration, \"r\") as c:\n",
    "        for ligne in c:\n",
    "            grille.append(conversion(ligne))\n",
    "    return grille"
   ]
  },
  {
   "cell_type": "markdown",
   "id": "fb2cf291",
   "metadata": {},
   "source": [
    "**Avant d'essayer votre fonction, ne pas oublier de télécharger le fichier `glider.life` et de l'ouvrir dans Basthon !**"
   ]
  },
  {
   "cell_type": "code",
   "execution_count": 13,
   "id": "a59a78c5",
   "metadata": {},
   "outputs": [
    {
     "data": {
      "text/plain": [
       "[[0, 1, 0], [0, 0, 1], [1, 1, 1]]"
      ]
     },
     "execution_count": 13,
     "metadata": {},
     "output_type": "execute_result"
    }
   ],
   "source": [
    "lecture(\"glider.life\")"
   ]
  },
  {
   "cell_type": "code",
   "execution_count": 14,
   "id": "2f637e1d",
   "metadata": {},
   "outputs": [],
   "source": [
    "assert lecture(\"glider.life\") == [\n",
    "    [0, 1, 0],\n",
    "    [0, 0, 1],\n",
    "    [1, 1, 1]\n",
    "]"
   ]
  },
  {
   "cell_type": "markdown",
   "id": "bc446d42",
   "metadata": {},
   "source": [
    "<h2 style=\"color:CornflowerBlue\">3 Nombre de voisins et configuration suivante</h3>"
   ]
  },
  {
   "cell_type": "code",
   "execution_count": 34,
   "id": "9b235003",
   "metadata": {},
   "outputs": [
    {
     "data": {
      "text/html": [
       "<style type=\"text/css\">table.blockgrid {border: none;} .blockgrid tr {border: none;} .blockgrid td {padding: 0px;} #blocks2b7a2d48-88cb-4b05-b950-0d492758b19d td {border: 1px solid white;}</style><table id=\"blocks2b7a2d48-88cb-4b05-b950-0d492758b19d\" class=\"blockgrid\"><tbody><tr><td title=\"Index: [0, 0]&#10;Color: (211, 211, 211)\" style=\"width: 20px; height: 20px;background-color: rgb(211, 211, 211);\"></td><td title=\"Index: [0, 1]&#10;Color: (0, 0, 0)\" style=\"width: 20px; height: 20px;background-color: rgb(0, 0, 0);\"></td><td title=\"Index: [0, 2]&#10;Color: (211, 211, 211)\" style=\"width: 20px; height: 20px;background-color: rgb(211, 211, 211);\"></td></tr><tr><td title=\"Index: [1, 0]&#10;Color: (211, 211, 211)\" style=\"width: 20px; height: 20px;background-color: rgb(211, 211, 211);\"></td><td title=\"Index: [1, 1]&#10;Color: (211, 211, 211)\" style=\"width: 20px; height: 20px;background-color: rgb(211, 211, 211);\"></td><td title=\"Index: [1, 2]&#10;Color: (0, 0, 0)\" style=\"width: 20px; height: 20px;background-color: rgb(0, 0, 0);\"></td></tr><tr><td title=\"Index: [2, 0]&#10;Color: (0, 0, 0)\" style=\"width: 20px; height: 20px;background-color: rgb(0, 0, 0);\"></td><td title=\"Index: [2, 1]&#10;Color: (0, 0, 0)\" style=\"width: 20px; height: 20px;background-color: rgb(0, 0, 0);\"></td><td title=\"Index: [2, 2]&#10;Color: (0, 0, 0)\" style=\"width: 20px; height: 20px;background-color: rgb(0, 0, 0);\"></td></tr></tbody></table>"
      ],
      "text/plain": [
       "<ipythonblocks.ipythonblocks.BlockGrid at 0x7f1a38266200>"
      ]
     },
     "execution_count": 34,
     "metadata": {},
     "output_type": "execute_result"
    }
   ],
   "source": [
    "grille_F = BlockGrid(3, 3, fill=(211, 211, 211))\n",
    "grille_F[0, 1].rgb = noir\n",
    "grille_F[1, 2].rgb = noir\n",
    "grille_F[2, 0].rgb = noir\n",
    "grille_F[2, 1].rgb = noir\n",
    "grille_F[2, 2].rgb = noir\n",
    "grille_F"
   ]
  },
  {
   "cell_type": "code",
   "execution_count": 35,
   "id": "2df52b2e",
   "metadata": {},
   "outputs": [],
   "source": [
    "filename = 'grille_F.png'\n",
    "with open(filename, 'wb') as f:\n",
    "    grille_F._write_image(f, format=filename.split('.')[-1])"
   ]
  },
  {
   "cell_type": "markdown",
   "id": "87761685",
   "metadata": {},
   "source": [
    "Le but de cette partie est de déterminer la configuration suivante d'une grille à partir d'une configuration initiale. Nous représenterons une grille par une liste de listes contenant des `0` et des `1` :\n",
    "- chaque sous-liste correspond à une ligne de la grille ;\n",
    "- chaque `0` correspond à une cellule morte ;\n",
    "- chaque `1` à une cellule vivante.\n",
    "\n",
    "Par exemple, la grille ci-dessous :\n",
    "\n",
    "![grille_F](grille_F.png)\n",
    "\n",
    "sera représentée par la liste de listes :\n",
    "\n",
    "```python\n",
    "[\n",
    "    [0, 1, 0],\n",
    "    [0, 0, 1],\n",
    "    [1, 1, 1]\n",
    "]\n",
    "```"
   ]
  },
  {
   "cell_type": "markdown",
   "id": "ccbb51a4",
   "metadata": {},
   "source": [
    "<h4 style=\"color:MediumPurple\">Détermination de la grille contenant le nombre de voisins</h4>"
   ]
  },
  {
   "cell_type": "markdown",
   "id": "b3ba6672",
   "metadata": {},
   "source": [
    "Compléter la fonction `voisins` ci-dessous qui :\n",
    "- prend en paramètre une grille (une liste de listes contenant des `0` et des `1`) ;\n",
    "- renvoie une grille contenant le nombre de voisins de chaque cellule de la grille.\n",
    "\n",
    "Par exemple, avec :\n",
    "\n",
    "```python\n",
    "grille = [\n",
    "    [0, 0, 0],\n",
    "    [1, 1, 1],\n",
    "    [0, 0, 0]\n",
    "]\n",
    "```\n",
    "\n",
    "`voisins(grille)` renvoie la liste de listes ci-dessous :\n",
    "\n",
    "```python\n",
    "[\n",
    "    [2, 3, 2], \n",
    "    [1, 2, 1], \n",
    "    [2, 3, 2]\n",
    "]\n",
    "```"
   ]
  },
  {
   "cell_type": "code",
   "execution_count": 17,
   "id": "2a088439",
   "metadata": {},
   "outputs": [],
   "source": [
    "def voisins(grille):\n",
    "    lignes = len(grille)\n",
    "    colonnes = len(grille[0])\n",
    "    grille_voisins = [[0 for j in range(colonnes)] for i in range(lignes)]\n",
    "    for i in range(lignes):\n",
    "        for j in range(colonnes):\n",
    "            #coin supérieur gauche\n",
    "            if i == 0 and j == 0:\n",
    "                nb_voisins = grille[0][1] + grille[1][0] + grille[1][1]\n",
    "            #coin supérieur droit\n",
    "            elif i == 0 and j == colonnes - 1:\n",
    "                nb_voisins = grille[0][colonnes-2] + grille[1][colonnes-2] + grille[1][colonnes-1]\n",
    "            #coin inférieur gauche\n",
    "            elif i == lignes - 1 and j == 0:\n",
    "                nb_voisins = grille[lignes-2][0] + grille[lignes-2][1] + grille[lignes-1][1]\n",
    "            #coin inférieur droit\n",
    "            elif i == lignes - 1 and j == colonnes - 1:\n",
    "                nb_voisins = grille[lignes-1][colonnes-2] +  grille[lignes-2][colonnes-2] + grille[lignes-2][colonnes-1]\n",
    "            #bande supérieure\n",
    "            elif i == 0:\n",
    "                nb_voisins = grille[0][j-1] + grille[1][j-1] + grille[1][j] + grille[1][j+1] + grille[0][j+1]\n",
    "            #bande latérale gauche\n",
    "            elif j == 0:\n",
    "                nb_voisins = grille[i-1][0] + grille[i-1][1] + grille[i][1] + grille[i+1][1] + grille[i+1][0]\n",
    "            #bande latérale droite\n",
    "            elif j == colonnes - 1:\n",
    "                nb_voisins = grille[i-1][j] + grille[i-1][j-1] + grille[i][j-1] + grille[i+1][j-1] + grille[i+1][j]\n",
    "            #bande inférieure\n",
    "            elif i == lignes - 1:\n",
    "                nb_voisins = grille[i][j-1] + grille[i-1][j-1] + grille[i-1][j] + grille[i-1][j+1] + grille[i][j+1]\n",
    "            #intérieur\n",
    "            else:\n",
    "                nb_voisins = grille[i-1][j-1] + grille[i-1][j] + grille[i-1][j+1] + grille[i][j+1] + grille[i+1][j+1] + grille[i+1][j] + grille[i+1][j-1] + grille[i][j-1]\n",
    "            grille_voisins[i][j] = nb_voisins\n",
    "    return grille_voisins"
   ]
  },
  {
   "cell_type": "code",
   "execution_count": 18,
   "id": "9d1c09c5",
   "metadata": {},
   "outputs": [
    {
     "data": {
      "text/plain": [
       "[[2, 3, 2], [1, 2, 1], [2, 3, 2]]"
      ]
     },
     "execution_count": 18,
     "metadata": {},
     "output_type": "execute_result"
    }
   ],
   "source": [
    "voisins(lecture(\"clignotant.life\"))"
   ]
  },
  {
   "cell_type": "markdown",
   "id": "cf8ea0e3",
   "metadata": {},
   "source": [
    "<h4 style=\"color:MediumPurple\">Détermination de la grille contenant la configuration suivante</h4>"
   ]
  },
  {
   "cell_type": "markdown",
   "id": "ac7bc83b",
   "metadata": {},
   "source": [
    "Compléter la fonction `suivante` ci-dessous qui :\n",
    "- prend en paramètre une grille (une liste de listes contenant des `0` et des `1`) ;\n",
    "- renvoie la grille correspondant à la configuration suivante.\n",
    "\n",
    "Par exemple, avec :\n",
    "\n",
    "```python\n",
    "grille = [\n",
    "    [0, 0, 0],\n",
    "    [1, 1, 1],\n",
    "    [0, 0, 0]\n",
    "]\n",
    "```\n",
    "\n",
    "`suivante(grille)` renvoie la liste de listes ci-dessous :\n",
    "\n",
    "```python\n",
    "[\n",
    "    [0, 1, 0], \n",
    "    [0, 1, 0], \n",
    "    [0, 1, 0]\n",
    "]\n",
    "```"
   ]
  },
  {
   "cell_type": "code",
   "execution_count": 19,
   "id": "1477603c",
   "metadata": {},
   "outputs": [],
   "source": [
    "def suivante(grille):\n",
    "    lignes = len(grille)\n",
    "    colonnes = len(grille[0])\n",
    "    grille_suivante = [[0 for j in range(colonnes)] for i in range(lignes)]\n",
    "    grille_voisins = voisins(grille)\n",
    "    for i in range(lignes):\n",
    "        for j in range(colonnes):\n",
    "            #règle 1 : une cellule vivante possédant deux ou trois cellules voisines vivantes le reste, sinon elle meurt\n",
    "            if grille[i][j] == 1 and (grille_voisins[i][j] == 2 or grille_voisins[i][j] == 3):\n",
    "                grille_suivante[i][j] = 1\n",
    "            #règle 2 : une cellule morte possédant exactement trois cellules voisines vivantes devient vivante (elle naît)\n",
    "            if grille[i][j] == 0 and grille_voisins[i][j] == 3:\n",
    "                grille_suivante[i][j] = 1\n",
    "    return grille_suivante            "
   ]
  },
  {
   "cell_type": "code",
   "execution_count": 20,
   "id": "9d1137bd",
   "metadata": {},
   "outputs": [],
   "source": [
    "#tests avec le clignotant\n",
    "assert suivante([[0, 0, 0], [1, 1, 1], [0, 0, 0]]) == [[0, 1, 0], [0, 1, 0], [0, 1, 0]]\n",
    "assert suivante([[0, 1, 0], [0, 1, 0], [0, 1, 0]]) == [[0, 0, 0], [1, 1, 1], [0, 0, 0]]"
   ]
  },
  {
   "cell_type": "markdown",
   "id": "94cea019",
   "metadata": {},
   "source": [
    "<h2 style=\"color:CornflowerBlue\">4 Écriture dans un fichier <code>*.life</code></h4>"
   ]
  },
  {
   "cell_type": "markdown",
   "id": "608e4c52",
   "metadata": {},
   "source": [
    "<h4 style=\"color:MediumPurple\">Convertir une liste de <code>0</code> et de <code>1</code> en une ligne de fichier <code>*.life</code></h4>"
   ]
  },
  {
   "cell_type": "markdown",
   "id": "1a8f129d",
   "metadata": {},
   "source": [
    "Écrire une fonction `conversion_vers_life` qui :\n",
    "- prend en paramètre une liste de `0` et de `1` ;\n",
    "- renvoie une chaîne de caractères contenant les caractères `.` (point) et `O` (lettre `O` majuscule) où chaque `.` correspond à un `0` de la liste et chaque lettre `O` à un `1` de la liste.\n",
    "\n",
    "Par exemple, `conversion_vers_life([0, 0, 0, 1, 0])` renvoie la chaîne de caractères `\"...O.\"`."
   ]
  },
  {
   "cell_type": "code",
   "execution_count": 21,
   "id": "1da4c745",
   "metadata": {},
   "outputs": [],
   "source": [
    "def conversion_vers_life(liste):\n",
    "    ligne = \"\"\n",
    "    for c in liste:\n",
    "        if c == 0:\n",
    "            ligne += \".\"\n",
    "        else:\n",
    "            ligne += \"O\"\n",
    "    return ligne"
   ]
  },
  {
   "cell_type": "code",
   "execution_count": 22,
   "id": "f98d93fd",
   "metadata": {},
   "outputs": [],
   "source": [
    "#tests\n",
    "assert conversion_vers_life([0, 0, 0, 1, 0]) == \"...O.\"\n",
    "assert conversion_vers_life([1, 1, 0, 0]) == \"OO..\""
   ]
  },
  {
   "cell_type": "markdown",
   "id": "22999158",
   "metadata": {},
   "source": [
    "<h4 style=\"color:MediumPurple\">Écrire une liste de listes de <code>0</code> et de <code>1</code> dans un fichier <code>*.life</code></h4>"
   ]
  },
  {
   "cell_type": "markdown",
   "id": "15b77db3",
   "metadata": {},
   "source": [
    "Compléter la fonction `ecriture` qui :\n",
    "- prend en paramètres :\n",
    "  - une liste de listes `configuration`, de `0` et de `1`, correspondant à une grille ;\n",
    "  - une chaîne de caractères `fichier` qui est le nom d'un fichier `*.life` ;\n",
    "- écrit dans un fichier la configuration de la grille au format `*.life` décrit dans la partie A.\n",
    "\n",
    "Par exemple, lorsque :\n",
    "\n",
    "```python\n",
    "configuration = [\n",
    "                    [1, 1, 1],\n",
    "                    [1, 0, 1],\n",
    "                    [1, 1, 1]\n",
    "                ]\n",
    "```\n",
    "\n",
    "`ecriture(configuration, \"carre.life\")` produit un fichier nommé `carre.life` dont le contenu est le suivant :\n",
    "\n",
    "```text\n",
    "OOO\n",
    "O.O\n",
    "OOO\n",
    "```"
   ]
  },
  {
   "cell_type": "code",
   "execution_count": 23,
   "id": "5a8b51a8",
   "metadata": {},
   "outputs": [],
   "source": [
    "def ecriture(configuration, fichier):\n",
    "    with open(fichier, \"w\") as f:\n",
    "        for liste in configuration:\n",
    "            f.write(conversion_vers_life(liste)+\"\\n\")"
   ]
  },
  {
   "cell_type": "code",
   "execution_count": 24,
   "id": "febfc771",
   "metadata": {},
   "outputs": [],
   "source": [
    "#test (vérifier le fichier produit)\n",
    "carre = [[1, 1, 1], [1, 0, 1], [1, 1, 1]]\n",
    "ecriture(carre, \"carre.life\")"
   ]
  },
  {
   "cell_type": "markdown",
   "id": "c5e8452b",
   "metadata": {},
   "source": [
    "<h2 style=\"color:CornflowerBlue\">5 Générations de <code>n</code> configurations successives</h4>"
   ]
  },
  {
   "cell_type": "markdown",
   "id": "8f5ece28",
   "metadata": {},
   "source": [
    "<h4 style=\"color:MediumPurple\">On génère <code>n</code> configurations suivant la configuration initiale (total de <code>n+1</code> configurations) et on les écrit toutes dans des fichiers</h4>"
   ]
  },
  {
   "cell_type": "markdown",
   "id": "60b74c3e",
   "metadata": {},
   "source": [
    "Que fait la fonction `generation` ci-dessous ? En particulier, expliquer la ligne 5."
   ]
  },
  {
   "cell_type": "code",
   "execution_count": 25,
   "id": "9649a420",
   "metadata": {},
   "outputs": [],
   "source": [
    "def generation(configuration, n):\n",
    "    #on récupère la grille de la configuration initiale\n",
    "    grille = lecture(configuration)\n",
    "    i = 0\n",
    "    ecriture(grille, f\"{i}.txt\")\n",
    "    for i in range(1, n+1):\n",
    "        grille = suivante(grille)\n",
    "        ecriture(grille, f\"{i}.txt\")"
   ]
  },
  {
   "cell_type": "code",
   "execution_count": 26,
   "id": "503b9c83",
   "metadata": {},
   "outputs": [],
   "source": [
    "#test\n",
    "generation(\"configuration.life\", 100)"
   ]
  }
 ],
 "metadata": {
  "kernelspec": {
   "display_name": "Python 3 (ipykernel)",
   "language": "python",
   "name": "python3"
  },
  "language_info": {
   "codemirror_mode": {
    "name": "ipython",
    "version": 3
   },
   "file_extension": ".py",
   "mimetype": "text/x-python",
   "name": "python",
   "nbconvert_exporter": "python",
   "pygments_lexer": "ipython3",
   "version": "3.10.9"
  },
  "latex_envs": {
   "LaTeX_envs_menu_present": true,
   "autoclose": false,
   "autocomplete": true,
   "bibliofile": "biblio.bib",
   "cite_by": "apalike",
   "current_citInitial": 1,
   "eqLabelWithNumbers": true,
   "eqNumInitial": 1,
   "hotkeys": {
    "equation": "Ctrl-E",
    "itemize": "Ctrl-I"
   },
   "labels_anchors": false,
   "latex_user_defs": false,
   "report_style_numbering": false,
   "user_envs_cfg": false
  }
 },
 "nbformat": 4,
 "nbformat_minor": 5
}
