{
 "cells": [
  {
   "cell_type": "markdown",
   "metadata": {
    "slideshow": {
     "slide_type": "-"
    }
   },
   "source": [
    "# Réunion et jointure de tables"
   ]
  },
  {
   "cell_type": "markdown",
   "metadata": {
    "slideshow": {
     "slide_type": "skip"
    }
   },
   "source": [
    "## Sommaire \n",
    "[**1. Réunion de tables**](#reunion)  \n",
    "[**2. Jointure de tables**](#jointure)  \n",
    "[**3. Synthèse**](#synthese)  "
   ]
  },
  {
   "cell_type": "markdown",
   "id": "further-mobility",
   "metadata": {},
   "source": [
    "Lorsqu'on travaille avec des données (en particulier des données tabulées, c'est-à-dire des données en tables), il est fréquent de se retrouver avec plusieurs jeux de données. Une question que l'on peut se poser naturellement est &laquo; comment combiner ces jeux de données en une seule table ? &raquo;. En effet, une fois ces données combinées en une seule table, il est possible de les filtrer, de les trier, de sélectionner des colonnes etc.\n",
    "\n",
    "Il existe plusieurs façons de &laquo; fusionner &raquo; des données en tables. Selon l'opération qu'on souhaite effectuer, des précautions particulières sont à prendre pour ne pas introduire d'incohérences dans les données."
   ]
  },
  {
   "cell_type": "markdown",
   "metadata": {
    "slideshow": {
     "slide_type": "slide"
    }
   },
   "source": [
    "## 1. Réunion de tables <a id=\"reunion\"></a>\n",
    "Si on dispose de deux tables de données <font style=\"color:red\">avec la même structure</font> (même nombre d'attributs avec noms et domaines de valeurs identiques), il est possible de les fusionner en construisant <font style=\"color:red\">leur réunion</font> : il s'agit simplement de concaténer dans une même table les lignes/enregistrements des deux tables.  \n",
    "\n",
    "L'opérateur ``+`` de concaténation de tableaux permet de réaliser facilement cette opération en Python.\n"
   ]
  },
  {
   "cell_type": "markdown",
   "id": "technological-teacher",
   "metadata": {},
   "source": [
    "<font style=\"color:rgb(113,65,224)\">**Exercice 1**   \n",
    "Essayer par exemple le code suivant.</font>"
   ]
  },
  {
   "cell_type": "code",
   "execution_count": 6,
   "id": "modern-dutch",
   "metadata": {},
   "outputs": [
    {
     "data": {
      "text/plain": [
       "[{'élève': 'Donald', 'note': 18},\n",
       " {'élève': 'Ada', 'note': 20},\n",
       " {'élève': 'Alan', 'note': 19},\n",
       " {'élève': 'Guido', 'note': 12}]"
      ]
     },
     "execution_count": 6,
     "metadata": {},
     "output_type": "execute_result"
    }
   ],
   "source": [
    "premiere1 = [{'élève': 'Donald', 'note': 18}, {'élève': 'Ada', 'note': 20}]\n",
    "premiere2 = [{'élève': 'Alan', 'note': 19}, {'élève': 'Guido', 'note': 12}]\n",
    "reunion_1_et_2 = premiere1 + premiere2\n",
    "reunion_1_et_2"
   ]
  },
  {
   "cell_type": "markdown",
   "id": "expanded-vision",
   "metadata": {},
   "source": [
    "On peut manipuler le résultat obtenu comme table."
   ]
  },
  {
   "cell_type": "markdown",
   "id": "foreign-joining",
   "metadata": {},
   "source": [
    "<font style=\"color:rgb(113,65,224)\">**Exercice 2**   \n",
    "Essayer maintenant le code de la cellule suivante.</font>"
   ]
  },
  {
   "cell_type": "code",
   "execution_count": 7,
   "id": "loaded-police",
   "metadata": {},
   "outputs": [
    {
     "data": {
      "text/plain": [
       "[{'élève': 'Donald', 'note': 18},\n",
       " {'élève': 'Ada', 'note': 20},\n",
       " {'prénom': 'Brian', 'nom': 'Kernighan', 'note': 14},\n",
       " {'prénom': 'Linus', 'nom': 'Torvalds', 'note': 8}]"
      ]
     },
     "execution_count": 7,
     "metadata": {},
     "output_type": "execute_result"
    }
   ],
   "source": [
    "premiere3 = [\n",
    "             {'prénom': 'Brian', 'nom': 'Kernighan', 'note': 14}, \n",
    "             {'prénom': 'Linus', 'nom': 'Torvalds', 'note': 8}\n",
    "            ]\n",
    "\n",
    "reunion_1_et_3 = premiere1 + premiere3\n",
    "reunion_1_et_3"
   ]
  },
  {
   "cell_type": "markdown",
   "id": "confident-ladder",
   "metadata": {},
   "source": [
    "On remarque qu'on ne peut pas manipuler le résultat obtenu comme une table."
   ]
  },
  {
   "cell_type": "markdown",
   "id": "outer-trading",
   "metadata": {},
   "source": [
    "### 2. Jointure de tables <a id=\"jointure\"></a>"
   ]
  },
  {
   "cell_type": "markdown",
   "id": "first-black",
   "metadata": {},
   "source": [
    "Si deux tables <font style=\"color:red\">n'ont pas la même structure (différence sur certains attributs) mais partagent un ou plusieurs attributs</font>, on peut les fusionner en construisant <font style=\"color:red\">leur jointure</font> : on rapproche les enregistrements des deux tables qui ont la même valeur sur le(s) attribut(s) commun(s).\n",
    "\n",
    "Par exemple, on peut construire la jointure des deux tables ci-dessous :\n",
    "\n",
    "|      nom     |  prénom  |   pseudo  |\n",
    "|:------------:|:--------:|:---------:|\n",
    "|    'knuth'   | 'donald' | 'knuth69' |\n",
    "| 'van rossum' |  'guido' | 'guido42' |  \n",
    "\n",
    "|   pseudo  | points |\n",
    "|:---------:|:------:|\n",
    "| 'knuth69' |   120  |\n",
    "| 'guido42' |   10   |\n",
    "\n",
    "On obtient alors la table suivante :\n",
    "\n",
    "|      nom     |  prénom  |   pseudo  | points |\n",
    "|:------------:|:--------:|:---------:|:------:|\n",
    "|    'knuth'   | 'donald' | 'knuth69' |   120  |\n",
    "| 'van rossum' |  'guido' | 'guido42' |   10   |"
   ]
  },
  {
   "cell_type": "markdown",
   "id": "administrative-rocket",
   "metadata": {},
   "source": [
    "<font style=\"color:rgb(113,65,224)\">**Exercice 3**</font>"
   ]
  },
  {
   "cell_type": "markdown",
   "id": "modular-empire",
   "metadata": {},
   "source": [
    "<font style=\"color:rgb(113,65,224)\">1. Le fichier ``films.csv`` recense les films détenus en DVD par un cinéphile, et le fichier ``realisateurs.csv`` recense des informations sur les réalistaeurs des films de ``films.csv``. Les tables sont séparées pour éviter les redondances car un même réalisateur peut avoir tourné plusieurs films.  \n",
    " \n",
    "Charger les deux tables dans les variables `films` et `realisateurs` puis afficher les 5 premières lignes de ces 2 fichiers.</font>"
   ]
  },
  {
   "cell_type": "code",
   "execution_count": 8,
   "metadata": {},
   "outputs": [
    {
     "name": "stdout",
     "output_type": "stream",
     "text": [
      "{'titre': 'La  vie est belle', 'réalisateur': 'Capra', 'année': '1946'}\n",
      "{'nom': 'Coppola', 'prénom': 'Sofia', 'pays': 'USA'}\n"
     ]
    }
   ],
   "source": [
    "# À vous de jouer !\n",
    "import csv\n",
    "\n",
    "with open('data/films.csv', 'r') as f:\n",
    "    films = list(csv.DictReader(f))\n",
    "\n",
    "with open('data/realisateurs.csv', 'r') as r:\n",
    "    realisateurs = list(csv.DictReader(r))\n",
    "    \n",
    "print(films[0])\n",
    "print(realisateurs[0])"
   ]
  },
  {
   "cell_type": "markdown",
   "id": "forbidden-occasion",
   "metadata": {},
   "source": [
    "<font style=\"color:rgb(113,65,224)\">2. On veut fusionner les tables ``films.csv`` et ``realisateurs.csv`` par jointure sur l'attribut ``'nom'`` du réalisateur. Compléter le code ci-dessous :\n",
    "</font>"
   ]
  },
  {
   "cell_type": "code",
   "execution_count": 9,
   "id": "growing-approval",
   "metadata": {},
   "outputs": [],
   "source": [
    "# À vous de jouer !\n",
    "def fusion_enregistrement(f, r):\n",
    "    return {'titre': f['titre'], 'année': f['année'],\n",
    "            'nom réalisateur': r['nom'], \n",
    "            'prénom réalisateur': r['prénom'],\n",
    "            'pays réalisateur': r['pays']\n",
    "           }\n",
    "\n",
    "\n",
    "def fusion_tables(films, realisateurs):\n",
    "    fusion = []\n",
    "    for f in films:\n",
    "        for r in realisateurs:\n",
    "            if f['réalisateur'] == r['nom']:\n",
    "                fusion.append(fusion_enregistrement(f, r))\n",
    "    return fusion"
   ]
  },
  {
   "cell_type": "code",
   "execution_count": 10,
   "id": "expected-editor",
   "metadata": {},
   "outputs": [
    {
     "data": {
      "text/plain": [
       "[{'titre': 'La  vie est belle',\n",
       "  'année': '1946',\n",
       "  'nom réalisateur': 'Capra',\n",
       "  'prénom réalisateur': 'Frank',\n",
       "  'pays réalisateur': 'USA'},\n",
       " {'titre': 'La  vie est belle',\n",
       "  'année': '1997',\n",
       "  'nom réalisateur': 'Benigni',\n",
       "  'prénom réalisateur': 'Roberto',\n",
       "  'pays réalisateur': 'Italie'},\n",
       " {'titre': 'Beau-père',\n",
       "  'année': '1981',\n",
       "  'nom réalisateur': 'Blier',\n",
       "  'prénom réalisateur': 'Bertrand',\n",
       "  'pays réalisateur': 'France'},\n",
       " {'titre': 'Marche à l’ombre',\n",
       "  'année': '1984',\n",
       "  'nom réalisateur': 'Blanc',\n",
       "  'prénom réalisateur': 'Michel',\n",
       "  'pays réalisateur': 'France'},\n",
       " {'titre': 'Harry Potter à l’école des sorciers',\n",
       "  'année': '2001',\n",
       "  'nom réalisateur': 'Colombus',\n",
       "  'prénom réalisateur': 'Cris',\n",
       "  'pays réalisateur': 'USA'},\n",
       " {'titre': 'Mystic River',\n",
       "  'année': '2003',\n",
       "  'nom réalisateur': 'Eastwood',\n",
       "  'prénom réalisateur': 'Clint',\n",
       "  'pays réalisateur': 'USA'},\n",
       " {'titre': 'L’horloger de Saint-Paul',\n",
       "  'année': '1974',\n",
       "  'nom réalisateur': 'Tavernier',\n",
       "  'prénom réalisateur': 'Bertrand',\n",
       "  'pays réalisateur': 'France'},\n",
       " {'titre': 'L’esquive',\n",
       "  'année': '2002',\n",
       "  'nom réalisateur': 'Kechiche',\n",
       "  'prénom réalisateur': 'Abdellatif',\n",
       "  'pays réalisateur': 'France'},\n",
       " {'titre': 'Lost in translation',\n",
       "  'année': '2003',\n",
       "  'nom réalisateur': 'Coppola',\n",
       "  'prénom réalisateur': 'Sofia',\n",
       "  'pays réalisateur': 'USA'},\n",
       " {'titre': 'Lost in translation',\n",
       "  'année': '2003',\n",
       "  'nom réalisateur': 'Coppola',\n",
       "  'prénom réalisateur': 'Francis Ford',\n",
       "  'pays réalisateur': 'USA'},\n",
       " {'titre': 'Lost in translation',\n",
       "  'année': '2003',\n",
       "  'nom réalisateur': 'Coppola',\n",
       "  'prénom réalisateur': 'Roman',\n",
       "  'pays réalisateur': 'USA'},\n",
       " {'titre': 'L’amour en fuite',\n",
       "  'année': '1979',\n",
       "  'nom réalisateur': 'Truffaut',\n",
       "  'prénom réalisateur': 'François',\n",
       "  'pays réalisateur': 'France'},\n",
       " {'titre': 'Domicile conjugal',\n",
       "  'année': '1970',\n",
       "  'nom réalisateur': 'Truffaut',\n",
       "  'prénom réalisateur': 'François',\n",
       "  'pays réalisateur': 'France'},\n",
       " {'titre': 'Mauvaise graine',\n",
       "  'année': '1934',\n",
       "  'nom réalisateur': 'Wilder',\n",
       "  'prénom réalisateur': 'Billy',\n",
       "  'pays réalisateur': 'USA'},\n",
       " {'titre': 'Uniformes et jupons courts',\n",
       "  'année': '1942',\n",
       "  'nom réalisateur': 'Wilder',\n",
       "  'prénom réalisateur': 'Billy',\n",
       "  'pays réalisateur': 'USA'},\n",
       " {'titre': 'Les cinq secrets du désert',\n",
       "  'année': '1943',\n",
       "  'nom réalisateur': 'Wilder',\n",
       "  'prénom réalisateur': 'Billy',\n",
       "  'pays réalisateur': 'USA'},\n",
       " {'titre': 'Le poison',\n",
       "  'année': '1945',\n",
       "  'nom réalisateur': 'Wilder',\n",
       "  'prénom réalisateur': 'Billy',\n",
       "  'pays réalisateur': 'USA'},\n",
       " {'titre': 'La scandaleuse de Berlin',\n",
       "  'année': '1948',\n",
       "  'nom réalisateur': 'Wilder',\n",
       "  'prénom réalisateur': 'Billy',\n",
       "  'pays réalisateur': 'USA'},\n",
       " {'titre': 'Certains l’aiment chaud',\n",
       "  'année': '1959',\n",
       "  'nom réalisateur': 'Wilder',\n",
       "  'prénom réalisateur': 'Billy',\n",
       "  'pays réalisateur': 'USA'},\n",
       " {'titre': 'La vie privée de Sherlock Holmes',\n",
       "  'année': '1970',\n",
       "  'nom réalisateur': 'Wilder',\n",
       "  'prénom réalisateur': 'Billy',\n",
       "  'pays réalisateur': 'USA'},\n",
       " {'titre': 'Traffic',\n",
       "  'année': '2000',\n",
       "  'nom réalisateur': 'Soderbergh',\n",
       "  'prénom réalisateur': 'Steven',\n",
       "  'pays réalisateur': 'USA'},\n",
       " {'titre': 'La vie est à nous ',\n",
       "  'année': '1936',\n",
       "  'nom réalisateur': 'Renoir',\n",
       "  'prénom réalisateur': 'Jean',\n",
       "  'pays réalisateur': 'France'},\n",
       " {'titre': 'La grande illusion',\n",
       "  'année': '1937',\n",
       "  'nom réalisateur': 'Renoir',\n",
       "  'prénom réalisateur': 'Jean',\n",
       "  'pays réalisateur': 'France'},\n",
       " {'titre': 'Solaris',\n",
       "  'année': '2002',\n",
       "  'nom réalisateur': 'Soderbergh',\n",
       "  'prénom réalisateur': 'Steven',\n",
       "  'pays réalisateur': 'USA'},\n",
       " {'titre': 'Solaris',\n",
       "  'année': '1972',\n",
       "  'nom réalisateur': 'Tarkovski',\n",
       "  'prénom réalisateur': 'Andrei',\n",
       "  'pays réalisateur': 'Russie'},\n",
       " {'titre': 'Psychose',\n",
       "  'année': '1960',\n",
       "  'nom réalisateur': 'Hitchcock',\n",
       "  'prénom réalisateur': 'Alfred',\n",
       "  'pays réalisateur': 'Angleterre'},\n",
       " {'titre': 'Psychose',\n",
       "  'année': '1998',\n",
       "  'nom réalisateur': 'Van Sant',\n",
       "  'prénom réalisateur': 'Gus',\n",
       "  'pays réalisateur': 'USA'},\n",
       " {'titre': 'Sabrina',\n",
       "  'année': '1954',\n",
       "  'nom réalisateur': 'Wilder',\n",
       "  'prénom réalisateur': 'Billy',\n",
       "  'pays réalisateur': 'USA'},\n",
       " {'titre': 'Sabrina',\n",
       "  'année': '1995',\n",
       "  'nom réalisateur': 'Pollack',\n",
       "  'prénom réalisateur': 'Sydney',\n",
       "  'pays réalisateur': 'USA'},\n",
       " {'titre': 'L’homme qui en savait trop',\n",
       "  'année': '1956',\n",
       "  'nom réalisateur': 'Hitchcock',\n",
       "  'prénom réalisateur': 'Alfred',\n",
       "  'pays réalisateur': 'Angleterre'},\n",
       " {'titre': 'L’homme qui en savait trop',\n",
       "  'année': '1934',\n",
       "  'nom réalisateur': 'Hitchcock',\n",
       "  'prénom réalisateur': 'Alfred',\n",
       "  'pays réalisateur': 'Angleterre'},\n",
       " {'titre': 'Blade Runner',\n",
       "  'année': '1982',\n",
       "  'nom réalisateur': 'Scott',\n",
       "  'prénom réalisateur': 'Tony',\n",
       "  'pays réalisateur': 'Angleterre'},\n",
       " {'titre': 'Blade Runner',\n",
       "  'année': '1982',\n",
       "  'nom réalisateur': 'Scott',\n",
       "  'prénom réalisateur': 'Ridley',\n",
       "  'pays réalisateur': 'Angleterre'},\n",
       " {'titre': 'Top Gun',\n",
       "  'année': '1986',\n",
       "  'nom réalisateur': 'Scott',\n",
       "  'prénom réalisateur': 'Tony',\n",
       "  'pays réalisateur': 'Angleterre'},\n",
       " {'titre': 'Top Gun',\n",
       "  'année': '1986',\n",
       "  'nom réalisateur': 'Scott',\n",
       "  'prénom réalisateur': 'Ridley',\n",
       "  'pays réalisateur': 'Angleterre'},\n",
       " {'titre': 'CQ',\n",
       "  'année': '2001',\n",
       "  'nom réalisateur': 'Coppola',\n",
       "  'prénom réalisateur': 'Sofia',\n",
       "  'pays réalisateur': 'USA'},\n",
       " {'titre': 'CQ',\n",
       "  'année': '2001',\n",
       "  'nom réalisateur': 'Coppola',\n",
       "  'prénom réalisateur': 'Francis Ford',\n",
       "  'pays réalisateur': 'USA'},\n",
       " {'titre': 'CQ',\n",
       "  'année': '2001',\n",
       "  'nom réalisateur': 'Coppola',\n",
       "  'prénom réalisateur': 'Roman',\n",
       "  'pays réalisateur': 'USA'},\n",
       " {'titre': 'Apocalypse Now',\n",
       "  'année': '1979',\n",
       "  'nom réalisateur': 'Coppola',\n",
       "  'prénom réalisateur': 'Sofia',\n",
       "  'pays réalisateur': 'USA'},\n",
       " {'titre': 'Apocalypse Now',\n",
       "  'année': '1979',\n",
       "  'nom réalisateur': 'Coppola',\n",
       "  'prénom réalisateur': 'Francis Ford',\n",
       "  'pays réalisateur': 'USA'},\n",
       " {'titre': 'Apocalypse Now',\n",
       "  'année': '1979',\n",
       "  'nom réalisateur': 'Coppola',\n",
       "  'prénom réalisateur': 'Roman',\n",
       "  'pays réalisateur': 'USA'},\n",
       " {'titre': 'Le parrain 1',\n",
       "  'année': '1972',\n",
       "  'nom réalisateur': 'Coppola',\n",
       "  'prénom réalisateur': 'Sofia',\n",
       "  'pays réalisateur': 'USA'},\n",
       " {'titre': 'Le parrain 1',\n",
       "  'année': '1972',\n",
       "  'nom réalisateur': 'Coppola',\n",
       "  'prénom réalisateur': 'Francis Ford',\n",
       "  'pays réalisateur': 'USA'},\n",
       " {'titre': 'Le parrain 1',\n",
       "  'année': '1972',\n",
       "  'nom réalisateur': 'Coppola',\n",
       "  'prénom réalisateur': 'Roman',\n",
       "  'pays réalisateur': 'USA'}]"
      ]
     },
     "execution_count": 10,
     "metadata": {},
     "output_type": "execute_result"
    }
   ],
   "source": [
    "# À essayer\n",
    "jointure = fusion_tables(films, realisateurs)\n",
    "jointure"
   ]
  },
  {
   "cell_type": "markdown",
   "id": "cardiovascular-essence",
   "metadata": {},
   "source": [
    "<font style=\"color:rgb(113,65,224)\">3. Exécuter les instructions ci-dessous. Quelle incohérence peut-on observer ? Explication ?\n",
    "</font>"
   ]
  },
  {
   "cell_type": "code",
   "execution_count": 11,
   "id": "incorporated-virus",
   "metadata": {},
   "outputs": [
    {
     "name": "stdout",
     "output_type": "stream",
     "text": [
      "[{'titre': 'CQ', 'année': '2001', 'nom réalisateur': 'Coppola', 'prénom réalisateur': 'Sofia', 'pays réalisateur': 'USA'}, {'titre': 'CQ', 'année': '2001', 'nom réalisateur': 'Coppola', 'prénom réalisateur': 'Francis Ford', 'pays réalisateur': 'USA'}, {'titre': 'CQ', 'année': '2001', 'nom réalisateur': 'Coppola', 'prénom réalisateur': 'Roman', 'pays réalisateur': 'USA'}]\n",
      "44 36\n"
     ]
    }
   ],
   "source": [
    "print([enreg for enreg in jointure if enreg['titre'] == 'CQ'])\n",
    "print(len(jointure), len(films))"
   ]
  },
  {
   "cell_type": "markdown",
   "id": "minimal-calendar",
   "metadata": {},
   "source": [
    "<font style=\"color:rgb(113,65,224)\">4. Exécuter les instructions ci-dessous. Quelle incohérence peut-on observer ? Explication ?\n",
    "</font>"
   ]
  },
  {
   "cell_type": "code",
   "execution_count": 12,
   "id": "verbal-telephone",
   "metadata": {
    "scrolled": true
   },
   "outputs": [
    {
     "name": "stdout",
     "output_type": "stream",
     "text": [
      "[{'titre': 'Autant en emporte le vent', 'réalisateur': 'Flemming', 'année': '1939'}]\n",
      "[]\n"
     ]
    }
   ],
   "source": [
    "print([enreg for enreg in films if enreg['titre'] == 'Autant en emporte le vent'])\n",
    "print([enreg for enreg in jointure if enreg['titre'] == 'Autant en emporte le vent'])"
   ]
  },
  {
   "cell_type": "markdown",
   "id": "light-philippines",
   "metadata": {},
   "source": [
    "<font style=\"color:rgb(113,65,224)\">5. Ouvrir les fichiers ``films_idr.csv`` et ``realisateurs_id.csv``. On a rajouté dans le fichier des réalisateurs un identifiant unique (le numéro de l'enregistrement) qu'on a reporté dans le fichier des films à la place du nom du réalisateur.\n",
    "    \n",
    "Compléter le code ci-dessous pour réaliser la fusion par jointure des tables ``films_idr.csv`` et ``realisateurs_id.csv``.\n",
    "</font>"
   ]
  },
  {
   "cell_type": "code",
   "execution_count": 15,
   "id": "painted-skiing",
   "metadata": {},
   "outputs": [
    {
     "name": "stdout",
     "output_type": "stream",
     "text": [
      "36\n",
      "36\n"
     ]
    }
   ],
   "source": [
    "# À vous de jouer\n",
    "import csv\n",
    "\n",
    "\n",
    "with open('data/films_idr.csv', 'r') as f:\n",
    "    films_idr = list(csv.DictReader(f))\n",
    "\n",
    "with open('data/realisateurs_id.csv', 'r') as r:\n",
    "    realisateurs_id = list(csv.DictReader(r))\n",
    "\n",
    "\n",
    "def fusion_tables_id(films, realisateurs):\n",
    "    fusion = []\n",
    "    for f in films:\n",
    "        for r in realisateurs:\n",
    "            if f['idr'] == r['id']:\n",
    "                fusion.append(fusion_enregistrement(f, r))  \n",
    "    return fusion\n",
    "\n",
    "\n",
    "jointure_id = fusion_tables_id(films_idr, realisateurs_id)\n",
    "jointure_id\n",
    "\n",
    "print(len(jointure_id))\n",
    "print(len(films))"
   ]
  },
  {
   "cell_type": "markdown",
   "id": "adult-massage",
   "metadata": {},
   "source": [
    "<font style=\"color:rgb(113,65,224)\">6. Les incohérences repérées dans les questions précédentes sont-elles toujours présentes ? Quels sont les avantages de l'identifiant unique ?\n",
    "</font>"
   ]
  },
  {
   "cell_type": "markdown",
   "id": "brazilian-university",
   "metadata": {},
   "source": [
    "*Répondre ici*"
   ]
  },
  {
   "cell_type": "markdown",
   "id": "photographic-vegetation",
   "metadata": {},
   "source": [
    "### 3. Synthèse <a id=\"synthese\"></a>\n",
    "La fusion de tables peut se faire de plusieurs façons. \n",
    "- Si les tables ont <font style=\"color:red\">les mêmes attributs</font> alors on peut les concaténer (il s'agit de <font style=\"color:red\">la réunion</font>). \n",
    "- Sinon, si les tables ont <font style=\"color:red\">un ou plusieurs attributs communs</font>, on peut réaliser <font style=\"color:red\">une jointure</font> qui rapproche les enregistrements qui ont les mêmes valeurs sur les attributs partagés.\n",
    "\n",
    "\n",
    "Avec les bases de données, étudiées en terminale, des opérations de jointure permettront de créer de nouvelles tables pour rassembler des informations issues de plusieurs tables."
   ]
  }
 ],
 "metadata": {
  "kernelspec": {
   "display_name": "Python 3.9.13 64-bit",
   "language": "python",
   "name": "python3"
  },
  "language_info": {
   "codemirror_mode": {
    "name": "ipython",
    "version": 3
   },
   "file_extension": ".py",
   "mimetype": "text/x-python",
   "name": "python",
   "nbconvert_exporter": "python",
   "pygments_lexer": "ipython3",
   "version": "3.9.13"
  },
  "latex_envs": {
   "LaTeX_envs_menu_present": true,
   "autoclose": false,
   "autocomplete": true,
   "bibliofile": "biblio.bib",
   "cite_by": "apalike",
   "current_citInitial": 1,
   "eqLabelWithNumbers": true,
   "eqNumInitial": 1,
   "hotkeys": {
    "equation": "Ctrl-E",
    "itemize": "Ctrl-I"
   },
   "labels_anchors": false,
   "latex_user_defs": false,
   "report_style_numbering": false,
   "user_envs_cfg": false
  },
  "rise": {
   "scroll": true
  },
  "vscode": {
   "interpreter": {
    "hash": "f9f85f796d01129d0dd105a088854619f454435301f6ffec2fea96ecbd9be4ac"
   }
  }
 },
 "nbformat": 4,
 "nbformat_minor": 2
}
