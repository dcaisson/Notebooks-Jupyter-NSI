{
 "cells": [
  {
   "cell_type": "markdown",
   "metadata": {
    "slideshow": {
     "slide_type": "-"
    }
   },
   "source": [
    "# Manipuler des fichiers CSV"
   ]
  },
  {
   "cell_type": "markdown",
   "metadata": {
    "slideshow": {
     "slide_type": "skip"
    }
   },
   "source": [
    "## Sommaire \n",
    "[**1. Recherche dans une table**](#recherche)  \n",
    "[**2. Tri d'une table**](#tri)  \n",
    "&nbsp;&nbsp;&nbsp;&nbsp;[2.1 Un exemple](#exemple)  \n",
    "&nbsp;&nbsp;&nbsp;&nbsp;[2.2 Extraction de données particulières](#extraction-donnees-particulieres)  "
   ]
  },
  {
   "cell_type": "markdown",
   "metadata": {
    "slideshow": {
     "slide_type": "slide"
    }
   },
   "source": [
    "## 1. Recherche dans une table <a id=\"recherche\"></a>\n",
    "\n",
    "On reprend le fichier `top14.csv` du notebook de la partie précédente. Stocker dans une variable `joueurs` les renseignements de tous les joueurs présents dans ce fichier CSV."
   ]
  },
  {
   "cell_type": "code",
   "execution_count": null,
   "metadata": {},
   "outputs": [],
   "source": [
    "# À vous de jouer !"
   ]
  },
  {
   "cell_type": "markdown",
   "metadata": {},
   "source": [
    "<font style=\"color:rgb(113,65,224)\">**Exercice 1**    \n",
    "Écrire une fonction `joueurs_equipe(equipe)` qui prend en paramètre une équipe (sous forme de chaîne de caractères) et renvoie la liste des joueurs (une liste de dictionnaires) de cette équipe.</font>"
   ]
  },
  {
   "cell_type": "code",
   "execution_count": null,
   "metadata": {},
   "outputs": [],
   "source": [
    "# À vous de jouer !\n",
    "def joueurs_equipe(equipe):\n",
    "    pass"
   ]
  },
  {
   "cell_type": "markdown",
   "metadata": {},
   "source": [
    "<font style=\"color:rgb(113,65,224)\">**Exercice 2**    \n",
    "Écrire une fonction `joueurs_poste(poste)` qui prend en paramètre un poste (sous forme de chaîne de caractères) et renvoie la liste des joueurs (une liste de dictionnaires) ayant ce poste.</font>"
   ]
  },
  {
   "cell_type": "code",
   "execution_count": null,
   "metadata": {},
   "outputs": [],
   "source": [
    "# À vous de jouer !\n",
    "def joueurs_poste(poste):\n",
    "    pass"
   ]
  },
  {
   "cell_type": "markdown",
   "metadata": {},
   "source": [
    "## 2. Tri d'une table<a id=\"tri\"></a>\n",
    "\n",
    "Comment classer les joueurs suivant leur taille ? Nous avons vu comment trier des listes de nombres mais nous souhaitons maintenant trier des listes de dictionnaires (des listes de joueurs)."
   ]
  },
  {
   "cell_type": "markdown",
   "metadata": {},
   "source": [
    "### 2.1 Un exemple<a id=\"exemple\"></a>\n",
    "\n",
    "Voyons comment trier une liste de dictionnaires. On considère la liste de dictionnaires ci-dessous et on souhaite la &laquo; trier par âge croissant &raquo; :"
   ]
  },
  {
   "cell_type": "code",
   "execution_count": null,
   "metadata": {},
   "outputs": [],
   "source": [
    "simpsons = [{\"Prenom\" : \"Bart\", \"âge estimé\": 10},\n",
    "            {\"Prenom\" : \"Lisa\", \"âge estimé\": 8},\n",
    "            {\"Prenom\" : \"Maggie\", \"âge estimé\": 1},\n",
    "            {\"Prenom\" : \"Homer\", \"âge estimé\": 38},\n",
    "            {\"Prenom\" : \"Marge\", \"âge estimé\": 37}]\n"
   ]
  },
  {
   "cell_type": "markdown",
   "metadata": {},
   "source": [
    "Puisque le critère de tri est l'âge estimé, nous allons commencer par écrire une fonction qui prend en paramètre un dictionnaire (représentant un membre de la famille Simpson) et qui renvoie son âge estimé. Compléter la fonction ci-dessous :"
   ]
  },
  {
   "cell_type": "code",
   "execution_count": null,
   "metadata": {},
   "outputs": [],
   "source": [
    "# À vous de jouer !\n",
    "def age(personnage):\n",
    "    pass"
   ]
  },
  {
   "cell_type": "markdown",
   "metadata": {},
   "source": [
    "Il suffit ensuite d'utiliser `sort()` ou `sorted()` avec un paramètre supplémentaire qui est la fonction précédente :"
   ]
  },
  {
   "cell_type": "code",
   "execution_count": null,
   "metadata": {},
   "outputs": [],
   "source": [
    "# À vous de jouer !\n",
    "# sorted(simpsons, key=age) ou simpsons.sort(key=age)"
   ]
  },
  {
   "cell_type": "markdown",
   "metadata": {},
   "source": [
    "Pour trier la liste par &laquo; âge estimé décroissant &raquo;, on ajoute un second paramètre `reverse=True` :"
   ]
  },
  {
   "cell_type": "code",
   "execution_count": null,
   "metadata": {},
   "outputs": [],
   "source": [
    "# À vous de jouer !\n",
    "# sorted(simpsons, key=age, reverse=True) ou simpsons.sort(key=age, reverse=True)"
   ]
  },
  {
   "cell_type": "markdown",
   "metadata": {},
   "source": [
    "### 2.2 Extraction de données particulières<a id=\"extraction-donnees-particulieres\"></a>  "
   ]
  },
  {
   "cell_type": "markdown",
   "metadata": {},
   "source": [
    "1. Trier les joueurs du Top14 par taille.\n"
   ]
  },
  {
   "cell_type": "code",
   "execution_count": null,
   "metadata": {},
   "outputs": [],
   "source": [
    "# À vous de jouer !"
   ]
  },
  {
   "cell_type": "markdown",
   "metadata": {},
   "source": [
    "2. Déterminer le deuxième joueur (du Top14) le plus grand.\n"
   ]
  },
  {
   "cell_type": "code",
   "execution_count": null,
   "metadata": {},
   "outputs": [],
   "source": [
    "# À vous de jouer !"
   ]
  },
  {
   "cell_type": "markdown",
   "metadata": {},
   "source": [
    "3. Trier les joueurs de Bordeaux par taille.\n"
   ]
  },
  {
   "cell_type": "code",
   "execution_count": null,
   "metadata": {},
   "outputs": [],
   "source": [
    "# À vous de jouer !"
   ]
  },
  {
   "cell_type": "markdown",
   "metadata": {},
   "source": [
    "4. Trier les joueurs de Bordeaux suivant leur [IMC](https://fr.wikipedia.org/wiki/Indice_de_masse_corporelle).\n",
    "</font>\n"
   ]
  },
  {
   "cell_type": "code",
   "execution_count": null,
   "metadata": {},
   "outputs": [],
   "source": [
    "# À vous de jouer !"
   ]
  }
 ],
 "metadata": {
  "kernelspec": {
   "display_name": "Python 3.9.13 64-bit",
   "language": "python",
   "name": "python3"
  },
  "language_info": {
   "codemirror_mode": {
    "name": "ipython",
    "version": 3
   },
   "file_extension": ".py",
   "mimetype": "text/x-python",
   "name": "python",
   "nbconvert_exporter": "python",
   "pygments_lexer": "ipython3",
   "version": "3.9.13"
  },
  "latex_envs": {
   "LaTeX_envs_menu_present": true,
   "autoclose": false,
   "autocomplete": true,
   "bibliofile": "biblio.bib",
   "cite_by": "apalike",
   "current_citInitial": 1,
   "eqLabelWithNumbers": true,
   "eqNumInitial": 1,
   "hotkeys": {
    "equation": "Ctrl-E",
    "itemize": "Ctrl-I"
   },
   "labels_anchors": false,
   "latex_user_defs": false,
   "report_style_numbering": false,
   "user_envs_cfg": false
  },
  "rise": {
   "scroll": true
  },
  "vscode": {
   "interpreter": {
    "hash": "f9f85f796d01129d0dd105a088854619f454435301f6ffec2fea96ecbd9be4ac"
   }
  }
 },
 "nbformat": 4,
 "nbformat_minor": 2
}
