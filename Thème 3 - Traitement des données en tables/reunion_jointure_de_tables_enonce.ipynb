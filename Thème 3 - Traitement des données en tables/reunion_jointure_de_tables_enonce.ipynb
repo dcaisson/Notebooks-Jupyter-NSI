{
 "cells": [
  {
   "cell_type": "markdown",
   "metadata": {
    "slideshow": {
     "slide_type": "-"
    }
   },
   "source": [
    "# Réunion et jointure de tables"
   ]
  },
  {
   "cell_type": "markdown",
   "metadata": {
    "slideshow": {
     "slide_type": "skip"
    }
   },
   "source": [
    "## Sommaire \n",
    "[**1. Réunion de tables**](#reunion)  \n",
    "[**2. Jointure de tables**](#jointure)  \n",
    "[**3. Synthèse**](#synthese)  "
   ]
  },
  {
   "cell_type": "markdown",
   "id": "further-mobility",
   "metadata": {},
   "source": [
    "Lorsqu'on travaille avec des données (en particulier des données tabulées, c'est-à-dire des données en tables), il est fréquent de se retrouver avec plusieurs jeux de données. Une question que l'on peut se poser naturellement est &laquo; comment combiner ces jeux de données en une seule table ? &raquo;. En effet, une fois ces données combinées en une seule table, il est possible de les filtrer, de les trier, de sélectionner des colonnes etc.\n",
    "\n",
    "Il existe plusieurs façons de &laquo; fusionner &raquo; des données en tables. Selon l'opération qu'on souhaite effectuer, des précautions particulières sont à prendre pour ne pas introduire d'incohérences dans les données."
   ]
  },
  {
   "cell_type": "markdown",
   "metadata": {
    "slideshow": {
     "slide_type": "slide"
    }
   },
   "source": [
    "## 1. Réunion de tables <a id=\"reunion\"></a>\n",
    "Si on dispose de deux tables de données <font style=\"color:red\">avec la même structure</font> (même nombre d'attributs avec noms et domaines de valeurs identiques), il est possible de les fusionner en construisant <font style=\"color:red\">leur réunion</font> : il s'agit simplement de concaténer dans une même table les lignes/enregistrements des deux tables.  \n",
    "\n",
    "L'opérateur ``+`` de concaténation de tableaux permet de réaliser facilement cette opération en Python.\n"
   ]
  },
  {
   "cell_type": "markdown",
   "id": "technological-teacher",
   "metadata": {},
   "source": [
    "<font style=\"color:rgb(113,65,224)\">**Exercice 1**   \n",
    "Essayer par exemple le code suivant.</font>"
   ]
  },
  {
   "cell_type": "code",
   "execution_count": null,
   "id": "modern-dutch",
   "metadata": {},
   "outputs": [],
   "source": [
    "premiere1 = [{'élève': 'Donald', 'note': 18}, {'élève': 'Ada', 'note': 20}]\n",
    "premiere2 = [{'élève': 'Alan', 'note': 19}, {'élève': 'Guido', 'note': 12}]\n",
    "reunion_1_et_2 = premiere1 + premiere2\n",
    "reunion_1_et_2"
   ]
  },
  {
   "cell_type": "markdown",
   "id": "expanded-vision",
   "metadata": {},
   "source": [
    "On peut manipuler le résultat obtenu comme table."
   ]
  },
  {
   "cell_type": "markdown",
   "id": "foreign-joining",
   "metadata": {},
   "source": [
    "<font style=\"color:rgb(113,65,224)\">**Exercice 2**   \n",
    "Essayer maintenant le code de la cellule suivante.</font>"
   ]
  },
  {
   "cell_type": "code",
   "execution_count": null,
   "id": "loaded-police",
   "metadata": {},
   "outputs": [],
   "source": [
    "premiere3 = [\n",
    "             {'prénom': 'Brian', 'nom': 'Kernighan', 'note': 14}, \n",
    "             {'prénom': 'Linus', 'nom': 'Torvalds', 'note': 8}\n",
    "            ]\n",
    "\n",
    "reunion_1_et_3 = premiere1 + premiere3\n",
    "reunion_1_et_3"
   ]
  },
  {
   "cell_type": "markdown",
   "id": "confident-ladder",
   "metadata": {},
   "source": [
    "On remarque qu'on ne peut pas manipuler le résultat obtenu comme une table."
   ]
  },
  {
   "cell_type": "markdown",
   "id": "outer-trading",
   "metadata": {},
   "source": [
    "### 2. Jointure de tables <a id=\"jointure\"></a>"
   ]
  },
  {
   "cell_type": "markdown",
   "id": "first-black",
   "metadata": {},
   "source": [
    "Si deux tables <font style=\"color:red\">n'ont pas la même structure (différence sur certains attributs) mais partagent un ou plusieurs attributs</font>, on peut les fusionner en construisant <font style=\"color:red\">leur jointure</font> : on rapproche les enregistrements des deux tables qui ont la même valeur sur le(s) attribut(s) commun(s).\n",
    "\n",
    "Par exemple, on peut construire la jointure des deux tables ci-dessous :\n",
    "\n",
    "|      nom     |  prénom  |   pseudo  |\n",
    "|:------------:|:--------:|:---------:|\n",
    "|    'knuth'   | 'donald' | 'knuth69' |\n",
    "| 'van rossum' |  'guido' | 'guido42' |  \n",
    "\n",
    "|   pseudo  | points |\n",
    "|:---------:|:------:|\n",
    "| 'knuth69' |   120  |\n",
    "| 'guido42' |   10   |\n",
    "\n",
    "On obtient alors la table suivante :\n",
    "\n",
    "|      nom     |  prénom  |   pseudo  | points |\n",
    "|:------------:|:--------:|:---------:|:------:|\n",
    "|    'knuth'   | 'donald' | 'knuth69' |   120  |\n",
    "| 'van rossum' |  'guido' | 'guido42' |   10   |"
   ]
  },
  {
   "cell_type": "markdown",
   "id": "administrative-rocket",
   "metadata": {},
   "source": [
    "<font style=\"color:rgb(113,65,224)\">**Exercice 3**</font>"
   ]
  },
  {
   "cell_type": "markdown",
   "id": "modular-empire",
   "metadata": {},
   "source": [
    "<font style=\"color:rgb(113,65,224)\">1. Le fichier ``films.csv`` recense les films détenus en DVD par un cinéphile, et le fichier ``realisateurs.csv`` recense des informations sur les réalistaeurs des films de ``films.csv``. Les tables sont séparées pour éviter les redondances car un même réalisateur peut avoir tourné plusieurs films.  \n",
    " \n",
    "Charger les deux tables dans les variables `films` et `realisateurs` puis afficher les 5 premières lignes de ces 2 fichiers.</font>"
   ]
  },
  {
   "cell_type": "code",
   "execution_count": null,
   "metadata": {},
   "outputs": [],
   "source": [
    "# À vous de jouer !"
   ]
  },
  {
   "cell_type": "markdown",
   "id": "forbidden-occasion",
   "metadata": {},
   "source": [
    "<font style=\"color:rgb(113,65,224)\">2. On veut fusionner les tables ``films.csv`` et ``realisateurs.csv`` par jointure sur l'attribut ``'nom'`` du réalisateur. Compléter le code ci-dessous :\n",
    "</font>"
   ]
  },
  {
   "cell_type": "code",
   "execution_count": null,
   "id": "growing-approval",
   "metadata": {},
   "outputs": [],
   "source": [
    "# À vous de jouer !\n",
    "def fusion_enregistrement(f, r):\n",
    "    return {'titre': f['titre'], 'année': f['année'],\n",
    "            'nom réalisateur': r['nom'], \n",
    "            'prénom réalisateur': r['prénom'],\n",
    "            'pays réalisateur': r['pays']\n",
    "           }\n",
    "\n",
    "\n",
    "def fusion_tables(films, realisateurs):\n",
    "    fusion = []\n",
    "    for f in films:\n",
    "        for r in realisateurs:\n",
    "            ...\n",
    "            ...\n",
    "    return fusion"
   ]
  },
  {
   "cell_type": "code",
   "execution_count": null,
   "id": "expected-editor",
   "metadata": {},
   "outputs": [],
   "source": [
    "# À essayer\n",
    "jointure = fusion_tables(films, realisateurs)\n",
    "jointure"
   ]
  },
  {
   "cell_type": "markdown",
   "id": "cardiovascular-essence",
   "metadata": {},
   "source": [
    "<font style=\"color:rgb(113,65,224)\">3. Exécuter les instructions ci-dessous. Quelle incohérence peut-on observer ? Explication ?\n",
    "</font>"
   ]
  },
  {
   "cell_type": "code",
   "execution_count": null,
   "id": "incorporated-virus",
   "metadata": {},
   "outputs": [],
   "source": [
    "print([enreg for enreg in jointure if enreg['titre'] == 'CQ'])\n",
    "print(len(jointure), len(films))"
   ]
  },
  {
   "cell_type": "markdown",
   "id": "minimal-calendar",
   "metadata": {},
   "source": [
    "<font style=\"color:rgb(113,65,224)\">4. Exécuter les instructions ci-dessous. Quelle incohérence peut-on observer ? Explication ?\n",
    "</font>"
   ]
  },
  {
   "cell_type": "code",
   "execution_count": null,
   "id": "verbal-telephone",
   "metadata": {
    "scrolled": true
   },
   "outputs": [],
   "source": [
    "print([enreg for enreg in films if enreg['titre'] == 'Autant en emporte le vent'])\n",
    "print([enreg for enreg in jointure if enreg['titre'] == 'Autant en emporte le vent'])"
   ]
  },
  {
   "cell_type": "markdown",
   "id": "light-philippines",
   "metadata": {},
   "source": [
    "<font style=\"color:rgb(113,65,224)\">5. Ouvrir les fichiers ``films_idr.csv`` et ``realisateurs_id.csv``. On a rajouté dans le fichier des réalisateurs un identifiant unique (le numéro de l'enregistrement) qu'on a reporté dans le fichier des films à la place du nom du réalisateur.\n",
    "    \n",
    "Compléter le code ci-dessous pour réaliser la fusion par jointure des tables ``films_idr.csv`` et ``realisateurs_id.csv``.\n",
    "</font>"
   ]
  },
  {
   "cell_type": "code",
   "execution_count": null,
   "id": "painted-skiing",
   "metadata": {},
   "outputs": [],
   "source": [
    "# À vous de jouer\n",
    "films_idr = ...\n",
    "realisateurs_id = ...\n",
    "\n",
    "\n",
    "def fusion_tables_id(films, realisateurs):\n",
    "    pass\n",
    "\n",
    "\n",
    "jointure_id = fusion_tables_id(films_idr, realisateurs_id)\n",
    "jointure_id"
   ]
  },
  {
   "cell_type": "markdown",
   "id": "adult-massage",
   "metadata": {},
   "source": [
    "<font style=\"color:rgb(113,65,224)\">6. Les incohérences repérées dans les questions précédentes sont-elles toujours présentes ? Quels sont les avantages de l'identifiant unique ?\n",
    "</font>"
   ]
  },
  {
   "cell_type": "markdown",
   "id": "brazilian-university",
   "metadata": {},
   "source": [
    "*Répondre ici*"
   ]
  },
  {
   "cell_type": "markdown",
   "id": "photographic-vegetation",
   "metadata": {},
   "source": [
    "### 3. Synthèse <a id=\"synthese\"></a>\n",
    "La fusion de tables peut se faire de plusieurs façons. \n",
    "- Si les tables ont <font style=\"color:red\">les mêmes attributs</font> alors on peut les concaténer (il s'agit de <font style=\"color:red\">la réunion</font>). \n",
    "- Sinon, si les tables ont <font style=\"color:red\">un ou plusieurs attributs communs</font>, on peut réaliser <font style=\"color:red\">une jointure</font> qui rapproche les enregistrements qui ont les mêmes valeurs sur les attributs partagés.\n",
    "\n",
    "\n",
    "Avec les bases de données, étudiées en terminale, des opérations de jointure permettront de créer de nouvelles tables pour rassembler des informations issues de plusieurs tables."
   ]
  }
 ],
 "metadata": {
  "kernelspec": {
   "display_name": "Python 3.9.13 64-bit",
   "language": "python",
   "name": "python3"
  },
  "language_info": {
   "codemirror_mode": {
    "name": "ipython",
    "version": 3
   },
   "file_extension": ".py",
   "mimetype": "text/x-python",
   "name": "python",
   "nbconvert_exporter": "python",
   "pygments_lexer": "ipython3",
   "version": "3.9.13"
  },
  "latex_envs": {
   "LaTeX_envs_menu_present": true,
   "autoclose": false,
   "autocomplete": true,
   "bibliofile": "biblio.bib",
   "cite_by": "apalike",
   "current_citInitial": 1,
   "eqLabelWithNumbers": true,
   "eqNumInitial": 1,
   "hotkeys": {
    "equation": "Ctrl-E",
    "itemize": "Ctrl-I"
   },
   "labels_anchors": false,
   "latex_user_defs": false,
   "report_style_numbering": false,
   "user_envs_cfg": false
  },
  "rise": {
   "scroll": true
  },
  "vscode": {
   "interpreter": {
    "hash": "f9f85f796d01129d0dd105a088854619f454435301f6ffec2fea96ecbd9be4ac"
   }
  }
 },
 "nbformat": 4,
 "nbformat_minor": 2
}
