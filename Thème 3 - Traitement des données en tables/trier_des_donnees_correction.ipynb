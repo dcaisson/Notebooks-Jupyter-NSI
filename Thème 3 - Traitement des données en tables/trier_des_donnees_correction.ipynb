{
 "cells": [
  {
   "cell_type": "markdown",
   "metadata": {
    "slideshow": {
     "slide_type": "-"
    }
   },
   "source": [
    "# Manipuler des fichiers CSV"
   ]
  },
  {
   "cell_type": "markdown",
   "metadata": {
    "slideshow": {
     "slide_type": "skip"
    }
   },
   "source": [
    "## Sommaire \n",
    "[**1. Recherche dans une table**](#recherche)  \n",
    "[**2. Tri d'une table**](#tri)  \n",
    "&nbsp;&nbsp;&nbsp;&nbsp;[2.1 Un exemple](#exemple)  \n",
    "&nbsp;&nbsp;&nbsp;&nbsp;[2.2 Extraction de données particulières](#extraction-donnees-particulieres)  "
   ]
  },
  {
   "cell_type": "markdown",
   "metadata": {
    "slideshow": {
     "slide_type": "slide"
    }
   },
   "source": [
    "## 1. Recherche dans une table <a id=\"recherche\"></a>\n",
    "\n",
    "On reprend le fichier `top14.csv` du notebook de la partie précédente. Stocker dans une variable `joueurs` les renseignements de tous les joueurs présents dans ce fichier CSV."
   ]
  },
  {
   "cell_type": "code",
   "execution_count": null,
   "metadata": {},
   "outputs": [],
   "source": [
    "# À vous de jouer !\n",
    "import csv\n",
    "\n",
    "with open(\"top14.csv\", \"r\", encoding=\"utf-8\") as fichier:\n",
    "    joueurs = list(csv.DictReader(fichier))"
   ]
  },
  {
   "cell_type": "markdown",
   "metadata": {},
   "source": [
    "<font style=\"color:rgb(113,65,224)\">**Exercice 1**    \n",
    "Écrire une fonction `joueurs_equipe(equipe)` qui prend en paramètre une équipe (sous forme de chaîne de caractères) et renvoie la liste des joueurs (une liste de dictionnaires) de cette équipe.</font>"
   ]
  },
  {
   "cell_type": "code",
   "execution_count": null,
   "metadata": {},
   "outputs": [],
   "source": [
    "# À vous de jouer !\n",
    "def joueurs_equipe(equipe):\n",
    "    return [joueur for joueur in joueurs if joueur['Equipe'] == equipe]"
   ]
  },
  {
   "cell_type": "markdown",
   "metadata": {},
   "source": [
    "<font style=\"color:rgb(113,65,224)\">**Exercice 2**    \n",
    "Écrire une fonction `joueurs_poste(poste)` qui prend en paramètre un poste (sous forme de chaîne de caractères) et renvoie la liste des joueurs (une liste de dictionnaires) ayant ce poste.</font>"
   ]
  },
  {
   "cell_type": "code",
   "execution_count": null,
   "metadata": {},
   "outputs": [],
   "source": [
    "# À vous de jouer !\n",
    "def joueurs_poste(poste):\n",
    "    return [joueur for joueur in joueurs if joueur['Poste'] == poste]"
   ]
  },
  {
   "cell_type": "markdown",
   "metadata": {},
   "source": [
    "## 2. Tri d'une table<a id=\"tri\"></a>\n",
    "\n",
    "Comment classer les joueurs suivant leur taille ? Nous avons vu comment trier des listes de nombres mais nous souhaitons maintenant trier des listes de dictionnaires (des listes de joueurs)."
   ]
  },
  {
   "cell_type": "markdown",
   "metadata": {},
   "source": [
    "### 2.1 Un exemple<a id=\"exemple\"></a>\n",
    "\n",
    "Voyons comment trier une liste de dictionnaires. On considère la liste de dictionnaires ci-dessous et on souhaite la &laquo; trier par âge croissant &raquo; :"
   ]
  },
  {
   "cell_type": "code",
   "execution_count": null,
   "metadata": {},
   "outputs": [],
   "source": [
    "simpsons = [{\"Prenom\" : \"Bart\", \"âge estimé\": 10},\n",
    "            {\"Prenom\" : \"Lisa\", \"âge estimé\": 8},\n",
    "            {\"Prenom\" : \"Maggie\", \"âge estimé\": 1},\n",
    "            {\"Prenom\" : \"Homer\", \"âge estimé\": 38},\n",
    "            {\"Prenom\" : \"Marge\", \"âge estimé\": 37}]\n"
   ]
  },
  {
   "cell_type": "markdown",
   "metadata": {},
   "source": [
    "Puisque le critère de tri est l'âge estimé, nous allons commencer par écrire une fonction qui prend en paramètre un dictionnaire (représentant un membre de la famille Simpson) et qui renvoie son âge estimé. Compléter la fonction ci-dessous :"
   ]
  },
  {
   "cell_type": "code",
   "execution_count": null,
   "metadata": {},
   "outputs": [],
   "source": [
    "# À vous de jouer !\n",
    "def age(personnage):\n",
    "    return personnage[\"âge estimé\"]"
   ]
  },
  {
   "cell_type": "markdown",
   "metadata": {},
   "source": [
    "Il suffit ensuite d'utiliser `sort()` ou `sorted()` avec un paramètre supplémentaire qui est la fonction précédente :"
   ]
  },
  {
   "cell_type": "code",
   "execution_count": null,
   "metadata": {},
   "outputs": [],
   "source": [
    "# À vous de jouer !\n",
    "sorted(simpsons, key=age) # ou simpsons.sort(key=age)"
   ]
  },
  {
   "cell_type": "markdown",
   "metadata": {},
   "source": [
    "Pour trier la liste par &laquo; âge estimé décroissant &raquo;, on ajoute un second paramètre `reverse=True` :"
   ]
  },
  {
   "cell_type": "code",
   "execution_count": null,
   "metadata": {},
   "outputs": [],
   "source": [
    "# À vous de jouer !\n",
    "sorted(simpsons, key=age, reverse=True) #ou simpsons.sort(key=age, reverse=True)"
   ]
  },
  {
   "cell_type": "markdown",
   "metadata": {},
   "source": [
    "### 2.2 Extraction de données particulières<a id=\"extraction-donnees-particulieres\"></a>  "
   ]
  },
  {
   "cell_type": "markdown",
   "metadata": {},
   "source": [
    "1. Trier les joueurs du Top14 par taille.\n"
   ]
  },
  {
   "cell_type": "code",
   "execution_count": null,
   "metadata": {},
   "outputs": [],
   "source": [
    "# À vous de jouer !\n",
    "def taille(joueur):\n",
    "    return int(joueur['Taille'])\n",
    "\n",
    "\n",
    "joueurs_taille = sorted(joueurs, key=taille)"
   ]
  },
  {
   "cell_type": "markdown",
   "metadata": {},
   "source": [
    "2. Déterminer le deuxième joueur (du Top14) le plus grand.\n"
   ]
  },
  {
   "cell_type": "code",
   "execution_count": null,
   "metadata": {},
   "outputs": [],
   "source": [
    "# À vous de jouer !\n",
    "joueurs_taille[-2]"
   ]
  },
  {
   "cell_type": "markdown",
   "metadata": {},
   "source": [
    "3. Trier les joueurs de Bordeaux par taille.\n"
   ]
  },
  {
   "cell_type": "code",
   "execution_count": null,
   "metadata": {},
   "outputs": [],
   "source": [
    "# À vous de jouer !\n",
    "joueurs_bordeaux = [joueur for joueur in joueurs if joueur['Equipe'] == 'Bordeaux']\n",
    "sorted(joueurs_bordeaux, key=taille)"
   ]
  },
  {
   "cell_type": "markdown",
   "metadata": {},
   "source": [
    "4. Trier les joueurs de Bordeaux suivant leur [IMC](https://fr.wikipedia.org/wiki/Indice_de_masse_corporelle).\n",
    "</font>\n"
   ]
  },
  {
   "cell_type": "code",
   "execution_count": null,
   "metadata": {},
   "outputs": [],
   "source": [
    "# À vous de jouer !\n",
    "def imc(joueur):\n",
    "    poids = int(joueur['Poids'])\n",
    "    taille = int(joueur['Taille']) / 100 # IMc = poids (kg) / taille^2 (taille en mètres)\n",
    "    return poids / taille ** 2\n",
    "\n",
    "sorted(joueurs_bordeaux, key=imc)"
   ]
  },
  {
   "cell_type": "markdown",
   "metadata": {},
   "source": [
    "5. On souhaite déterminer les joueurs ayant un profil &laquo; similaire &raquo; à Baptiste Serin.  \n",
    "    (a) Écrire une fonction `distance(joueur1, joueur2)` qui renvoie la somme des carrés des différences de tailles et de poids entre les 2 joueurs.\n",
    "\n",
    "    $$ d = (p1 - p2)^2 + (t1 - t2)^2.$$\n",
    "    (b) Retrouver le numéro de Baptiste Serin.  \n",
    "    (c) Classer les joueurs suivant leur &laquo; distance morphologique &raquo; à Baptiste Serin."
   ]
  },
  {
   "cell_type": "code",
   "execution_count": null,
   "metadata": {},
   "outputs": [],
   "source": [
    "# À vous de jouer !\n",
    "# Question 5. (a)\n",
    "def distance(joueur_1, joueur_2):\n",
    "    p1 = int(joueur_1['Poids'])\n",
    "    p2 = int(joueur_2['Poids'])\n",
    "    t1 = int(joueur_1['Taille'])\n",
    "    t2 = int(joueur_2['Taille'])\n",
    "    return (p1 - p2) ** 2 + (t1 - t2) ** 2"
   ]
  },
  {
   "cell_type": "code",
   "execution_count": null,
   "metadata": {},
   "outputs": [],
   "source": [
    "# À vous de jouer !\n",
    "# Question 5. (b)\n",
    "[i for i in range(len(joueurs)) if joueurs[i]['Nom'] == 'Baptiste SERIN']"
   ]
  },
  {
   "cell_type": "code",
   "execution_count": null,
   "metadata": {},
   "outputs": [],
   "source": [
    "# À vous de jouer !\n",
    "# Question 5. (c)\n",
    "def distance_morphologique(joueur):\n",
    "    baptiste_serin = joueurs[530]\n",
    "    return distance(joueur, baptiste_serin)\n",
    "\n",
    "\n",
    "sorted(joueurs, key=distance_morphologique)"
   ]
  },
  {
   "cell_type": "code",
   "execution_count": null,
   "metadata": {},
   "outputs": [],
   "source": []
  }
 ],
 "metadata": {
  "kernelspec": {
   "display_name": "Python 3 (ipykernel)",
   "language": "python",
   "name": "python3"
  },
  "language_info": {
   "codemirror_mode": {
    "name": "ipython",
    "version": 3
   },
   "file_extension": ".py",
   "mimetype": "text/x-python",
   "name": "python",
   "nbconvert_exporter": "python",
   "pygments_lexer": "ipython3",
   "version": "3.10.10"
  },
  "latex_envs": {
   "LaTeX_envs_menu_present": true,
   "autoclose": false,
   "autocomplete": true,
   "bibliofile": "biblio.bib",
   "cite_by": "apalike",
   "current_citInitial": 1,
   "eqLabelWithNumbers": true,
   "eqNumInitial": 1,
   "hotkeys": {
    "equation": "Ctrl-E",
    "itemize": "Ctrl-I"
   },
   "labels_anchors": false,
   "latex_user_defs": false,
   "report_style_numbering": false,
   "user_envs_cfg": false
  },
  "rise": {
   "scroll": true
  },
  "vscode": {
   "interpreter": {
    "hash": "f9f85f796d01129d0dd105a088854619f454435301f6ffec2fea96ecbd9be4ac"
   }
  }
 },
 "nbformat": 4,
 "nbformat_minor": 2
}
