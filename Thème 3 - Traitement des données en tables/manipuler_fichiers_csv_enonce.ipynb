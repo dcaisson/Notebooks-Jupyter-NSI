{
 "cells": [
  {
   "cell_type": "markdown",
   "metadata": {
    "slideshow": {
     "slide_type": "-"
    }
   },
   "source": [
    "# Manipuler des fichiers CSV"
   ]
  },
  {
   "cell_type": "markdown",
   "metadata": {
    "slideshow": {
     "slide_type": "skip"
    }
   },
   "source": [
    "## Sommaire \n",
    "[**1. Utiliser le module `csv`**](#utiliser-module-csv)  \n",
    "&nbsp;&nbsp;&nbsp;&nbsp;[1.1 Ouvrir un fichier CSV](#ouvrir-fichier-csv)  \n",
    "&nbsp;&nbsp;&nbsp;&nbsp;[1.2 Écrire dans un fichier CSV](#ecrire-fichier-csv)    \n",
    "[**2. Exemple**](#exemple)  \n",
    "&nbsp;&nbsp;&nbsp;&nbsp;[2.1 Première analyse](#premiere-analyse)  \n",
    "&nbsp;&nbsp;&nbsp;&nbsp;[2.2 Extraction de données particulières](#extraction-donnees-particulieres)  \n",
    "&nbsp;&nbsp;&nbsp;&nbsp;[2.3 Exploitation graphique](#exploitation-graphique)  \n",
    "&nbsp;&nbsp;&nbsp;&nbsp;&nbsp;&nbsp;&nbsp;&nbsp;[2.3.1 Exemple](#exemple-graphique)  \n",
    "&nbsp;&nbsp;&nbsp;&nbsp;&nbsp;&nbsp;&nbsp;&nbsp;[2.3.2 Application](#application)  "
   ]
  },
  {
   "cell_type": "markdown",
   "metadata": {
    "slideshow": {
     "slide_type": "slide"
    }
   },
   "source": [
    "## 1. Utiliser le module `csv` <a id=\"utiliser-module-csv\"></a>"
   ]
  },
  {
   "cell_type": "markdown",
   "metadata": {
    "slideshow": {
     "slide_type": "slide"
    }
   },
   "source": [
    "### 1.1 Ouvrir un fichier CSV<a id=\"ouvrir-fichier-csv\"></a>\n",
    "\n",
    "<font style=\"color:rgb(113,65,224)\">**Exercice 1**    \n",
    "Télécharger le fichier ``eleves_celebres.csv`` puis exécuter le code de la cellule ci-dessous.</font>"
   ]
  },
  {
   "cell_type": "code",
   "execution_count": null,
   "metadata": {},
   "outputs": [],
   "source": [
    "import csv\n",
    "\n",
    "with open(\"eleves_celebres.csv\", \"r\", encoding=\"utf-8\") as fichier:\n",
    "    table = list(csv.DictReader(fichier))\n",
    "\n",
    "table"
   ]
  },
  {
   "cell_type": "markdown",
   "metadata": {},
   "source": [
    "Après avoir importé le module ``csv``, on ouvre le fichier ``eleves_celebres.csv``. La fonction ``DictReader`` du module ``csv`` renvoie une valeur spéciale qui peut être convertie en liste Python grâce à la fonction ``list``.    \n",
    "\n",
    "On obtient alors <font style=\"color:red\">une liste de dictionnaires</font> ordonnés Python dont les clés sont obtenues grâce à la première ligne du fichier CSV.    \n",
    "\n",
    "*Remarque. &ndash; En Python, un dictionnaire ordonné est un dictionnaire particulier qui &laquo; stocke &raquo; un ordre particulier pour ses clés. Dans cette fiche, nous utiliserons les dictionnaires ordonnés comme des dictionnaires &laquo; classiques &raquo;.*"
   ]
  },
  {
   "cell_type": "markdown",
   "metadata": {},
   "source": [
    "<font style=\"color:rgb(113,65,224)\">**Exercice 2**   \n",
    "Écrire une fonction ``ouvrir_csv`` qui prend en paramètre une chaîne de caractères (le nom d'un fichier CSV) et qui renvoie les données de ce fichier sous forme d'une liste de dictionnaires.</font>"
   ]
  },
  {
   "cell_type": "code",
   "execution_count": null,
   "metadata": {},
   "outputs": [],
   "source": [
    "# À vous de jouer !\n",
    "def ouvrir_csv(fichier):\n",
    "    pass"
   ]
  },
  {
   "cell_type": "markdown",
   "metadata": {
    "slideshow": {
     "slide_type": "subslide"
    }
   },
   "source": [
    "### 1.2 Écrire dans un fichier CSV<a id=\"ecrire-fichier-csv\"></a>\n",
    "On dispose de la liste de Pokémons ci-dessous (il s'agit d'une liste de dictionnaires)."
   ]
  },
  {
   "cell_type": "code",
   "execution_count": null,
   "metadata": {},
   "outputs": [],
   "source": [
    "pokemons = [{'#': '1',\n",
    "  'Name': 'Bulbasaur',\n",
    "  'Type 1': 'Grass',\n",
    "  'Type 2': 'Poison',\n",
    "  'Total': '318',\n",
    "  'HP': '45',\n",
    "  'Attack': '49',\n",
    "  'Defense': '49',\n",
    "  'Sp. Atk': '65',\n",
    "  'Sp. Def': '65',\n",
    "  'Speed': '45',\n",
    "  'Generation': '1',\n",
    "  'Legendary': 'False'},\n",
    " {'#': '2',\n",
    "  'Name': 'Ivysaur',\n",
    "  'Type 1': 'Grass',\n",
    "  'Type 2': 'Poison',\n",
    "  'Total': '405',\n",
    "  'HP': '60',\n",
    "  'Attack': '62',\n",
    "  'Defense': '63',\n",
    "  'Sp. Atk': '80',\n",
    "  'Sp. Def': '80',\n",
    "  'Speed': '60',\n",
    "  'Generation': '1',\n",
    "  'Legendary': 'False'},\n",
    " {'#': '3',\n",
    "  'Name': 'Venusaur',\n",
    "  'Type 1': 'Grass',\n",
    "  'Type 2': 'Poison',\n",
    "  'Total': '525',\n",
    "  'HP': '80',\n",
    "  'Attack': '82',\n",
    "  'Defense': '83',\n",
    "  'Sp. Atk': '100',\n",
    "  'Sp. Def': '100',\n",
    "  'Speed': '80',\n",
    "  'Generation': '1',\n",
    "  'Legendary': 'False'},\n",
    " {'#': '3',\n",
    "  'Name': 'VenusaurMega Venusaur',\n",
    "  'Type 1': 'Grass',\n",
    "  'Type 2': 'Poison',\n",
    "  'Total': '625',\n",
    "  'HP': '80',\n",
    "  'Attack': '100',\n",
    "  'Defense': '123',\n",
    "  'Sp. Atk': '122',\n",
    "  'Sp. Def': '120',\n",
    "  'Speed': '80',\n",
    "  'Generation': '1',\n",
    "  'Legendary': 'False'},\n",
    " {'#': '4',\n",
    "  'Name': 'Charmander',\n",
    "  'Type 1': 'Fire',\n",
    "  'Type 2': '',\n",
    "  'Total': '309',\n",
    "  'HP': '39',\n",
    "  'Attack': '52',\n",
    "  'Defense': '43',\n",
    "  'Sp. Atk': '60',\n",
    "  'Sp. Def': '50',\n",
    "  'Speed': '65',\n",
    "  'Generation': '1',\n",
    "  'Legendary': 'False'},\n",
    " {'#': '5',\n",
    "  'Name': 'Charmeleon',\n",
    "  'Type 1': 'Fire',\n",
    "  'Type 2': '',\n",
    "  'Total': '405',\n",
    "  'HP': '58',\n",
    "  'Attack': '64',\n",
    "  'Defense': '58',\n",
    "  'Sp. Atk': '80',\n",
    "  'Sp. Def': '65',\n",
    "  'Speed': '80',\n",
    "  'Generation': '1',\n",
    "  'Legendary': 'False'},\n",
    " {'#': '6',\n",
    "  'Name': 'Charizard',\n",
    "  'Type 1': 'Fire',\n",
    "  'Type 2': 'Flying',\n",
    "  'Total': '534',\n",
    "  'HP': '78',\n",
    "  'Attack': '84',\n",
    "  'Defense': '78',\n",
    "  'Sp. Atk': '109',\n",
    "  'Sp. Def': '85',\n",
    "  'Speed': '100',\n",
    "  'Generation': '1',\n",
    "  'Legendary': 'False'},\n",
    " {'#': '6',\n",
    "  'Name': 'CharizardMega Charizard X',\n",
    "  'Type 1': 'Fire',\n",
    "  'Type 2': 'Dragon',\n",
    "  'Total': '634',\n",
    "  'HP': '78',\n",
    "  'Attack': '130',\n",
    "  'Defense': '111',\n",
    "  'Sp. Atk': '130',\n",
    "  'Sp. Def': '85',\n",
    "  'Speed': '100',\n",
    "  'Generation': '1',\n",
    "  'Legendary': 'False'},\n",
    " {'#': '6',\n",
    "  'Name': 'CharizardMega Charizard Y',\n",
    "  'Type 1': 'Fire',\n",
    "  'Type 2': 'Flying',\n",
    "  'Total': '634',\n",
    "  'HP': '78',\n",
    "  'Attack': '104',\n",
    "  'Defense': '78',\n",
    "  'Sp. Atk': '159',\n",
    "  'Sp. Def': '115',\n",
    "  'Speed': '100',\n",
    "  'Generation': '1',\n",
    "  'Legendary': 'False'},\n",
    " {'#': '7',\n",
    "  'Name': 'Squirtle',\n",
    "  'Type 1': 'Water',\n",
    "  'Type 2': '',\n",
    "  'Total': '314',\n",
    "  'HP': '44',\n",
    "  'Attack': '48',\n",
    "  'Defense': '65',\n",
    "  'Sp. Atk': '50',\n",
    "  'Sp. Def': '64',\n",
    "  'Speed': '43',\n",
    "  'Generation': '1',\n",
    "  'Legendary': 'False'}]"
   ]
  },
  {
   "cell_type": "markdown",
   "metadata": {},
   "source": [
    "Pour générer un fichier CSV contenant les informations précédentes, on utilise le module ``csv`` de la façon suivante :"
   ]
  },
  {
   "cell_type": "code",
   "execution_count": null,
   "metadata": {},
   "outputs": [],
   "source": [
    "with open(\"pokemons.csv\", \"w\") as sortie:\n",
    "    w = csv.DictWriter(sortie, ['#', 'Name', 'Type 1', 'Type 2', 'Total', \n",
    "                                'HP', 'Attack', 'Defense', 'Sp. Atk', 'Sp. Def', \n",
    "                                'Speed', 'Generation', 'Legendary'])\n",
    "    w.writeheader()\n",
    "    w.writerows(pokemons)"
   ]
  },
  {
   "cell_type": "markdown",
   "metadata": {},
   "source": [
    "Pour utiliser la fonction ``DictWriter``, il faut préciser la liste des attributs en paramètre. La fonction ``writeheader`` permet alors d'écrire la première ligne du fichier CSV, et ``writerows(pokemons)`` permet d'écrire le reste du fichier CSV.\n",
    "\n",
    "*Remarque. &ndash; Si le fichier ``pokemons.csv`` existe déjà, il est écrasé, sinon il est créé.*"
   ]
  },
  {
   "cell_type": "markdown",
   "metadata": {},
   "source": [
    "<font style=\"color:rgb(113,65,224)\">**Exercice 3**    \n",
    "Après avoir exécuté le code précédent, ouvrir le fichier `pokemons.csv` généré à l'aide d'un éditeur de textes ou de code.\n",
    "\n",
    "Pour récupérer le fichier `pokemons.csv` lorsqu'on travaille avec Basthon, il suffit d'exécuter le code de la cellule ci-dessous :\n",
    "</font>"
   ]
  },
  {
   "cell_type": "code",
   "execution_count": null,
   "metadata": {},
   "outputs": [],
   "source": [
    "import basthon\n",
    "basthon.download('pokemons.csv')"
   ]
  },
  {
   "cell_type": "markdown",
   "metadata": {},
   "source": [
    "<font style=\"color:rgb(113,65,224)\">**Exercice 4**    \n",
    "Écrire une fonction ``ecrire_csv`` qui prend en paramètres :\n",
    "  - une chaîne de caractères ``fichier_sortie`` (le nom du fichier CSV de sortie) ;\n",
    "  - une liste d'attributs ``attributs`` (pour la première ligne du fichier CSV de sortie);\n",
    "  - une liste de dictionnaires ``donnees``,\n",
    "et qui écrit dans le fichier CSV les données présentes dans la liste ``donnees``.</font>"
   ]
  },
  {
   "cell_type": "code",
   "execution_count": 4,
   "metadata": {},
   "outputs": [],
   "source": [
    "# À vous de jouer !\n",
    "def ecrire_csv(fichier_sortie, attributs, donnees):\n",
    "    pass"
   ]
  },
  {
   "cell_type": "markdown",
   "metadata": {},
   "source": [
    "## 2. Un exemple<a id=\"exemple\"></a>\n",
    "\n",
    "Le fichier `top14.csv` contient tous les joueurs du Top14 de rugby de la saison 2019-2020 avec leur date de naissance, leur poste et leurs mensurations."
   ]
  },
  {
   "cell_type": "markdown",
   "metadata": {},
   "source": [
    "### 2.1 Première analyse<a id=\"premiere-analyse\"></a>\n"
   ]
  },
  {
   "cell_type": "markdown",
   "metadata": {},
   "source": [
    "1. Stocker dans une variable `joueurs` les renseignements de tous les joueurs présents dans ce fichier CSV."
   ]
  },
  {
   "cell_type": "code",
   "execution_count": null,
   "metadata": {},
   "outputs": [],
   "source": [
    "# À vous de jouer !"
   ]
  },
  {
   "cell_type": "markdown",
   "metadata": {},
   "source": [
    "2. Combien de joueurs sont présents dans ce fichier ?"
   ]
  },
  {
   "cell_type": "code",
   "execution_count": 5,
   "metadata": {},
   "outputs": [],
   "source": [
    "# À vous de jouer !"
   ]
  },
  {
   "cell_type": "markdown",
   "metadata": {},
   "source": [
    "3. Quel est le prénom du joueur n°486 ?\n"
   ]
  },
  {
   "cell_type": "code",
   "execution_count": 6,
   "metadata": {},
   "outputs": [],
   "source": [
    "# À vous de jouer !"
   ]
  },
  {
   "cell_type": "markdown",
   "metadata": {},
   "source": [
    "### 2.2 Extraction de données particulières<a id=\"extraction-donnees-particulieres\"></a>  \n",
    "\n",
    "4. Où joue Baptiste SERIN ?"
   ]
  },
  {
   "cell_type": "code",
   "execution_count": null,
   "metadata": {},
   "outputs": [],
   "source": [
    "# À vous de jouer !"
   ]
  },
  {
   "cell_type": "markdown",
   "metadata": {},
   "source": [
    "5. Qui sont les joueurs de plus de $140$ kg ?"
   ]
  },
  {
   "cell_type": "code",
   "execution_count": null,
   "metadata": {},
   "outputs": [],
   "source": [
    "# À vous de jouer !"
   ]
  },
  {
   "cell_type": "markdown",
   "metadata": {},
   "source": [
    "### 2.3 Exploitation graphique<a id=\"exploitation-graphique\"></a>\n",
    "\n",
    "#### 2.3.1 Exemple<a id=\"exemple-graphique\"></a>\n",
    "\n",
    "Essayer les instructions ci-dessous :"
   ]
  },
  {
   "cell_type": "code",
   "execution_count": null,
   "metadata": {},
   "outputs": [],
   "source": [
    "import matplotlib.pyplot as plt\n",
    "X = [0, 1, 3, 6]\n",
    "Y = [12, 10, 7, 15]\n",
    "plt.plot(X, Y, 'ro') # r pour red, o pour un cercle. voir https://matplotlib.org/api/markers_api.html\n",
    "plt.show()"
   ]
  },
  {
   "cell_type": "markdown",
   "metadata": {},
   "source": [
    "#### 2.3.2 Application<a id=\"application\"></a>\n",
    "6. Afficher sur un  graphique tous les joueurs de rugby du Top14 (saison 2019-2020) en mettant le poids en abscisse et la taille en ordonnée."
   ]
  },
  {
   "cell_type": "code",
   "execution_count": null,
   "metadata": {},
   "outputs": [],
   "source": [
    "# À vous de jouer !"
   ]
  },
  {
   "cell_type": "markdown",
   "metadata": {},
   "source": [
    "7. Faire apparaître ensuite les joueurs évoluant au poste de Centre en bleu et les 2<sup>e</sup> lignes en vert.\n"
   ]
  },
  {
   "cell_type": "code",
   "execution_count": null,
   "metadata": {},
   "outputs": [],
   "source": [
    "# À vous de jouer !"
   ]
  }
 ],
 "metadata": {
  "kernelspec": {
   "display_name": "Python 3 (ipykernel)",
   "language": "python",
   "name": "python3"
  },
  "language_info": {
   "codemirror_mode": {
    "name": "ipython",
    "version": 3
   },
   "file_extension": ".py",
   "mimetype": "text/x-python",
   "name": "python",
   "nbconvert_exporter": "python",
   "pygments_lexer": "ipython3",
   "version": "3.10.10"
  },
  "latex_envs": {
   "LaTeX_envs_menu_present": true,
   "autoclose": false,
   "autocomplete": true,
   "bibliofile": "biblio.bib",
   "cite_by": "apalike",
   "current_citInitial": 1,
   "eqLabelWithNumbers": true,
   "eqNumInitial": 1,
   "hotkeys": {
    "equation": "Ctrl-E",
    "itemize": "Ctrl-I"
   },
   "labels_anchors": false,
   "latex_user_defs": false,
   "report_style_numbering": false,
   "user_envs_cfg": false
  },
  "rise": {
   "scroll": true
  },
  "vscode": {
   "interpreter": {
    "hash": "f9f85f796d01129d0dd105a088854619f454435301f6ffec2fea96ecbd9be4ac"
   }
  }
 },
 "nbformat": 4,
 "nbformat_minor": 2
}
