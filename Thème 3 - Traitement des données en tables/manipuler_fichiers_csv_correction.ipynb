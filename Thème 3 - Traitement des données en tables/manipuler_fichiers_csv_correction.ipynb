{
 "cells": [
  {
   "cell_type": "markdown",
   "metadata": {
    "slideshow": {
     "slide_type": "-"
    }
   },
   "source": [
    "# Manipuler des fichiers CSV"
   ]
  },
  {
   "cell_type": "markdown",
   "metadata": {
    "slideshow": {
     "slide_type": "skip"
    }
   },
   "source": [
    "## Sommaire \n",
    "[**1. Utiliser le module `csv`**](#utiliser-module-csv)  \n",
    "&nbsp;&nbsp;&nbsp;&nbsp;[1.1 Ouvrir un fichier CSV](#ouvrir-fichier-csv)  \n",
    "&nbsp;&nbsp;&nbsp;&nbsp;[1.2 Écrire dans un fichier CSV](#ecrire-fichier-csv)    \n",
    "[**2. Exemple**](#exemple)  \n",
    "&nbsp;&nbsp;&nbsp;&nbsp;[2.1 Première analyse](#premiere-analyse)  \n",
    "&nbsp;&nbsp;&nbsp;&nbsp;[2.2 Extraction de données particulières](#extraction-donnees-particulieres)  \n",
    "&nbsp;&nbsp;&nbsp;&nbsp;[2.3 Exploitation graphique](#exploitation-graphique)  \n",
    "&nbsp;&nbsp;&nbsp;&nbsp;&nbsp;&nbsp;&nbsp;&nbsp;[2.3.1 Exemple](#exemple-graphique)  \n",
    "&nbsp;&nbsp;&nbsp;&nbsp;&nbsp;&nbsp;&nbsp;&nbsp;[2.3.2 Application](#application)  "
   ]
  },
  {
   "cell_type": "markdown",
   "metadata": {
    "slideshow": {
     "slide_type": "slide"
    }
   },
   "source": [
    "## 1. Utiliser le module `csv` <a id=\"utiliser-module-csv\"></a>"
   ]
  },
  {
   "cell_type": "markdown",
   "metadata": {
    "slideshow": {
     "slide_type": "slide"
    }
   },
   "source": [
    "### 1.1 Ouvrir un fichier CSV<a id=\"ouvrir-fichier-csv\"></a>\n",
    "\n",
    "<font style=\"color:rgb(113,65,224)\">**Exercice 1**    \n",
    "Télécharger le fichier ``eleves_celebres.csv`` puis exécuter le code de la cellule ci-dessous.</font>"
   ]
  },
  {
   "cell_type": "code",
   "execution_count": 2,
   "metadata": {},
   "outputs": [
    {
     "data": {
      "text/plain": [
       "[{'prénom': 'Brian',\n",
       "  'jour': '1',\n",
       "  'mois': '1',\n",
       "  'année': '1942',\n",
       "  'projet': 'programmer avec style',\n",
       "  '': None},\n",
       " {'prénom': 'Grace',\n",
       "  'jour': '9',\n",
       "  'mois': '12',\n",
       "  'année': '1906',\n",
       "  'projet': 'production de code machine',\n",
       "  '': None},\n",
       " {'prénom': 'Linus',\n",
       "  'jour': '28',\n",
       "  'mois': '12',\n",
       "  'année': '1969',\n",
       "  'projet': \"un petit système d'exploitation\",\n",
       "  '': None},\n",
       " {'prénom': 'Donald',\n",
       "  'jour': '10',\n",
       "  'mois': '1',\n",
       "  'année': '1938',\n",
       "  'projet': 'tout sur les algorithmes',\n",
       "  '': None},\n",
       " {'prénom': 'Alan',\n",
       "  'jour': '23',\n",
       "  'mois': '6',\n",
       "  'année': '1912',\n",
       "  'projet': 'déchiffrer des codes secrets',\n",
       "  '': None},\n",
       " {'prénom': 'Blaise',\n",
       "  'jour': '19',\n",
       "  'mois': '6',\n",
       "  'année': '1623',\n",
       "  'projet': 'machine arithmétique',\n",
       "  '': None},\n",
       " {'prénom': 'Margaret',\n",
       "  'jour': '17',\n",
       "  'mois': '8',\n",
       "  'année': '1936',\n",
       "  'projet': \"atterrissage d'un module lunaire\",\n",
       "  '': None},\n",
       " {'prénom': 'Alan',\n",
       "  'jour': '1',\n",
       "  'mois': '4',\n",
       "  'année': '1922',\n",
       "  'projet': \"ce qu'un programmeur doit savoir\",\n",
       "  '': None},\n",
       " {'prénom': 'Joseph Marie',\n",
       "  'jour': '7',\n",
       "  'mois': '7',\n",
       "  'année': '1752',\n",
       "  'projet': 'programmer des dessins',\n",
       "  '': None}]"
      ]
     },
     "execution_count": 2,
     "metadata": {},
     "output_type": "execute_result"
    }
   ],
   "source": [
    "import csv\n",
    "\n",
    "with open(\"eleves_celebres.csv\", \"r\", encoding=\"utf-8\") as fichier:\n",
    "    table = list(csv.DictReader(fichier))\n",
    "\n",
    "table"
   ]
  },
  {
   "cell_type": "markdown",
   "metadata": {},
   "source": [
    "Après avoir importé le module ``csv``, on ouvre le fichier ``eleves_celebres.csv``. La fonction ``DictReader`` du module ``csv`` renvoie une valeur spéciale qui peut être convertie en liste Python grâce à la fonction ``list``.    \n",
    "\n",
    "On obtient alors <font style=\"color:red\">une liste de dictionnaires</font> ordonnés Python dont les clés sont obtenues grâce à la première ligne du fichier CSV.    \n",
    "\n",
    "*Remarque. &ndash; En Python, un dictionnaire ordonné est un dictionnaire particulier qui &laquo; stocke &raquo; un ordre particulier pour ses clés. Dans cette fiche, nous utiliserons les dictionnaires ordonnés comme des dictionnaires &laquo; classiques &raquo;.*"
   ]
  },
  {
   "cell_type": "markdown",
   "metadata": {},
   "source": [
    "<font style=\"color:rgb(113,65,224)\">**Exercice 2**   \n",
    "Écrire une fonction ``ouvrir_csv`` qui prend en paramètre une chaîne de caractères (le nom d'un fichier CSV) et qui renvoie les données de ce fichier sous forme d'une liste de dictionnaires.</font>"
   ]
  },
  {
   "cell_type": "code",
   "execution_count": 1,
   "metadata": {},
   "outputs": [],
   "source": [
    "# À vous de jouer !\n",
    "def ouvrir_csv(fichier):\n",
    "    with open(fichier, \"r\", encoding=\"utf-8\") as f:\n",
    "        table = list(csv.DictReader(f))\n",
    "    return table"
   ]
  },
  {
   "cell_type": "code",
   "execution_count": 4,
   "metadata": {},
   "outputs": [
    {
     "data": {
      "text/plain": [
       "[{'prénom': 'Brian',\n",
       "  'jour': '1',\n",
       "  'mois': '1',\n",
       "  'année': '1942',\n",
       "  'projet': 'programmer avec style',\n",
       "  '': None},\n",
       " {'prénom': 'Grace',\n",
       "  'jour': '9',\n",
       "  'mois': '12',\n",
       "  'année': '1906',\n",
       "  'projet': 'production de code machine',\n",
       "  '': None},\n",
       " {'prénom': 'Linus',\n",
       "  'jour': '28',\n",
       "  'mois': '12',\n",
       "  'année': '1969',\n",
       "  'projet': \"un petit système d'exploitation\",\n",
       "  '': None},\n",
       " {'prénom': 'Donald',\n",
       "  'jour': '10',\n",
       "  'mois': '1',\n",
       "  'année': '1938',\n",
       "  'projet': 'tout sur les algorithmes',\n",
       "  '': None},\n",
       " {'prénom': 'Alan',\n",
       "  'jour': '23',\n",
       "  'mois': '6',\n",
       "  'année': '1912',\n",
       "  'projet': 'déchiffrer des codes secrets',\n",
       "  '': None},\n",
       " {'prénom': 'Blaise',\n",
       "  'jour': '19',\n",
       "  'mois': '6',\n",
       "  'année': '1623',\n",
       "  'projet': 'machine arithmétique',\n",
       "  '': None},\n",
       " {'prénom': 'Margaret',\n",
       "  'jour': '17',\n",
       "  'mois': '8',\n",
       "  'année': '1936',\n",
       "  'projet': \"atterrissage d'un module lunaire\",\n",
       "  '': None},\n",
       " {'prénom': 'Alan',\n",
       "  'jour': '1',\n",
       "  'mois': '4',\n",
       "  'année': '1922',\n",
       "  'projet': \"ce qu'un programmeur doit savoir\",\n",
       "  '': None},\n",
       " {'prénom': 'Joseph Marie',\n",
       "  'jour': '7',\n",
       "  'mois': '7',\n",
       "  'année': '1752',\n",
       "  'projet': 'programmer des dessins',\n",
       "  '': None}]"
      ]
     },
     "execution_count": 4,
     "metadata": {},
     "output_type": "execute_result"
    }
   ],
   "source": [
    "# Exemple d'utilisation\n",
    "ouvrir_csv(\"eleves_celebres.csv\")"
   ]
  },
  {
   "cell_type": "markdown",
   "metadata": {
    "slideshow": {
     "slide_type": "subslide"
    }
   },
   "source": [
    "### 1.2 Écrire dans un fichier CSV<a id=\"ecrire-fichier-csv\"></a>\n",
    "On dispose de la liste de Pokémons ci-dessous (il s'agit d'une liste de dictionnaires)."
   ]
  },
  {
   "cell_type": "code",
   "execution_count": 5,
   "metadata": {},
   "outputs": [],
   "source": [
    "pokemons = [{'#': '1',\n",
    "  'Name': 'Bulbasaur',\n",
    "  'Type 1': 'Grass',\n",
    "  'Type 2': 'Poison',\n",
    "  'Total': '318',\n",
    "  'HP': '45',\n",
    "  'Attack': '49',\n",
    "  'Defense': '49',\n",
    "  'Sp. Atk': '65',\n",
    "  'Sp. Def': '65',\n",
    "  'Speed': '45',\n",
    "  'Generation': '1',\n",
    "  'Legendary': 'False'},\n",
    " {'#': '2',\n",
    "  'Name': 'Ivysaur',\n",
    "  'Type 1': 'Grass',\n",
    "  'Type 2': 'Poison',\n",
    "  'Total': '405',\n",
    "  'HP': '60',\n",
    "  'Attack': '62',\n",
    "  'Defense': '63',\n",
    "  'Sp. Atk': '80',\n",
    "  'Sp. Def': '80',\n",
    "  'Speed': '60',\n",
    "  'Generation': '1',\n",
    "  'Legendary': 'False'},\n",
    " {'#': '3',\n",
    "  'Name': 'Venusaur',\n",
    "  'Type 1': 'Grass',\n",
    "  'Type 2': 'Poison',\n",
    "  'Total': '525',\n",
    "  'HP': '80',\n",
    "  'Attack': '82',\n",
    "  'Defense': '83',\n",
    "  'Sp. Atk': '100',\n",
    "  'Sp. Def': '100',\n",
    "  'Speed': '80',\n",
    "  'Generation': '1',\n",
    "  'Legendary': 'False'},\n",
    " {'#': '3',\n",
    "  'Name': 'VenusaurMega Venusaur',\n",
    "  'Type 1': 'Grass',\n",
    "  'Type 2': 'Poison',\n",
    "  'Total': '625',\n",
    "  'HP': '80',\n",
    "  'Attack': '100',\n",
    "  'Defense': '123',\n",
    "  'Sp. Atk': '122',\n",
    "  'Sp. Def': '120',\n",
    "  'Speed': '80',\n",
    "  'Generation': '1',\n",
    "  'Legendary': 'False'},\n",
    " {'#': '4',\n",
    "  'Name': 'Charmander',\n",
    "  'Type 1': 'Fire',\n",
    "  'Type 2': '',\n",
    "  'Total': '309',\n",
    "  'HP': '39',\n",
    "  'Attack': '52',\n",
    "  'Defense': '43',\n",
    "  'Sp. Atk': '60',\n",
    "  'Sp. Def': '50',\n",
    "  'Speed': '65',\n",
    "  'Generation': '1',\n",
    "  'Legendary': 'False'},\n",
    " {'#': '5',\n",
    "  'Name': 'Charmeleon',\n",
    "  'Type 1': 'Fire',\n",
    "  'Type 2': '',\n",
    "  'Total': '405',\n",
    "  'HP': '58',\n",
    "  'Attack': '64',\n",
    "  'Defense': '58',\n",
    "  'Sp. Atk': '80',\n",
    "  'Sp. Def': '65',\n",
    "  'Speed': '80',\n",
    "  'Generation': '1',\n",
    "  'Legendary': 'False'},\n",
    " {'#': '6',\n",
    "  'Name': 'Charizard',\n",
    "  'Type 1': 'Fire',\n",
    "  'Type 2': 'Flying',\n",
    "  'Total': '534',\n",
    "  'HP': '78',\n",
    "  'Attack': '84',\n",
    "  'Defense': '78',\n",
    "  'Sp. Atk': '109',\n",
    "  'Sp. Def': '85',\n",
    "  'Speed': '100',\n",
    "  'Generation': '1',\n",
    "  'Legendary': 'False'},\n",
    " {'#': '6',\n",
    "  'Name': 'CharizardMega Charizard X',\n",
    "  'Type 1': 'Fire',\n",
    "  'Type 2': 'Dragon',\n",
    "  'Total': '634',\n",
    "  'HP': '78',\n",
    "  'Attack': '130',\n",
    "  'Defense': '111',\n",
    "  'Sp. Atk': '130',\n",
    "  'Sp. Def': '85',\n",
    "  'Speed': '100',\n",
    "  'Generation': '1',\n",
    "  'Legendary': 'False'},\n",
    " {'#': '6',\n",
    "  'Name': 'CharizardMega Charizard Y',\n",
    "  'Type 1': 'Fire',\n",
    "  'Type 2': 'Flying',\n",
    "  'Total': '634',\n",
    "  'HP': '78',\n",
    "  'Attack': '104',\n",
    "  'Defense': '78',\n",
    "  'Sp. Atk': '159',\n",
    "  'Sp. Def': '115',\n",
    "  'Speed': '100',\n",
    "  'Generation': '1',\n",
    "  'Legendary': 'False'},\n",
    " {'#': '7',\n",
    "  'Name': 'Squirtle',\n",
    "  'Type 1': 'Water',\n",
    "  'Type 2': '',\n",
    "  'Total': '314',\n",
    "  'HP': '44',\n",
    "  'Attack': '48',\n",
    "  'Defense': '65',\n",
    "  'Sp. Atk': '50',\n",
    "  'Sp. Def': '64',\n",
    "  'Speed': '43',\n",
    "  'Generation': '1',\n",
    "  'Legendary': 'False'}]"
   ]
  },
  {
   "cell_type": "markdown",
   "metadata": {},
   "source": [
    "Pour générer un fichier CSV contenant les informations précédentes, on utilise le module ``csv`` de la façon suivante :"
   ]
  },
  {
   "cell_type": "code",
   "execution_count": 6,
   "metadata": {},
   "outputs": [],
   "source": [
    "with open(\"pokemons.csv\", \"w\") as sortie:\n",
    "    w = csv.DictWriter(sortie, ['#', 'Name', 'Type 1', 'Type 2', 'Total', \n",
    "                                'HP', 'Attack', 'Defense', 'Sp. Atk', 'Sp. Def', \n",
    "                                'Speed', 'Generation', 'Legendary'])\n",
    "    w.writeheader()\n",
    "    w.writerows(pokemons)"
   ]
  },
  {
   "cell_type": "markdown",
   "metadata": {},
   "source": [
    "Pour utiliser la fonction ``DictWriter``, il faut préciser la liste des attributs en paramètre. La fonction ``writeheader`` permet alors d'écrire la première ligne du fichier CSV, et ``writerows(pokemons)`` permet d'écrire le reste du fichier CSV.\n",
    "\n",
    "*Remarque. &ndash; Si le fichier ``pokemons.csv`` existe déjà, il est écrasé, sinon il est créé.*"
   ]
  },
  {
   "cell_type": "markdown",
   "metadata": {},
   "source": [
    "<font style=\"color:rgb(113,65,224)\">**Exercice 3**    \n",
    "Après avoir exécuté le code précédent, ouvrir le fichier `pokemons.csv` généré à l'aide d'un éditeur de textes ou de code.\n",
    "\n",
    "Pour récupérer le fichier `pokemons.csv` lorsqu'on travaille avec Basthon, il suffit d'exécuter le code de la cellule ci-dessous :\n",
    "</font>"
   ]
  },
  {
   "cell_type": "code",
   "execution_count": null,
   "metadata": {},
   "outputs": [],
   "source": [
    "import basthon\n",
    "basthon.download('pokemons.csv')"
   ]
  },
  {
   "cell_type": "markdown",
   "metadata": {},
   "source": [
    "<font style=\"color:rgb(113,65,224)\">**Exercice 4**    \n",
    "Écrire une fonction ``ecrire_csv`` qui prend en paramètres :\n",
    "  - une chaîne de caractères ``fichier_sortie`` (le nom du fichier CSV de sortie) ;\n",
    "  - une liste d'attributs ``attributs`` (pour la première ligne du fichier CSV de sortie);\n",
    "  - une liste de dictionnaires ``donnees``,\n",
    "et qui écrit dans le fichier CSV les données présentes dans la liste ``donnees``.</font>"
   ]
  },
  {
   "cell_type": "code",
   "execution_count": 7,
   "metadata": {},
   "outputs": [],
   "source": [
    "# À vous de jouer !\n",
    "def ecrire_csv(fichier_sortie, attributs, donnees):\n",
    "    with open(fichier_sortie, \"w\") as sortie:\n",
    "        w = csv.DictWriter(sortie, attributs)\n",
    "        w.writeheader()\n",
    "        w.writerows(donnees)"
   ]
  },
  {
   "cell_type": "markdown",
   "metadata": {},
   "source": [
    "## 2. Un exemple<a id=\"exemple\"></a>\n",
    "\n",
    "Le fichier `top14.csv` contient tous les joueurs du Top14 de rugby de la saison 2019-2020 avec leur date de naissance, leur poste et leurs mensurations."
   ]
  },
  {
   "cell_type": "markdown",
   "metadata": {},
   "source": [
    "### 2.1 Première analyse<a id=\"premiere-analyse\"></a>\n"
   ]
  },
  {
   "cell_type": "markdown",
   "metadata": {},
   "source": [
    "1. Stocker dans une variable `joueurs` les renseignements de tous les joueurs présents dans ce fichier CSV."
   ]
  },
  {
   "cell_type": "code",
   "execution_count": 8,
   "metadata": {},
   "outputs": [],
   "source": [
    "# À vous de jouer !\n",
    "joueurs = ouvrir_csv(\"top14.csv\")"
   ]
  },
  {
   "cell_type": "markdown",
   "metadata": {},
   "source": [
    "2. Combien de joueurs sont présents dans ce fichier ?"
   ]
  },
  {
   "cell_type": "code",
   "execution_count": 9,
   "metadata": {},
   "outputs": [
    {
     "data": {
      "text/plain": [
       "595"
      ]
     },
     "execution_count": 9,
     "metadata": {},
     "output_type": "execute_result"
    }
   ],
   "source": [
    "# À vous de jouer !\n",
    "len(joueurs)"
   ]
  },
  {
   "cell_type": "markdown",
   "metadata": {},
   "source": [
    "3. Quel est le prénom du joueur n°486 ?\n"
   ]
  },
  {
   "cell_type": "code",
   "execution_count": 10,
   "metadata": {},
   "outputs": [
    {
     "data": {
      "text/plain": [
       "{'Equipe': 'Racing92',\n",
       " 'Nom': 'Jordan JOSEPH',\n",
       " 'Poste': '3ème ligne',\n",
       " 'Date de naissance': '31/07/2000',\n",
       " 'Taille': '189',\n",
       " 'Poids': '115'}"
      ]
     },
     "execution_count": 10,
     "metadata": {},
     "output_type": "execute_result"
    }
   ],
   "source": [
    "# À vous de jouer !\n",
    "joueurs[485]"
   ]
  },
  {
   "cell_type": "markdown",
   "metadata": {},
   "source": [
    "### 2.2 Extraction de données particulières<a id=\"extraction-donnees-particulieres\"></a>  \n",
    "\n",
    "4. Où joue Baptiste SERIN ?"
   ]
  },
  {
   "cell_type": "code",
   "execution_count": 11,
   "metadata": {},
   "outputs": [
    {
     "name": "stdout",
     "output_type": "stream",
     "text": [
      "Toulon\n"
     ]
    }
   ],
   "source": [
    "# À vous de jouer !\n",
    "for joueur in joueurs:\n",
    "    if joueur['Nom'] == 'Baptiste SERIN':\n",
    "        print(joueur['Equipe'])"
   ]
  },
  {
   "cell_type": "code",
   "execution_count": 12,
   "metadata": {},
   "outputs": [
    {
     "data": {
      "text/plain": [
       "['Toulon']"
      ]
     },
     "execution_count": 12,
     "metadata": {},
     "output_type": "execute_result"
    }
   ],
   "source": [
    "# Autre solution\n",
    "[joueur['Equipe'] for joueur in joueurs if joueur['Nom'] == 'Baptiste SERIN']"
   ]
  },
  {
   "cell_type": "markdown",
   "metadata": {},
   "source": [
    "5. Qui sont les joueurs de plus de $140$ kg ?"
   ]
  },
  {
   "cell_type": "code",
   "execution_count": 15,
   "metadata": {},
   "outputs": [
    {
     "data": {
      "text/plain": [
       "['Uini ATONIO', 'Malik HAMADACHE']"
      ]
     },
     "execution_count": 15,
     "metadata": {},
     "output_type": "execute_result"
    }
   ],
   "source": [
    "# À vous de jouer !\n",
    "[joueur['Nom'] for joueur in joueurs if int(joueur['Poids']) > 140]"
   ]
  },
  {
   "cell_type": "markdown",
   "metadata": {},
   "source": [
    "### 2.3 Exploitation graphique<a id=\"exploitation-graphique\"></a>\n",
    "\n",
    "#### 2.3.1 Exemple<a id=\"exemple-graphique\"></a>\n",
    "\n",
    "Essayer les instructions ci-dessous :"
   ]
  },
  {
   "cell_type": "code",
   "execution_count": 17,
   "metadata": {},
   "outputs": [
    {
     "data": {
      "image/png": "[encoded data removed]",
      "text/plain": [
       "<Figure size 432x288 with 1 Axes>"
      ]
     },
     "metadata": {
      "needs_background": "light"
     },
     "output_type": "display_data"
    }
   ],
   "source": [
    "import matplotlib.pyplot as plt\n",
    "X = [0, 1, 3, 6]\n",
    "Y = [12, 10, 7, 15]\n",
    "plt.plot(X, Y, 'ro') # r pour red, o pour un cercle. voir https://matplotlib.org/api/markers_api.html\n",
    "plt.show()"
   ]
  },
  {
   "cell_type": "markdown",
   "metadata": {},
   "source": [
    "#### 2.3.2 Application<a id=\"application\"></a>\n",
    "6. Afficher sur un  graphique tous les joueurs de rugby du Top14 (saison 2019-2020) en mettant le poids en abscisse et la taille en ordonnée."
   ]
  },
  {
   "cell_type": "code",
   "execution_count": 20,
   "metadata": {},
   "outputs": [
    {
     "data": {
      "image/png": "[encoded data removed]",
      "text/plain": [
       "<Figure size 432x288 with 1 Axes>"
      ]
     },
     "metadata": {
      "needs_background": "light"
     },
     "output_type": "display_data"
    }
   ],
   "source": [
    "# À vous de jouer !\n",
    "poids = [int(joueur['Poids']) for joueur in joueurs]\n",
    "taille = [int(joueur['Taille']) for joueur in joueurs]\n",
    "plt.clf() # efface les éléments graphiques précédents\n",
    "plt.plot(poids, taille, 'ro') # r pour red, o pour un cercle. voir https://matplotlib.org/api/markers_api.html\n",
    "plt.show()"
   ]
  },
  {
   "cell_type": "markdown",
   "metadata": {},
   "source": [
    "7. Faire apparaître ensuite les joueurs évoluant au poste de Centre en bleu et les 2<sup>e</sup> lignes en vert.\n"
   ]
  },
  {
   "cell_type": "code",
   "execution_count": 23,
   "metadata": {},
   "outputs": [
    {
     "data": {
      "image/png": "[encoded data removed]",
      "text/plain": [
       "<Figure size 432x288 with 1 Axes>"
      ]
     },
     "metadata": {
      "needs_background": "light"
     },
     "output_type": "display_data"
    }
   ],
   "source": [
    "# À vous de jouer !\n",
    "# ensemble des joueurs du Top 14\n",
    "poids = [int(joueur['Poids']) for joueur in joueurs]\n",
    "taille = [int(joueur['Taille']) for joueur in joueurs]\n",
    "# joueurs au poste de Centre\n",
    "poids_centre = [int(joueur['Poids']) for joueur in joueurs if joueur['Poste'] == 'Centre']\n",
    "taille_centre = [int(joueur['Taille']) for joueur in joueurs if joueur['Poste'] == 'Centre']\n",
    "# joueurs au poste de 2e ligne\n",
    "poids_2_ligne = [int(joueur['Poids']) for joueur in joueurs if joueur['Poste'] == '2ème ligne']\n",
    "taille_2_ligne = [int(joueur['Taille']) for joueur in joueurs if joueur['Poste'] == '2ème ligne']\n",
    "plt.clf() # efface les éléments graphiques précédents\n",
    "plt.plot(poids, taille, 'ro') # r pour red, o pour un cercle. voir https://matplotlib.org/api/markers_api.html\n",
    "plt.plot(poids_centre, taille_centre, 'bo') # r pour red, o pour un cercle. voir https://matplotlib.org/api/markers_api.html\n",
    "plt.plot(poids_2_ligne, taille_2_ligne, 'go') # r pour red, o pour un cercle. voir https://matplotlib.org/api/markers_api.html\n",
    "plt.show()"
   ]
  }
 ],
 "metadata": {
  "kernelspec": {
   "display_name": "Python 3 (ipykernel)",
   "language": "python",
   "name": "python3"
  },
  "language_info": {
   "codemirror_mode": {
    "name": "ipython",
    "version": 3
   },
   "file_extension": ".py",
   "mimetype": "text/x-python",
   "name": "python",
   "nbconvert_exporter": "python",
   "pygments_lexer": "ipython3",
   "version": "3.10.10"
  },
  "latex_envs": {
   "LaTeX_envs_menu_present": true,
   "autoclose": false,
   "autocomplete": true,
   "bibliofile": "biblio.bib",
   "cite_by": "apalike",
   "current_citInitial": 1,
   "eqLabelWithNumbers": true,
   "eqNumInitial": 1,
   "hotkeys": {
    "equation": "Ctrl-E",
    "itemize": "Ctrl-I"
   },
   "labels_anchors": false,
   "latex_user_defs": false,
   "report_style_numbering": false,
   "user_envs_cfg": false
  },
  "rise": {
   "scroll": true
  },
  "vscode": {
   "interpreter": {
    "hash": "f9f85f796d01129d0dd105a088854619f454435301f6ffec2fea96ecbd9be4ac"
   }
  }
 },
 "nbformat": 4,
 "nbformat_minor": 2
}
