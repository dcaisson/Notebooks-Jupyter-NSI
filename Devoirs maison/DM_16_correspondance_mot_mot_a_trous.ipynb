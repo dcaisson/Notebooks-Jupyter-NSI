{
 "cells": [
  {
   "cell_type": "markdown",
   "id": "52b43cf9",
   "metadata": {
    "nbgrader": {
     "grade": false,
     "grade_id": "cell-4cd5a49fa7ed955d",
     "locked": true,
     "schema_version": 3,
     "solution": false,
     "task": false
    }
   },
   "source": [
    "# Mot qui correspond à un mot à trous"
   ]
  },
  {
   "cell_type": "markdown",
   "id": "345408ad",
   "metadata": {
    "nbgrader": {
     "grade": false,
     "grade_id": "cell-c89f92d20c8f8fbe",
     "locked": true,
     "schema_version": 3,
     "solution": false,
     "task": false
    }
   },
   "source": [
    "## Introduction"
   ]
  },
  {
   "cell_type": "markdown",
   "id": "95a6006d",
   "metadata": {
    "ExecuteTime": {
     "end_time": "2022-11-24T21:15:03.178558Z",
     "start_time": "2022-11-24T21:15:03.159371Z"
    },
    "nbgrader": {
     "grade": false,
     "grade_id": "cell-a9b5e1f8dc1d7afd",
     "locked": true,
     "schema_version": 3,
     "solution": false,
     "task": false
    }
   },
   "source": [
    "**Mot à trous**  \n",
    "- Un mot est ici une chaine de caractères composée uniquement de lettres de l'alphabet.\n",
    "- Un mot à trous comporte également zéro, une ou plusieurs fois le caractère `\".\"`.\n",
    "\n",
    "On dira que `mot_complet` correspond à `mot_a_trous`, si on peut remplacer chaque `\".\"` de `mot_a_trous` par une lettre de façon à obtenir `mot_complet`. \n",
    "\n",
    "Par exemple :  \n",
    "- `\"INFO.MA.IQUE\"` est un mot à trous ;\n",
    "- `\"INFORMATIQUE\"` est un mot qui lui correspond ;\n",
    "- `\"AUTOMATIQUE\"` est un mot qui ne lui correspond pas."
   ]
  },
  {
   "cell_type": "markdown",
   "id": "209e7600",
   "metadata": {
    "nbgrader": {
     "grade": false,
     "grade_id": "cell-f220c033341db972",
     "locked": true,
     "schema_version": 3,
     "solution": false,
     "task": false
    }
   },
   "source": [
    "## Travail à faire"
   ]
  },
  {
   "cell_type": "markdown",
   "id": "6900fc9a",
   "metadata": {
    "nbgrader": {
     "grade": false,
     "grade_id": "cell-a63ac44da39be2b0",
     "locked": true,
     "schema_version": 3,
     "solution": false,
     "task": false
    }
   },
   "source": [
    "Écrire une fonction telle que `correspond(mot_complet, mot_a_trous)` renvoie un booléen qui détermine si `mot_complet` correspond à `mot_a_trous`."
   ]
  },
  {
   "cell_type": "code",
   "execution_count": 8,
   "id": "dee19907",
   "metadata": {
    "ExecuteTime": {
     "end_time": "2022-11-24T21:22:43.728424Z",
     "start_time": "2022-11-24T21:22:43.718564Z"
    },
    "nbgrader": {
     "grade": false,
     "grade_id": "cell-7862e2447a80203f",
     "locked": false,
     "schema_version": 3,
     "solution": true,
     "task": false
    }
   },
   "outputs": [],
   "source": [
    "# À vous de jouer\n",
    "def  correspond(mot_complet, mot_a_trous):\n",
    "    ### BEGIN SOLUTION\n",
    "    resultat = True\n",
    "    if len(mot_complet) != len(mot_a_trous):\n",
    "        resultat = False\n",
    "    else:\n",
    "        for i in range(len(mot_complet)):\n",
    "            if mot_a_trous[i] != \".\" and mot_a_trous[i] != mot_complet[i]:\n",
    "                resultat = False\n",
    "    return resultat\n",
    "    ### END SOLUTION"
   ]
  },
  {
   "cell_type": "code",
   "execution_count": 9,
   "id": "e732d3b2",
   "metadata": {
    "ExecuteTime": {
     "end_time": "2022-11-24T21:22:44.124071Z",
     "start_time": "2022-11-24T21:22:44.114286Z"
    },
    "nbgrader": {
     "grade": true,
     "grade_id": "cell-e71e6d23d5cfbdaa",
     "locked": true,
     "points": 4,
     "schema_version": 3,
     "solution": false,
     "task": false
    }
   },
   "outputs": [],
   "source": [
    "assert correspond(\"MAL\", \"MAL..\") == False\n",
    "assert correspond(\"INFORMATIQUE\", \"INFO.MA.IQUE\") == True\n",
    "assert correspond(\"AUTOMATIQUE\", \"INFO.MA.IQUE\") == False\n",
    "assert correspond(\"INFO\", \"INFO.MA.IQUE\") == False\n",
    "assert correspond(\"INFORMATIQUES\", \"INFO.MA.IQUE\") == False\n",
    "### BEGIN HIDDEN TESTS\n",
    "assert correspond(\"MOTO\", \"M.T.\") == True\n",
    "assert correspond(\"ACCIDENT\", \"..CIDENT\") == True\n",
    "assert correspond(\"ACCIDENT\", \"I.CIDENT\") == False\n",
    "assert correspond(\"CONJECTURE\", \"CONJO.CTURE\") == False\n",
    "### END HIDDEN TESTS"
   ]
  }
 ],
 "metadata": {
  "celltoolbar": "Create Assignment",
  "kernelspec": {
   "display_name": "Python 3",
   "language": "python",
   "name": "python3"
  },
  "language_info": {
   "codemirror_mode": {
    "name": "ipython",
    "version": 3
   },
   "file_extension": ".py",
   "mimetype": "text/x-python",
   "name": "python",
   "nbconvert_exporter": "python",
   "pygments_lexer": "ipython3",
   "version": "3.9.7"
  },
  "toc": {
   "base_numbering": 1,
   "nav_menu": {},
   "number_sections": false,
   "sideBar": true,
   "skip_h1_title": true,
   "title_cell": "Table des matières",
   "title_sidebar": "Sommaire",
   "toc_cell": false,
   "toc_position": {},
   "toc_section_display": true,
   "toc_window_display": false
  }
 },
 "nbformat": 4,
 "nbformat_minor": 5
}
