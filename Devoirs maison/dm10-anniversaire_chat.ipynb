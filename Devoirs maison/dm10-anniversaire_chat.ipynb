{
 "cells": [
  {
   "cell_type": "markdown",
   "id": "a1bfdae6",
   "metadata": {
    "nbgrader": {
     "grade": false,
     "grade_id": "cell-4c780ca4e4b132b3",
     "locked": true,
     "schema_version": 3,
     "solution": false,
     "task": false
    }
   },
   "source": [
    "# Devoir maison 10 &ndash; Anniversaire de chat"
   ]
  },
  {
   "cell_type": "markdown",
   "id": "1139c503",
   "metadata": {
    "nbgrader": {
     "grade": false,
     "grade_id": "cell-fb1a0cf5e7137a6f",
     "locked": true,
     "schema_version": 3,
     "solution": false,
     "task": false
    }
   },
   "source": [
    "## Introduction"
   ]
  },
  {
   "cell_type": "markdown",
   "id": "d47b5708",
   "metadata": {
    "nbgrader": {
     "grade": false,
     "grade_id": "cell-e7223382de8d93f6",
     "locked": true,
     "schema_version": 3,
     "solution": false,
     "task": false
    }
   },
   "source": [
    "Lorsqu'un chat souhaite offrir une carte d'anniversaire à un ami chat, il lui offre une carte avec un chat tout mignon avec un texte sur son âge dans sa vie actuelle. Oui, les chats ont plusieurs vies... Ce qui fait de très nombreuses cartes possibles à créer.\n",
    "\n",
    "La société _CatCard_ propose de personnaliser la carte avec un texte en anglais (`\"en\"`) ou en français (`\"fr\"`) qui dépend de l'`age` et du `num_vie` (des entiers strictement positifs). Si langue demandée n'est ni `\"fr\"`, ni `\"en\"`, la société _CatCard_ propose une réponse `'Je donne ma langue au chat'`."
   ]
  },
  {
   "cell_type": "markdown",
   "id": "2a25474f",
   "metadata": {
    "nbgrader": {
     "grade": false,
     "grade_id": "cell-5759e3432f7e6446",
     "locked": true,
     "schema_version": 3,
     "solution": false,
     "task": false
    }
   },
   "source": [
    "### Exemples de cartes"
   ]
  },
  {
   "cell_type": "markdown",
   "id": "a99816a3",
   "metadata": {
    "nbgrader": {
     "grade": false,
     "grade_id": "cell-08412909b109f2e0",
     "locked": true,
     "schema_version": 3,
     "solution": false,
     "task": false
    }
   },
   "source": [
    "![cartes en français et en anglais](channiv_fr_en.jpeg)"
   ]
  },
  {
   "cell_type": "markdown",
   "id": "9e69c0da",
   "metadata": {
    "nbgrader": {
     "grade": false,
     "grade_id": "cell-3c726dcbb1b05bbd",
     "locked": true,
     "schema_version": 3,
     "solution": false,
     "task": false
    }
   },
   "source": [
    "### Travail à faire"
   ]
  },
  {
   "cell_type": "markdown",
   "id": "2c6ec2fb",
   "metadata": {
    "nbgrader": {
     "grade": false,
     "grade_id": "cell-665692fcbf72f823",
     "locked": true,
     "schema_version": 3,
     "solution": false,
     "task": false
    }
   },
   "source": [
    "Écrire une fonction `channiv` qui renvoie le texte demandé suivant les exemples suivants :\n",
    "\n",
    "```python\n",
    ">>> channiv(3, 4)\n",
    "'Joyeux 3e channiversaire de ta 4e vie'\n",
    ">>> channiv(3, 4, \"en\")\n",
    "'Happy purrthday, for 3rd year of 4th life'\n",
    ">>> channiv(1, 1, \"fr\")\n",
    "'Joyeux 1er channiversaire de ta 1re vie'\n",
    ">>> channiv(1, 1, \"en\")\n",
    "'Happy purrthday, for 1st year of 1st life'\n",
    ">>> channiv(3, 4, \"miaou\")\n",
    "'Je donne ma langue au chat'\n",
    "```"
   ]
  },
  {
   "cell_type": "markdown",
   "id": "97f56518",
   "metadata": {
    "nbgrader": {
     "grade": false,
     "grade_id": "cell-8091b576d6ddd8b1",
     "locked": true,
     "schema_version": 3,
     "solution": false,
     "task": false
    }
   },
   "source": [
    "#### Indication\n",
    "\n",
    "On pourra constater que `channiv(3, 4)` est équivalent à `channiv(3, 4, \"fr\")`, en effet la majorité des clients de CatCard sont français et veulent que la fonction soit configurée pour renvoyer par défaut un texte en français.\n",
    "\n",
    "**Le mécanisme pour ce faire est le paramètre par défaut `lang` dans la définition de `channiv` :**\n",
    "\n",
    "    ```python\n",
    "    def channiv(age, num_vie, lang=\"fr\"):\n",
    "    ```"
   ]
  },
  {
   "cell_type": "markdown",
   "id": "39731d35",
   "metadata": {
    "nbgrader": {
     "grade": false,
     "grade_id": "cell-7c27729ce2c86999",
     "locked": true,
     "schema_version": 3,
     "solution": false,
     "task": false
    }
   },
   "source": [
    "#### Remarque\n",
    "\n",
    "- En français, on place **seulement** un `e` après le nombre, sauf pour `1er` (premier) et `1re` (première).\n",
    "\n",
    "    > On trouve souvent des abréviations en `ème`, elles ne sont pas recommandées, sauf pour le cas d'une lettre comme nième, ou pième.\n",
    "\n",
    "- En anglais, on place `th` après le nombre, sauf pour `1st` (_first_), `2nd` (_second_) et `3rd` (_third_)."
   ]
  },
  {
   "cell_type": "code",
   "execution_count": 3,
   "id": "2266880c",
   "metadata": {
    "ExecuteTime": {
     "end_time": "2022-11-07T23:38:48.044062Z",
     "start_time": "2022-11-07T23:38:48.034457Z"
    },
    "nbgrader": {
     "grade": false,
     "grade_id": "cell-89b5d7080d117834",
     "locked": false,
     "schema_version": 3,
     "solution": true,
     "task": false
    }
   },
   "outputs": [],
   "source": [
    "# À vous de jouer !\n",
    "def channiv(age, num_vie, lang=\"fr\"):\n",
    "    ### BEGIN SOLUTION\n",
    "    if lang == \"fr\":\n",
    "        carte = \"Joyeux \"\n",
    "        carte += str(age)\n",
    "        if age == 1:\n",
    "            carte += \"er\"\n",
    "        else:\n",
    "            carte += \"e\"\n",
    "        carte += \" channiversaire de ta \"\n",
    "        carte += str(num_vie)\n",
    "        if num_vie == 1:\n",
    "            carte += \"re\"\n",
    "        else:\n",
    "            carte += \"e\"\n",
    "        carte += \" vie\"\n",
    "        return carte\n",
    "    elif lang == \"en\":\n",
    "        carte = \"Happy purrthday, for \"\n",
    "        carte += str(age)\n",
    "        if age == 1:\n",
    "            carte += \"st\"\n",
    "        elif age == 2:\n",
    "            carte += \"nd\"\n",
    "        elif age == 3:\n",
    "            carte += \"rd\"\n",
    "        else:\n",
    "            carte += \"th\"\n",
    "        carte += \" year of \"\n",
    "        carte += str(num_vie)\n",
    "        if num_vie == 1:\n",
    "            carte += \"st\"\n",
    "        elif num_vie == 2:\n",
    "            carte += \"nd\"\n",
    "        elif num_vie == 3:\n",
    "            carte += \"rd\"\n",
    "        else:\n",
    "            carte += \"th\"\n",
    "        carte += \" life\"\n",
    "        return carte\n",
    "    else:\n",
    "        return \"Je donne ma langue au chat\"\n",
    "    ### END SOLUTION"
   ]
  },
  {
   "cell_type": "code",
   "execution_count": 5,
   "id": "a67bc42c",
   "metadata": {
    "ExecuteTime": {
     "end_time": "2022-11-07T23:40:52.779380Z",
     "start_time": "2022-11-07T23:40:52.771226Z"
    },
    "nbgrader": {
     "grade": true,
     "grade_id": "cell-b2d8fc6e330fac18",
     "locked": true,
     "points": 5,
     "schema_version": 3,
     "solution": false,
     "task": false
    }
   },
   "outputs": [],
   "source": [
    "assert channiv(3, 4) == 'Joyeux 3e channiversaire de ta 4e vie'\n",
    "assert channiv(3, 4, \"en\") == 'Happy purrthday, for 3rd year of 4th life'\n",
    "assert channiv(1, 1, \"fr\") == 'Joyeux 1er channiversaire de ta 1re vie'\n",
    "assert channiv(1, 1, \"en\") == 'Happy purrthday, for 1st year of 1st life'\n",
    "assert channiv(3, 4, \"miaou\") == 'Je donne ma langue au chat'\n",
    "### BEGIN HIDDEN TESTS\n",
    "assert channiv(4, 1) == 'Joyeux 4e channiversaire de ta 1re vie'\n",
    "assert channiv(4, 2, \"en\") == 'Happy purrthday, for 4th year of 2nd life'\n",
    "assert channiv(2, 4, \"fr\") == 'Joyeux 2e channiversaire de ta 4e vie'\n",
    "assert channiv(3, 2, \"en\") == 'Happy purrthday, for 3rd year of 2nd life'\n",
    "assert channiv(2, 2, \"miaaaouuu\") == 'Je donne ma langue au chat'\n",
    "### END HIDDEN TESTS"
   ]
  }
 ],
 "metadata": {
  "celltoolbar": "Create Assignment",
  "kernelspec": {
   "display_name": "Python 3 (ipykernel)",
   "language": "python",
   "name": "python3"
  },
  "language_info": {
   "codemirror_mode": {
    "name": "ipython",
    "version": 3
   },
   "file_extension": ".py",
   "mimetype": "text/x-python",
   "name": "python",
   "nbconvert_exporter": "python",
   "pygments_lexer": "ipython3",
   "version": "3.10.8"
  },
  "latex_envs": {
   "LaTeX_envs_menu_present": true,
   "autoclose": false,
   "autocomplete": true,
   "bibliofile": "biblio.bib",
   "cite_by": "apalike",
   "current_citInitial": 1,
   "eqLabelWithNumbers": true,
   "eqNumInitial": 1,
   "hotkeys": {
    "equation": "Ctrl-E",
    "itemize": "Ctrl-I"
   },
   "labels_anchors": false,
   "latex_user_defs": false,
   "report_style_numbering": false,
   "user_envs_cfg": false
  },
  "toc": {
   "base_numbering": 1,
   "nav_menu": {},
   "number_sections": false,
   "sideBar": true,
   "skip_h1_title": true,
   "title_cell": "Table des matières",
   "title_sidebar": "Sommaire",
   "toc_cell": false,
   "toc_position": {},
   "toc_section_display": true,
   "toc_window_display": false
  }
 },
 "nbformat": 4,
 "nbformat_minor": 5
}
