{
 "cells": [
  {
   "cell_type": "markdown",
   "id": "989ad9c6",
   "metadata": {
    "nbgrader": {
     "grade": false,
     "grade_id": "cell-b7fbde91a6e07c4c",
     "locked": true,
     "schema_version": 3,
     "solution": false,
     "task": false
    }
   },
   "source": [
    "# Devoir maison 1 &ndash; Les fonctions"
   ]
  },
  {
   "cell_type": "markdown",
   "id": "4f3d6367",
   "metadata": {
    "nbgrader": {
     "grade": false,
     "grade_id": "cell-c497ed902d951167",
     "locked": true,
     "schema_version": 3,
     "solution": false,
     "task": false
    }
   },
   "source": [
    "## 1. Aire d'un disque"
   ]
  },
  {
   "cell_type": "markdown",
   "id": "5e7d0024",
   "metadata": {
    "nbgrader": {
     "grade": false,
     "grade_id": "cell-0509e977f0cec589",
     "locked": true,
     "schema_version": 3,
     "solution": false,
     "task": false
    }
   },
   "source": [
    "1. Faites des recherches sur Internet afin de trouver comment utiliser $\\pi$ en Python."
   ]
  },
  {
   "cell_type": "code",
   "execution_count": 1,
   "id": "88f8fd95",
   "metadata": {
    "ExecuteTime": {
     "end_time": "2022-08-29T06:34:13.491719Z",
     "start_time": "2022-08-29T06:34:13.486543Z"
    },
    "nbgrader": {
     "grade": true,
     "grade_id": "cell-8d8d82ef089e766d",
     "locked": false,
     "points": 1,
     "schema_version": 3,
     "solution": true,
     "task": false
    }
   },
   "outputs": [],
   "source": [
    "# Écrire ici une ligne permettant d' \"utiliser\" le nombre pi en Python"
   ]
  },
  {
   "cell_type": "markdown",
   "id": "22b04988",
   "metadata": {
    "nbgrader": {
     "grade": false,
     "grade_id": "cell-345a547985454cb1",
     "locked": true,
     "schema_version": 3,
     "solution": false,
     "task": false
    }
   },
   "source": [
    "2. Compléter la fonction suivante afin qu'elle renvoie l'aire d'un disque de rayon ``r``."
   ]
  },
  {
   "cell_type": "code",
   "execution_count": 1,
   "id": "8f05fc6e",
   "metadata": {
    "ExecuteTime": {
     "end_time": "2022-08-29T06:54:41.908024Z",
     "start_time": "2022-08-29T06:54:41.901036Z"
    },
    "nbgrader": {
     "grade": true,
     "grade_id": "cell-da32bb4e3d1265c8",
     "locked": false,
     "points": 1,
     "schema_version": 3,
     "solution": true,
     "task": false
    }
   },
   "outputs": [],
   "source": [
    "# À vous de jouer\n",
    "def aire_disque(r):\n",
    "    ### BEGIN SOLUTION\n",
    "    return pi * r ** 2\n",
    "    ### END SOLUTION"
   ]
  },
  {
   "cell_type": "markdown",
   "id": "45f41d77",
   "metadata": {
    "ExecuteTime": {
     "end_time": "2022-08-29T06:34:37.886125Z",
     "start_time": "2022-08-29T06:34:37.881122Z"
    },
    "nbgrader": {
     "grade": false,
     "grade_id": "cell-e31fd7e351788c0e",
     "locked": true,
     "schema_version": 3,
     "solution": false,
     "task": false
    }
   },
   "source": [
    "3. Effectuer les appels de fonctions nécessaires au calcul :\n",
    "    - d'un disque de rayon 2 ;\n",
    "    - d'un disque de rayon 3,7."
   ]
  },
  {
   "cell_type": "code",
   "execution_count": 7,
   "id": "386e270d",
   "metadata": {
    "ExecuteTime": {
     "end_time": "2022-08-29T06:36:35.476601Z",
     "start_time": "2022-08-29T06:36:35.473640Z"
    },
    "nbgrader": {
     "grade": true,
     "grade_id": "cell-7139ceba87c34d72",
     "locked": false,
     "points": 1,
     "schema_version": 3,
     "solution": true,
     "task": false
    }
   },
   "outputs": [],
   "source": [
    "# Appel 1 (aire d'un disque de rayon 2)"
   ]
  },
  {
   "cell_type": "code",
   "execution_count": 8,
   "id": "caef9f62",
   "metadata": {
    "ExecuteTime": {
     "end_time": "2022-08-29T06:36:39.860340Z",
     "start_time": "2022-08-29T06:36:39.857482Z"
    },
    "nbgrader": {
     "grade": true,
     "grade_id": "cell-b4d65abb84cd44be",
     "locked": false,
     "points": 1,
     "schema_version": 3,
     "solution": true,
     "task": false
    }
   },
   "outputs": [],
   "source": [
    "# Appel 2 (aire d'un disque de rayon 3,7)"
   ]
  },
  {
   "cell_type": "markdown",
   "id": "5bc06083",
   "metadata": {
    "nbgrader": {
     "grade": false,
     "grade_id": "cell-e7ebc8419352207f",
     "locked": true,
     "schema_version": 3,
     "solution": false,
     "task": false
    }
   },
   "source": [
    "## 2. Indice de masse corporelle"
   ]
  },
  {
   "cell_type": "markdown",
   "id": "f0d1af8e",
   "metadata": {
    "nbgrader": {
     "grade": false,
     "grade_id": "cell-4cb20572103edcf1",
     "locked": true,
     "schema_version": 3,
     "solution": false,
     "task": false
    }
   },
   "source": [
    "L'indice de masse corporelle (IMC) d'un individu se calcule grâce à la formule :  \n",
    "\n",
    "$$\\dfrac{m}{t^2}$$\n",
    "\n",
    "où $m$ est la masse de l'individu en kilogrammes et $t$ sa taille en mètres."
   ]
  },
  {
   "cell_type": "markdown",
   "id": "7197687b",
   "metadata": {
    "nbgrader": {
     "grade": false,
     "grade_id": "cell-3f93057446046430",
     "locked": true,
     "schema_version": 3,
     "solution": false,
     "task": false
    }
   },
   "source": [
    "1. Écrire une fonction ``imc`` afin qu'elle renvoie l'IMC d'une personne à partir de sa masse ``m`` (en kg) et de sa taille ``t`` (en m) données en paramètres."
   ]
  },
  {
   "cell_type": "code",
   "execution_count": 4,
   "id": "a21c0d01",
   "metadata": {
    "ExecuteTime": {
     "end_time": "2022-08-29T06:35:14.222212Z",
     "start_time": "2022-08-29T06:35:14.218977Z"
    },
    "nbgrader": {
     "grade": true,
     "grade_id": "cell-fba228112032736c",
     "locked": false,
     "points": 1,
     "schema_version": 3,
     "solution": true,
     "task": false
    }
   },
   "outputs": [],
   "source": [
    "# À vous de jouer"
   ]
  },
  {
   "cell_type": "markdown",
   "id": "90403e7e",
   "metadata": {
    "nbgrader": {
     "grade": false,
     "grade_id": "cell-eecfb90c284a6c6b",
     "locked": true,
     "schema_version": 3,
     "solution": false,
     "task": false
    }
   },
   "source": [
    "2. Effectuer les appels de fonctions nécessaires au calcul de l'IMC d'un personne :\n",
    "- de masse 75 kg et de taille 1,85 m ;\n",
    "- de masse 95 kg et de taille 1,92 m."
   ]
  },
  {
   "cell_type": "code",
   "execution_count": 5,
   "id": "0df4a0d6",
   "metadata": {
    "ExecuteTime": {
     "end_time": "2022-08-29T06:35:26.579763Z",
     "start_time": "2022-08-29T06:35:26.576986Z"
    },
    "nbgrader": {
     "grade": true,
     "grade_id": "cell-a30010635fac83ce",
     "locked": false,
     "points": 1,
     "schema_version": 3,
     "solution": true,
     "task": false
    }
   },
   "outputs": [],
   "source": [
    "# Appel 1 (personne de masse 75 kg et de taille 1,85 m)"
   ]
  },
  {
   "cell_type": "code",
   "execution_count": 6,
   "id": "7684734b",
   "metadata": {
    "ExecuteTime": {
     "end_time": "2022-08-29T06:35:32.221438Z",
     "start_time": "2022-08-29T06:35:32.218121Z"
    },
    "nbgrader": {
     "grade": true,
     "grade_id": "cell-579fe71f8a717b26",
     "locked": false,
     "points": 1,
     "schema_version": 3,
     "solution": true,
     "task": false
    }
   },
   "outputs": [],
   "source": [
    "# Appel 2 (personne de masse 95 kg et de taille 1,92 m)"
   ]
  }
 ],
 "metadata": {
  "celltoolbar": "Create Assignment",
  "kernelspec": {
   "display_name": "Python 3",
   "language": "python",
   "name": "python3"
  },
  "language_info": {
   "codemirror_mode": {
    "name": "ipython",
    "version": 3
   },
   "file_extension": ".py",
   "mimetype": "text/x-python",
   "name": "python",
   "nbconvert_exporter": "python",
   "pygments_lexer": "ipython3",
   "version": "3.9.7"
  },
  "toc": {
   "base_numbering": 1,
   "nav_menu": {},
   "number_sections": false,
   "sideBar": true,
   "skip_h1_title": true,
   "title_cell": "Table des matières",
   "title_sidebar": "Sommaire",
   "toc_cell": false,
   "toc_position": {},
   "toc_section_display": true,
   "toc_window_display": false
  }
 },
 "nbformat": 4,
 "nbformat_minor": 5
}
