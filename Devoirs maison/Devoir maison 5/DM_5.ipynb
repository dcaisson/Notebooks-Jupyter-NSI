{
 "cells": [
  {
   "cell_type": "markdown",
   "metadata": {},
   "source": [
    "# Devoir maison 5"
   ]
  },
  {
   "cell_type": "markdown",
   "metadata": {},
   "source": [
    "# Exercice 1"
   ]
  },
  {
   "cell_type": "markdown",
   "metadata": {},
   "source": [
    "On se donne une chaîne de caractères appelée ``motif`` ainsi qu'un ensemble de règles du type *&laquo; Si le caractère lu est un ``a`` , remplace-le par ``ab`` &raquo;*.\n",
    "\n",
    "L'ensemble de ces règles est stocké dans un dictionnaire Python dans lequel les clés sont les caractères lus et les valeurs, la chaîne de caractères par laquelle ces caractères doivent être remplacés.\n",
    "\n",
    "Si le caractère lu ne fait pas partie des clés du dictionnaire, il n'est associé à aucune règle et est donc recopié à l'identique."
   ]
  },
  {
   "cell_type": "markdown",
   "metadata": {},
   "source": [
    "**Exemple**  \n",
    "\n",
    "On prend pour règles ``{'a': 'ab', 'b': 'ac', 'c': 'd'}``.\n",
    "\n",
    "On prend pour motif de départ ``a``.\n",
    "\n",
    "- Après une transformation on obtient ``ab``."
   ]
  },
  {
   "cell_type": "markdown",
   "metadata": {},
   "source": [
    "Il est aussi possible d'effectuer cette transformation plusieurs fois de suite en l'appliquant à chaque étape au résultat de l'étape précédente."
   ]
  },
  {
   "cell_type": "markdown",
   "metadata": {},
   "source": [
    "On garde pour règles ``{'a': 'ab', 'b': 'ac', 'c': 'd'}``.\n",
    "\n",
    "On prend pour encore motif de départ ``a``.\n",
    "\n",
    "- Après une transformation on obtient ``ab``.\n",
    "\n",
    "- Après deux transformations on obtient ``abac``.\n",
    "\n",
    "- Après trois transformations on obtient ``abacabd``."
   ]
  },
  {
   "cell_type": "markdown",
   "metadata": {},
   "source": [
    "Le but de cet exercice est d'écrire deux fonctions Python :\n",
    "-  ``etape(motif, regles)`` prend en argument un motif initial (une chaîne de caractères) ainsi qu'un ensemble de règles (un dictionnaire) et renvoie la chaîne obtenue après une transformation ;\n",
    "- ``n_etapes(motif, regles, n)`` prend en argument un motif initial (une chaîne de caractères), un ensemble de règles (un dictionnaire) ainsi qu'un entier ``n`` et renvoie le résultat obtenu après ``n`` transformations."
   ]
  },
  {
   "cell_type": "code",
   "execution_count": null,
   "metadata": {},
   "outputs": [],
   "source": [
    "# À vous de jouer !\n",
    "def etape(motif, regles):\n",
    "    pass\n",
    "\n",
    "\n",
    "def n_etapes(motif, regles, n):\n",
    "    pass"
   ]
  },
  {
   "cell_type": "code",
   "execution_count": null,
   "metadata": {},
   "outputs": [],
   "source": [
    "# Tests\n",
    "regles = {'a': 'ab', 'b': 'ac', 'c': 'd'}\n",
    "motif = 'a'\n",
    "assert etape(motif, regles) == 'ab'\n",
    "assert n_etapes(motif, regles, 2) == 'abac'\n",
    "assert n_etapes(motif, regles, 3) == 'abacabd'\n",
    "assert n_etapes(motif, regles, 5) == 'abacabdabacdabacabdd'\n",
    "assert n_etapes(\"rien ne change !\", {'z': 'y'}, 50) == 'rien ne change !'"
   ]
  },
  {
   "cell_type": "markdown",
   "metadata": {},
   "source": [
    "# Exercice 2"
   ]
  },
  {
   "cell_type": "markdown",
   "metadata": {},
   "source": [
    "**On n'utilisera pas min, sort ou sorted dans cet exercice.**\n",
    "\n",
    "Un livreur new-yorkais organise sa tournée. Le quartier dans lequel il évolue est un quadrillage : toutes les rues suivent l'axe Nord ↔ Sud ou l'axe Est ↔ Ouest.\n",
    "\n",
    "Les adresses de ses livraisons sont donc des couples de coordonnées, ``(2, 3)`` par exemple. La première coordonnée est l'abscisse du point, la seconde son ordonnée.\n",
    "\n",
    "Ces adresses sont données dans une liste Python. Par exemple :"
   ]
  },
  {
   "cell_type": "code",
   "execution_count": 1,
   "metadata": {},
   "outputs": [],
   "source": [
    "adresses = [(2, 0), (0, 1), (3, 3), (2, 3)]"
   ]
  },
  {
   "cell_type": "markdown",
   "metadata": {},
   "source": [
    "Ce qui correspond à la carte ci-dessous :\n",
    "    \n",
    "![carte.png](https://github.com/dcaisson/Notebooks-Jupyter-NSI/blob/main/Devoirs%20maison/Devoir%20maison%205/carte.png?raw=true)"
   ]
  },
  {
   "cell_type": "markdown",
   "metadata": {},
   "source": [
    "Afin de déterminer son itinéraire, il décide de toujours livrer en priorité l'adresse la plus &laquo; proche &raquo; de sa position actuelle. Se déplaçant le long des rues, il mesure la distance $A$ entre deux points de coordonnées $(x_A;y_A)$ et $(x_B;y_B)$ en faisant :\n",
    "\n",
    "$$AB=abs(x_B-x_A)+abs(y_B-y_A)$$\n",
    "\n",
    "où $abs(x)$ est la valeur absolue du nombre $x$."
   ]
  },
  {
   "cell_type": "markdown",
   "metadata": {},
   "source": [
    "Le but de cet exercice est d'écrire deux fonctions Python :\n",
    "- une fonction ``distance(xA, yA, xB, yB)`` calculant la distance entre deux points dont on fournit les coordonnées ;\n",
    "- une fonction ``prochaine_livraison(adresses, pos_x, pos_y)`` prenant en argument la liste des adresses à livrer et la position actuelle du livreur (``pos_x`` et ``pos_y``) et renvoyant les coordonnées du prochain point à livrer."
   ]
  },
  {
   "cell_type": "markdown",
   "metadata": {},
   "source": [
    "**Exemples**\n",
    "```python\n",
    ">>> distance(0, 1, 2, 3)\n",
    "4\n",
    ">>> adresses = [(2, 0), (0, 1), (3, 3), (2, 3)]\n",
    ">>> prochaine_livraison(adresses, 0, 0)\n",
    "(0, 1)\n",
    "```"
   ]
  },
  {
   "cell_type": "markdown",
   "metadata": {},
   "source": [
    "```python\n",
    ">>> adresses = [(2, 0), (3, 3), (2, 3)]\n",
    ">>> prochaine_livraison(adresses, 0, 1)\n",
    "(2, 0)\n",
    "```"
   ]
  },
  {
   "cell_type": "markdown",
   "metadata": {},
   "source": [
    "```python\n",
    ">>> adresses = [(3, 3), (2, 3)]\n",
    ">>> prochaine_livraison(adresses, 2, 0)\n",
    "(2, 3)\n",
    "```"
   ]
  },
  {
   "cell_type": "markdown",
   "metadata": {},
   "source": [
    "```python\n",
    ">>> adresses = [(3, 3)]\n",
    ">>> prochaine_livraison(adresses, 2, 3)\n",
    "(3, 3)\n",
    "```"
   ]
  },
  {
   "cell_type": "markdown",
   "metadata": {},
   "source": [
    "```python\n",
    ">>> adresses = [(1, 0), (0, 1)]\n",
    ">>> prochaine_livraison(adresses, 0, 0)\n",
    "(1, 0)\n",
    "```"
   ]
  },
  {
   "cell_type": "code",
   "execution_count": 3,
   "metadata": {},
   "outputs": [],
   "source": [
    "# À vous de jouer !\n",
    "def distance(xA, yA, xB, yB):\n",
    "    pass\n",
    "\n",
    "\n",
    "def prochaine_livraison(livraisons, pos_x, pos_y):\n",
    "    pass"
   ]
  },
  {
   "cell_type": "code",
   "execution_count": null,
   "metadata": {},
   "outputs": [],
   "source": [
    "# Tests\n",
    "assert distance(0, 1, 2, 3) == 4\n",
    "adresses = [(2, 0), (0, 1), (3, 3), (2, 3)]\n",
    "assert prochaine_livraison(adresses, 0, 0) == (0, 1)\n",
    "adresses = [(2, 0), (3, 3), (2, 3)]\n",
    "assert prochaine_livraison(adresses, 0, 1) == (2, 0)\n",
    "adresses = [(3, 3), (2, 3)]\n",
    "assert prochaine_livraison(adresses, 2, 0) == (2, 3)\n",
    "adresses = [(3, 3)]\n",
    "assert prochaine_livraison(adresses, 2, 3) == (3, 3)\n",
    "adresses = [(1, 0), (0, 1)]\n",
    "assert prochaine_livraison(adresses, 0, 0) == (1, 0)"
   ]
  }
 ],
 "metadata": {
  "kernelspec": {
   "display_name": "Python 3 (ipykernel)",
   "language": "python",
   "name": "python3"
  },
  "language_info": {
   "codemirror_mode": {
    "name": "ipython",
    "version": 3
   },
   "file_extension": ".py",
   "mimetype": "text/x-python",
   "name": "python",
   "nbconvert_exporter": "python",
   "pygments_lexer": "ipython3",
   "version": "3.9.10"
  },
  "latex_envs": {
   "LaTeX_envs_menu_present": true,
   "autoclose": false,
   "autocomplete": true,
   "bibliofile": "biblio.bib",
   "cite_by": "apalike",
   "current_citInitial": 1,
   "eqLabelWithNumbers": true,
   "eqNumInitial": 1,
   "hotkeys": {
    "equation": "Ctrl-E",
    "itemize": "Ctrl-I"
   },
   "labels_anchors": false,
   "latex_user_defs": false,
   "report_style_numbering": false,
   "user_envs_cfg": false
  }
 },
 "nbformat": 4,
 "nbformat_minor": 2
}
