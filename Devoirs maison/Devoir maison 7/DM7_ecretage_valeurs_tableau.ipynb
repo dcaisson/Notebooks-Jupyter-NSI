{
 "cells": [
  {
   "cell_type": "markdown",
   "metadata": {},
   "source": [
    "# Devoir maison 7 &ndash; Écrêtage des valeurs d'un tableau"
   ]
  },
  {
   "cell_type": "markdown",
   "metadata": {},
   "source": [
    "# Écrêtage des valeurs d'un tableau\n",
    "\n",
    "L'écrêtage d'un signal consiste à limiter l'amplitude du signal entre deux valeurs `x_min` et `x_max`. On peut également appliquer cela aux valeurs d'un tableau. Voici par exemple un tableau `valeurs` que l'on a écrêté entre $-150$ et $150$ pour donner le tableau `valeurs_ecretees` :\n",
    "\n",
    "```python\n",
    "valeurs = [34, 56, 89, 134, 152, 250, 87, -34, -187, -310]\n",
    "valeurs_ecretees = [34, 56, 89, 134, 150, 150, 87, -34, -150, -150]\n",
    "```"
   ]
  },
  {
   "cell_type": "markdown",
   "metadata": {},
   "source": [
    "## Question 1\n",
    "\n",
    "Écrire une fonction `limite_amplitude` qui prend en paramètre un nombre `x` ainsi que deux nombres `x_min` et `x_max` avec `x_min <= x_max` et qui renvoie :\n",
    "\n",
    "- `x` si `x` est compris entre `x_min` et `x_max`,\n",
    "- `x_min` si `x` est plus petit que `x_min`,\n",
    "- `x_max` si `x` est plus grand que `x_max`.\n",
    "\n",
    "```python\n",
    ">>> limite_amplitude(34, -150, 150)\n",
    "    34\n",
    ">>> limite_amplitude(-187, -150, 150)\n",
    "    -150\n",
    "```"
   ]
  },
  {
   "cell_type": "code",
   "execution_count": 1,
   "metadata": {},
   "outputs": [],
   "source": [
    "# À vous de jouer !"
   ]
  },
  {
   "cell_type": "markdown",
   "metadata": {},
   "source": [
    "## Question 2\n",
    "\n",
    "Écrire une fonction `ecrete` qui prend en paramètre un tableau de `valeurs` ainsi que `x_min` et `x_max` avec `x_min <= x_max` et renvoie un tableau des valeurs écrêtées entre `x_min` et `x_max`.\n",
    "\n",
    "```python\n",
    ">>> valeurs = [34, 56, 89, 134, 152, 250, 87, -34, -187, -310]\n",
    ">>> ecrete(valeurs, -150, 150)\n",
    "    [34, 56, 89, 134, 150, 150, 87, -34, -150, -150]\n",
    "```"
   ]
  },
  {
   "cell_type": "markdown",
   "metadata": {},
   "source": [
    "<a rel=\"license\" href=\"http://creativecommons.org/licenses/by-nc-sa/4.0/\"><img alt=\"Licence Creative Commons\" style=\"border-width:0\" src=\"https://i.creativecommons.org/l/by-nc-sa/4.0/88x31.png\" /></a><br />Ce(tte) œuvre est mise à disposition selon les termes de la <a rel=\"license\" href=\"http://creativecommons.org/licenses/by-nc-sa/4.0/\">Licence Creative Commons Attribution - Pas d’Utilisation Commerciale - Partage dans les Mêmes Conditions 4.0 International</a>."
   ]
  }
 ],
 "metadata": {
  "kernelspec": {
   "display_name": "Python 3 (ipykernel)",
   "language": "python",
   "name": "python3"
  },
  "language_info": {
   "codemirror_mode": {
    "name": "ipython",
    "version": 3
   },
   "file_extension": ".py",
   "mimetype": "text/x-python",
   "name": "python",
   "nbconvert_exporter": "python",
   "pygments_lexer": "ipython3",
   "version": "3.8.13"
  },
  "latex_envs": {
   "LaTeX_envs_menu_present": true,
   "autoclose": false,
   "autocomplete": true,
   "bibliofile": "biblio.bib",
   "cite_by": "apalike",
   "current_citInitial": 1,
   "eqLabelWithNumbers": true,
   "eqNumInitial": 1,
   "hotkeys": {
    "equation": "Ctrl-E",
    "itemize": "Ctrl-I"
   },
   "labels_anchors": false,
   "latex_user_defs": false,
   "report_style_numbering": false,
   "user_envs_cfg": false
  }
 },
 "nbformat": 4,
 "nbformat_minor": 2
}
