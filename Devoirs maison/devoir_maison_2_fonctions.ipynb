{
 "cells": [
  {
   "cell_type": "markdown",
   "id": "46eb2fc7",
   "metadata": {
    "nbgrader": {
     "grade": false,
     "grade_id": "cell-853c6136afacf3c0",
     "locked": true,
     "schema_version": 3,
     "solution": false,
     "task": false
    }
   },
   "source": [
    "# Devoir maison 2 &ndash; Fonctions"
   ]
  },
  {
   "cell_type": "markdown",
   "id": "a51da7c8",
   "metadata": {
    "nbgrader": {
     "grade": false,
     "grade_id": "cell-2fd6457d7e08fef7",
     "locked": true,
     "schema_version": 3,
     "solution": false,
     "task": false
    }
   },
   "source": [
    "## &laquo;Âge humain&raquo;"
   ]
  },
  {
   "cell_type": "markdown",
   "id": "ab0bf9fd",
   "metadata": {
    "nbgrader": {
     "grade": false,
     "grade_id": "cell-596b6861dadd0092",
     "locked": true,
     "schema_version": 3,
     "solution": false,
     "task": false
    }
   },
   "source": [
    "L'équivalence entre l'âge d'un chien et l'âge humain est donné en procédant ainsi :\n",
    "- lorsque le chien a deux ans ou moins, chaque année compte pour douze années &laquo;humaines&raquo; ;\n",
    "- lorsque le chien a plus de deux ans, chaque année au-delà des deux premières compte pour six années &laquo;humaines&raquo;."
   ]
  },
  {
   "cell_type": "markdown",
   "id": "d1adc0d0",
   "metadata": {
    "nbgrader": {
     "grade": false,
     "grade_id": "cell-21bd9f93770aeb83",
     "locked": true,
     "schema_version": 3,
     "solution": false,
     "task": false
    }
   },
   "source": [
    "1. Écrire un calcul permettant de déterminer l'&laquo; âge humain &raquo; d'un chien de 5 ans."
   ]
  },
  {
   "cell_type": "code",
   "execution_count": null,
   "id": "2538cde5",
   "metadata": {
    "ExecuteTime": {
     "end_time": "2022-08-31T17:22:40.744093Z",
     "start_time": "2022-08-31T17:22:40.740013Z"
    },
    "nbgrader": {
     "grade": true,
     "grade_id": "cell-98143302141ee027",
     "locked": false,
     "points": 1,
     "schema_version": 3,
     "solution": true,
     "task": false
    }
   },
   "outputs": [],
   "source": [
    "# À vous de jouer !\n",
    "2 * 12 + 3 * 6"
   ]
  },
  {
   "cell_type": "markdown",
   "id": "080f54a7",
   "metadata": {
    "nbgrader": {
     "grade": false,
     "grade_id": "cell-f8b7691d21b87284",
     "locked": true,
     "schema_version": 3,
     "solution": false,
     "task": false
    }
   },
   "source": [
    "2. Écrire une fonction ``age_humain`` qui prend en paramètre l'âge $n$ ($n$ est un entier) d'un chien et qui renvoie l'&laquo;âge humain&raquo; de ce chien."
   ]
  },
  {
   "cell_type": "code",
   "execution_count": null,
   "id": "398e22ea",
   "metadata": {
    "ExecuteTime": {
     "end_time": "2022-08-31T17:24:07.661071Z",
     "start_time": "2022-08-31T17:24:07.655873Z"
    },
    "nbgrader": {
     "grade": false,
     "grade_id": "cell-77bc15a76b52800f",
     "locked": false,
     "schema_version": 3,
     "solution": true,
     "task": false
    }
   },
   "outputs": [],
   "source": [
    "def age_humain(n):\n",
    "    ### BEGIN SOLUTION\n",
    "    if n <= 2:\n",
    "        return 12 * n\n",
    "    else:\n",
    "        return 24 + (n - 2) * 6\n",
    "    ### END SOLUTION"
   ]
  },
  {
   "cell_type": "code",
   "execution_count": null,
   "id": "6908e5b7",
   "metadata": {
    "ExecuteTime": {
     "end_time": "2022-08-31T17:25:31.703670Z",
     "start_time": "2022-08-31T17:25:31.700000Z"
    },
    "nbgrader": {
     "grade": true,
     "grade_id": "cell-dc6862996c9c4c1f",
     "locked": true,
     "points": 3,
     "schema_version": 3,
     "solution": false,
     "task": false
    }
   },
   "outputs": [],
   "source": [
    "assert age_humain(1) == 12\n",
    "assert age_humain(2) == 24\n",
    "assert age_humain(4) == 36\n",
    "### BEGIN HIDDEN TESTS\n",
    "assert age_humain(10) == 72\n",
    "assert age_humain(8) == 60\n",
    "### END HIDDEN TESTS"
   ]
  },
  {
   "cell_type": "markdown",
   "id": "dea05f6d",
   "metadata": {
    "nbgrader": {
     "grade": false,
     "grade_id": "cell-3220a119203e1374",
     "locked": true,
     "schema_version": 3,
     "solution": false,
     "task": false
    }
   },
   "source": [
    "3. En utilisant la fonction précédente, déterminer l'&laquo; âge humain &raquo; d'un chien de 7 ans (écrire dans la cellule ci-dessous l'appel permettant de déterminer cet &laquo; âge humain &raquo;)."
   ]
  },
  {
   "cell_type": "code",
   "execution_count": null,
   "id": "5f53ac58",
   "metadata": {
    "ExecuteTime": {
     "end_time": "2022-08-31T17:26:35.934791Z",
     "start_time": "2022-08-31T17:26:35.931790Z"
    },
    "nbgrader": {
     "grade": true,
     "grade_id": "cell-16d215f0d636b556",
     "locked": false,
     "points": 1,
     "schema_version": 3,
     "solution": true,
     "task": false
    }
   },
   "outputs": [],
   "source": [
    "# À vous de jouer !\n",
    "age_humain(7)"
   ]
  }
 ],
 "metadata": {
  "celltoolbar": "Create Assignment",
  "kernelspec": {
   "display_name": "Python 3 (ipykernel)",
   "language": "python",
   "name": "python3"
  },
  "language_info": {
   "codemirror_mode": {
    "name": "ipython",
    "version": 3
   },
   "file_extension": ".py",
   "mimetype": "text/x-python",
   "name": "python",
   "nbconvert_exporter": "python",
   "pygments_lexer": "ipython3",
   "version": "3.8.14"
  },
  "latex_envs": {
   "LaTeX_envs_menu_present": true,
   "autoclose": false,
   "autocomplete": true,
   "bibliofile": "biblio.bib",
   "cite_by": "apalike",
   "current_citInitial": 1,
   "eqLabelWithNumbers": true,
   "eqNumInitial": 1,
   "hotkeys": {
    "equation": "Ctrl-E",
    "itemize": "Ctrl-I"
   },
   "labels_anchors": false,
   "latex_user_defs": false,
   "report_style_numbering": false,
   "user_envs_cfg": false
  },
  "toc": {
   "base_numbering": 1,
   "nav_menu": {},
   "number_sections": false,
   "sideBar": true,
   "skip_h1_title": true,
   "title_cell": "Table des matières",
   "title_sidebar": "Sommaire",
   "toc_cell": false,
   "toc_position": {},
   "toc_section_display": true,
   "toc_window_display": false
  }
 },
 "nbformat": 4,
 "nbformat_minor": 5
}
