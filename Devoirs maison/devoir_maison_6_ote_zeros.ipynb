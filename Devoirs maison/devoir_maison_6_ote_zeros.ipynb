{
 "cells": [
  {
   "cell_type": "markdown",
   "id": "333ff2bc",
   "metadata": {
    "nbgrader": {
     "grade": false,
     "grade_id": "cell-541bbfdea7f60215",
     "locked": true,
     "schema_version": 3,
     "solution": false,
     "task": false
    }
   },
   "source": [
    "# Devoir maison 6"
   ]
  },
  {
   "cell_type": "markdown",
   "id": "9dee7f91",
   "metadata": {
    "nbgrader": {
     "grade": false,
     "grade_id": "cell-c0bc7a78bbb53935",
     "locked": true,
     "schema_version": 3,
     "solution": false,
     "task": false
    }
   },
   "source": [
    "On dispose d'une liste, supposée non vide, de `0` et de `1` qui représente un nombre entier en base $2$, le bit de poids fort se trouvant à gauche.\n",
    "\n",
    "On désire créer une fonction `ote_zeros(bins)` qui renvoie la liste obtenue en enlevant les éventuels zéros se trouvant à gauche de `bins`, c'est-à-dire les &laquo; zéros inutiles &raquo; de l'écriture en base $2$.\n",
    "\n",
    "Si `bins` est une liste ne contenant que des `0`, c'est qu'elle représente l'entier zéro et la liste renvoyée sera `[0]`."
   ]
  },
  {
   "cell_type": "code",
   "execution_count": 3,
   "id": "8e136d5d",
   "metadata": {
    "ExecuteTime": {
     "end_time": "2022-09-26T01:15:24.938397Z",
     "start_time": "2022-09-26T01:15:24.933896Z"
    },
    "nbgrader": {
     "grade": false,
     "grade_id": "cell-b8939708d3a3736b",
     "locked": false,
     "schema_version": 3,
     "solution": true,
     "task": false
    }
   },
   "outputs": [],
   "source": [
    "def ote_zeros(bins):\n",
    "    ### BEGIN SOLUTION\n",
    "    resultat = []\n",
    "    premier_1 = False\n",
    "    for c in bins:\n",
    "        if c == 1:\n",
    "            premier_1 = True\n",
    "        if premier_1:\n",
    "            resultat.append(c)\n",
    "    if not premier_1:\n",
    "        resultat = [0]\n",
    "    return resultat\n",
    "    ### END SOLUTION"
   ]
  },
  {
   "cell_type": "code",
   "execution_count": 5,
   "id": "6677eb0b",
   "metadata": {
    "ExecuteTime": {
     "end_time": "2022-09-26T01:16:25.350194Z",
     "start_time": "2022-09-26T01:16:25.345584Z"
    },
    "nbgrader": {
     "grade": true,
     "grade_id": "cell-54e729700df23d1e",
     "locked": true,
     "points": 2,
     "schema_version": 3,
     "solution": false,
     "task": false
    }
   },
   "outputs": [],
   "source": [
    "assert ote_zeros([0, 0, 0, 0,1, 0, 1]) == [1, 0, 1]\n",
    "assert ote_zeros([0, 0, 0, 0]) == [0]\n",
    "assert ote_zeros([1]) == [1]\n",
    "### BEGIN HIDDEN TESTS\n",
    "assert ote_zeros([0, 1, 0, 0, 0]) == [1, 0, 0, 0]\n",
    "assert ote_zeros([1, 1, 1, 1, 0]) == [1, 1, 1, 1, 0]\n",
    "assert ote_zeros([0, 0, 0, 1]) == [1]\n",
    "### END HIDDEN TESTS"
   ]
  }
 ],
 "metadata": {
  "celltoolbar": "Create Assignment",
  "kernelspec": {
   "display_name": "Python 3 (ipykernel)",
   "language": "python",
   "name": "python3"
  },
  "language_info": {
   "codemirror_mode": {
    "name": "ipython",
    "version": 3
   },
   "file_extension": ".py",
   "mimetype": "text/x-python",
   "name": "python",
   "nbconvert_exporter": "python",
   "pygments_lexer": "ipython3",
   "version": "3.8.14"
  },
  "latex_envs": {
   "LaTeX_envs_menu_present": true,
   "autoclose": false,
   "autocomplete": true,
   "bibliofile": "biblio.bib",
   "cite_by": "apalike",
   "current_citInitial": 1,
   "eqLabelWithNumbers": true,
   "eqNumInitial": 1,
   "hotkeys": {
    "equation": "Ctrl-E",
    "itemize": "Ctrl-I"
   },
   "labels_anchors": false,
   "latex_user_defs": false,
   "report_style_numbering": false,
   "user_envs_cfg": false
  },
  "toc": {
   "base_numbering": 1,
   "nav_menu": {},
   "number_sections": false,
   "sideBar": true,
   "skip_h1_title": true,
   "title_cell": "Table des matières",
   "title_sidebar": "Sommaire",
   "toc_cell": false,
   "toc_position": {},
   "toc_section_display": true,
   "toc_window_display": false
  }
 },
 "nbformat": 4,
 "nbformat_minor": 5
}
