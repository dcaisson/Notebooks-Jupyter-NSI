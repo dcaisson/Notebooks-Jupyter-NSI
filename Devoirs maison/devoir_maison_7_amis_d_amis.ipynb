{
 "cells": [
  {
   "cell_type": "markdown",
   "id": "73de5e8a",
   "metadata": {
    "nbgrader": {
     "grade": false,
     "grade_id": "cell-0e9ea2cea5cb0951",
     "locked": true,
     "schema_version": 3,
     "solution": false,
     "task": false
    }
   },
   "source": [
    "# Devoir maison 7 &ndash; Les amis de mes amis"
   ]
  },
  {
   "cell_type": "markdown",
   "id": "0c6f1c20",
   "metadata": {
    "nbgrader": {
     "grade": false,
     "grade_id": "cell-0e337e21d196e649",
     "locked": true,
     "schema_version": 3,
     "solution": false,
     "task": false
    }
   },
   "source": [
    "On considère le schéma suivant où une flèche allant d'une personne Α vers une\n",
    "personne B indique que la personne A « suit » la personne B sur son compte\n",
    "*Immediam*. On dit alors que B est un *ami* de A.\n",
    "\n",
    "Voici un exemple de réseau *Immediam* :\n",
    "\n",
    "![exemple réseau](exemple_reseau.png)\n",
    "\n",
    "On représente ce réseau *Immediam* en machine par un dictionnaire dans lequel :\n",
    "\n",
    "- les clés sont les chaînes de caractères correspondant aux noms des personnes inscrites ;\n",
    "  \n",
    "- les valeurs associées sont des listes de chaînes de caractères, représentant les personnes suivies.\n",
    "\n",
    "\n",
    "Écrire une fonction  `amis_d_amis(reseau, membre)` qui :\n",
    "\n",
    "- prend en argument un dictionnaire `reseau` représentant un tel réseau *Immediam* et une chaîne de caractères\n",
    "`membre` qui représente un membre du réseau ;\n",
    "- et qui renvoie la liste des amis des amis de `membre`, à l'exclusion de lui-même et sans doublon. "
   ]
  },
  {
   "cell_type": "markdown",
   "id": "a4d84a93",
   "metadata": {
    "nbgrader": {
     "grade": false,
     "grade_id": "cell-70336b946bfa7063",
     "locked": true,
     "schema_version": 3,
     "solution": false,
     "task": false
    }
   },
   "source": [
    "**Indication : on peut vérifier facilement qu'un élément n'appartient pas à une liste.**"
   ]
  },
  {
   "cell_type": "markdown",
   "id": "a36d5eb7",
   "metadata": {
    "ExecuteTime": {
     "end_time": "2022-10-03T06:08:08.258385Z",
     "start_time": "2022-10-03T06:08:08.255518Z"
    },
    "nbgrader": {
     "grade": false,
     "grade_id": "cell-b3fdfc9a73a0c06c",
     "locked": true,
     "schema_version": 3,
     "solution": false,
     "task": false
    }
   },
   "source": [
    "```py\n",
    ">>> sports = ['badminton', 'tennis', 'tennis de table', 'squash']\n",
    ">>> 'beach-volley' not in sports\n",
    "True\n",
    "```"
   ]
  },
  {
   "cell_type": "markdown",
   "id": "d8614f4b",
   "metadata": {
    "nbgrader": {
     "grade": false,
     "grade_id": "cell-0190849082d263f3",
     "locked": true,
     "schema_version": 3,
     "solution": false,
     "task": false
    }
   },
   "source": [
    "Pour vous aider, voici le code incomplet de la fonction :\n",
    "```py\n",
    "def amis_d_amis(reseau, membre):\n",
    "    resultat = []\n",
    "    for ... in reseau[...]:\n",
    "        for ami_de_ami in reseau[...]:\n",
    "            if ... != membre and ... not in resultat:\n",
    "                resultat.append(ami_de_ami)\n",
    "    return resultat\n",
    "```"
   ]
  },
  {
   "cell_type": "code",
   "execution_count": 4,
   "id": "a1cc9b0c",
   "metadata": {
    "ExecuteTime": {
     "end_time": "2022-10-03T06:15:54.203585Z",
     "start_time": "2022-10-03T06:15:54.199588Z"
    },
    "nbgrader": {
     "grade": false,
     "grade_id": "cell-ecb34983c4006dce",
     "locked": false,
     "schema_version": 3,
     "solution": true,
     "task": false
    }
   },
   "outputs": [],
   "source": [
    "# À vous de jouer !\n",
    "def amis_d_amis(reseau, membre):\n",
    "    ### BEGIN SOLUTION\n",
    "    resultat = []\n",
    "    for ami in reseau[membre]:\n",
    "        for ami_de_ami in reseau[ami]:\n",
    "            if ami_de_ami != membre and ami_de_ami not in resultat:\n",
    "                resultat.append(ami_de_ami)\n",
    "    return resultat\n",
    "    ### END SOLUTION"
   ]
  },
  {
   "cell_type": "code",
   "execution_count": 5,
   "id": "768b0d18",
   "metadata": {
    "ExecuteTime": {
     "end_time": "2022-10-03T06:15:55.152597Z",
     "start_time": "2022-10-03T06:15:55.147044Z"
    },
    "nbgrader": {
     "grade": true,
     "grade_id": "cell-d6edcaa3f0178324",
     "locked": true,
     "points": 4,
     "schema_version": 3,
     "solution": false,
     "task": false
    }
   },
   "outputs": [],
   "source": [
    "immediam = {\n",
    "            \"Anna\": [\"Billy\"],\n",
    "            \"Billy\": [\"Anna\", \"Eroll\"],\n",
    "            \"Carl\": [\"Billy\"],\n",
    "            \"Dora\": [\"Gaby\"],\n",
    "            \"Eroll\": [\"Billy\", \"Dora\", \"Flynn\", \"Gaby\"],\n",
    "            \"Flynn\": [\"Gaby\"],\n",
    "            \"Gaby\": [\"Eroll\"],\n",
    "    }\n",
    "assert sorted(amis_d_amis(immediam, 'Billy')) == ['Dora', 'Flynn', 'Gaby']\n",
    "assert sorted(amis_d_amis(immediam, 'Eroll')) == ['Anna', 'Gaby']\n",
    "assert sorted(amis_d_amis(immediam, 'Dora')) == ['Eroll']\n",
    "### BEGIN HIDDEN TESTS\n",
    "assert sorted(amis_d_amis(immediam, 'Flynn')) == ['Eroll']\n",
    "assert sorted(amis_d_amis(immediam, 'Carl')) == ['Anna', 'Eroll']\n",
    "assert sorted(amis_d_amis(immediam, 'Gaby')) == ['Billy', 'Dora', 'Flynn']\n",
    "assert sorted(amis_d_amis(immediam, 'Anna')) == ['Eroll']\n",
    "### END HIDDEN TESTS"
   ]
  }
 ],
 "metadata": {
  "celltoolbar": "Create Assignment",
  "kernelspec": {
   "display_name": "Python 3",
   "language": "python",
   "name": "python3"
  },
  "language_info": {
   "codemirror_mode": {
    "name": "ipython",
    "version": 3
   },
   "file_extension": ".py",
   "mimetype": "text/x-python",
   "name": "python",
   "nbconvert_exporter": "python",
   "pygments_lexer": "ipython3",
   "version": "3.9.7"
  },
  "toc": {
   "base_numbering": 1,
   "nav_menu": {},
   "number_sections": false,
   "sideBar": true,
   "skip_h1_title": true,
   "title_cell": "Table des matières",
   "title_sidebar": "Sommaire",
   "toc_cell": false,
   "toc_position": {},
   "toc_section_display": true,
   "toc_window_display": false
  }
 },
 "nbformat": 4,
 "nbformat_minor": 5
}
