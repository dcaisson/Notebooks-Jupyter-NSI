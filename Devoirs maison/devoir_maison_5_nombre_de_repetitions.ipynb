{
 "cells": [
  {
   "cell_type": "markdown",
   "id": "53d1e92e",
   "metadata": {
    "nbgrader": {
     "grade": false,
     "grade_id": "cell-7fba2c81a0e281b5",
     "locked": true,
     "schema_version": 3,
     "solution": false,
     "task": false
    }
   },
   "source": [
    "# Devoir maison 5 &ndash; Nombre de répétitions"
   ]
  },
  {
   "cell_type": "markdown",
   "id": "6bed2f66",
   "metadata": {
    "nbgrader": {
     "grade": false,
     "grade_id": "cell-1ff2d82ebe3003c1",
     "locked": true,
     "schema_version": 3,
     "solution": false,
     "task": false
    }
   },
   "source": [
    "Écrire une fonction python appelée `nb_repetitions` qui prend en paramètres un élément `element` et un tableau de `valeurs` et renvoie le nombre de fois où l’élément `element` apparaît dans le tableau `valeurs`.\n",
    "\n",
    "> Il est **interdit** d'utiliser la méthode `count`."
   ]
  },
  {
   "cell_type": "code",
   "execution_count": 1,
   "id": "acd57e2e",
   "metadata": {
    "ExecuteTime": {
     "end_time": "2022-09-21T06:30:43.638330Z",
     "start_time": "2022-09-21T06:30:43.629978Z"
    },
    "nbgrader": {
     "grade": false,
     "grade_id": "cell-fc38ea85cd24c015",
     "locked": false,
     "schema_version": 3,
     "solution": true,
     "task": false
    }
   },
   "outputs": [],
   "source": [
    "def nb_repetitions(element, valeurs):\n",
    "    ### BEGIN SOLUTION\n",
    "    nb = 0\n",
    "    for elt in valeurs:\n",
    "        if elt == element:\n",
    "            nb = nb + 1\n",
    "    return nb\n",
    "    ### END SOLUTION"
   ]
  },
  {
   "cell_type": "code",
   "execution_count": 4,
   "id": "9a30292e",
   "metadata": {
    "ExecuteTime": {
     "end_time": "2022-09-21T06:32:07.302376Z",
     "start_time": "2022-09-21T06:32:07.297969Z"
    },
    "nbgrader": {
     "grade": true,
     "grade_id": "cell-c958bc41bcbab94c",
     "locked": true,
     "points": 2,
     "schema_version": 3,
     "solution": false,
     "task": false
    }
   },
   "outputs": [],
   "source": [
    "assert nb_repetitions(5, [2, 5, 3, 5, 6, 9, 5]) == 3\n",
    "assert nb_repetitions('A', ['B', 'A', 'B', 'A', 'R']) == 2\n",
    "assert nb_repetitions(12, [1, 7, 21, 36, 44]) == 0\n",
    "### BEGIN HIDDEN TESTS\n",
    "assert nb_repetitions('N', ['N', 'S', 'I']) == 1\n",
    "assert nb_repetitions(-1, [0, 1, -1, -1, 6]) == 2\n",
    "assert nb_repetitions('f', ['f', 'a', 'r', 'f', 'e', 'l', 'u']) == 2\n",
    "### END HIDDEN TESTS"
   ]
  }
 ],
 "metadata": {
  "celltoolbar": "Create Assignment",
  "kernelspec": {
   "display_name": "Python 3",
   "language": "python",
   "name": "python3"
  },
  "language_info": {
   "codemirror_mode": {
    "name": "ipython",
    "version": 3
   },
   "file_extension": ".py",
   "mimetype": "text/x-python",
   "name": "python",
   "nbconvert_exporter": "python",
   "pygments_lexer": "ipython3",
   "version": "3.9.7"
  },
  "toc": {
   "base_numbering": 1,
   "nav_menu": {},
   "number_sections": false,
   "sideBar": true,
   "skip_h1_title": true,
   "title_cell": "Table des matières",
   "title_sidebar": "Sommaire",
   "toc_cell": false,
   "toc_position": {},
   "toc_section_display": true,
   "toc_window_display": false
  }
 },
 "nbformat": 4,
 "nbformat_minor": 5
}
