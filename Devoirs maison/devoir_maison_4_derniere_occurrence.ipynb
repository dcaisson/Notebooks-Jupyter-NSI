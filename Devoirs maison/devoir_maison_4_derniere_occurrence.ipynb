{
 "cells": [
  {
   "cell_type": "markdown",
   "id": "e6147c31",
   "metadata": {
    "nbgrader": {
     "grade": false,
     "grade_id": "cell-606bc651cbe2aaae",
     "locked": true,
     "schema_version": 3,
     "solution": false,
     "task": false
    }
   },
   "source": [
    "# Devoir maison 4 &ndash; Dernière occurrence"
   ]
  },
  {
   "cell_type": "markdown",
   "id": "a0523251",
   "metadata": {
    "nbgrader": {
     "grade": false,
     "grade_id": "cell-c20542db667e8f72",
     "locked": true,
     "schema_version": 3,
     "solution": false,
     "task": false
    }
   },
   "source": [
    "Programmer la fonction `derniere_occurrence`, prenant en paramètre un tableau non vide d'entiers et un entier `cible`, et qui renvoie l'indice de la **dernière** occurrence de `cible`.\n",
    "\n",
    "Si l'élément n'est pas présent, la fonction renvoie la longueur du tableau.\n",
    "\n",
    "> On n'utilisera pas la fonction `index`."
   ]
  },
  {
   "cell_type": "code",
   "execution_count": null,
   "id": "82c95ddc",
   "metadata": {
    "ExecuteTime": {
     "end_time": "2022-09-19T07:02:04.770464Z",
     "start_time": "2022-09-19T07:02:04.761795Z"
    },
    "nbgrader": {
     "grade": false,
     "grade_id": "cell-3335c4262b36fde6",
     "locked": false,
     "schema_version": 3,
     "solution": true,
     "task": false
    }
   },
   "outputs": [],
   "source": [
    "def derniere_occurrence(tableau, cible):\n",
    "    indice_dernier = len(tableau)\n",
    "    ### BEGIN SOLUTION\n",
    "    for i in range(len(tableau)):\n",
    "        if tableau[i] == cible:\n",
    "            indice_dernier = i\n",
    "    return indice_dernier\n",
    "    ### END SOLUTION"
   ]
  },
  {
   "cell_type": "code",
   "execution_count": null,
   "id": "7adec9d7",
   "metadata": {
    "ExecuteTime": {
     "end_time": "2022-09-19T07:02:07.340408Z",
     "start_time": "2022-09-19T07:02:07.336447Z"
    },
    "nbgrader": {
     "grade": true,
     "grade_id": "cell-47817dc45303fc14",
     "locked": true,
     "points": 3,
     "schema_version": 3,
     "solution": false,
     "task": false
    }
   },
   "outputs": [],
   "source": [
    "# 1 est absent, on renvoie la longueur du tableau : 2.\n",
    "assert derniere_occurrence([5, 3], 1) == 2\n",
    "# 2 est présent à l'indice 0, on renvoie 0.\n",
    "assert derniere_occurrence([2, 4], 2) == 0\n",
    "# 2 est présent aux indices 0 et 3, on renvoie le dernier : 3.\n",
    "assert derniere_occurrence([2, 3, 5, 2, 4], 2) == 3\n",
    "### BEGIN HIDDEN TESTS\n",
    "assert derniere_occurrence([1, 2, 3, 1, 4, 5], 1) == 3\n",
    "assert derniere_occurrence([1, 2, 3, 4, 5], 6) == 5\n",
    "### END HIDDEN TESTS"
   ]
  }
 ],
 "metadata": {
  "celltoolbar": "Create Assignment",
  "kernelspec": {
   "display_name": "Python 3 (ipykernel)",
   "language": "python",
   "name": "python3"
  },
  "language_info": {
   "codemirror_mode": {
    "name": "ipython",
    "version": 3
   },
   "file_extension": ".py",
   "mimetype": "text/x-python",
   "name": "python",
   "nbconvert_exporter": "python",
   "pygments_lexer": "ipython3",
   "version": "3.8.14"
  },
  "latex_envs": {
   "LaTeX_envs_menu_present": true,
   "autoclose": false,
   "autocomplete": true,
   "bibliofile": "biblio.bib",
   "cite_by": "apalike",
   "current_citInitial": 1,
   "eqLabelWithNumbers": true,
   "eqNumInitial": 1,
   "hotkeys": {
    "equation": "Ctrl-E",
    "itemize": "Ctrl-I"
   },
   "labels_anchors": false,
   "latex_user_defs": false,
   "report_style_numbering": false,
   "user_envs_cfg": false
  },
  "toc": {
   "base_numbering": 1,
   "nav_menu": {},
   "number_sections": false,
   "sideBar": true,
   "skip_h1_title": true,
   "title_cell": "Table des matières",
   "title_sidebar": "Sommaire",
   "toc_cell": false,
   "toc_position": {},
   "toc_section_display": true,
   "toc_window_display": false
  }
 },
 "nbformat": 4,
 "nbformat_minor": 5
}
