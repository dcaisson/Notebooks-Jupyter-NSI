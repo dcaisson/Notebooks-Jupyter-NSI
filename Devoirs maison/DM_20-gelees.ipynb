{
 "cells": [
  {
   "cell_type": "markdown",
   "id": "7ecc5760",
   "metadata": {
    "nbgrader": {
     "grade": false,
     "grade_id": "cell-3978c958f1a9c62b",
     "locked": true,
     "schema_version": 3,
     "solution": false,
     "task": false
    }
   },
   "source": [
    "# Devoir maison 20 &ndash; Gelées"
   ]
  },
  {
   "cell_type": "markdown",
   "id": "7fc9506d",
   "metadata": {
    "nbgrader": {
     "grade": false,
     "grade_id": "cell-9e4c49df3b8546b4",
     "locked": true,
     "schema_version": 3,
     "solution": false,
     "task": false
    }
   },
   "source": [
    "## 1 Introduction"
   ]
  },
  {
   "cell_type": "markdown",
   "id": "bd2e18ce",
   "metadata": {
    "nbgrader": {
     "grade": false,
     "grade_id": "cell-d002ee5d34385bf4",
     "locked": true,
     "schema_version": 3,
     "solution": false,
     "task": false
    }
   },
   "source": [
    "Un météorologue a relevé les températures au lever du jour dans sa rue.\n",
    "Il souhaite déterminer la durée de la plus longue période de gelées consécutives durant ces relevés.\n",
    "\n",
    "Vous devez écrire une fonction `gelees(temperatures)` qui renvoie la longueur de la plus longue séquence de nombres négatifs ou nuls consécutifs dans la liste.\n",
    "\n",
    "Les températures sont données sous forme d'une liste de nombres :\n",
    "\n",
    "```py\n",
    "temperatures = [2, -3, -2, 0, 1, -1]\n",
    "```\n",
    "\n",
    "Si la liste est vide, la fonction renverra la valeur `0`.\n",
    "\n",
    "On rappelle que l'eau gèle à partir de 0°C inclus."
   ]
  },
  {
   "cell_type": "markdown",
   "id": "3445cf0a",
   "metadata": {
    "nbgrader": {
     "grade": false,
     "grade_id": "cell-1c749b78511e4f38",
     "locked": true,
     "schema_version": 3,
     "solution": false,
     "task": false
    }
   },
   "source": [
    "```py\n",
    ">>> gelees([2, -3, -2, 0, 1, -1])\n",
    "3\n",
    ">>> gelees([3, 2, 2])\n",
    "0\n",
    ">>> gelees([])\n",
    "0\n",
    "```"
   ]
  },
  {
   "cell_type": "markdown",
   "id": "67f69d5d",
   "metadata": {
    "nbgrader": {
     "grade": false,
     "grade_id": "cell-004629a8b69e4991",
     "locked": true,
     "schema_version": 3,
     "solution": false,
     "task": false
    }
   },
   "source": [
    "## 2 À vous de jouer !"
   ]
  },
  {
   "cell_type": "code",
   "execution_count": 1,
   "id": "b69202a5",
   "metadata": {
    "ExecuteTime": {
     "end_time": "2023-03-01T01:24:33.145599Z",
     "start_time": "2023-03-01T01:24:33.130608Z"
    },
    "nbgrader": {
     "grade": false,
     "grade_id": "cell-87e67b57d8ac3eaa",
     "locked": false,
     "schema_version": 3,
     "solution": true,
     "task": false
    }
   },
   "outputs": [],
   "source": [
    "def gelees(temperatures):\n",
    "    ### BEGIN SOLUTION\n",
    "    plus_longue_periode = 0\n",
    "    periode = 0\n",
    "    for temp in temperatures:\n",
    "        if temp <= 0:\n",
    "            periode += 1\n",
    "            if periode > plus_longue_periode:\n",
    "                plus_longue_periode = periode\n",
    "        else:\n",
    "            periode = 0\n",
    "    return plus_longue_periode\n",
    "    ### END SOLUTION"
   ]
  },
  {
   "cell_type": "code",
   "execution_count": 3,
   "id": "cb664596",
   "metadata": {
    "ExecuteTime": {
     "end_time": "2023-03-01T01:25:00.193411Z",
     "start_time": "2023-03-01T01:25:00.184776Z"
    },
    "nbgrader": {
     "grade": true,
     "grade_id": "cell-513252cd80e30414",
     "locked": true,
     "points": 4,
     "schema_version": 3,
     "solution": false,
     "task": false
    }
   },
   "outputs": [],
   "source": [
    "assert gelees([2, -3, -2, 0, 1, -1]) == 3\n",
    "assert gelees([3, 2, 2]) == 0\n",
    "assert gelees([]) == 0\n",
    "### BEGIN HIDDEN TESTS\n",
    "assert gelees([-2, -3, -2, 0, -1, -1]) == 6\n",
    "assert gelees([0, 0, 0]) == 3\n",
    "assert gelees([1]*1000+[-1]+[1]*1000) == 1\n",
    "### END HIDDEN TESTS"
   ]
  }
 ],
 "metadata": {
  "celltoolbar": "Create Assignment",
  "kernelspec": {
   "display_name": "Python 3",
   "language": "python",
   "name": "python3"
  },
  "language_info": {
   "codemirror_mode": {
    "name": "ipython",
    "version": 3
   },
   "file_extension": ".py",
   "mimetype": "text/x-python",
   "name": "python",
   "nbconvert_exporter": "python",
   "pygments_lexer": "ipython3",
   "version": "3.9.7"
  },
  "toc": {
   "base_numbering": 1,
   "nav_menu": {},
   "number_sections": false,
   "sideBar": true,
   "skip_h1_title": true,
   "title_cell": "Table des matières",
   "title_sidebar": "Sommaire",
   "toc_cell": false,
   "toc_position": {},
   "toc_section_display": true,
   "toc_window_display": false
  }
 },
 "nbformat": 4,
 "nbformat_minor": 5
}
