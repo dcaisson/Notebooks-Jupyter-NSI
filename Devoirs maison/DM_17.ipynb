{
 "cells": [
  {
   "cell_type": "markdown",
   "id": "fe71dbfb",
   "metadata": {
    "nbgrader": {
     "grade": false,
     "grade_id": "cell-e4be21d37de45698",
     "locked": true,
     "schema_version": 3,
     "solution": false,
     "task": false
    }
   },
   "source": [
    "# Devoir maison 17 &ndash; Refuge d'animaux"
   ]
  },
  {
   "cell_type": "markdown",
   "id": "2674e337",
   "metadata": {
    "nbgrader": {
     "grade": false,
     "grade_id": "cell-87d28fffff88b3e0",
     "locked": true,
     "schema_version": 3,
     "solution": false,
     "task": false
    }
   },
   "source": [
    "Le refuge Wouaf_Miaou s'occupe de chats et de chiens pouvant être adoptés.\n",
    "Compléter la fonction `selection_enclos` afin de renvoyer la liste de noms d'animaux d'un même enclos. L'ordre de rangement des noms dans la liste n'a pas d'importance.\n",
    "\n",
    "Par exemple :\n",
    "\n",
    "```py\n",
    ">>> Wouaf_Miaou = [\n",
    "        {'nom':'Medor', 'espece':'chien', 'age':5, 'enclos':2},\n",
    "        {'nom':'Titine', 'espece':'chat', 'age':2, 'enclos':5},\n",
    "        {'nom':'Tom', 'espece':'chat', 'age':7, 'enclos':4},\n",
    "        {'nom':'Belle', 'espece':'chien', 'age':6, 'enclos':3},\n",
    "        {'nom':'Mirza', 'espece':'chat', 'age':6, 'enclos':5},\n",
    "]\n",
    ">>> sorted(selection_enclos(Wouaf_Miaou, 5))\n",
    "['Mirza', 'Titine']\n",
    ">>> selection_enclos(Wouaf_Miaou, 2)\n",
    "['Medor']\n",
    ">>> selection_enclos(Wouaf_Miaou, 7)\n",
    "[]\n",
    "```\n",
    "\n",
    "**Remarque : l'ordre de parcours d'un dictionnaire dans Python se fait dans un ordre arbitraire. On utilise `sorted` dans les tests pour que les éléments de la réponse soient forcément dans l'ordre alphabétique et ainsi pouvoir les comparer avec les résultats attendus.**"
   ]
  },
  {
   "cell_type": "code",
   "execution_count": 1,
   "id": "d382e371",
   "metadata": {
    "ExecuteTime": {
     "end_time": "2023-01-10T06:29:22.537471Z",
     "start_time": "2023-01-10T06:29:22.528249Z"
    },
    "nbgrader": {
     "grade": false,
     "grade_id": "cell-4432621567eaacf4",
     "locked": false,
     "schema_version": 3,
     "solution": true,
     "task": false
    }
   },
   "outputs": [],
   "source": [
    "# À vous de jouer !\n",
    "def selection_enclos(refuge, numero_enclos):\n",
    "    ### BEGIN SOLUTION\n",
    "    noms = []\n",
    "    for animal in refuge:\n",
    "        if animal['enclos'] == numero_enclos:\n",
    "            noms.append(animal['nom'])\n",
    "    return noms\n",
    "    ### END SOLUTION"
   ]
  },
  {
   "cell_type": "code",
   "execution_count": 5,
   "id": "9a51f2f7",
   "metadata": {
    "ExecuteTime": {
     "end_time": "2023-01-10T06:32:02.803974Z",
     "start_time": "2023-01-10T06:32:02.789294Z"
    },
    "nbgrader": {
     "grade": true,
     "grade_id": "cell-f4d1866a18139ad2",
     "locked": true,
     "points": 3,
     "schema_version": 3,
     "solution": false,
     "task": false
    }
   },
   "outputs": [],
   "source": [
    "Wouaf_Miaou = [\n",
    "    {'nom':'Medor', 'espece':'chien', 'age':5, 'enclos':2},\n",
    "    {'nom':'Titine', 'espece':'chat', 'age':2, 'enclos':5},\n",
    "    {'nom':'Tom', 'espece':'chat', 'age':7, 'enclos':4},\n",
    "    {'nom':'Belle', 'espece':'chien', 'age':6, 'enclos':3},\n",
    "    {'nom':'Mirza', 'espece':'chat', 'age':6, 'enclos':5},\n",
    "]\n",
    "\n",
    "assert sorted(selection_enclos(Wouaf_Miaou, 5)) == ['Mirza', 'Titine']\n",
    "assert selection_enclos(Wouaf_Miaou, 2) == ['Medor']\n",
    "assert selection_enclos(Wouaf_Miaou, 7) == []\n",
    "\n",
    "# BEGIN HIDDEN TESTS\n",
    "Wouaf_Miaou = [\n",
    "    {'nom':'Medor', 'espece':'chien', 'age':5, 'enclos':2},\n",
    "    {'nom':'Titine', 'espece':'chat', 'age':2, 'enclos':4},\n",
    "    {'nom':'Tom', 'espece':'chat', 'age':7, 'enclos':4},\n",
    "    {'nom':'Belle', 'espece':'chien', 'age':6, 'enclos':3},\n",
    "    {'nom':'Mirza', 'espece':'chat', 'age':6, 'enclos':5},\n",
    "    {'nom':'Capucine', 'espece':'chat', 'age':3, 'enclos':3},\n",
    "    {'nom':'Oreo', 'espece':'chat', 'age':4, 'enclos':4}\n",
    "]\n",
    "\n",
    "assert sorted(selection_enclos(Wouaf_Miaou, 3)) == ['Belle', 'Capucine']\n",
    "assert sorted(selection_enclos(Wouaf_Miaou, 4)) == ['Oreo', 'Titine', 'Tom']\n",
    "# END HIDDEN TESTS"
   ]
  }
 ],
 "metadata": {
  "celltoolbar": "Create Assignment",
  "kernelspec": {
   "display_name": "Python 3",
   "language": "python",
   "name": "python3"
  },
  "language_info": {
   "codemirror_mode": {
    "name": "ipython",
    "version": 3
   },
   "file_extension": ".py",
   "mimetype": "text/x-python",
   "name": "python",
   "nbconvert_exporter": "python",
   "pygments_lexer": "ipython3",
   "version": "3.9.7"
  },
  "toc": {
   "base_numbering": 1,
   "nav_menu": {},
   "number_sections": false,
   "sideBar": true,
   "skip_h1_title": true,
   "title_cell": "Table des matières",
   "title_sidebar": "Sommaire",
   "toc_cell": false,
   "toc_position": {},
   "toc_section_display": true,
   "toc_window_display": false
  }
 },
 "nbformat": 4,
 "nbformat_minor": 5
}
