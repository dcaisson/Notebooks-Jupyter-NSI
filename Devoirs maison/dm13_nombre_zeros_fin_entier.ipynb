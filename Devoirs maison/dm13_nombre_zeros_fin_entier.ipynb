{
 "cells": [
  {
   "cell_type": "markdown",
   "id": "8962a1fe",
   "metadata": {
    "nbgrader": {
     "grade": false,
     "grade_id": "cell-6cb8d4a1894498ef",
     "locked": true,
     "schema_version": 3,
     "solution": false,
     "task": false
    }
   },
   "source": [
    "# Devoir maison 13 &ndash; Nombre de zéros à la fin d'un entier"
   ]
  },
  {
   "cell_type": "markdown",
   "id": "d8c58358",
   "metadata": {
    "nbgrader": {
     "grade": false,
     "grade_id": "cell-27d1ef09677a4774",
     "locked": true,
     "schema_version": 3,
     "solution": false,
     "task": false
    }
   },
   "source": [
    "On souhaite avoir une fonction `nb_zeros` qui détermine le nombre de zéros à la fin de l'écriture décimale d'un entier $n>0$, très grand.\n",
    "\n",
    "🙅‍♂️ **On s'interdit**, ici, d'utiliser la fonction de conversion `str`. Cette méthode est totalement inefficace avec des nombres très grands.\n",
    "    \n",
    "On demande plutôt de compter combien de fois on peut diviser un nombre par $10$ avec un reste égal à zéro. Par exemple, \n",
    "\n",
    "    1. 42000 = 4200×10 + 0,\n",
    "    2. 4200 = 420×10 + 0,\n",
    "    3. 420 = 42×10 + 0,\n",
    "    4. 42 n'est pas divisible par 10.\n",
    "\n",
    "On a pu diviser 42000 **trois fois** par 10 avec un reste égal à 0. Ce nombre se finit donc par **3** zéros."
   ]
  },
  {
   "cell_type": "code",
   "execution_count": 1,
   "id": "82dbc31c",
   "metadata": {
    "ExecuteTime": {
     "end_time": "2022-11-18T19:40:09.780200Z",
     "start_time": "2022-11-18T19:40:09.770496Z"
    },
    "nbgrader": {
     "grade": false,
     "grade_id": "cell-ea693e4cf8daa7ce",
     "locked": false,
     "schema_version": 3,
     "solution": true,
     "task": false
    }
   },
   "outputs": [],
   "source": [
    "# À vous de jouer !\n",
    "def nb_zeros(n):\n",
    "    ### BEGIN SOLUTION\n",
    "    # non valable pour n = 0\n",
    "    resultat = 0\n",
    "    while n % 10 == 0:\n",
    "        n = n // 10\n",
    "        resultat += 1\n",
    "    return resultat\n",
    "    ### END SOLUTION"
   ]
  },
  {
   "cell_type": "code",
   "execution_count": 3,
   "id": "d199a204",
   "metadata": {
    "ExecuteTime": {
     "end_time": "2022-11-18T19:43:43.332986Z",
     "start_time": "2022-11-18T19:43:43.322922Z"
    },
    "nbgrader": {
     "grade": true,
     "grade_id": "cell-0b253ce290242c94",
     "locked": true,
     "points": 4,
     "schema_version": 3,
     "solution": false,
     "task": false
    }
   },
   "outputs": [],
   "source": [
    "assert nb_zeros(42000) == 3\n",
    "assert nb_zeros(3210) == 1\n",
    "assert nb_zeros(282475249) == 0\n",
    "assert nb_zeros(7**10000) == 0\n",
    "assert nb_zeros(7**10000 * 1000) == 3\n",
    "### BEGIN HIDDEN TESTS\n",
    "def NB_ZEROS(n):\n",
    "    resultat = 0\n",
    "    while n % 10 == 0:\n",
    "        n = n // 10\n",
    "        resultat += 1\n",
    "    return resultat\n",
    "\n",
    "for n in range(1, 123):\n",
    "    attendu = NB_ZEROS(n)\n",
    "    assert nb_zeros(n) == attendu, f\"Erreur avec n = {n}\"\n",
    "### END HIDDEN TESTS"
   ]
  }
 ],
 "metadata": {
  "celltoolbar": "Create Assignment",
  "kernelspec": {
   "display_name": "Python 3",
   "language": "python",
   "name": "python3"
  },
  "language_info": {
   "codemirror_mode": {
    "name": "ipython",
    "version": 3
   },
   "file_extension": ".py",
   "mimetype": "text/x-python",
   "name": "python",
   "nbconvert_exporter": "python",
   "pygments_lexer": "ipython3",
   "version": "3.9.7"
  },
  "toc": {
   "base_numbering": 1,
   "nav_menu": {},
   "number_sections": false,
   "sideBar": true,
   "skip_h1_title": true,
   "title_cell": "Table des matières",
   "title_sidebar": "Sommaire",
   "toc_cell": false,
   "toc_position": {},
   "toc_section_display": true,
   "toc_window_display": false
  }
 },
 "nbformat": 4,
 "nbformat_minor": 5
}
