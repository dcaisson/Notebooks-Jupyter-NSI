{
 "cells": [
  {
   "cell_type": "markdown",
   "id": "0d901fab",
   "metadata": {
    "nbgrader": {
     "grade": false,
     "grade_id": "cell-79298eb87fcfd729",
     "locked": true,
     "schema_version": 3,
     "solution": false,
     "task": false
    }
   },
   "source": [
    "# Devoir maison 11 &ndash; Soleil couchant sur des bâtiments"
   ]
  },
  {
   "cell_type": "markdown",
   "id": "7e955438",
   "metadata": {
    "nbgrader": {
     "grade": false,
     "grade_id": "cell-a17c5abf51665af0",
     "locked": true,
     "schema_version": 3,
     "solution": false,
     "task": false
    }
   },
   "source": [
    "## Introduction\n",
    "Lorsque des bâtiments sont alignés, ils se font de l'ombre les uns les autres. Dans cet exercice, nous sommes au soleil couchant, les rayons du soleil sont donc supposés horizontaux.\n",
    "\n",
    "![](soleil-couchant.png)\n",
    "\n",
    "Le schéma ci-dessus illustre un soleil couchant qui éclaire 9 bâtiments, les rayons du soleil sont représentés par des flèches horizontales.\n",
    "\n",
    "- Les bâtiments aux indices `0` et `3` reçoivent des rayons de soleil alors que les bâtiments aux indices `1` et `2` sont masqués.\n",
    "- Les **4** bâtiments aux indices `[0, 3, 6, 9]` reçoivent des rayons de soleil sur au moins un étage et sont donc éclairés, alors que les autres ne le sont pas.\n",
    "- Il n'y a pas de bâtiment à l'indice `4`."
   ]
  },
  {
   "cell_type": "markdown",
   "id": "db71e663",
   "metadata": {
    "nbgrader": {
     "grade": false,
     "grade_id": "cell-6ed7bfd464e8978d",
     "locked": true,
     "schema_version": 3,
     "solution": false,
     "task": false
    }
   },
   "source": [
    "## Travail à faire\n",
    "Écrire une fonction `nb_batiments_eclaires` qui prend en argument la liste `hauteurs` des bâtiments et qui renvoie le nombre de bâtiments éclairés.\n",
    "\n",
    "- La hauteur des bâtiments (en nombre d'étages) est donnée par une liste d'entiers positifs. Une hauteur de zéro étage signifie l'absence de bâtiment.\n",
    "- Pour l'exemple ci-dessus, cette liste est `[2, 1, 2, 4, 0, 4, 5, 3, 5, 6]`."
   ]
  },
  {
   "cell_type": "code",
   "execution_count": 1,
   "id": "fc447cea",
   "metadata": {
    "ExecuteTime": {
     "end_time": "2022-11-14T03:38:09.605983Z",
     "start_time": "2022-11-14T03:38:09.591247Z"
    },
    "nbgrader": {
     "grade": false,
     "grade_id": "cell-d9be3de7ff143d7b",
     "locked": false,
     "schema_version": 3,
     "solution": true,
     "task": false
    }
   },
   "outputs": [],
   "source": [
    "def nb_batiments_eclaires(hauteurs):\n",
    "    ### BEGIN SOLUTION\n",
    "    nb = 0\n",
    "    hauteur_max = 0\n",
    "    for h in hauteurs:\n",
    "        if h > hauteur_max:\n",
    "            nb += 1\n",
    "            hauteur_max = h\n",
    "    return nb\n",
    "    ### END SOLUTION"
   ]
  },
  {
   "cell_type": "code",
   "execution_count": 9,
   "id": "8d2730a6",
   "metadata": {
    "ExecuteTime": {
     "end_time": "2022-11-14T03:40:53.537188Z",
     "start_time": "2022-11-14T03:40:53.527168Z"
    },
    "nbgrader": {
     "grade": true,
     "grade_id": "cell-4be417c1d01d74cd",
     "locked": true,
     "points": 4,
     "schema_version": 3,
     "solution": false,
     "task": false
    }
   },
   "outputs": [],
   "source": [
    "assert nb_batiments_eclaires([2, 1, 2, 4, 0, 4, 5, 3, 5, 6]) == 4\n",
    "assert nb_batiments_eclaires([0, 3, 1, 2]) == 1\n",
    "### BEGIN HIDDEN TESTS\n",
    "assert nb_batiments_eclaires([1, 3, 2, 0, 2, 4, 5, 9, 7]) == 5\n",
    "assert nb_batiments_eclaires([1, 0, 2, 1, 0]) == 2\n",
    "assert nb_batiments_eclaires([3, 0, 2, 2, 5, 3, 6]) == 3\n",
    "assert nb_batiments_eclaires([3, 4, 9, 2, 5, 3, 6]) == 3\n",
    "### END HIDDEN TESTS"
   ]
  }
 ],
 "metadata": {
  "celltoolbar": "Create Assignment",
  "kernelspec": {
   "display_name": "Python 3 (ipykernel)",
   "language": "python",
   "name": "python3"
  },
  "language_info": {
   "codemirror_mode": {
    "name": "ipython",
    "version": 3
   },
   "file_extension": ".py",
   "mimetype": "text/x-python",
   "name": "python",
   "nbconvert_exporter": "python",
   "pygments_lexer": "ipython3",
   "version": "3.10.8"
  },
  "latex_envs": {
   "LaTeX_envs_menu_present": true,
   "autoclose": false,
   "autocomplete": true,
   "bibliofile": "biblio.bib",
   "cite_by": "apalike",
   "current_citInitial": 1,
   "eqLabelWithNumbers": true,
   "eqNumInitial": 1,
   "hotkeys": {
    "equation": "Ctrl-E",
    "itemize": "Ctrl-I"
   },
   "labels_anchors": false,
   "latex_user_defs": false,
   "report_style_numbering": false,
   "user_envs_cfg": false
  },
  "toc": {
   "base_numbering": 1,
   "nav_menu": {},
   "number_sections": false,
   "sideBar": true,
   "skip_h1_title": true,
   "title_cell": "Table des matières",
   "title_sidebar": "Sommaire",
   "toc_cell": false,
   "toc_position": {},
   "toc_section_display": true,
   "toc_window_display": false
  }
 },
 "nbformat": 4,
 "nbformat_minor": 5
}
