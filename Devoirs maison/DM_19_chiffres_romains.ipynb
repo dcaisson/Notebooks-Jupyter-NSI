{
 "cells": [
  {
   "cell_type": "markdown",
   "id": "684b11e7",
   "metadata": {
    "nbgrader": {
     "grade": false,
     "grade_id": "cell-d7bd70153da5cb21",
     "locked": true,
     "schema_version": 3,
     "solution": false,
     "task": false
    }
   },
   "source": [
    "# Devoir maison 19 &ndash; Chiffres romains"
   ]
  },
  {
   "cell_type": "markdown",
   "id": "6af4e15f",
   "metadata": {
    "nbgrader": {
     "grade": false,
     "grade_id": "cell-ec109932c580bee5",
     "locked": true,
     "schema_version": 3,
     "solution": false,
     "task": false
    }
   },
   "source": [
    "## 1 Introduction"
   ]
  },
  {
   "cell_type": "markdown",
   "id": "b2b319f4",
   "metadata": {
    "nbgrader": {
     "grade": false,
     "grade_id": "cell-4fdcf193f05e789c",
     "locked": true,
     "schema_version": 3,
     "solution": false,
     "task": false
    }
   },
   "source": [
    "Les chiffres romains sont un système ancien d'écriture des nombres.\n",
    "\n",
    "Les chiffres (symboles) romains sont: I, V, X, L, C, D et M. Ces symboles représentent respectivement 1, 5, 10, 50, 100, 500 et 1000 en base dix.\n",
    "\n",
    "Cette association pourra être modélisée par un dictionnaire défini une fois pour toute (une constante) donné ci-dessous :\n",
    "\n",
    "```py\n",
    "VALEUR = {\"I\": 1, \"V\": 5, \"X\": 10, \"L\": 50, \"C\": 100, \"D\": 500, \"M\": 1000}\n",
    "```"
   ]
  },
  {
   "cell_type": "markdown",
   "id": "ddf3ffdb",
   "metadata": {
    "nbgrader": {
     "grade": false,
     "grade_id": "cell-85894fe516f69ff1",
     "locked": true,
     "schema_version": 3,
     "solution": false,
     "task": false
    }
   },
   "source": [
    "## 2 Principe de l'algorithme"
   ]
  },
  {
   "cell_type": "markdown",
   "id": "98c2b085",
   "metadata": {
    "nbgrader": {
     "grade": false,
     "grade_id": "cell-d33b88dec55baa2f",
     "locked": true,
     "schema_version": 3,
     "solution": false,
     "task": false
    }
   },
   "source": [
    "Le principe est de commencer à zéro, puis d'additionner ou retrancher les valeurs de tous les symboles représentant un nombre écrit en chiffres romains. \n",
    "\n",
    "* Si un symbole a une valeur **supérieure ou égale** à celui qui se trouve à sa droite, il est **ajouté**. Par exemple :\n",
    "\n",
    "  \"XVI\" est le nombre 16  car \"X\" vaut 10 qui est supérieur à 5 (valeur de \"V\"), qui est lui même supérieur à 1 (valeur de \"I\").  \n",
    "    \n",
    "  Ainsi \"XVI\" vaut 0 + 10 + 5 + 1 = 16. \n",
    "    \n",
    "\n",
    "* Si un symbole a une valeur **strictement inférieure** à celui qui se trouve à sa droite, il est **retranché**. Par exemple :\n",
    "\n",
    "  \"XIV\" est le nombre 14  car \"X\" vaut 10 qui est supérieur ou égal à 1 (valeur de \"I\"), qui est lui même inférieur à 5 (valeur de \"V\"). \n",
    "  \n",
    "  Ainsi \"XIV\" vaut 0 + 10 - 1 + 5 = 14.  \n",
    "\n",
    "\n",
    "* Si le symbole est en dernière position, il est **ajouté**."
   ]
  },
  {
   "cell_type": "markdown",
   "id": "2990e1a9",
   "metadata": {
    "nbgrader": {
     "grade": false,
     "grade_id": "cell-df44d3a1329ff0bb",
     "locked": true,
     "schema_version": 3,
     "solution": false,
     "task": false
    }
   },
   "source": [
    "## 3 À vous de jouer !"
   ]
  },
  {
   "cell_type": "markdown",
   "id": "87fb8990",
   "metadata": {
    "nbgrader": {
     "grade": false,
     "grade_id": "cell-00ccf7fec8233cb0",
     "locked": true,
     "schema_version": 3,
     "solution": false,
     "task": false
    }
   },
   "source": [
    "On souhaite créer une fonction `valeur` qui prend en paramètre une chaîne de caractères (non vide) représentant un nombre écrit en chiffres romains et qui renvoie sa valeur en écriture décimale.\n",
    "\n",
    "```py\n",
    ">>> valeur(\"XVI\")\n",
    "16\n",
    ">>> valeur(\"MMXXII\")\n",
    "2022\n",
    ">>> valeur(\"CDII\")\n",
    "402\n",
    ">>> valeur(\"XLII\")\n",
    "42\n",
    "```  "
   ]
  },
  {
   "cell_type": "code",
   "execution_count": 2,
   "id": "903384e3",
   "metadata": {
    "ExecuteTime": {
     "end_time": "2023-03-01T00:44:40.444476Z",
     "start_time": "2023-03-01T00:44:40.437977Z"
    },
    "nbgrader": {
     "grade": false,
     "grade_id": "cell-73e00af4bcfccdf0",
     "locked": false,
     "schema_version": 3,
     "solution": true,
     "task": false
    }
   },
   "outputs": [],
   "source": [
    "# À vous de jouer !\n",
    "def valeur(romain):\n",
    "    VALEUR = {\"I\": 1, \"V\": 5, \"X\": 10, \"L\": 50, \"C\": 100, \"D\": 500, \"M\": 1000}\n",
    "    ### BEGIN SOLUTION\n",
    "    n = len(romain)\n",
    "    cumul = 0\n",
    "    for i in range(n - 1):\n",
    "        if VALEUR[romain[i]] < VALEUR[romain[i + 1]]:\n",
    "            cumul = cumul - VALEUR[romain[i]]\n",
    "        else:\n",
    "            cumul = cumul + VALEUR[romain[i]]\n",
    "    cumul = cumul + VALEUR[romain[n - 1]]\n",
    "    return cumul    \n",
    "    ### END SOLUTION"
   ]
  },
  {
   "cell_type": "code",
   "execution_count": 4,
   "id": "18347fe5",
   "metadata": {
    "ExecuteTime": {
     "end_time": "2023-03-01T00:45:10.996449Z",
     "start_time": "2023-03-01T00:45:10.987838Z"
    },
    "nbgrader": {
     "grade": true,
     "grade_id": "cell-5c637c9ea08faf6f",
     "locked": true,
     "points": 4,
     "schema_version": 3,
     "solution": false,
     "task": false
    }
   },
   "outputs": [],
   "source": [
    "assert valeur(\"XVI\") == 16\n",
    "assert valeur(\"MMXXII\") == 2022\n",
    "assert valeur(\"CDII\") == 402\n",
    "assert valeur(\"XLII\") == 42\n",
    "### BEGIN HIDDEN TESTS\n",
    "assert valeur(\"MCMXCI\") == 1991\n",
    "assert valeur(\"MCMXCIX\") == 1999\n",
    "assert valeur(\"MMMCMXCIX\") == 3999\n",
    "assert valeur(\"XCIV\") == 94\n",
    "assert valeur(\"MDCLXVI\") == 1666\n",
    "### END HIDDEN TESTS"
   ]
  }
 ],
 "metadata": {
  "celltoolbar": "Create Assignment",
  "kernelspec": {
   "display_name": "Python 3",
   "language": "python",
   "name": "python3"
  },
  "language_info": {
   "codemirror_mode": {
    "name": "ipython",
    "version": 3
   },
   "file_extension": ".py",
   "mimetype": "text/x-python",
   "name": "python",
   "nbconvert_exporter": "python",
   "pygments_lexer": "ipython3",
   "version": "3.9.7"
  },
  "toc": {
   "base_numbering": 1,
   "nav_menu": {},
   "number_sections": false,
   "sideBar": true,
   "skip_h1_title": true,
   "title_cell": "Table des matières",
   "title_sidebar": "Sommaire",
   "toc_cell": false,
   "toc_position": {},
   "toc_section_display": true,
   "toc_window_display": false
  }
 },
 "nbformat": 4,
 "nbformat_minor": 5
}
