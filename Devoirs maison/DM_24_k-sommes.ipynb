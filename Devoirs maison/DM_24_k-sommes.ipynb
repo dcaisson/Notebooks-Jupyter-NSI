{
 "cells": [
  {
   "cell_type": "markdown",
   "id": "4e554ef3",
   "metadata": {
    "nbgrader": {
     "grade": false,
     "grade_id": "cell-7e236965384d8db1",
     "locked": true,
     "schema_version": 3,
     "solution": false,
     "task": false
    }
   },
   "source": [
    "# Devoir maison 24 &ndash; $k$-somme maximale"
   ]
  },
  {
   "cell_type": "markdown",
   "id": "72c91b91",
   "metadata": {
    "nbgrader": {
     "grade": false,
     "grade_id": "cell-5ca75b13f8ad5b36",
     "locked": true,
     "schema_version": 3,
     "solution": false,
     "task": false
    }
   },
   "source": [
    "## Somme maximale de k termes consécutifs\n",
    "\n",
    "Écrire une fonction telle que `somme_maxi(valeurs, k)` renvoie la somme maximale de `k` termes consécutifs dans une liste de `valeurs`.\n",
    "\n",
    "> On garantit que `valeurs` est de taille au moins égale à `k` et que `k > 0`.\n",
    "\n",
    "#### Exemples\n",
    "\n",
    "```pycon\n",
    ">>> somme_maxi([0, 1, 2, 3, 2, 1, 0], 3)\n",
    "7\n",
    ">>> somme_maxi([0, 1, 2, 3, 2, 1, 0], 1)\n",
    "3\n",
    "```\n",
    "\n",
    "#### Indice\n",
    "\n",
    "On pourra commencer par faire le cumul des `k` premières valeurs pour initialiser une variable `maxi`.\n",
    "\n",
    "On pourra ensuite faire une boucle qui ajoute la valeur suivante et retranche la première valeur."
   ]
  },
  {
   "cell_type": "markdown",
   "id": "a8b64ef4",
   "metadata": {
    "nbgrader": {
     "grade": false,
     "grade_id": "cell-3d6fed6be77d04b1",
     "locked": true,
     "schema_version": 3,
     "solution": false,
     "task": false
    }
   },
   "source": [
    "## À vous de jouer !"
   ]
  },
  {
   "cell_type": "code",
   "execution_count": 1,
   "id": "2583eb90",
   "metadata": {
    "ExecuteTime": {
     "end_time": "2023-04-04T17:04:34.226871Z",
     "start_time": "2023-04-04T17:04:34.212687Z"
    },
    "nbgrader": {
     "grade": false,
     "grade_id": "cell-55dadcb7ac03cdad",
     "locked": false,
     "schema_version": 3,
     "solution": true,
     "task": false
    }
   },
   "outputs": [],
   "source": [
    "def somme_maxi(valeurs, k):\n",
    "    k_somme = 0\n",
    "    ### BEGIN SOLUTION\n",
    "    for i in range(k):\n",
    "        k_somme += valeurs[i]\n",
    "    maxi = k_somme\n",
    "    for i in range(k, len(valeurs)):\n",
    "        k_somme += valeurs[i] - valeurs[i - k]\n",
    "        if k_somme > maxi:\n",
    "            maxi = k_somme\n",
    "    return maxi\n",
    "    ### END SOLUTION"
   ]
  },
  {
   "cell_type": "code",
   "execution_count": 2,
   "id": "a6a69c6a",
   "metadata": {
    "ExecuteTime": {
     "end_time": "2023-04-04T17:05:08.687324Z",
     "start_time": "2023-04-04T17:05:08.675270Z"
    },
    "nbgrader": {
     "grade": true,
     "grade_id": "cell-ea7d74e8a851c880",
     "locked": true,
     "points": 4,
     "schema_version": 3,
     "solution": false,
     "task": false
    }
   },
   "outputs": [],
   "source": [
    "assert somme_maxi([0, 1, 2, 3, 2, 1, 0], 3) == 7\n",
    "assert somme_maxi([0, 1, 2, 3, 2, 1, 0], 1) == 3\n",
    "### BEGIN HIDDEN TESTS\n",
    "valeurs = [-42] * 1000\n",
    "assert somme_maxi(valeurs, 100) == -42 * 100, \"Erreur avec tableau constant\"\n",
    "\n",
    "assert somme_maxi(list(range(1000)), 100) == sum(range(900, 1000))\n",
    "assert somme_maxi(list(range(-1000, 0)), 100) == -sum(range(101))\n",
    "assert somme_maxi(list(range(1000, 0, -1)), 100) == sum(range(901, 1001))\n",
    "assert somme_maxi(list(range(0, -1000, -1)), 100) == -sum(range(100))\n",
    "### END HIDDEN TESTS"
   ]
  }
 ],
 "metadata": {
  "celltoolbar": "Create Assignment",
  "kernelspec": {
   "display_name": "Python 3",
   "language": "python",
   "name": "python3"
  },
  "language_info": {
   "codemirror_mode": {
    "name": "ipython",
    "version": 3
   },
   "file_extension": ".py",
   "mimetype": "text/x-python",
   "name": "python",
   "nbconvert_exporter": "python",
   "pygments_lexer": "ipython3",
   "version": "3.9.7"
  },
  "toc": {
   "base_numbering": 1,
   "nav_menu": {},
   "number_sections": false,
   "sideBar": true,
   "skip_h1_title": true,
   "title_cell": "Table des matières",
   "title_sidebar": "Sommaire",
   "toc_cell": false,
   "toc_position": {},
   "toc_section_display": true,
   "toc_window_display": false
  }
 },
 "nbformat": 4,
 "nbformat_minor": 5
}
