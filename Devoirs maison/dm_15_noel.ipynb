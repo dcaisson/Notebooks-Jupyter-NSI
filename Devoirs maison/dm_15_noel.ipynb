{
 "cells": [
  {
   "cell_type": "markdown",
   "id": "2b1c4813",
   "metadata": {
    "nbgrader": {
     "grade": false,
     "grade_id": "cell-8dce09d5af905268",
     "locked": true,
     "schema_version": 3,
     "solution": false,
     "task": false
    }
   },
   "source": [
    "# Devoir maison 15 &ndash; Vacances de Noël"
   ]
  },
  {
   "cell_type": "markdown",
   "id": "ce33d962",
   "metadata": {
    "nbgrader": {
     "grade": false,
     "grade_id": "cell-ba24676375d8935f",
     "locked": true,
     "schema_version": 3,
     "solution": false,
     "task": false
    }
   },
   "source": [
    "## Exercice 1 &ndash; Tous différents"
   ]
  },
  {
   "cell_type": "markdown",
   "id": "0ef02e1b",
   "metadata": {
    "nbgrader": {
     "grade": false,
     "grade_id": "cell-3c0da0e548f90d9e",
     "locked": true,
     "schema_version": 3,
     "solution": false,
     "task": false
    }
   },
   "source": [
    "### Introduction\n",
    "Un tableau peut contenir plusieurs fois le même élément. C'est le cas du tableau `tableau_1` ci-dessous :\n",
    "```python\n",
    "tableau_1 = [1, 2, 3, 6, 2, 4, 5]\n",
    "```\n",
    "La valeur `2` est deux fois dans ce tableau.\n",
    "\n",
    "Au contraire, dans le tableau `tableau_2`, toutes les valeurs sont uniques :\n",
    "```python\n",
    "tableau_2 = ['chien', 'chat', 'lion', 'poisson']\n",
    "```"
   ]
  },
  {
   "cell_type": "markdown",
   "id": "bd850d91",
   "metadata": {
    "nbgrader": {
     "grade": false,
     "grade_id": "cell-4278b7196dd03dec",
     "locked": true,
     "schema_version": 3,
     "solution": false,
     "task": false
    }
   },
   "source": [
    "### Travail à faire\n",
    "Écrire une fonction `tous_differents` qui prend un tableau (qu'on supposera non vide) `tableau` et renvoie un booléen indiquant si toutes les valeurs de `tableau` sont différentes ou non.\n",
    "\n",
    "**Indication.&ndash; On pourra utiliser `range(a, b)` qui itère sur toutes les valeurs entières allant de `a` inclus à `b` exclu.**"
   ]
  },
  {
   "cell_type": "code",
   "execution_count": 1,
   "id": "32b2e537",
   "metadata": {
    "ExecuteTime": {
     "end_time": "2022-11-24T21:06:57.425879Z",
     "start_time": "2022-11-24T21:06:57.412228Z"
    },
    "nbgrader": {
     "grade": false,
     "grade_id": "cell-bff765ec4c5c63a3",
     "locked": false,
     "schema_version": 3,
     "solution": true,
     "task": false
    }
   },
   "outputs": [],
   "source": [
    "# À vous de jouer !\n",
    "def tous_differents(tableau):\n",
    "### BEGIN SOLUTION\n",
    "    resultat = True\n",
    "    n = len(tableau)\n",
    "    for i in range(n - 1):\n",
    "        for j in range(i + 1, n):\n",
    "            if tableau[i] == tableau[j]:\n",
    "                resultat = False\n",
    "    return resultat\n",
    "### END SOLUTION"
   ]
  },
  {
   "cell_type": "code",
   "execution_count": 2,
   "id": "89ae24d7",
   "metadata": {
    "ExecuteTime": {
     "end_time": "2022-11-24T21:06:59.174455Z",
     "start_time": "2022-11-24T21:06:59.166220Z"
    },
    "nbgrader": {
     "grade": true,
     "grade_id": "cell-38cb49fcd54d8d69",
     "locked": true,
     "points": 4,
     "schema_version": 3,
     "solution": false,
     "task": false
    }
   },
   "outputs": [],
   "source": [
    "tableau_1 = [1, 2, 3, 6, 2, 4, 5]\n",
    "assert tous_differents(tableau_1) == False\n",
    "tableau_2 = ['chien', 'chat', 'lion', 'poisson']\n",
    "assert tous_differents(tableau_2) == True\n",
    "### BEGIN HIDDEN TESTS\n",
    "tableau_3 = [2, 4, 1, 0]\n",
    "assert tous_differents(tableau_3) == True\n",
    "tableau_4 = ['bleu', 'rouge', 'bleu', 'vert']\n",
    "assert tous_differents(tableau_4) == False\n",
    "### END HIDDEN TESTS"
   ]
  },
  {
   "cell_type": "markdown",
   "id": "bdbcefde",
   "metadata": {
    "nbgrader": {
     "grade": false,
     "grade_id": "cell-c25a3d8983bcf309",
     "locked": true,
     "schema_version": 3,
     "solution": false,
     "task": false
    }
   },
   "source": [
    "## Exercice 2 &ndash; Le bon enclos"
   ]
  },
  {
   "cell_type": "markdown",
   "id": "ff504aa0",
   "metadata": {
    "nbgrader": {
     "grade": false,
     "grade_id": "cell-8ba4057bbfe5d13d",
     "locked": true,
     "schema_version": 3,
     "solution": false,
     "task": false
    }
   },
   "source": [
    "### Introduction\n",
    "\n",
    "On considère une liste de dictionnaires Python qui contient des enregistrements relatifs à des animaux hébergés dans un refuge.\n",
    "\n",
    "Les attributs des enregistrements sont :\n",
    "\n",
    "* `nom` ;\n",
    "* `espece` ;\n",
    "* `age` ;\n",
    "* `enclos`.\n",
    " \n",
    "Les valeurs associées à `nom` et `espece` sont des chaines de caractères, celles associées à `age` et `enclos` des entiers.\n",
    "\n",
    "Voici un exemple d'une telle table :\n",
    "\n",
    "```python\n",
    "animaux = [ {'nom': 'Medor', 'espece': 'chien', 'age': 5, 'enclos': 2},\n",
    "            {'nom': 'Titine', 'espece': 'chat', 'age': 2, 'enclos': 5},\n",
    "            {'nom': 'Tom', 'espece': 'chat', 'age': 7, 'enclos': 4},\n",
    "            {'nom': 'Belle', 'espece': 'chien', 'age': 6, 'enclos': 3},\n",
    "            {'nom': 'Mirza', 'espece': 'chat', 'age': 6, 'enclos': 5}]\n",
    "```\n",
    "\n",
    "On garantit que chaque enregistrement contient l'ensemble des informations (aucune clé ne manque dans un dictionnaire)."
   ]
  },
  {
   "cell_type": "markdown",
   "id": "dbf7a8e4",
   "metadata": {
    "nbgrader": {
     "grade": false,
     "grade_id": "cell-63d95d6e84cdedfc",
     "locked": true,
     "schema_version": 3,
     "solution": false,
     "task": false
    }
   },
   "source": [
    "### Travail à faire\n",
    "\n",
    "Programmer une fonction `selection_enclos` qui :\n",
    "\n",
    "* prend en paramètres :\n",
    "    * une liste `table_animaux` contenant des enregistrements relatifs à des animaux (comme dans l'exemple ci-dessus) ;\n",
    "    * un numéro d'enclos `num_enclos`,\n",
    "* renvoie une table contenant les enregistrements de `table_animaux` dont l'attribut `enclos` est égal à `num_enclos`. Dans cette table, les enregistrements seront donnés dans le même ordre que dans la table d'entrée.\n",
    "\n",
    "\n",
    "Exemples avec la table animaux ci-dessus :\n",
    "\n",
    "\n",
    "```python\n",
    ">>> selection_enclos(animaux, 5)\n",
    "[{'nom': 'Titine', 'espece': 'chat', 'age': 2, 'enclos': 5},\n",
    "{'nom':'Mirza', 'espece':'chat', 'age':6, 'enclos':5}]\n",
    ">>> selection_enclos(animaux, 2)\n",
    "[{'nom':'Medor', 'espece':'chien', 'age':5, 'enclos':2}]\n",
    ">>> selection_enclos(animaux, 7)\n",
    "[]\n",
    "```"
   ]
  },
  {
   "cell_type": "code",
   "execution_count": 4,
   "id": "213934e2",
   "metadata": {
    "nbgrader": {
     "grade": false,
     "grade_id": "cell-215b46efeea99479",
     "locked": false,
     "schema_version": 3,
     "solution": true,
     "task": false
    }
   },
   "outputs": [],
   "source": [
    "# À vous de jouer !\n",
    "def selection_enclos(table_animaux, num_enclos):\n",
    "    ### BEGIN SOLUTION\n",
    "    resultat = []\n",
    "    for animal in table_animaux:\n",
    "        if animal['enclos'] == num_enclos:\n",
    "            resultat.append(animal)\n",
    "    return resultat\n",
    "    ### END SOLUTION"
   ]
  },
  {
   "cell_type": "code",
   "execution_count": 5,
   "id": "78aa5909",
   "metadata": {
    "nbgrader": {
     "grade": true,
     "grade_id": "cell-b34350e76f869fe6",
     "locked": true,
     "points": 3,
     "schema_version": 3,
     "solution": false,
     "task": false
    }
   },
   "outputs": [],
   "source": [
    "animaux = [{'nom': 'Medor', 'espece': 'chien', 'age': 5, 'enclos': 2},\n",
    "           {'nom': 'Titine', 'espece': 'chat', 'age': 2, 'enclos': 5},\n",
    "           {'nom': 'Tom', 'espece': 'chat', 'age': 7, 'enclos': 4},\n",
    "           {'nom': 'Belle', 'espece': 'chien', 'age': 6, 'enclos': 3},\n",
    "           {'nom': 'Mirza', 'espece': 'chat', 'age': 6, 'enclos': 5}]\n",
    "assert selection_enclos(animaux, 5) == [{'nom': 'Titine', 'espece': 'chat', 'age': 2, 'enclos': 5}, {\n",
    "    'nom': 'Mirza', 'espece': 'chat', 'age': 6, 'enclos': 5}]\n",
    "assert selection_enclos(animaux, 2) == [\n",
    "    {'nom': 'Medor', 'espece': 'chien', 'age': 5, 'enclos': 2}]\n",
    "assert selection_enclos(animaux, 7) == []\n",
    "### BEGIN HIDDEN TESTS\n",
    "enclos = {animal['enclos'] for animal in animaux}\n",
    "for num_enclos in enclos:\n",
    "    reponse = [ani for ani in animaux if ani['enclos'] == num_enclos]\n",
    "    assert selection_enclos(animaux, num_enclos) == reponse\n",
    "\n",
    "assert selection_enclos(animaux, -1) == []\n",
    "\n",
    "animaux = [{'nom': 'Moder', 'espece': 'lapin', 'age': 5, 'enclos': 0},\n",
    "           {'nom': 'Ollie', 'espece': 'furet', 'age': 6, 'enclos': 0}]\n",
    "assert selection_enclos(animaux, 0) == animaux\n",
    "assert selection_enclos(animaux, 1) == []\n",
    "### END HIDDEN TESTS"
   ]
  },
  {
   "cell_type": "markdown",
   "id": "90eecbe2",
   "metadata": {
    "nbgrader": {
     "grade": false,
     "grade_id": "cell-b67b6a32f2aedee1",
     "locked": true,
     "schema_version": 3,
     "solution": false,
     "task": false
    }
   },
   "source": [
    "## Exercice 3 &ndash; Mot qui correspond à un mot à trous"
   ]
  },
  {
   "cell_type": "markdown",
   "id": "6d2b11d3",
   "metadata": {
    "nbgrader": {
     "grade": false,
     "grade_id": "cell-fa48bdd5278fce9d",
     "locked": true,
     "schema_version": 3,
     "solution": false,
     "task": false
    }
   },
   "source": [
    "### Introduction\n",
    "\n",
    "**Mot à trous**  \n",
    "- Un mot est ici une chaine de caractères composée uniquement de lettres de l'alphabet.\n",
    "- Un mot à trous comporte également zéro, une ou plusieurs fois le caractère `\".\"`.\n",
    "\n",
    "On dira que `mot_complet` correspond à `mot_a_trous`, si on peut remplacer chaque `\".\"` de `mot_a_trous` par une lettre de façon à obtenir `mot_complet`. \n",
    "\n",
    "Par exemple :  \n",
    "- `\"INFO.MA.IQUE\"` est un mot à trous ;\n",
    "- `\"INFORMATIQUE\"` est un mot qui lui correspond ;\n",
    "- `\"AUTOMATIQUE\"` est un mot qui ne lui correspond pas."
   ]
  },
  {
   "cell_type": "markdown",
   "id": "33582b77",
   "metadata": {
    "nbgrader": {
     "grade": false,
     "grade_id": "cell-ed50f5af1ea3cdae",
     "locked": true,
     "schema_version": 3,
     "solution": false,
     "task": false
    }
   },
   "source": [
    "### Travail à faire\n",
    "\n",
    "Écrire une fonction telle que `correspond(mot_complet, mot_a_trous)` renvoie un booléen qui détermine si `mot_complet` correspond à `mot_a_trous`."
   ]
  },
  {
   "cell_type": "code",
   "execution_count": 1,
   "id": "3c0cde38",
   "metadata": {
    "nbgrader": {
     "grade": false,
     "grade_id": "cell-646e281576034a8d",
     "locked": false,
     "schema_version": 3,
     "solution": true,
     "task": false
    }
   },
   "outputs": [],
   "source": [
    "# À vous de jouer\n",
    "def  correspond(mot_complet, mot_a_trous):\n",
    "    ### BEGIN SOLUTION\n",
    "    resultat = True\n",
    "    if len(mot_complet) != len(mot_a_trous):\n",
    "        resultat = False\n",
    "    else:\n",
    "        for i in range(len(mot_complet)):\n",
    "            if mot_a_trous[i] != \".\" and mot_a_trous[i] != mot_complet[i]:\n",
    "                resultat = False\n",
    "    return resultat\n",
    "    ### END SOLUTION"
   ]
  },
  {
   "cell_type": "code",
   "execution_count": 2,
   "id": "039b0774",
   "metadata": {
    "nbgrader": {
     "grade": true,
     "grade_id": "cell-db8d92ca2623a5fe",
     "locked": true,
     "points": 3,
     "schema_version": 3,
     "solution": false,
     "task": false
    }
   },
   "outputs": [],
   "source": [
    "assert correspond(\"MAL\", \"MAL..\") == False\n",
    "assert correspond(\"INFORMATIQUE\", \"INFO.MA.IQUE\") == True\n",
    "assert correspond(\"AUTOMATIQUE\", \"INFO.MA.IQUE\") == False\n",
    "assert correspond(\"INFO\", \"INFO.MA.IQUE\") == False\n",
    "assert correspond(\"INFORMATIQUES\", \"INFO.MA.IQUE\") == False\n",
    "### BEGIN HIDDEN TESTS\n",
    "assert correspond(\"MOTO\", \"M.T.\") == True\n",
    "assert correspond(\"ACCIDENT\", \"..CIDENT\") == True\n",
    "assert correspond(\"ACCIDENT\", \"I.CIDENT\") == False\n",
    "assert correspond(\"CONJECTURE\", \"CONJO.CTURE\") == False\n",
    "### END HIDDEN TESTS"
   ]
  }
 ],
 "metadata": {
  "celltoolbar": "Create Assignment",
  "kernelspec": {
   "display_name": "Python 3",
   "language": "python",
   "name": "python3"
  },
  "language_info": {
   "codemirror_mode": {
    "name": "ipython",
    "version": 3
   },
   "file_extension": ".py",
   "mimetype": "text/x-python",
   "name": "python",
   "nbconvert_exporter": "python",
   "pygments_lexer": "ipython3",
   "version": "3.9.7"
  },
  "toc": {
   "base_numbering": 1,
   "nav_menu": {},
   "number_sections": false,
   "sideBar": true,
   "skip_h1_title": true,
   "title_cell": "Table des matières",
   "title_sidebar": "Sommaire",
   "toc_cell": false,
   "toc_position": {},
   "toc_section_display": true,
   "toc_window_display": false
  }
 },
 "nbformat": 4,
 "nbformat_minor": 5
}
