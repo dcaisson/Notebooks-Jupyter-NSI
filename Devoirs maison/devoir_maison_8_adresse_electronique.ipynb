{
 "cells": [
  {
   "cell_type": "markdown",
   "id": "37daf757",
   "metadata": {
    "nbgrader": {
     "grade": false,
     "grade_id": "cell-7627fafe3c47cfc5",
     "locked": true,
     "schema_version": 3,
     "solution": false,
     "task": false
    }
   },
   "source": [
    "# Devoir maison 8 &ndash; Adresse électronique"
   ]
  },
  {
   "cell_type": "markdown",
   "id": "ccc86c46",
   "metadata": {
    "nbgrader": {
     "grade": false,
     "grade_id": "cell-dee38e127fcb68b7",
     "locked": true,
     "schema_version": 3,
     "solution": false,
     "task": false
    }
   },
   "source": [
    "### Introduction\n",
    "\n",
    "Une adresse électronique est composée de deux parties :\n",
    "\n",
    "* la partie *locale*, avant le « @ »,\n",
    "* la partie *serveur*, après le « @ ».\n",
    "\n",
    "Certains serveurs de messagerie ignorent les caractères `.` dans la partie locale. Ainsi, sur ces serveurs, les messages envoyés aux adresses `johnconnor@hollywood.biz`, `john.connor@hollywood.biz`, `jo.hn.co.nn.or@hollywood.biz` et `john..connor@hollywood.biz` arrivent tous au même destinataire `johnconnor@hollywood.biz`. Par contre les adresses `john_connor@hollywood.biz` et `john_connore@hollywood.biz` ne correspondent pas à ce destinataire."
   ]
  },
  {
   "cell_type": "markdown",
   "id": "eb12e66d",
   "metadata": {
    "nbgrader": {
     "grade": false,
     "grade_id": "cell-7a09077bb44c2b18",
     "locked": true,
     "schema_version": 3,
     "solution": false,
     "task": false
    }
   },
   "source": [
    "L'adresse de référence est l'adresse électronique écrite **sans aucun point dans la partie locale** : dans l'exemple précédent, l'adresse de référence est donc `johnconnor@hollywood.biz`."
   ]
  },
  {
   "cell_type": "markdown",
   "id": "f162cb55",
   "metadata": {
    "nbgrader": {
     "grade": false,
     "grade_id": "cell-6ef92ffc321ddfc0",
     "locked": true,
     "schema_version": 3,
     "solution": false,
     "task": false
    }
   },
   "source": [
    "### But de l'exercice\n",
    "\n",
    "On cherche dans cet exercice à vérifier qu'une adresse correspond bien à une adresse de référence.\n",
    "\n",
    "C'est le cas si, sans tenir compte des caractères `.` dans la partie locale, les deux adresses comportent les mêmes caractères présents dans le même ordre.\n",
    "\n",
    "Dans cet exercice :\n",
    "\n",
    "- On garantit que les parties « locales » des deux adresses sont non vides.\n",
    "\n",
    "- On garantit que les parties « serveur » des deux adresses sont identiques."
   ]
  },
  {
   "cell_type": "markdown",
   "id": "39f748e9",
   "metadata": {
    "nbgrader": {
     "grade": false,
     "grade_id": "cell-12f19ff72f6e28fb",
     "locked": true,
     "schema_version": 3,
     "solution": false,
     "task": false
    }
   },
   "source": [
    "### À vous de jouer !\n",
    "\n",
    "1. Écrire la fonction `partie_locale` qui :\n",
    "- prend en paramètre une adresse électronique `adresse` sous forme de chaîne de caractères ;\n",
    "- et renvoie la partie locale sous forme de chaîne de caractères."
   ]
  },
  {
   "cell_type": "code",
   "execution_count": 1,
   "id": "d568a9e2",
   "metadata": {
    "ExecuteTime": {
     "end_time": "2022-10-11T18:22:20.701131Z",
     "start_time": "2022-10-11T18:22:20.692515Z"
    },
    "nbgrader": {
     "grade": false,
     "grade_id": "cell-3324c718bdf84543",
     "locked": false,
     "schema_version": 3,
     "solution": true,
     "task": false
    }
   },
   "outputs": [],
   "source": [
    "def partie_locale(adresse):\n",
    "    ### BEGIN SOLUTION\n",
    "    locale = ''\n",
    "    i = 0\n",
    "    while adresse[i] != '@':\n",
    "        locale = locale + adresse[i]\n",
    "        i = i + 1\n",
    "    return locale\n",
    "    ### END SOLUTION"
   ]
  },
  {
   "cell_type": "code",
   "execution_count": 2,
   "id": "154b3d41",
   "metadata": {
    "ExecuteTime": {
     "end_time": "2022-10-11T18:22:21.776804Z",
     "start_time": "2022-10-11T18:22:21.772619Z"
    },
    "nbgrader": {
     "grade": true,
     "grade_id": "cell-e91aedd841f33835",
     "locked": true,
     "points": 2,
     "schema_version": 3,
     "solution": false,
     "task": false
    }
   },
   "outputs": [],
   "source": [
    "assert partie_locale(\"johnconnor@hollywood.biz\") == \"johnconnor\"\n",
    "assert partie_locale(\"jo.hn.co.nn.or@hollywood.biz\") == \"jo.hn.co.nn.or\"\n",
    "### BEGIN HIDDEN TESTS\n",
    "assert partie_locale(\"john..connor@hollywood.biz\") == \"john..connor\"\n",
    "assert partie_locale(\"john_connor@hollywood.biz\") == \"john_connor\"\n",
    "assert partie_locale(\"johnconnore@hollywood.biz\") == \"johnconnore\"\n",
    "### END HIDDEN TESTS"
   ]
  },
  {
   "cell_type": "markdown",
   "id": "dcd1080d",
   "metadata": {
    "nbgrader": {
     "grade": false,
     "grade_id": "cell-f9b0c1416bcb575d",
     "locked": true,
     "schema_version": 3,
     "solution": false,
     "task": false
    }
   },
   "source": [
    "2. Écrire la fonction `partie_locale_sans_points` qui :\n",
    "- prend en paramètre une adresse électronique `adresse` sous forme de chaîne de caractères ;\n",
    "- et renvoie la partie locale sans points, sous forme de chaîne de caractères."
   ]
  },
  {
   "cell_type": "code",
   "execution_count": 3,
   "id": "734b8857",
   "metadata": {
    "ExecuteTime": {
     "end_time": "2022-10-11T18:22:29.437138Z",
     "start_time": "2022-10-11T18:22:29.433033Z"
    },
    "nbgrader": {
     "grade": false,
     "grade_id": "cell-5dfbae8789231e3d",
     "locked": false,
     "schema_version": 3,
     "solution": true,
     "task": false
    }
   },
   "outputs": [],
   "source": [
    "def partie_locale_sans_points(adresse):\n",
    "    ### BEGIN SOLUTION\n",
    "    locale_sans_points = \"\"\n",
    "    for caractere in partie_locale(adresse):\n",
    "        if caractere != \".\":\n",
    "            locale_sans_points += caractere\n",
    "    return locale_sans_points\n",
    "    ### END SOLUTION"
   ]
  },
  {
   "cell_type": "code",
   "execution_count": 4,
   "id": "39a387f3",
   "metadata": {
    "ExecuteTime": {
     "end_time": "2022-10-11T18:22:30.460163Z",
     "start_time": "2022-10-11T18:22:30.456022Z"
    },
    "nbgrader": {
     "grade": true,
     "grade_id": "cell-e23d2840c13ce6dd",
     "locked": true,
     "points": 2,
     "schema_version": 3,
     "solution": false,
     "task": false
    }
   },
   "outputs": [],
   "source": [
    "assert partie_locale_sans_points(\"johnconnor@hollywood.biz\") == \"johnconnor\"\n",
    "assert partie_locale_sans_points(\"jo.hn.co.nn.or@hollywood.biz\") == \"johnconnor\"\n",
    "assert partie_locale_sans_points(\"john..connor@hollywood.biz\") == \"johnconnor\"\n",
    "### BEGIN HIDDEN TESTS\n",
    "assert partie_locale_sans_points(\"john_connor@hollywood.biz\") == \"john_connor\"\n",
    "assert partie_locale_sans_points(\"johnconnore@hollywood.biz\") == \"johnconnore\"\n",
    "### END HIDDEN TESTS"
   ]
  },
  {
   "cell_type": "markdown",
   "id": "1cba1819",
   "metadata": {
    "nbgrader": {
     "grade": false,
     "grade_id": "cell-2ec6180030347373",
     "locked": true,
     "schema_version": 3,
     "solution": false,
     "task": false
    }
   },
   "source": [
    "3. Écrire la fonction `correspond` qui prend en argument les deux adresses `adresse` et `reference` et renvoie `True` ou `False` selon que les deux adresses correspondent ou non."
   ]
  },
  {
   "cell_type": "code",
   "execution_count": 5,
   "id": "164c14fb",
   "metadata": {
    "ExecuteTime": {
     "end_time": "2022-10-11T18:22:33.038114Z",
     "start_time": "2022-10-11T18:22:33.034817Z"
    },
    "nbgrader": {
     "grade": false,
     "grade_id": "cell-2f3f2dd5573dcc6a",
     "locked": false,
     "schema_version": 3,
     "solution": true,
     "task": false
    }
   },
   "outputs": [],
   "source": [
    "def correspond(adresse, reference):\n",
    "    ### BEGIN SOLUTION\n",
    "    return partie_locale_sans_points(adresse) == partie_locale(reference)\n",
    "    ### END SOLUTION"
   ]
  },
  {
   "cell_type": "code",
   "execution_count": 6,
   "id": "1477da70",
   "metadata": {
    "ExecuteTime": {
     "end_time": "2022-10-11T18:22:35.016799Z",
     "start_time": "2022-10-11T18:22:35.012702Z"
    },
    "nbgrader": {
     "grade": true,
     "grade_id": "cell-4e5cad424ce7584b",
     "locked": true,
     "points": 2,
     "schema_version": 3,
     "solution": false,
     "task": false
    }
   },
   "outputs": [],
   "source": [
    "assert correspond(\"johnconnor@hollywood.biz\", \"johnconnor@hollywood.biz\") == True\n",
    "assert correspond(\"john.connor@hollywood.biz\", \"johnconnor@hollywood.biz\") == True\n",
    "assert correspond(\"jo.hn.co.nn.or@hollywood.biz\", \"johnconnor@hollywood.biz\") == True\n",
    "### BEGIN HIDDEN TESTS\n",
    "assert correspond(\"john..connor@hollywood.biz\", \"johnconnor@hollywood.biz\") == True\n",
    "assert correspond(\"john_connor@hollywood.biz\", \"johnconnor@hollywood.biz\") == False\n",
    "assert correspond(\"johnconnore@hollywood.biz\", \"johnconnor@hollywood.biz\") == False\n",
    "### END HIDDEN TESTS"
   ]
  }
 ],
 "metadata": {
  "celltoolbar": "Create Assignment",
  "kernelspec": {
   "display_name": "Python 3",
   "language": "python",
   "name": "python3"
  },
  "language_info": {
   "codemirror_mode": {
    "name": "ipython",
    "version": 3
   },
   "file_extension": ".py",
   "mimetype": "text/x-python",
   "name": "python",
   "nbconvert_exporter": "python",
   "pygments_lexer": "ipython3",
   "version": "3.9.7"
  },
  "toc": {
   "base_numbering": 1,
   "nav_menu": {},
   "number_sections": false,
   "sideBar": true,
   "skip_h1_title": true,
   "title_cell": "Table des matières",
   "title_sidebar": "Sommaire",
   "toc_cell": false,
   "toc_position": {},
   "toc_section_display": true,
   "toc_window_display": false
  }
 },
 "nbformat": 4,
 "nbformat_minor": 5
}
