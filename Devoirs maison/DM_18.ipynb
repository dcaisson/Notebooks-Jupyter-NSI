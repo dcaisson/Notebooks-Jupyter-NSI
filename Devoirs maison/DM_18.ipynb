{
 "cells": [
  {
   "cell_type": "markdown",
   "id": "711b340f",
   "metadata": {
    "nbgrader": {
     "grade": false,
     "grade_id": "cell-6ae4a8d8c536bdc0",
     "locked": true,
     "schema_version": 3,
     "solution": false,
     "task": false
    }
   },
   "source": [
    "# Devoir maison 18 &ndash; Adresse IP, masque, adresse de sous-réseau"
   ]
  },
  {
   "cell_type": "markdown",
   "id": "b5da276d",
   "metadata": {
    "nbgrader": {
     "grade": false,
     "grade_id": "cell-db5ccd5aa9a8f357",
     "locked": true,
     "schema_version": 3,
     "solution": false,
     "task": false
    }
   },
   "source": [
    "## 1 Fonction dec_to_bin"
   ]
  },
  {
   "cell_type": "markdown",
   "id": "3bf367d8",
   "metadata": {
    "nbgrader": {
     "grade": false,
     "grade_id": "cell-6b7f70fb16aa5571",
     "locked": true,
     "schema_version": 3,
     "solution": false,
     "task": false
    }
   },
   "source": [
    "<div style=\"background-color:Lavender;\">\n",
    "    <h2>Exercice 1</h2>\n",
    "    <h4>Compléter la fonction <tt>dec_to_bin</tt> afin qu'elle respecte la spécification donnée.</h4>\n",
    "</div>"
   ]
  },
  {
   "cell_type": "markdown",
   "id": "3e82ac5f",
   "metadata": {
    "nbgrader": {
     "grade": false,
     "grade_id": "cell-94e6b7a88100bfa7",
     "locked": true,
     "schema_version": 3,
     "solution": false,
     "task": false
    }
   },
   "source": [
    "```python\n",
    "def dec_to_bin(n):\n",
    "    \"\"\" Entrée : un entier n compris entre 0 et 255\n",
    "        Sortie : une liste de longueur 8 contenant uniquement des 0 et des 1\n",
    "        et donnant l'écriture en base 2 de l'entier n\n",
    "        Exemple : dec_to_bin(125) renvoie la liste [0, 1, 1, 1, 1, 1, 0, 1].\n",
    "    \"\"\"\n",
    "    bin_tab = []\n",
    "    nb_bits = 0\n",
    "    while nb_bits != ...:\n",
    "        bin_tab = [...] + bin_tab\n",
    "        n = ...\n",
    "        nb_bits = nb_bits + 1\n",
    "    return ...\n",
    "```"
   ]
  },
  {
   "cell_type": "code",
   "execution_count": 1,
   "id": "f1319446",
   "metadata": {
    "ExecuteTime": {
     "end_time": "2023-02-17T20:21:09.703673Z",
     "start_time": "2023-02-17T20:21:09.607421Z"
    },
    "nbgrader": {
     "grade": false,
     "grade_id": "cell-ced69f87ed50401e",
     "locked": false,
     "schema_version": 3,
     "solution": true,
     "task": false
    }
   },
   "outputs": [],
   "source": [
    "def dec_to_bin(n):\n",
    "    \"\"\" Entrée : un entier n compris entre 0 et 255\n",
    "        Sortie : une liste de longueur 8 contenant uniquement des 0 et des 1\n",
    "        et donnant l'écriture en base 2 de l'entier n\n",
    "        Exemple : dec_to_bin(125) renvoie la liste [0, 1, 1, 1, 1, 1, 0, 1].\n",
    "    \"\"\"\n",
    "    ### BEGIN CORRECTION\n",
    "    bin_tab = []\n",
    "    nb_bits = 0\n",
    "    while nb_bits != 8:\n",
    "        bin_tab = [n % 2] + bin_tab\n",
    "        n = n // 2\n",
    "        nb_bits = nb_bits + 1\n",
    "    return bin_tab\n",
    "    ### END CORRECTION"
   ]
  },
  {
   "cell_type": "code",
   "execution_count": 2,
   "id": "de63941c",
   "metadata": {
    "ExecuteTime": {
     "end_time": "2023-02-17T20:21:09.797078Z",
     "start_time": "2023-02-17T20:21:09.712691Z"
    },
    "nbgrader": {
     "grade": true,
     "grade_id": "cell-6e4b08a46e82bd5e",
     "locked": true,
     "points": 2,
     "schema_version": 3,
     "solution": false,
     "task": false
    }
   },
   "outputs": [],
   "source": [
    "assert dec_to_bin(125) == [0, 1, 1, 1, 1, 1, 0, 1]\n",
    "assert dec_to_bin(92) == [0, 1, 0, 1, 1, 1, 0, 0]\n",
    "assert dec_to_bin(0) == [0, 0, 0, 0, 0, 0, 0, 0]\n",
    "assert dec_to_bin(255) == [1, 1, 1, 1, 1, 1, 1, 1]\n",
    "### BEGIN HIDDEN TESTS\n",
    "assert dec_to_bin(42) == [0, 0, 1, 0, 1, 0, 1, 0]\n",
    "assert dec_to_bin(189) == [1, 0, 1, 1, 1, 1, 0, 1]\n",
    "assert dec_to_bin(18) == [0, 0, 0, 1, 0, 0, 1, 0]\n",
    "### END HIDDEN TESTS"
   ]
  },
  {
   "cell_type": "markdown",
   "id": "f596af54",
   "metadata": {
    "nbgrader": {
     "grade": false,
     "grade_id": "cell-a54adcf135ec67b3",
     "locked": true,
     "schema_version": 3,
     "solution": false,
     "task": false
    }
   },
   "source": [
    "<div style=\"background-color:Lavender;\">\n",
    "    <h2>Exercice 2</h2>\n",
    "    <h4>Compléter la fonction <tt>et</tt> afin qu'elle respecte la spécification donnée.</h4>\n",
    "</div>"
   ]
  },
  {
   "cell_type": "code",
   "execution_count": 3,
   "id": "11fd78f3",
   "metadata": {
    "ExecuteTime": {
     "end_time": "2023-02-17T20:21:09.895447Z",
     "start_time": "2023-02-17T20:21:09.808340Z"
    },
    "nbgrader": {
     "grade": false,
     "grade_id": "cell-0df67af1aaed316e",
     "locked": false,
     "schema_version": 3,
     "solution": true,
     "task": false
    }
   },
   "outputs": [],
   "source": [
    "def et(bin_tab_1, bin_tab_2):\n",
    "    \"\"\" Entrées : deux listes de longueur 8 contenant uniquement des 0 et des 1\n",
    "        Sortie : une liste de longueur 8 obtenue en faisant l'opération 'ET' logique\n",
    "        bit à bit entre bin_tab_1 et bin_tab_2\n",
    "        Exemple : avec bin_tab_1 = [0, 0, 1, 1, 0, 0, 1, 1]\n",
    "                  et   bin_tab_2 = [1, 1, 1, 0, 1, 1, 0, 1] et(bin_tab_1, bin_tab_2) \n",
    "                  renvoie          [0, 0, 1, 0, 0, 0, 0, 1]\n",
    "    \"\"\"\n",
    "    et_tab = []\n",
    "    ### BEGIN CORRECTION\n",
    "    for i in range(8):\n",
    "        if bin_tab_1[i] * bin_tab_2[i] == 1:\n",
    "            et_tab.append(1)\n",
    "        else:\n",
    "            et_tab.append(0)\n",
    "    return et_tab\n",
    "    ### END CORRECTION"
   ]
  },
  {
   "cell_type": "code",
   "execution_count": 4,
   "id": "477562a6",
   "metadata": {
    "ExecuteTime": {
     "end_time": "2023-02-17T20:21:10.001131Z",
     "start_time": "2023-02-17T20:21:09.912083Z"
    },
    "nbgrader": {
     "grade": true,
     "grade_id": "cell-bf5cd21493a26b44",
     "locked": true,
     "points": 2,
     "schema_version": 3,
     "solution": false,
     "task": false
    }
   },
   "outputs": [],
   "source": [
    "bin_tab_1 = [0, 0, 1, 1, 0, 0, 1, 1]\n",
    "bin_tab_2 = [1, 1, 1, 0, 1, 1, 0, 1] \n",
    "assert et(bin_tab_1, bin_tab_2) == [0, 0, 1, 0, 0, 0, 0, 1]\n",
    "\n",
    "bin_tab_1 = [0, 0, 0, 0, 0, 0, 0, 1]\n",
    "bin_tab_2 = [1, 1, 1, 1, 0, 0, 0, 1]\n",
    "assert et(bin_tab_1, bin_tab_2) == [0, 0, 0, 0, 0, 0, 0, 1]\n",
    "### BEGIN HIDDEN TESTS\n",
    "bin_tab_1 = [0, 1, 1, 1, 0, 0, 1, 1]\n",
    "bin_tab_2 = [1, 1, 0, 0, 1, 1, 0, 1] \n",
    "assert et(bin_tab_1, bin_tab_2) == [0, 1, 0, 0, 0, 0, 0, 1]\n",
    "\n",
    "bin_tab_1 = [0, 0, 1, 1, 1, 0, 0, 1]\n",
    "bin_tab_2 = [0, 1, 1, 1, 0, 0, 0, 1]\n",
    "assert et(bin_tab_1, bin_tab_2) == [0, 0, 1, 1, 0, 0, 0, 1]\n",
    "### END HIDDEN TESTS"
   ]
  },
  {
   "cell_type": "markdown",
   "id": "6c9e5a83",
   "metadata": {
    "nbgrader": {
     "grade": false,
     "grade_id": "cell-a7f00b6d07b6dc03",
     "locked": true,
     "schema_version": 3,
     "solution": false,
     "task": false
    }
   },
   "source": [
    "<div style=\"background-color:Lavender;\">\n",
    "    <h2>Exercice 3</h2>\n",
    "    <h4>Compléter la fonction <tt>bin_to_dec</tt> afin qu'elle respecte la spécification donnée.</h4>\n",
    "</div>"
   ]
  },
  {
   "cell_type": "code",
   "execution_count": 5,
   "id": "e9797bd9",
   "metadata": {
    "ExecuteTime": {
     "end_time": "2023-02-17T20:21:10.102411Z",
     "start_time": "2023-02-17T20:21:10.092975Z"
    },
    "nbgrader": {
     "grade": false,
     "grade_id": "cell-f6243bc5adf484c8",
     "locked": false,
     "schema_version": 3,
     "solution": true,
     "task": false
    }
   },
   "outputs": [],
   "source": [
    "def bin_to_dec(bin_tab):\n",
    "    \"\"\" Entrée : une liste de longueur 8 contenant uniquement des 0 et des 1\n",
    "        Sortie : un entier n dont la représentation en base 2 est donnée par la liste bin_tab\n",
    "        Exemple : bin_to_dec([0, 1, 1, 1, 1, 1, 0, 1]) renvoie 125.\n",
    "    \"\"\"\n",
    "    ### BEGIN CORRECTION\n",
    "    n = 0\n",
    "    for i in range(8):\n",
    "        n = n + bin_tab[i] * 2**(7-i)\n",
    "    return n\n",
    "    ### END CORRECTION"
   ]
  },
  {
   "cell_type": "code",
   "execution_count": 6,
   "id": "5f7e3ba8",
   "metadata": {
    "ExecuteTime": {
     "end_time": "2023-02-17T20:21:10.206289Z",
     "start_time": "2023-02-17T20:21:10.189924Z"
    },
    "nbgrader": {
     "grade": true,
     "grade_id": "cell-deb967b5e2d5caed",
     "locked": true,
     "points": 2,
     "schema_version": 3,
     "solution": false,
     "task": false
    }
   },
   "outputs": [],
   "source": [
    "assert bin_to_dec([0, 1, 1, 1, 1, 1, 0, 1]) == 125\n",
    "assert bin_to_dec([0, 1, 0, 1, 1, 1, 0, 0]) == 92\n",
    "assert bin_to_dec([0, 0, 0, 0, 0, 0, 0, 0]) == 0\n",
    "assert bin_to_dec([1, 1, 1, 1, 1, 1, 1, 1]) == 255\n",
    "### BEGIN HIDDEN TESTS\n",
    "assert bin_to_dec([0, 0, 1, 0, 1, 0, 1, 0]) == 42\n",
    "assert bin_to_dec([1, 0, 1, 1, 1, 1, 0, 1]) == 189\n",
    "assert bin_to_dec([0, 0, 0, 1, 0, 0, 1, 0]) == 18\n",
    "### END HIDDEN TESTS"
   ]
  },
  {
   "cell_type": "markdown",
   "id": "aa7f0356",
   "metadata": {
    "nbgrader": {
     "grade": false,
     "grade_id": "cell-11caab087eb61486",
     "locked": true,
     "schema_version": 3,
     "solution": false,
     "task": false
    }
   },
   "source": [
    "<div style=\"background-color:Lavender;\">\n",
    "    <h2>Exercice 4</h2>\n",
    "    <h4>Compléter la fonction <tt>adresse_sous_reseau</tt> afin qu'elle respecte la spécification donnée.</h4>\n",
    "</div>"
   ]
  },
  {
   "cell_type": "code",
   "execution_count": 7,
   "id": "a91d7436",
   "metadata": {
    "ExecuteTime": {
     "end_time": "2023-02-17T20:21:10.397616Z",
     "start_time": "2023-02-17T20:21:10.307246Z"
    },
    "nbgrader": {
     "grade": false,
     "grade_id": "cell-1ab7282263d4e1e1",
     "locked": false,
     "schema_version": 3,
     "solution": true,
     "task": false
    }
   },
   "outputs": [],
   "source": [
    "def adresse_sous_reseau(ip, masque):\n",
    "    \"\"\" Entrées : deux listes ip, masque de longueur 4 contenant uniquement des nombres compris entre 0 et 255\n",
    "        donnant l'adresse IP et le masque d'une machine M\n",
    "        Sortie : une liste de longueur 4 contenant uniquement des nombres compris entre 0 et 255 donnant l'adresse\n",
    "        du sous-réseau auquel appartient la machine M\n",
    "        Exemple : avec   ip = [129, 175, 127, 1]\n",
    "                  et masque = [255, 255, 0, 0] adresse_sous_reseau(ip, masque)\n",
    "                  renvoie     [129, 175, 0, 0]\n",
    "    \"\"\"\n",
    "    sous_reseau = []\n",
    "    ### BEGIN CORRECTION\n",
    "    for i in range(4):\n",
    "        sous_reseau.append(bin_to_dec(et(dec_to_bin(ip[i]), dec_to_bin(masque[i]))))\n",
    "    return sous_reseau\n",
    "    ### END CORRECTION"
   ]
  },
  {
   "cell_type": "code",
   "execution_count": 8,
   "id": "8706ec8d",
   "metadata": {
    "ExecuteTime": {
     "end_time": "2023-02-17T20:21:10.590636Z",
     "start_time": "2023-02-17T20:21:10.406240Z"
    },
    "nbgrader": {
     "grade": true,
     "grade_id": "cell-f726871397934100",
     "locked": true,
     "points": 2,
     "schema_version": 3,
     "solution": false,
     "task": false
    }
   },
   "outputs": [],
   "source": [
    "assert adresse_sous_reseau([129, 175, 127, 1], [255, 255, 0, 0]) == [129, 175, 0, 0]\n",
    "assert adresse_sous_reseau([129, 175, 127, 1], [255, 255, 255, 0]) == [129, 175, 127, 0]\n",
    "### BEGIN HIDDEN TESTS\n",
    "assert adresse_sous_reseau([192, 168, 0, 1], [255, 255, 255, 0]) == [192, 168, 0, 0]\n",
    "assert adresse_sous_reseau([192, 168, 0, 3], [255, 255, 255, 0]) == [192, 168, 0, 0]\n",
    "assert adresse_sous_reseau([129, 175, 127, 1], [255, 255, 252, 0]) == [129, 175, 124, 0]\n",
    "assert adresse_sous_reseau([129, 175, 130, 10], [255, 255, 252, 0]) == [129, 175, 128, 0]\n",
    "### END HIDDEN TESTS"
   ]
  },
  {
   "cell_type": "markdown",
   "id": "7bac3355",
   "metadata": {
    "nbgrader": {
     "grade": false,
     "grade_id": "cell-55de58b8fbc3b671",
     "locked": true,
     "schema_version": 3,
     "solution": false,
     "task": false
    }
   },
   "source": [
    "<div style=\"background-color:Lavender;\">\n",
    "    <h2>Exercice 5</h2>\n",
    "    <h4>Compléter la fonction <tt>meme_sous_reseau</tt> afin qu'elle respecte la spécification donnée.</h4>\n",
    "</div>"
   ]
  },
  {
   "cell_type": "code",
   "execution_count": 9,
   "id": "ea7a99f6",
   "metadata": {
    "ExecuteTime": {
     "end_time": "2023-02-17T20:21:10.908067Z",
     "start_time": "2023-02-17T20:21:10.900067Z"
    },
    "nbgrader": {
     "grade": false,
     "grade_id": "cell-88710a547f0d5677",
     "locked": false,
     "schema_version": 3,
     "solution": true,
     "task": false
    }
   },
   "outputs": [],
   "source": [
    "def meme_sous_reseau(ip_1, masque_1, ip_2, masque_2):\n",
    "    \"\"\" Entrées : quatre listes ip_1, masque_1, ip_2, masque_2 de longueur 4 contenant des nombres de 0 à 255\n",
    "        donnant respectivement l'adresse IP et le masque d'une machine M1, l'adresse IP et le masque d'une machine M2\n",
    "        Sortie : un booléen précisant si M1 et M2 appartiennent à un même sous-réseau (True si c'est le cas, False sinon)\n",
    "\n",
    "    \"\"\"\n",
    "    appartient = True\n",
    "    ### BEGIN CORRECTION\n",
    "    sous_reseau_1 = adresse_sous_reseau(ip_1, masque_1)\n",
    "    sous_reseau_2 = adresse_sous_reseau(ip_2, masque_2)\n",
    "    for i in range(4):\n",
    "        if sous_reseau_1[i] != sous_reseau_2[i]:\n",
    "            appartient = False\n",
    "    return appartient   \n",
    "    ### END CORRECTION"
   ]
  },
  {
   "cell_type": "code",
   "execution_count": 10,
   "id": "d4d1e4b1",
   "metadata": {
    "ExecuteTime": {
     "end_time": "2023-02-17T20:21:11.013003Z",
     "start_time": "2023-02-17T20:21:11.001025Z"
    },
    "nbgrader": {
     "grade": true,
     "grade_id": "cell-5e0d659658fdfc74",
     "locked": true,
     "points": 2,
     "schema_version": 3,
     "solution": false,
     "task": false
    }
   },
   "outputs": [],
   "source": [
    "ip_1 = [192, 168, 0, 1]\n",
    "masque_1 = [255, 255, 255, 0]\n",
    "ip_2 = [192, 168, 0, 3]\n",
    "masque_2 = [255, 255, 255, 0]\n",
    "assert meme_sous_reseau(ip_1, masque_1, ip_2, masque_2) == True\n",
    "\n",
    "ip_1 = [129, 175, 127, 1]\n",
    "masque_1 = [255, 255, 252, 0]\n",
    "ip_2 = [129, 175, 130, 10]\n",
    "masque_2 = [255, 255, 252, 0]\n",
    "assert meme_sous_reseau(ip_1, masque_1, ip_2, masque_2) == False\n",
    "\n",
    "### BEGIN HIDDEN TESTS\n",
    "ip_1 = [129, 175, 130, 10]\n",
    "masque_1 = [255, 255, 252, 0]\n",
    "ip_2 = [129, 175, 128, 17]\n",
    "masque_2 = [255, 255, 252, 0]\n",
    "assert meme_sous_reseau(ip_1, masque_1, ip_2, masque_2) == True\n",
    "\n",
    "ip_1 = [129, 175, 128, 17]\n",
    "masque_1 = [255, 255, 252, 0]\n",
    "ip_2 = [129, 175, 131, 110]\n",
    "masque_2 = [255, 255, 252, 0]\n",
    "assert meme_sous_reseau(ip_1, masque_1, ip_2, masque_2) == True\n",
    "\n",
    "ip_1 = [129, 175, 131, 110]\n",
    "masque_1 = [255, 255, 252, 0]\n",
    "ip_2 = [129, 175, 132, 8]\n",
    "masque_2 = [255, 255, 252, 0]\n",
    "assert meme_sous_reseau(ip_1, masque_1, ip_2, masque_2) == False\n",
    "### END HIDDEN TESTS"
   ]
  }
 ],
 "metadata": {
  "celltoolbar": "Create Assignment",
  "kernelspec": {
   "display_name": "Python 3",
   "language": "python",
   "name": "python3"
  },
  "language_info": {
   "codemirror_mode": {
    "name": "ipython",
    "version": 3
   },
   "file_extension": ".py",
   "mimetype": "text/x-python",
   "name": "python",
   "nbconvert_exporter": "python",
   "pygments_lexer": "ipython3",
   "version": "3.9.7"
  },
  "toc": {
   "base_numbering": 1,
   "nav_menu": {},
   "number_sections": false,
   "sideBar": true,
   "skip_h1_title": true,
   "title_cell": "Table des matières",
   "title_sidebar": "Sommaire",
   "toc_cell": false,
   "toc_position": {},
   "toc_section_display": true,
   "toc_window_display": false
  }
 },
 "nbformat": 4,
 "nbformat_minor": 5
}
