{
 "cells": [
  {
   "cell_type": "markdown",
   "id": "220bbef0",
   "metadata": {
    "nbgrader": {
     "grade": false,
     "grade_id": "cell-faf523b8155321bd",
     "locked": true,
     "schema_version": 3,
     "solution": false,
     "task": false
    }
   },
   "source": [
    "# Devoir maison 21 &ndash; Suite de Syracuse d'un entier"
   ]
  },
  {
   "cell_type": "markdown",
   "id": "a1eae848",
   "metadata": {
    "nbgrader": {
     "grade": false,
     "grade_id": "cell-a3d514c3e024dada",
     "locked": true,
     "schema_version": 3,
     "solution": false,
     "task": false
    }
   },
   "source": [
    "## 1 Introduction"
   ]
  },
  {
   "cell_type": "markdown",
   "id": "b14a4c0d",
   "metadata": {
    "nbgrader": {
     "grade": false,
     "grade_id": "cell-926e80472c955311",
     "locked": true,
     "schema_version": 3,
     "solution": false,
     "task": false
    }
   },
   "source": [
    "Pour construire la suite de Syracuse d'un entier $n$ :\n",
    "\n",
    "1. On utilise une variable éponyme initialisée à $n$.\n",
    "2. On crée une liste avec $n$ comme premier élément,\n",
    "3. On répète en boucle tant que $n \\neq 1$ :\n",
    "    - Si $n$ est pair, on le divise par $2$,\n",
    "    - Sinon $n$ devient $3n+1$.\n",
    "    - On ajoute $n$ à la liste.\n",
    "\n",
    "On admet que, quel que soit l'entier $n$ choisi au départ, la suite finit toujours par atteindre la valeur $1$."
   ]
  },
  {
   "cell_type": "markdown",
   "id": "99de0ee0",
   "metadata": {
    "nbgrader": {
     "grade": false,
     "grade_id": "cell-00f990bee84539f7",
     "locked": true,
     "schema_version": 3,
     "solution": false,
     "task": false
    }
   },
   "source": [
    "Écrire une fonction `syracuse` prenant en paramètres un entier `n` strictement positif et qui renvoie la suite de Syracuse de l'entier `n`.\n",
    "\n",
    "> On rappelle que `n % 2` renvoie le reste dans la division de `n` par `2`. Si ce reste est nul, c'est que `n` est un nombre pair.\n",
    "\n",
    "Exemples :\n",
    "\n",
    "```py\n",
    ">>> syracuse(7)\n",
    "[7, 22, 11, 34, 17, 52, 26, 13, 40, 20, 10, 5, 16, 8, 4, 2, 1]\n",
    ">>> syracuse(3)\n",
    "[3, 10, 5, 16, 8, 4, 2, 1]\n",
    ">>> syracuse(1)\n",
    "[1]\n",
    "```"
   ]
  },
  {
   "cell_type": "markdown",
   "id": "dab2ab26",
   "metadata": {
    "nbgrader": {
     "grade": false,
     "grade_id": "cell-42473f1e097e7152",
     "locked": true,
     "schema_version": 3,
     "solution": false,
     "task": false
    }
   },
   "source": [
    "## 2 À vous de jouer !"
   ]
  },
  {
   "cell_type": "code",
   "execution_count": 1,
   "id": "18f21202",
   "metadata": {
    "ExecuteTime": {
     "end_time": "2023-03-01T01:33:19.566510Z",
     "start_time": "2023-03-01T01:33:19.550259Z"
    },
    "nbgrader": {
     "grade": false,
     "grade_id": "cell-3585a864004808b8",
     "locked": false,
     "schema_version": 3,
     "solution": true,
     "task": false
    }
   },
   "outputs": [],
   "source": [
    "def syracuse(n):\n",
    "    ### BEGIN SOLUTION\n",
    "    suite = [n]\n",
    "    while n != 1:\n",
    "        if n % 2 == 0:\n",
    "            n = n // 2\n",
    "        else:\n",
    "            n = 3 * n + 1\n",
    "        suite.append(n)\n",
    "    return suite\n",
    "    ### END SOLUTION"
   ]
  },
  {
   "cell_type": "code",
   "execution_count": 4,
   "id": "1fbc46a8",
   "metadata": {
    "ExecuteTime": {
     "end_time": "2023-03-01T01:34:00.893749Z",
     "start_time": "2023-03-01T01:34:00.881657Z"
    },
    "nbgrader": {
     "grade": true,
     "grade_id": "cell-9c74e4cb1677d878",
     "locked": true,
     "points": 4,
     "schema_version": 3,
     "solution": false,
     "task": false
    }
   },
   "outputs": [],
   "source": [
    "assert syracuse(7) == [7, 22, 11, 34, 17, 52, 26, 13, 40, 20, 10, 5, 16, 8, 4, 2, 1]\n",
    "assert syracuse(3) == [3, 10, 5, 16, 8, 4, 2, 1]\n",
    "assert syracuse(1) == [1]\n",
    "### BEGIN HIDDEN TESTS\n",
    "def solution(n):\n",
    "    suite = [n]\n",
    "    while n != 1:\n",
    "        if n % 2 == 0:\n",
    "            n = n // 2\n",
    "        else:\n",
    "            n = 3 * n + 1\n",
    "        suite.append(n)\n",
    "    return suite\n",
    "\n",
    "for n in range(1, 200):\n",
    "    resultat = solution(n)\n",
    "    assert syracuse(n) == resultat, f\"Erreur avec {n}\"\n",
    "### END HIDDEN TESTS"
   ]
  }
 ],
 "metadata": {
  "celltoolbar": "Create Assignment",
  "kernelspec": {
   "display_name": "Python 3",
   "language": "python",
   "name": "python3"
  },
  "language_info": {
   "codemirror_mode": {
    "name": "ipython",
    "version": 3
   },
   "file_extension": ".py",
   "mimetype": "text/x-python",
   "name": "python",
   "nbconvert_exporter": "python",
   "pygments_lexer": "ipython3",
   "version": "3.9.7"
  },
  "toc": {
   "base_numbering": 1,
   "nav_menu": {},
   "number_sections": false,
   "sideBar": true,
   "skip_h1_title": true,
   "title_cell": "Table des matières",
   "title_sidebar": "Sommaire",
   "toc_cell": false,
   "toc_position": {},
   "toc_section_display": true,
   "toc_window_display": false
  }
 },
 "nbformat": 4,
 "nbformat_minor": 5
}
