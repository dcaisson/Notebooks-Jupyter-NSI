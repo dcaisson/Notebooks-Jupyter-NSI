{
 "cells": [
  {
   "cell_type": "markdown",
   "id": "f55ab008",
   "metadata": {
    "nbgrader": {
     "grade": false,
     "grade_id": "cell-4b31ae1c798aab1b",
     "locked": true,
     "schema_version": 3,
     "solution": false,
     "task": false
    }
   },
   "source": [
    "# Devoir maison 12 &ndash; Aplatir une liste"
   ]
  },
  {
   "cell_type": "markdown",
   "id": "3db37f61",
   "metadata": {
    "nbgrader": {
     "grade": false,
     "grade_id": "cell-08e10d22cd5c5e18",
     "locked": true,
     "schema_version": 3,
     "solution": false,
     "task": false
    }
   },
   "source": [
    "## Introduction\n",
    "\n",
    "On considère un tableau à deux dimensions (on dit aussi une matrice), non vide, rempli de nombres et l'on souhaite l'*aplatir*, c'est-à-dire le transformer en un tableau à une seule ligne.\n",
    "\n",
    "Par exemple, le tableau ci-dessous a pour dimensions $3 \\times 4$ :\n",
    "\n",
    "$$\n",
    "\\begin{array}{|c|c|c|c|}\n",
    "\\hline\n",
    "1&2&3&4\\\\\n",
    "\\hline\n",
    "5&6&7&8\\\\\n",
    "\\hline\n",
    "9&10&11&12\\\\\n",
    "\\hline\n",
    "\\end{array}\n",
    "$$\n",
    "\n",
    "et pourra être transformé en un nouveau tableau de dimensions $1 \\times 12$ ($1$ ligne et $12$ colonnes) :\n",
    "\n",
    "$$\n",
    "\\begin{array}{|c|c|c|c|c|c|c|c|c|c|c|c|}\n",
    "\\hline\n",
    "1&2&3&4&5&6&7&8&9&10&11&12\\\\\n",
    "\\hline\n",
    "\\end{array}\n",
    "$$\n",
    "\n",
    "Les tableaux *de départ* seront représentés par des listes de listes Python. Ainsi le premier tableau ci-dessus sera représenté par :\n",
    "\n",
    "```python\n",
    "matrice = [[1, 2, 3, 4], [5, 6, 7, 8], [9, 10, 11, 12]]\n",
    "```\n",
    "\n",
    "Les tableaux \"aplatis\", sur une seule ligne, seront représentés par une simple liste Python. Le second tableau ci-dessus sera représenté par :\n",
    "\n",
    "```python\n",
    "aplati = [1, 2, 3, 4, 5, 6, 7, 8, 9, 10, 11, 12]\n",
    "```"
   ]
  },
  {
   "cell_type": "markdown",
   "id": "e90b07d4",
   "metadata": {
    "nbgrader": {
     "grade": false,
     "grade_id": "cell-62d66cd28570bf87",
     "locked": true,
     "schema_version": 3,
     "solution": false,
     "task": false
    }
   },
   "source": [
    "## Travail à faire\n",
    "Écrire la fonction `aplatir` prenant en argument une liste de listes `tableau` et renvoyant une liste dans laquelle toutes les valeurs de `tableau` sont données à la suite les unes des autres."
   ]
  },
  {
   "cell_type": "code",
   "execution_count": 1,
   "id": "a300be6f",
   "metadata": {
    "ExecuteTime": {
     "end_time": "2022-11-14T03:58:51.040012Z",
     "start_time": "2022-11-14T03:58:51.028879Z"
    },
    "nbgrader": {
     "grade": false,
     "grade_id": "cell-201d3c2ca036973d",
     "locked": false,
     "schema_version": 3,
     "solution": true,
     "task": false
    }
   },
   "outputs": [],
   "source": [
    "def aplatir(tableau):\n",
    "    ### BEGIN SOLUTION\n",
    "    tableau_aplati = []\n",
    "    for sous_tableau in tableau:\n",
    "        for element in sous_tableau:\n",
    "            tableau_aplati.append(element)\n",
    "    return tableau_aplati\n",
    "    ### END SOLUTION"
   ]
  },
  {
   "cell_type": "code",
   "execution_count": 8,
   "id": "c240f12f",
   "metadata": {
    "ExecuteTime": {
     "end_time": "2022-11-14T04:03:02.915236Z",
     "start_time": "2022-11-14T04:03:02.902811Z"
    },
    "nbgrader": {
     "grade": true,
     "grade_id": "cell-388a5f7bb7170f7c",
     "locked": true,
     "points": 4,
     "schema_version": 3,
     "solution": false,
     "task": false
    }
   },
   "outputs": [],
   "source": [
    "assert aplatir([[1, 2, 3, 4], [5, 6, 7, 8]]) == [1, 2, 3, 4, 5, 6, 7, 8]\n",
    "assert aplatir([[1], [2], [3], [4], [5], [6]]) == [1, 2, 3, 4, 5, 6]\n",
    "### BEGIN HIDDEN TESTS\n",
    "assert aplatir([[1, 2], [3, 4], [5, 6]]) == [1, 2, 3, 4, 5, 6]\n",
    "assert aplatir([[1], [2], [3], [4], [5], [6]]) == [1, 2, 3, 4, 5, 6]\n",
    "assert aplatir([[8, 7], [6, 5], [4, 3]]) == [8, 7, 6, 5, 4, 3]\n",
    "assert aplatir([[1], [2], [3]]) == [1, 2, 3]\n",
    "assert aplatir([[1, 1], [2, 2], [3, 3]]) == [1, 1, 2, 2, 3, 3]\n",
    "assert aplatir([[1, 1]]) == [1, 1]\n",
    "### END HIDDEN TESTS"
   ]
  }
 ],
 "metadata": {
  "celltoolbar": "Create Assignment",
  "kernelspec": {
   "display_name": "Python 3",
   "language": "python",
   "name": "python3"
  },
  "language_info": {
   "codemirror_mode": {
    "name": "ipython",
    "version": 3
   },
   "file_extension": ".py",
   "mimetype": "text/x-python",
   "name": "python",
   "nbconvert_exporter": "python",
   "pygments_lexer": "ipython3",
   "version": "3.9.7"
  },
  "toc": {
   "base_numbering": 1,
   "nav_menu": {},
   "number_sections": false,
   "sideBar": true,
   "skip_h1_title": true,
   "title_cell": "Table des matières",
   "title_sidebar": "Sommaire",
   "toc_cell": false,
   "toc_position": {},
   "toc_section_display": true,
   "toc_window_display": false
  }
 },
 "nbformat": 4,
 "nbformat_minor": 5
}
