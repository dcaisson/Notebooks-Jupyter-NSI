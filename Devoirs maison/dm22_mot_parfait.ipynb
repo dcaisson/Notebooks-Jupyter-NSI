{
 "cells": [
  {
   "cell_type": "markdown",
   "id": "251e57e4",
   "metadata": {
    "nbgrader": {
     "grade": false,
     "grade_id": "cell-a6dcc935e108d318",
     "locked": true,
     "schema_version": 3,
     "solution": false,
     "task": false
    }
   },
   "source": [
    "# Devoir maison 22 &ndash; La perfection d'un mot"
   ]
  },
  {
   "cell_type": "markdown",
   "id": "602d9b39",
   "metadata": {
    "nbgrader": {
     "grade": false,
     "grade_id": "cell-c629c0bf681f3cf0",
     "locked": true,
     "schema_version": 3,
     "solution": false,
     "task": false
    }
   },
   "source": [
    "## 1 Mot parfait"
   ]
  },
  {
   "cell_type": "markdown",
   "id": "65bc3024",
   "metadata": {
    "nbgrader": {
     "grade": false,
     "grade_id": "cell-70fb49189e136fc9",
     "locked": true,
     "schema_version": 3,
     "solution": false,
     "task": false
    }
   },
   "source": [
    "### 1.1 Définition"
   ]
  },
  {
   "cell_type": "markdown",
   "id": "f3f1e12f",
   "metadata": {
    "nbgrader": {
     "grade": false,
     "grade_id": "cell-82c0c2d83ae766d1",
     "locked": true,
     "schema_version": 3,
     "solution": false,
     "task": false
    }
   },
   "source": [
    "On affecte à chaque lettre de l'alphabet un code selon le tableau ci-dessous :\n",
    "\n",
    "|`'A'`|`'B'`|`'C'`|`'D'`|`'E'`|`'F'`|`'G'`|`'H'`|`'I'`|\n",
    "|:---:|:---:|:---:|:---:|:---:|:---:|:---:|:---:|:---:|\n",
    "|$1$|$2$|$3$|$4$|$5$|$6$|$7$|$8$|$9$|\n",
    "\n",
    "|`'J'`|`'K'`|`'L'`|`'M'`|`'N'`|`'O'`|`'P'`|`'Q'`|`'R'`|\n",
    "|:---:|:---:|:---:|:---:|:---:|:---:|:---:|:---:|:---:|\n",
    "|$10$|$11$|$12$|$13$|$14$|$15$|$16$|$17$|$18$|\n",
    "\n",
    "|`'S'`|`'T'`|`'U'`|`'V'`|`'W'`|`'X'`|`'Y'`|`'Z'`|\n",
    "|:---:|:---:|:---:|:---:|:---:|:---:|:---:|:---:|\n",
    "|$19$|$20$|$21$|$22$|$23$|$24$|$25$|$26$|\n",
    "\n",
    "\n",
    "Pour un mot donné (une chaine de caractères non vide uniquement composée de lettres majuscules), on détermine :\n",
    "\n",
    "- d'une part <span style=\"color:blue\">son code alphabétique concaténé</span>, obtenu par la juxtaposition du texte des codes de chacun de ses caractères, et lu comme un unique entier ;\n",
    "- et d'autre part, <span style=\"color:blue\">son code additionné</span>, qui est la somme des codes de chacun de ses caractères.\n",
    "\n",
    "<p style=\"color:red\"><b>Définition : on dit que ce mot est « parfait » si le code additionné divise le code concaténé.</b></p>"
   ]
  },
  {
   "cell_type": "markdown",
   "id": "8cbb9869",
   "metadata": {
    "nbgrader": {
     "grade": false,
     "grade_id": "cell-417773fbcf1ef3c4",
     "locked": true,
     "schema_version": 3,
     "solution": false,
     "task": false
    }
   },
   "source": [
    "### 1.2 Exemples\n",
    "\n",
    "1. Pour le mot `\"PAUL\"`, les codes sont $16, 1, 21, 12$.\n",
    "    - Le code concaténé est la chaine `1612112`, soit l'entier $1\\,612\\,112$.\n",
    "    - Son code additionné est l'entier $16 + 1 + 21 + 12$ qui donne $50$.\n",
    "    - $50$ ne divise pas l'entier $1\\,612\\,112$ ; par conséquent, le mot `\"PAUL\"` n'est pas parfait.\n",
    "\n",
    "2. Pour le mot `\"ALAIN\"`, les codes sont $1, 12, 1, 9, 14$.\n",
    "    - Le code concaténé est la chaine `1121914`, soit l'entier $1\\,121\\,914$.\n",
    "    - Le code additionné est l'entier $37$, car $1 + 12 + 1 + 9 + 14 = 37$.\n",
    "    - $37$ divise l'entier $1\\,121\\,914$ ; par conséquent, le mot `\"ALAIN\"` est parfait."
   ]
  },
  {
   "cell_type": "markdown",
   "id": "b44becbd",
   "metadata": {
    "nbgrader": {
     "grade": false,
     "grade_id": "cell-5077d1f83c2c4d87",
     "locked": true,
     "schema_version": 3,
     "solution": false,
     "task": false
    }
   },
   "source": [
    "## 2 Travail à faire"
   ]
  },
  {
   "cell_type": "markdown",
   "id": "3509433b",
   "metadata": {
    "nbgrader": {
     "grade": false,
     "grade_id": "cell-4b0837c3673fbd07",
     "locked": true,
     "schema_version": 3,
     "solution": false,
     "task": false
    }
   },
   "source": [
    "### 2.1 Rappels\n",
    "Pour cet exercice on pourra utiliser `str` et `int` comme fonctions de conversion.\n",
    "    \n",
    "D'autre part, on pourra utiliser la fonction `ord` qui renvoie le code ASCII d'un caractère ASCII passé en paramètre.\n",
    "\n",
    "```py\n",
    ">>> ord('A')\n",
    "65\n",
    ">>> ord('B')\n",
    "66\n",
    "```\n",
    "\n",
    "```py\n",
    ">>> str(12)\n",
    "'12'\n",
    ">>> str(12) + str(14)\n",
    "'1214'\n",
    ">>> int('1214')\n",
    "1214\n",
    ">>> int('1214') % 10\n",
    "4\n",
    "```"
   ]
  },
  {
   "cell_type": "markdown",
   "id": "6afe30a0",
   "metadata": {
    "nbgrader": {
     "grade": false,
     "grade_id": "cell-7d3189e59e752e0d",
     "locked": true,
     "schema_version": 3,
     "solution": false,
     "task": false
    }
   },
   "source": [
    "### 2.2 À vous de jouer !\n",
    "1. Compléter la fonction `code` qui prend comme argument une lettre (majuscule) et qui renvoie son code tel que défini par l'énoncé.\n",
    "2. Compléter ensuite la fonction `est_parfait`qui prend comme argument une chaine de caractères `mot` (en lettres majuscules) et qui renvoie le code alphabétique concaténé, le code additionné de `mot`, ainsi qu'un booléen qui indique si `mot` est parfait ou pas.\n",
    "\n",
    "Par exemple :\n",
    "\n",
    "```py\n",
    ">>> est_parfait(\"PAUL\")\n",
    "(50, 1612112, False)\n",
    ">>> est_parfait(\"ALAIN\")\n",
    "(37, 1121914, True)\n",
    "```"
   ]
  },
  {
   "cell_type": "code",
   "execution_count": 1,
   "id": "8ea270fc",
   "metadata": {
    "ExecuteTime": {
     "end_time": "2023-03-14T20:19:20.928643Z",
     "start_time": "2023-03-14T20:19:20.910362Z"
    },
    "nbgrader": {
     "grade": false,
     "grade_id": "cell-8ee5dee0dab86928",
     "locked": false,
     "schema_version": 3,
     "solution": true,
     "task": false
    }
   },
   "outputs": [],
   "source": [
    "def code(lettre):\n",
    "    ### BEGIN SOLUTION\n",
    "    return ord(lettre) - ord('A') + 1\n",
    "    ### END SOLUTION"
   ]
  },
  {
   "cell_type": "code",
   "execution_count": 4,
   "id": "0d40f625",
   "metadata": {
    "ExecuteTime": {
     "end_time": "2023-03-14T20:20:35.058472Z",
     "start_time": "2023-03-14T20:20:35.052549Z"
    },
    "nbgrader": {
     "grade": true,
     "grade_id": "cell-d087bb4fac4f73f0",
     "locked": true,
     "points": 2,
     "schema_version": 3,
     "solution": false,
     "task": false
    }
   },
   "outputs": [],
   "source": [
    "assert code('A') == 1\n",
    "assert code('T') == 20\n",
    "### BEGIN HIDDEN TESTS\n",
    "assert code('U') == 21\n",
    "assert code('L') ==  12\n",
    "### END HIDDEN TESTS"
   ]
  },
  {
   "cell_type": "code",
   "execution_count": 2,
   "id": "1729e68e",
   "metadata": {
    "ExecuteTime": {
     "end_time": "2023-03-14T20:19:22.610069Z",
     "start_time": "2023-03-14T20:19:22.599424Z"
    },
    "nbgrader": {
     "grade": false,
     "grade_id": "cell-5093bf13c555ad7f",
     "locked": false,
     "schema_version": 3,
     "solution": true,
     "task": false
    }
   },
   "outputs": [],
   "source": [
    "def est_parfait(mot):\n",
    "    code_int_cumul = 0\n",
    "    code_str_concatene = \"\"\n",
    "    for lettre in mot:\n",
    "    ### BEGIN SOLUTION\n",
    "        valeur = code(lettre)\n",
    "        code_int_cumul += valeur\n",
    "        code_str_concatene += str(valeur)\n",
    "    code_concatene = int(code_str_concatene)\n",
    "    mot_est_parfait = (code_concatene % code_int_cumul == 0)  # un booléen\n",
    "    return (code_int_cumul, code_concatene, mot_est_parfait)\n",
    "    ### END SOLUTION"
   ]
  },
  {
   "cell_type": "code",
   "execution_count": 5,
   "id": "ad689e01",
   "metadata": {
    "ExecuteTime": {
     "end_time": "2023-03-14T20:21:48.142545Z",
     "start_time": "2023-03-14T20:21:48.129033Z"
    },
    "nbgrader": {
     "grade": true,
     "grade_id": "cell-b238f41da8c9f2c9",
     "locked": true,
     "points": 3,
     "schema_version": 3,
     "solution": false,
     "task": false
    }
   },
   "outputs": [],
   "source": [
    "assert est_parfait(\"PAUL\") == (50, 1612112, False)\n",
    "assert est_parfait(\"ALAIN\") == (37, 1121914, True)\n",
    "### BEGIN HIDDEN TESTS\n",
    "def EST_PARFAIT(mot) :\n",
    "    code_int_cumul = 0\n",
    "    code_str_concatene = \"\"\n",
    "    for lettre in mot:\n",
    "        valeur = ord(lettre) - ord('A') + 1\n",
    "        code_int_cumul += valeur\n",
    "        code_str_concatene += str(valeur)\n",
    "    code_concatene = int(code_str_concatene)\n",
    "    mot_est_parfait = (code_concatene % code_int_cumul == 0)  # un booléen\n",
    "    return (code_int_cumul, code_concatene, mot_est_parfait)\n",
    "\n",
    "for i in range(26):\n",
    "    mot = chr(ord('A') + i)\n",
    "    resultat = est_parfait(mot)\n",
    "    attendu = EST_PARFAIT(mot)\n",
    "    assert attendu == resultat, f\"Erreur avec le mot {mot}\"\n",
    "\n",
    "for j in range(26):\n",
    "    for j in range(26):\n",
    "        mot = chr(ord('A') + i) + chr(ord('A') + j)\n",
    "        resultat = est_parfait(mot)\n",
    "        attendu = EST_PARFAIT(mot)\n",
    "        assert attendu == resultat, f\"Erreur avec le mot {mot}\"\n",
    "### END HIDDEN TESTS"
   ]
  }
 ],
 "metadata": {
  "celltoolbar": "Create Assignment",
  "kernelspec": {
   "display_name": "Python 3",
   "language": "python",
   "name": "python3"
  },
  "language_info": {
   "codemirror_mode": {
    "name": "ipython",
    "version": 3
   },
   "file_extension": ".py",
   "mimetype": "text/x-python",
   "name": "python",
   "nbconvert_exporter": "python",
   "pygments_lexer": "ipython3",
   "version": "3.9.7"
  },
  "toc": {
   "base_numbering": 1,
   "nav_menu": {},
   "number_sections": false,
   "sideBar": true,
   "skip_h1_title": true,
   "title_cell": "Table des matières",
   "title_sidebar": "Sommaire",
   "toc_cell": false,
   "toc_position": {},
   "toc_section_display": true,
   "toc_window_display": false
  }
 },
 "nbformat": 4,
 "nbformat_minor": 5
}
