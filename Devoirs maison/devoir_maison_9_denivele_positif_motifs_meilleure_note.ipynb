{
 "cells": [
  {
   "cell_type": "markdown",
   "id": "4a89ebb9",
   "metadata": {
    "nbgrader": {
     "grade": false,
     "grade_id": "cell-e1d13db67291c332",
     "locked": true,
     "schema_version": 3,
     "solution": false,
     "task": false
    }
   },
   "source": [
    "# Devoir maison 9"
   ]
  },
  {
   "cell_type": "markdown",
   "id": "ea2eaa23",
   "metadata": {
    "nbgrader": {
     "grade": false,
     "grade_id": "cell-6958c50561aa6cce",
     "locked": true,
     "schema_version": 3,
     "solution": false,
     "task": false
    }
   },
   "source": [
    "## Exercice 1"
   ]
  },
  {
   "cell_type": "markdown",
   "id": "1fa12735",
   "metadata": {
    "nbgrader": {
     "grade": false,
     "grade_id": "cell-719973cc01f80d0f",
     "locked": true,
     "schema_version": 3,
     "solution": false,
     "task": false
    }
   },
   "source": [
    "Le dénivelé cumulé positif d'une course de montagne est la somme totale des dénivelés de l'ensemble des ascensions durant la course. \n",
    "\n",
    "![exemple profil course](exemple.png)\n",
    "\n",
    "Sur l'exemple ci-dessus :\n",
    "\n",
    "* la course commence par une ascension de dénivelé positif $160$ ($490-330$) ;\n",
    "* entre l'étape 2 et l'étape 3, le dénivelé positif est de $230$ ($610-380$) ;\n",
    "* entre l'étape 3 et l'étape 4, le dénivelé positif est de $170$ ($780-610$) ;\n",
    "* les autres parties de la course sont des descentes.\n",
    "\n",
    "Le dénivelé cumulé positif total de cette course est donc $160+230+170=560$."
   ]
  },
  {
   "cell_type": "markdown",
   "id": "42dd2d18",
   "metadata": {
    "nbgrader": {
     "grade": false,
     "grade_id": "cell-7911b8b6b202f9c7",
     "locked": true,
     "schema_version": 3,
     "solution": false,
     "task": false
    }
   },
   "source": [
    "Écrire une fonction `denivele_positif` qui prend en argument la liste non vide des altitudes atteintes à la fin de chaque ascension et de chaque descente pendant la course et qui renvoie le dénivelé cumulé positif de cette course."
   ]
  },
  {
   "cell_type": "code",
   "execution_count": 5,
   "id": "b354e8b7",
   "metadata": {
    "ExecuteTime": {
     "end_time": "2022-10-17T18:49:24.894929Z",
     "start_time": "2022-10-17T18:49:24.886260Z"
    },
    "nbgrader": {
     "grade": false,
     "grade_id": "cell-206fd07e779ab5a5",
     "locked": false,
     "schema_version": 3,
     "solution": true,
     "task": false
    }
   },
   "outputs": [],
   "source": [
    "def denivele_positif(altitudes):\n",
    "    ### BEGIN SOLUTION\n",
    "    denivele = 0\n",
    "    for i in range(len(altitudes) - 1):\n",
    "        if altitudes[i] < altitudes[i+1]:\n",
    "            denivele += altitudes[i+1] - altitudes[i]\n",
    "    return denivele\n",
    "    ### END SOLUTION"
   ]
  },
  {
   "cell_type": "code",
   "execution_count": 6,
   "id": "7e360700",
   "metadata": {
    "ExecuteTime": {
     "end_time": "2022-10-17T18:49:25.224482Z",
     "start_time": "2022-10-17T18:49:25.212429Z"
    },
    "nbgrader": {
     "grade": true,
     "grade_id": "cell-3261100124068e3d",
     "locked": true,
     "points": 3,
     "schema_version": 3,
     "solution": false,
     "task": false
    }
   },
   "outputs": [],
   "source": [
    "assert denivele_positif([330, 490, 380, 610, 780, 550]) == 560\n",
    "assert denivele_positif([200, 300, 100]) == 100\n",
    "assert denivele_positif([150]) == 0\n",
    "### BEGIN HIDDEN TESTS\n",
    "assert denivele_positif([200]) == 0\n",
    "assert denivele_positif([0, 1]) == 1\n",
    "assert denivele_positif([1, 0]) == 0\n",
    "assert denivele_positif([1, 0, 1]) == 1\n",
    "assert denivele_positif([1, 2, 1]) == 1\n",
    "assert denivele_positif([1, 1, 1]) == 0\n",
    "assert denivele_positif([1, 2, 3]) == 2\n",
    "assert denivele_positif([3, 2, 1]) == 0\n",
    "### END HIDDEN TESTS"
   ]
  },
  {
   "cell_type": "markdown",
   "id": "cf1af148",
   "metadata": {
    "nbgrader": {
     "grade": false,
     "grade_id": "cell-53c28e3d5cd24a9d",
     "locked": true,
     "schema_version": 3,
     "solution": false,
     "task": false
    }
   },
   "source": [
    "## Exercice 2"
   ]
  },
  {
   "cell_type": "markdown",
   "id": "4ce5cb23",
   "metadata": {
    "nbgrader": {
     "grade": false,
     "grade_id": "cell-8d30042acdbe1ee5",
     "locked": true,
     "schema_version": 3,
     "solution": false,
     "task": false
    }
   },
   "source": [
    "On se donne une chaîne de caractères appelée `motif` ainsi qu'un ensemble de règles du type \"*Si le caractère lu est un* `a` *, remplace-le par* `ab`\".\n",
    "\n",
    "L'ensemble de ces règles est stocké dans un dictionnaire Python dans lequel :\n",
    "\n",
    "* une clé est un caractère lu ;\n",
    "* et la valeur associée est une chaine de caractères par laquelle le caractère doit être remplacé.\n",
    "\n",
    "Si le caractère lu ne fait pas partie des clés du dictionnaire, il n'est associé à aucune règle et est donc recopié à l'identique.\n",
    "\n",
    "Par exemple, si on prend pour règles `{'a': 'ab', 'b': 'ac', 'c': 'd'}` et pour motif de départ `'a'`, après **une** transformation on obtient `'ab'`."
   ]
  },
  {
   "cell_type": "markdown",
   "id": "a8a201a6",
   "metadata": {
    "nbgrader": {
     "grade": false,
     "grade_id": "cell-8d30042acdbe1ee6",
     "locked": true,
     "schema_version": 3,
     "solution": false,
     "task": false
    }
   },
   "source": [
    "Il est aussi possible d'effectuer cette transformation plusieurs fois de suite en l'appliquant à chaque étape au résultat de l'étape précédente. Par exemple :\n",
    "\n",
    "- On garde pour règles `#!py {'a': 'ab', 'b': 'ac', 'c': 'd'}`.\n",
    "- On prend pour encore motif de départ `'a'`.\n",
    "- Après **une** transformation on obtient `'ab'`.\n",
    "- Après **deux** transformations on obtient `'abac'`.  \n",
    "- Après **trois** transformations on obtient `'abacabd'`."
   ]
  },
  {
   "cell_type": "markdown",
   "id": "629a2781",
   "metadata": {
    "nbgrader": {
     "grade": false,
     "grade_id": "cell-8d30042acdbe1ee9",
     "locked": true,
     "schema_version": 3,
     "solution": false,
     "task": false
    }
   },
   "source": [
    "Vous devez écrire deux fonctions Python :\n",
    "\n",
    "* `transformation(motif, regles)` prend en argument un motif initial (une chaine de caractères) ainsi qu'un ensemble de règles (un dictionnaire) et renvoie la chaine obtenue après **une** transformation.\n",
    "\n",
    "* `n_transformations(motif, regles, n)` prend en argument un motif initial (une chaine de caractères), un ensemble de règles (un dictionnaire) ainsi qu'un entier `n` et renvoie le résultat obtenu après `n` transformations."
   ]
  },
  {
   "cell_type": "code",
   "execution_count": 8,
   "id": "5686e717",
   "metadata": {
    "ExecuteTime": {
     "end_time": "2022-10-17T18:54:33.971796Z",
     "start_time": "2022-10-17T18:54:33.961057Z"
    },
    "nbgrader": {
     "grade": false,
     "grade_id": "cell-65fff29dbc2e715c",
     "locked": false,
     "schema_version": 3,
     "solution": true,
     "task": false
    }
   },
   "outputs": [],
   "source": [
    "def transformation(motif, regles):\n",
    "    ### BEGIN SOLUTION\n",
    "    resultat = \"\"\n",
    "    for lettre in motif:\n",
    "        if lettre in regles:\n",
    "            resultat = resultat + regles[lettre]\n",
    "        else:\n",
    "            resultat = resultat + lettre\n",
    "    return resultat\n",
    "    ### END SOLUTION"
   ]
  },
  {
   "cell_type": "code",
   "execution_count": 9,
   "id": "251dcce0",
   "metadata": {
    "ExecuteTime": {
     "end_time": "2022-10-17T18:54:34.868419Z",
     "start_time": "2022-10-17T18:54:34.862498Z"
    },
    "nbgrader": {
     "grade": true,
     "grade_id": "cell-8d30042acdbe1ee7",
     "locked": true,
     "points": 2,
     "schema_version": 3,
     "solution": false,
     "task": false
    }
   },
   "outputs": [],
   "source": [
    "regles = {'a': 'ab', 'b': 'ac', 'c': 'd'}\n",
    "motif = 'a'\n",
    "assert transformation(motif, regles) == 'ab'\n",
    "\n",
    "regles = {'a': 'aa'}\n",
    "motif = 'a'\n",
    "assert transformation(motif, regles) == 'aa'\n",
    "\n",
    "### BEGIN HIDDEN TESTS\n",
    "regles = {'a': 'b', 'b': 'a'}\n",
    "motif = 'ac'\n",
    "assert transformation(motif, regles) == 'bc'\n",
    "### END HIDDEN TESTS"
   ]
  },
  {
   "cell_type": "code",
   "execution_count": 16,
   "id": "99b86655",
   "metadata": {
    "ExecuteTime": {
     "end_time": "2022-10-17T18:57:40.860653Z",
     "start_time": "2022-10-17T18:57:40.852833Z"
    },
    "nbgrader": {
     "grade": false,
     "grade_id": "cell-60a8514aaea5597f",
     "locked": false,
     "schema_version": 3,
     "solution": true,
     "task": false
    }
   },
   "outputs": [],
   "source": [
    "def n_transformations(motif, regles, n):\n",
    "    ### BEGIN SOLUTION\n",
    "    if n == 0:\n",
    "        resultat = motif\n",
    "    else:\n",
    "        resultat = transformation(motif, regles)\n",
    "        for _ in range(n-1):\n",
    "            resultat = transformation(resultat, regles)\n",
    "    return resultat\n",
    "    ### END SOLUTION"
   ]
  },
  {
   "cell_type": "code",
   "execution_count": 17,
   "id": "bde144ca",
   "metadata": {
    "ExecuteTime": {
     "end_time": "2022-10-17T18:57:41.284139Z",
     "start_time": "2022-10-17T18:57:41.273035Z"
    },
    "nbgrader": {
     "grade": true,
     "grade_id": "cell-8d30042acdbe1ee8",
     "locked": true,
     "points": 2,
     "schema_version": 3,
     "solution": false,
     "task": false
    }
   },
   "outputs": [],
   "source": [
    "regles = {'a': 'ab', 'b': 'ac', 'c': 'd'}\n",
    "motif = 'a'\n",
    "assert n_transformations(motif, regles, 2) == 'abac'\n",
    "assert n_transformations(motif, regles, 3) == 'abacabd'\n",
    "assert n_transformations(\"rien ne change !\", {'z': 'y'}, 50) == 'rien ne change !'\n",
    "\n",
    "\n",
    "### BEGIN HIDDEN TESTS\n",
    "regles = {'a': 'a', 'b': 'b'}\n",
    "motif = 'ab'\n",
    "assert n_transformations(motif, regles, 20) == 'ab'\n",
    "regles = {'a': 'aa'}\n",
    "motif = 'a'\n",
    "assert n_transformations(motif, regles, 4) == 'aaaaaaaaaaaaaaaa'\n",
    "regles = {'a': 'b', 'b': 'a'}\n",
    "motif = 'ac'\n",
    "assert n_transformations(motif, regles, 4) == 'ac'\n",
    "assert n_transformations(motif, regles, 5) == 'bc'\n",
    "assert n_transformations(motif, regles, 0) == motif\n",
    "### END HIDDEN TESTS"
   ]
  },
  {
   "cell_type": "markdown",
   "id": "2c62c463",
   "metadata": {
    "nbgrader": {
     "grade": false,
     "grade_id": "cell-ac510188354052a0",
     "locked": true,
     "schema_version": 3,
     "solution": false,
     "task": false
    }
   },
   "source": [
    "## Exercice 3"
   ]
  },
  {
   "cell_type": "markdown",
   "id": "ae851268",
   "metadata": {
    "nbgrader": {
     "grade": false,
     "grade_id": "cell-9b3de7e8a19755e3",
     "locked": true,
     "schema_version": 3,
     "solution": false,
     "task": false
    }
   },
   "source": [
    "<h3 style=\"color:Tomato;\"> Il est interdit d'utiliser la fonction <code>max</code> dans cet exercice.</h2>"
   ]
  },
  {
   "cell_type": "markdown",
   "id": "d69e793c",
   "metadata": {
    "nbgrader": {
     "grade": false,
     "grade_id": "cell-6cbde6875d3c50d9",
     "locked": true,
     "schema_version": 3,
     "solution": false,
     "task": false
    }
   },
   "source": [
    "Après un devoir, un professeur désire connaître les prénoms de l'élève ou des élèves ayant obtenu la meilleure note.\n",
    "\n",
    "Les notes sont fournies dans un dictionnaire Python dans lequel les clés sont les prénoms des élèves et les valeurs leur note. Par exemple :\n",
    "\n",
    "```python\n",
    "notes = {'Alice': 18,\n",
    "         'Bob': 10,\n",
    "         'Charles': 8,\n",
    "         'David': 12,\n",
    "         'Erwann': 18,\n",
    "         'Fanny': 14,\n",
    "         'Guillaume': 18,\n",
    "         'Hugo': 14}\n",
    "```\n",
    "\n",
    "On garantit que ce dictionnaire n'est pas vide et que toutes les notes sont positives ou nulles."
   ]
  },
  {
   "cell_type": "markdown",
   "id": "9cc845ca",
   "metadata": {
    "nbgrader": {
     "grade": false,
     "grade_id": "cell-cea9a84b88b01b1e",
     "locked": true,
     "schema_version": 3,
     "solution": false,
     "task": false
    }
   },
   "source": [
    "On désire créer une fonction `palmares` qui prend en paramètre un tel dictionnaire `notes` et renvoie un tuple de deux éléments :\n",
    "\n",
    "* la note maximale qui a été attribuée ;\n",
    "\n",
    "* et une liste contenant les noms du ou des élèves ayant obtenu cette note.\n",
    "\n",
    "\n",
    "**Remarque : il est inutile de se soucier de l'ordre des prénoms dans la liste des résultats. Seule leur présence au sein de la liste importe.**"
   ]
  },
  {
   "cell_type": "code",
   "execution_count": 3,
   "id": "242db524",
   "metadata": {
    "ExecuteTime": {
     "end_time": "2022-10-11T18:51:46.017063Z",
     "start_time": "2022-10-11T18:51:46.012285Z"
    },
    "nbgrader": {
     "grade": false,
     "grade_id": "cell-45e3f1184eb72f6f",
     "locked": false,
     "schema_version": 3,
     "solution": true,
     "task": false
    }
   },
   "outputs": [],
   "source": [
    "def palmares(notes):\n",
    "    ### BEGIN SOLUTION\n",
    "    meilleure_note = 0\n",
    "    eleves_meilleure_note = []\n",
    "    for eleve in notes:\n",
    "        if notes[eleve] > meilleure_note:\n",
    "            meilleure_note = notes[eleve]\n",
    "            eleves_meilleure_note = [eleve]\n",
    "        elif notes[eleve] == meilleure_note:\n",
    "            eleves_meilleure_note.append(eleve)\n",
    "\n",
    "    return (meilleure_note, eleves_meilleure_note)\n",
    "    ### END SOLUTION"
   ]
  },
  {
   "cell_type": "code",
   "execution_count": 25,
   "id": "9f1ff6e1",
   "metadata": {
    "ExecuteTime": {
     "end_time": "2022-10-11T19:00:14.646269Z",
     "start_time": "2022-10-11T19:00:14.641004Z"
    },
    "nbgrader": {
     "grade": true,
     "grade_id": "cell-b2bb5e71e244d930",
     "locked": true,
     "points": 3,
     "schema_version": 3,
     "solution": false,
     "task": false
    }
   },
   "outputs": [],
   "source": [
    "notes = {'Alice': 18,\n",
    "         'Bob': 10,\n",
    "         'Charles': 8,\n",
    "         'David': 12,\n",
    "         'Erwann': 17,\n",
    "         'Fanny': 14,\n",
    "         'Guillaume': 16,\n",
    "         'Hugo': 14}\n",
    "assert palmares(notes) == (18, ['Alice'])\n",
    "\n",
    "notes = {'Bob': 10,\n",
    "         'Charles': 8,\n",
    "         'David': 12,\n",
    "         'Hugo': 14,\n",
    "         'Fanny': 14}\n",
    "assert palmares(notes)[0] == 14\n",
    "assert sorted(palmares(notes)[1]) == ['Fanny', 'Hugo']\n",
    "\n",
    "### BEGIN HIDDEN TESTS\n",
    "notes = {'Romuald': 15,\n",
    "         'Ronan': 14,\n",
    "         'David': 15}\n",
    "assert palmares(notes)[0] == 15\n",
    "assert sorted(palmares(notes)[1]) == ['David', 'Romuald']\n",
    "### END HIDDEN TESTS"
   ]
  }
 ],
 "metadata": {
  "celltoolbar": "Create Assignment",
  "kernelspec": {
   "display_name": "Python 3 (ipykernel)",
   "language": "python",
   "name": "python3"
  },
  "language_info": {
   "codemirror_mode": {
    "name": "ipython",
    "version": 3
   },
   "file_extension": ".py",
   "mimetype": "text/x-python",
   "name": "python",
   "nbconvert_exporter": "python",
   "pygments_lexer": "ipython3",
   "version": "3.10.8"
  },
  "latex_envs": {
   "LaTeX_envs_menu_present": true,
   "autoclose": false,
   "autocomplete": true,
   "bibliofile": "biblio.bib",
   "cite_by": "apalike",
   "current_citInitial": 1,
   "eqLabelWithNumbers": true,
   "eqNumInitial": 1,
   "hotkeys": {
    "equation": "Ctrl-E",
    "itemize": "Ctrl-I"
   },
   "labels_anchors": false,
   "latex_user_defs": false,
   "report_style_numbering": false,
   "user_envs_cfg": false
  },
  "toc": {
   "base_numbering": 1,
   "nav_menu": {},
   "number_sections": false,
   "sideBar": true,
   "skip_h1_title": true,
   "title_cell": "Table des matières",
   "title_sidebar": "Sommaire",
   "toc_cell": false,
   "toc_position": {},
   "toc_section_display": true,
   "toc_window_display": false
  }
 },
 "nbformat": 4,
 "nbformat_minor": 5
}
