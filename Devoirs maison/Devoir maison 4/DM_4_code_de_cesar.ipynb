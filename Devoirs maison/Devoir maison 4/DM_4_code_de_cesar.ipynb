{
 "cells": [
  {
   "cell_type": "markdown",
   "metadata": {},
   "source": [
    "# Devoir maison 4 &ndash; Code de César"
   ]
  },
  {
   "cell_type": "markdown",
   "metadata": {},
   "source": [
    "Le codage de César transforme un message en changeant chaque lettre en la décalant\n",
    "dans l’alphabet.\n",
    "Par exemple, avec un décalage de 3, le A se transforme en D, le B en E, ..., le X en A,\n",
    "le Y en B et le Z en C. Les autres caractères (‘!’,’ ?’…) ne sont pas codés.\n",
    "\n",
    "La fonction `position_alphabet` ci-dessous prend en paramètre un caractère `lettre`\n",
    "et renvoie la position de `lettre` dans la chaîne de caractères `ALPHABET` s’il s’y trouve\n",
    "et `-1` sinon.\n",
    "La fonction `cesar` prend en paramètre une chaîne de caractères `message` et un nombre\n",
    "entier `decalage` et renvoie le nouveau message codé avec le codage de César utilisant\n",
    "le décalage `decalage`."
   ]
  },
  {
   "cell_type": "code",
   "execution_count": 1,
   "metadata": {},
   "outputs": [],
   "source": [
    "ALPHABET = 'ABCDEFGHIJKLMNOPQRSTUVWXYZ'\n",
    "\n",
    "def position_alphabet(lettre):\n",
    "    pass\n",
    "\n",
    "\n",
    "def cesar(message, decalage):\n",
    "    resultat = ''\n",
    "    pass"
   ]
  },
  {
   "cell_type": "code",
   "execution_count": null,
   "metadata": {},
   "outputs": [],
   "source": [
    "assert cesar('BONJOUR A TOUS. VIVE LA MATIERE NSI !',4) == 'FSRNSYV E XSYW. ZMZI PE QEXMIVI RWM !'\n",
    "assert cesar('GTSOTZW F YTZX. ANAJ QF RFYNJWJ SXN !',-5) == 'BONJOUR A TOUS. VIVE LA MATIERE NSI !'"
   ]
  }
 ],
 "metadata": {
  "kernelspec": {
   "display_name": "Python 3 (ipykernel)",
   "language": "python",
   "name": "python3"
  },
  "language_info": {
   "codemirror_mode": {
    "name": "ipython",
    "version": 3
   },
   "file_extension": ".py",
   "mimetype": "text/x-python",
   "name": "python",
   "nbconvert_exporter": "python",
   "pygments_lexer": "ipython3",
   "version": "3.9.10"
  },
  "latex_envs": {
   "LaTeX_envs_menu_present": true,
   "autoclose": false,
   "autocomplete": true,
   "bibliofile": "biblio.bib",
   "cite_by": "apalike",
   "current_citInitial": 1,
   "eqLabelWithNumbers": true,
   "eqNumInitial": 1,
   "hotkeys": {
    "equation": "Ctrl-E",
    "itemize": "Ctrl-I"
   },
   "labels_anchors": false,
   "latex_user_defs": false,
   "report_style_numbering": false,
   "user_envs_cfg": false
  }
 },
 "nbformat": 4,
 "nbformat_minor": 2
}
