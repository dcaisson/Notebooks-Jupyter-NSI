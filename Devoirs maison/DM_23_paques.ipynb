{
 "cells": [
  {
   "cell_type": "markdown",
   "id": "71eb88bb",
   "metadata": {
    "nbgrader": {
     "grade": false,
     "grade_id": "cell-80c956963d71c5f5",
     "locked": true,
     "schema_version": 3,
     "solution": false,
     "task": false
    }
   },
   "source": [
    "# Devoir maison 23 &ndash; Vacances de Pâques"
   ]
  },
  {
   "cell_type": "markdown",
   "id": "8ad9d9a4",
   "metadata": {
    "nbgrader": {
     "grade": false,
     "grade_id": "cell-4421032dbb3b60e2",
     "locked": true,
     "schema_version": 3,
     "solution": false,
     "task": false
    }
   },
   "source": [
    "## Exercice 1 &ndash; Pangramme"
   ]
  },
  {
   "cell_type": "markdown",
   "id": "71119070",
   "metadata": {
    "nbgrader": {
     "grade": false,
     "grade_id": "cell-9fb97d4d4578b8f7",
     "locked": true,
     "schema_version": 3,
     "solution": false,
     "task": false
    }
   },
   "source": [
    "#### Définition et exemples\n",
    "\n",
    "Un *pangramme* est une phrase contenant toutes les lettres de l'alphabet.\n",
    "\n",
    "Il existe dans l'alphabet latin utilisé en français 26 lettres minuscules « usuelles ». Si l'on tient compte des lettres accentuées et des ligatures (*à*, *â*, ..., *ç*, *æ* et *œ*), le décompte passe à 42 caractères minuscules distincts.\n",
    "\n",
    "**On se limite dans cet exercice aux lettres minuscules usuelles de l'alphabet : *a*, *b*, *c*, ..., *z*.**\n",
    "\n",
    "- Un exemple classique de pangramme est « *portez ce vieux whisky au juge blond qui fume* ». Chaque lettre y apparaît **au moins une fois**.\n",
    "- Par contre « *portez __un__ vieux whisky au juge blond qui fume* » n'est pas un pangramme ; il manque la lettre *c*."
   ]
  },
  {
   "cell_type": "markdown",
   "id": "252c7bf9",
   "metadata": {
    "nbgrader": {
     "grade": false,
     "grade_id": "cell-8afa0988070bbaa4",
     "locked": true,
     "schema_version": 3,
     "solution": false,
     "task": false
    }
   },
   "source": [
    "#### Travail à faire\n",
    "\n",
    "Vous devez écrire une fonction `est_pangramme` qui :\n",
    "\n",
    "* prend en paramètre une chaîne de caractères `phrase`,\n",
    "* renvoie le booléen indiquant si cette chaîne est un pangramme ou non.\n",
    "\n",
    "Pour vous aider, on fournit la fonction indice qui prend en argument une lettre entre `\"a\"` et `\"z\"` et renvoie son indice dans l'alphabet (en débutant à `0` pour `\"a\"`). **Il n'est pas indispensable de l'utiliser.**"
   ]
  },
  {
   "cell_type": "code",
   "execution_count": 2,
   "id": "23e65667",
   "metadata": {
    "ExecuteTime": {
     "end_time": "2023-03-31T05:42:06.986962Z",
     "start_time": "2023-03-31T05:42:06.979895Z"
    },
    "nbgrader": {
     "grade": false,
     "grade_id": "cell-f27935dcafbd98a1",
     "locked": true,
     "schema_version": 3,
     "solution": false,
     "task": false
    }
   },
   "outputs": [],
   "source": [
    "def indice(minuscule):\n",
    "    return ord(minuscule) - ord(\"a\")"
   ]
  },
  {
   "cell_type": "code",
   "execution_count": 4,
   "id": "bc8f9825",
   "metadata": {
    "ExecuteTime": {
     "end_time": "2023-03-31T05:42:32.509214Z",
     "start_time": "2023-03-31T05:42:32.501843Z"
    },
    "nbgrader": {
     "grade": false,
     "grade_id": "cell-d68e0612bd86cd1d",
     "locked": false,
     "schema_version": 3,
     "solution": true,
     "task": false
    }
   },
   "outputs": [],
   "source": [
    "def  est_pangramme(phrase):\n",
    "    ### BEGIN SOLUTION\n",
    "    presences = [False] * 26\n",
    "    \n",
    "    for caractere in phrase:\n",
    "        if \"a\" <= caractere <= \"z\":\n",
    "            presences[indice(caractere)] = True\n",
    "\n",
    "    for i in range(26):\n",
    "        if not presences[i]:\n",
    "            return False\n",
    "\n",
    "    return True\n",
    "    ### END SOLUTION"
   ]
  },
  {
   "cell_type": "code",
   "execution_count": 6,
   "id": "6be2e3c3",
   "metadata": {
    "ExecuteTime": {
     "end_time": "2023-03-31T05:44:04.657224Z",
     "start_time": "2023-03-31T05:44:04.644366Z"
    },
    "nbgrader": {
     "grade": true,
     "grade_id": "cell-f2313430b317d837",
     "locked": true,
     "points": 4,
     "schema_version": 3,
     "solution": false,
     "task": false
    }
   },
   "outputs": [],
   "source": [
    "assert est_pangramme(\"portez ce vieux whisky au juge blond qui fume !\") == True\n",
    "assert est_pangramme(\"portez un vieux whisky au juge blond qui fume !\") == False\n",
    "assert est_pangramme(\"jugez que ce texte renferme l'alphabet, dix voyelles, k et w\") == True\n",
    "assert est_pangramme(\"jugez que ce texte renferme l'alphabet, dix voyelles et w\") == False\n",
    "### BEGIN HIDDEN TESTS\n",
    "from string import ascii_lowercase\n",
    "assert est_pangramme(\"the quick brown fox jumps over The lazy dog.\") == True\n",
    "assert est_pangramme(\"hier, au zoo, j'ai vu dix guépards, cinq zébus, un yak et le wapiti fumer\") == True\n",
    "# Tout dans l'ordre\n",
    "assert est_pangramme(ascii_lowercase) == True\n",
    "# Tout à l'envers\n",
    "assert est_pangramme(ascii_lowercase[::-1]) == True\n",
    "# Tout en double\n",
    "assert est_pangramme(ascii_lowercase * 2) == True\n",
    "# Sans le \"a\"\n",
    "assert est_pangramme(\" \".join(ascii_lowercase[1:])) == False\n",
    "# Sans le \"b\"\n",
    "assert est_pangramme(\" \".join(\"a\" + ascii_lowercase[2:])) == False\n",
    "# Sans le \"z\"\n",
    "assert est_pangramme(\" \".join(ascii_lowercase[:-1])) == False\n",
    "### END HIDDEN TESTS"
   ]
  },
  {
   "cell_type": "markdown",
   "id": "e1609ed3",
   "metadata": {
    "nbgrader": {
     "grade": false,
     "grade_id": "cell-4bb62de283fcd59e",
     "locked": true,
     "schema_version": 3,
     "solution": false,
     "task": false
    }
   },
   "source": [
    "## Exercice 2 &ndash; Tri à bulles"
   ]
  },
  {
   "cell_type": "markdown",
   "id": "a70cef10",
   "metadata": {
    "nbgrader": {
     "grade": false,
     "grade_id": "cell-669422cd8d416462",
     "locked": true,
     "schema_version": 3,
     "solution": false,
     "task": false
    }
   },
   "source": [
    "#### Principe du tri à bulles\n",
    "\n",
    "On parcourt le tableau de la fin vers le début, avec la variable d'indice `i`.  \n",
    "\n",
    "Pour chaque parcours avec `i`, on parcourt le tableau avec un indice `j` en allant du début jusqu'à `i` (ou presque) ; si deux éléments consécutifs autour de l'indice `j` sont mal rangés, on les échange.\n",
    "\n",
    "![illustration tri à bulles](tri_bulles.gif)"
   ]
  },
  {
   "cell_type": "markdown",
   "id": "993346e4",
   "metadata": {
    "nbgrader": {
     "grade": false,
     "grade_id": "cell-3e242eed6328cf67",
     "locked": true,
     "schema_version": 3,
     "solution": false,
     "task": false
    }
   },
   "source": [
    "#### Travail à faire\n",
    "\n",
    "Écrire une fonction telle que `tri_bulles(nombres)` opère un tri du tableau `nombres`.\n",
    "\n",
    "- La fonction ne renvoie rien : inutile de placer return.\n",
    "- Le tableau `nombres` est modifié par la fonction.\n"
   ]
  },
  {
   "cell_type": "markdown",
   "id": "4d02470e",
   "metadata": {
    "nbgrader": {
     "grade": false,
     "grade_id": "cell-53f6ed85c68e0d4c",
     "locked": true,
     "schema_version": 3,
     "solution": false,
     "task": false
    }
   },
   "source": [
    "#### Exemples\n",
    "\n",
    "```py\n",
    ">>> nb_premiers = [2, 11, 3, 7, 5]\n",
    ">>> tri_bulles(nb_premiers)\n",
    ">>> nb_premiers\n",
    "[2, 3, 5, 7, 11]\n",
    "```\n",
    "\n",
    "```py\n",
    ">>> seul = [42]\n",
    ">>> tri_bulles(seul)\n",
    ">>> seul\n",
    "[42]\n",
    "```\n",
    "\n",
    "```py\n",
    ">>> vide = []\n",
    ">>> tri_bulles(vide)\n",
    ">>> vide\n",
    "[]\n",
    "```"
   ]
  },
  {
   "cell_type": "code",
   "execution_count": 8,
   "id": "2323ebed",
   "metadata": {
    "ExecuteTime": {
     "end_time": "2023-03-31T05:57:03.401117Z",
     "start_time": "2023-03-31T05:57:03.392793Z"
    },
    "nbgrader": {
     "grade": false,
     "grade_id": "cell-2acb85ec4211863c",
     "locked": false,
     "schema_version": 3,
     "solution": true,
     "task": false
    }
   },
   "outputs": [],
   "source": [
    "def tri_bulles(nombres):\n",
    "    n = len(nombres)\n",
    "    ### BEGIN SOLUTION\n",
    "    for i in range(n - 1, -1, -1):\n",
    "        for j in range(i):\n",
    "            if nombres[j] > nombres[j + 1]:\n",
    "                # nombres[j] et nombre[j + 1] à échanger\n",
    "                nombres[j], nombres[j + 1] = nombres[j + 1], nombres[j]\n",
    "    ### END SOLUTION"
   ]
  },
  {
   "cell_type": "code",
   "execution_count": 10,
   "id": "b9f54a27",
   "metadata": {
    "ExecuteTime": {
     "end_time": "2023-03-31T05:57:39.170484Z",
     "start_time": "2023-03-31T05:57:39.150661Z"
    },
    "nbgrader": {
     "grade": true,
     "grade_id": "cell-5b2b68f90926aeec",
     "locked": true,
     "points": 4,
     "schema_version": 3,
     "solution": false,
     "task": false
    }
   },
   "outputs": [],
   "source": [
    "nb_premiers = [2, 11, 3, 7, 5]\n",
    "nb_premiers_trie = [2, 3, 5, 7, 11]\n",
    "tri_bulles(nb_premiers)\n",
    "assert len(nb_premiers) == len(nb_premiers_trie), \"Erreur, le tableau ne doit pas changer de taille\"\n",
    "for a, b, in zip(nb_premiers, nb_premiers_trie):\n",
    "    assert a == b, \"Erreur lors du tri de [2, 11, 3, 7, 5]\"\n",
    "\n",
    "\n",
    "seul = [42]\n",
    "seul_trie = [42]\n",
    "tri_bulles(seul)\n",
    "assert len(seul) == 1, \"Erreur, le tableau [42] ne doit pas changer de taille\"\n",
    "assert seul[0] == 42, \"Erreur, un élément seul est déjà trié\"\n",
    "\n",
    "### BEGIN HIDDEN TESTS\n",
    "from random import sample\n",
    "for i in range(10):\n",
    "    nombres = list(sample(range(10**9), 100+i))\n",
    "    attendu = sorted(nombres)\n",
    "    tri_bulles(nombres)\n",
    "    assert len(nombres) == len(attendu), \"Erreur, le tableau ne doit pas changer de taille\"\n",
    "    for a, b, in zip(nombres, attendu):\n",
    "        assert a == b, \"Erreur lors du tri\"\n",
    "### END HIDDEN TESTS"
   ]
  },
  {
   "cell_type": "markdown",
   "id": "3e51f051",
   "metadata": {
    "nbgrader": {
     "grade": false,
     "grade_id": "cell-53038438f96db4bf",
     "locked": true,
     "schema_version": 3,
     "solution": false,
     "task": false
    }
   },
   "source": [
    "## Exercice 3 &ndash; Insertion dans une liste triée"
   ]
  },
  {
   "cell_type": "markdown",
   "id": "8a12f4ed",
   "metadata": {
    "nbgrader": {
     "grade": false,
     "grade_id": "cell-8c1d7f351f2d7d7f",
     "locked": true,
     "schema_version": 3,
     "solution": false,
     "task": false
    }
   },
   "source": [
    "#### Introduction\n",
    "\n",
    "On souhaite écrire une fonction `insere` qui prend en argument un entier `a` et une liste `nombres` d'entiers triés par ordre croissant. Cette fonction insère la valeur `a` dans la liste de sorte que la liste reste triée.\n",
    "\n",
    "\n",
    "```pycon\n",
    ">>> exemple_1 = [1, 2, 4, 5]\n",
    ">>> insere(3, exemple_1)\n",
    ">>> exemple_1\n",
    "[1, 2, 3, 4, 5]\n",
    "```\n",
    "\n",
    "```pycon\n",
    ">>> exemple_2 = [1, 2, 7, 12, 14, 25]\n",
    ">>> insere(7, exemple_2)\n",
    ">>> exemple_2\n",
    "[1, 2, 7, 7, 12, 14, 25]\n",
    "```\n",
    "\n",
    "```pycon\n",
    ">>> exemple_3 = [2, 3, 4]\n",
    ">>> insere(1, exemple_3)\n",
    ">>> exemple_3\n",
    "[1, 2, 3, 4]\n",
    "```"
   ]
  },
  {
   "cell_type": "markdown",
   "id": "565ab5bc",
   "metadata": {
    "nbgrader": {
     "grade": false,
     "grade_id": "cell-7954e652e5a7d164",
     "locked": true,
     "schema_version": 3,
     "solution": false,
     "task": false
    }
   },
   "source": [
    "#### Travail à faire\n",
    "\n",
    "Une partie de la fonction `insere` est donnée ci-dessous :\n",
    "\n",
    "```py\n",
    "def insere(a, nombres):\n",
    "    nombres.append(a)\n",
    "    i = ...\n",
    "    while (a < ...) and (i >= 0):\n",
    "        nombres[i + 1] = ...\n",
    "        nombres[i] = a\n",
    "        i = ...\n",
    "```\n",
    "\n",
    "Écrire, **dans la cellule suivante**, le code complet de la fonction `insere`."
   ]
  },
  {
   "cell_type": "code",
   "execution_count": 11,
   "id": "8bb77ac4",
   "metadata": {
    "ExecuteTime": {
     "end_time": "2023-03-31T06:08:17.974452Z",
     "start_time": "2023-03-31T06:08:17.966799Z"
    },
    "nbgrader": {
     "grade": false,
     "grade_id": "cell-ef13caac38ecc02a",
     "locked": false,
     "schema_version": 3,
     "solution": true,
     "task": false
    }
   },
   "outputs": [],
   "source": [
    "def insere(a, nombres):\n",
    "    ### BEGIN SOLUTION\n",
    "    nombres.append(a)\n",
    "    i = len(nombres) - 2\n",
    "    while (a < nombres[i]) and (i >= 0):\n",
    "        nombres[i + 1] = nombres[i]\n",
    "        nombres[i] = a\n",
    "        i = i - 1\n",
    "    ### END SOLUTION"
   ]
  },
  {
   "cell_type": "code",
   "execution_count": 13,
   "id": "f22827ce",
   "metadata": {
    "ExecuteTime": {
     "end_time": "2023-03-31T06:08:36.501375Z",
     "start_time": "2023-03-31T06:08:36.489395Z"
    },
    "nbgrader": {
     "grade": true,
     "grade_id": "cell-8f641a9555973f64",
     "locked": true,
     "points": 2,
     "schema_version": 3,
     "solution": false,
     "task": false
    }
   },
   "outputs": [],
   "source": [
    "# tests\n",
    "exemple_1 = [1, 2, 4, 5]\n",
    "insere(3, exemple_1)\n",
    "assert exemple_1 == [1, 2, 3, 4, 5]\n",
    "\n",
    "exemple_2 = [1, 2, 7, 12, 14, 25]\n",
    "insere(7, exemple_2)\n",
    "assert exemple_2 == [1, 2, 7, 7, 12, 14, 25]\n",
    "\n",
    "exemple_3 = [2, 3, 4]\n",
    "insere(1, exemple_3)\n",
    "assert exemple_3 == [1, 2, 3, 4]\n",
    "\n",
    "### BEGIN HIDDEN TESTS\n",
    "nombres = []\n",
    "\n",
    "insere(-101, nombres)\n",
    "assert nombres == [-101], \"Erreur insertion dans liste vide\"\n",
    "\n",
    "insere(11, nombres)\n",
    "assert nombres == [-101, 11], \"Erreur insertion singleton\"\n",
    "\n",
    "insere(0, nombres)\n",
    "assert nombres == [-101, 0, 11], \"Erreur insertion élément nul\"\n",
    "\n",
    "insere(-200, nombres)\n",
    "assert nombres == [-200, -101, 0, 11], \"Erreur insertion à gauche\"\n",
    "\n",
    "insere(200, nombres)\n",
    "assert nombres == [-200, -101, 0, 11, 200], \"Erreur insertion à droite\"\n",
    "### END HIDDEN TESTS"
   ]
  }
 ],
 "metadata": {
  "celltoolbar": "Create Assignment",
  "kernelspec": {
   "display_name": "Python 3",
   "language": "python",
   "name": "python3"
  },
  "language_info": {
   "codemirror_mode": {
    "name": "ipython",
    "version": 3
   },
   "file_extension": ".py",
   "mimetype": "text/x-python",
   "name": "python",
   "nbconvert_exporter": "python",
   "pygments_lexer": "ipython3",
   "version": "3.9.7"
  },
  "toc": {
   "base_numbering": 1,
   "nav_menu": {},
   "number_sections": false,
   "sideBar": true,
   "skip_h1_title": true,
   "title_cell": "Table des matières",
   "title_sidebar": "Sommaire",
   "toc_cell": false,
   "toc_position": {},
   "toc_section_display": true,
   "toc_window_display": false
  }
 },
 "nbformat": 4,
 "nbformat_minor": 5
}
