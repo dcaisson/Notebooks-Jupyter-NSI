{
 "cells": [
  {
   "cell_type": "markdown",
   "id": "2d7e8eb1",
   "metadata": {
    "nbgrader": {
     "grade": false,
     "grade_id": "cell-c4c43276154b22d1",
     "locked": true,
     "schema_version": 3,
     "solution": false,
     "task": false
    }
   },
   "source": [
    "# Devoir maison 14 &ndash; Liste des différences"
   ]
  },
  {
   "cell_type": "markdown",
   "id": "e4a3d56a",
   "metadata": {
    "nbgrader": {
     "grade": false,
     "grade_id": "cell-c0c0cc2e928d82ad",
     "locked": true,
     "schema_version": 3,
     "solution": false,
     "task": false
    }
   },
   "source": [
    "Un laboratoire reçoit des résultats depuis deux sources différentes. Les résultats sont deux tableaux d'entiers `source_1` et `source_2` de même longueur.\n",
    "\n",
    "Quand deux résultats concordent, on considère qu'il n'y aura pas à refaire l'expérience, on le codera par `False`, mais si les résultats sont différents, on considère qu'il faudra refaire cette expérience, on le codera par `True`."
   ]
  },
  {
   "cell_type": "markdown",
   "id": "b3bdf35b",
   "metadata": {
    "nbgrader": {
     "grade": false,
     "grade_id": "cell-ab8be1cd250b9959",
     "locked": true,
     "schema_version": 3,
     "solution": false,
     "task": false
    }
   },
   "source": [
    "Écrire une fonction telle que `differences(source_1, source_2)` renvoie un tableau de la longueur commune à `source_1` et `source_2` rempli de booléens."
   ]
  },
  {
   "cell_type": "code",
   "execution_count": 1,
   "id": "a251617e",
   "metadata": {
    "ExecuteTime": {
     "end_time": "2022-11-18T19:51:46.565215Z",
     "start_time": "2022-11-18T19:51:46.554343Z"
    },
    "nbgrader": {
     "grade": false,
     "grade_id": "cell-3151ba1ebf2dbeba",
     "locked": false,
     "schema_version": 3,
     "solution": true,
     "task": false
    }
   },
   "outputs": [],
   "source": [
    "def differences(source_1, source_2):\n",
    "    ### BEGIN SOLUTION\n",
    "    diff = []\n",
    "    for i in range(len(source_1)):\n",
    "        diff.append(source_1[i] != source_2[i])\n",
    "    return diff\n",
    "    ### END SOLUTION"
   ]
  },
  {
   "cell_type": "code",
   "execution_count": 2,
   "id": "40f0896b",
   "metadata": {
    "ExecuteTime": {
     "end_time": "2022-11-18T19:53:11.137011Z",
     "start_time": "2022-11-18T19:53:11.124943Z"
    },
    "nbgrader": {
     "grade": true,
     "grade_id": "cell-9b93785a7be82ebe",
     "locked": true,
     "points": 4,
     "schema_version": 3,
     "solution": false,
     "task": false
    }
   },
   "outputs": [],
   "source": [
    "assert differences([14, 87, 22, 5, 65], [14, 86, 27, 5, 65]) == [False, True, True, False, False]\n",
    "assert differences([-54], [-54]) == [False]\n",
    "assert differences([7, 8], [7, 11]) == [False, True]\n",
    "assert differences([], []) == []\n",
    "### BEGIN HIDDEN TESTS\n",
    "source_1 = list(range(20))\n",
    "source_2 = list(range(20))\n",
    "assert differences(source_1, source_2) == [False] * 20\n",
    "\n",
    "source_1 = list(range(20))\n",
    "source_2 = list(range(1, 21))\n",
    "assert differences(source_1, source_2) == [True] * 20\n",
    "\n",
    "source_1 = list(range(21))\n",
    "source_2 = list(range(20, -1, -1))\n",
    "assert differences(source_1, source_2) == [True] * 10 + [False] + [True] * 10\n",
    "\n",
    "for i in range(20):\n",
    "    source_1 = list(range(20))\n",
    "    source_2 = list(range(20))\n",
    "    source_2[i] = -1\n",
    "    attendu = [False] * 20\n",
    "    attendu[i] = True\n",
    "    assert differences(source_1, source_2) == attendu\n",
    "### END HIDDEN TESTS"
   ]
  }
 ],
 "metadata": {
  "celltoolbar": "Create Assignment",
  "kernelspec": {
   "display_name": "Python 3",
   "language": "python",
   "name": "python3"
  },
  "language_info": {
   "codemirror_mode": {
    "name": "ipython",
    "version": 3
   },
   "file_extension": ".py",
   "mimetype": "text/x-python",
   "name": "python",
   "nbconvert_exporter": "python",
   "pygments_lexer": "ipython3",
   "version": "3.9.7"
  },
  "toc": {
   "base_numbering": 1,
   "nav_menu": {},
   "number_sections": false,
   "sideBar": true,
   "skip_h1_title": true,
   "title_cell": "Table des matières",
   "title_sidebar": "Sommaire",
   "toc_cell": false,
   "toc_position": {},
   "toc_section_display": true,
   "toc_window_display": false
  }
 },
 "nbformat": 4,
 "nbformat_minor": 5
}
