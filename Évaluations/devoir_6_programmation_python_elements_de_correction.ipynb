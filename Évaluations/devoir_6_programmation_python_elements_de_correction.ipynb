{
 "cells": [
  {
   "cell_type": "markdown",
   "id": "9d1fbbae",
   "metadata": {},
   "source": [
    "# Devoir 6 &ndash; Éléments de correction"
   ]
  },
  {
   "cell_type": "markdown",
   "id": "58ec4bc3",
   "metadata": {},
   "source": [
    "## Exercice 1"
   ]
  },
  {
   "cell_type": "code",
   "execution_count": 9,
   "id": "93072538",
   "metadata": {},
   "outputs": [],
   "source": [
    "def insere(a, nombres):\n",
    "    \"\"\" Insère l'entier a dans la liste nombres d'entiers\n",
    "        triés par ordre croissant.\n",
    "    \"\"\"\n",
    "    element_a_inserer = a\n",
    "    for i in range(len(nombres)):\n",
    "        if a <= nombres[i]:\n",
    "            element_a_inserer, nombres[i] = nombres[i], element_a_inserer\n",
    "    nombres.append(element_a_inserer)"
   ]
  },
  {
   "cell_type": "code",
   "execution_count": 13,
   "id": "4b638239",
   "metadata": {},
   "outputs": [
    {
     "name": "stdout",
     "output_type": "stream",
     "text": [
      "[1, 2, 3, 4, 5]\n"
     ]
    }
   ],
   "source": [
    "# Un premier exemple\n",
    "nombres_1 = [1, 2, 3, 5]\n",
    "insere(4, nombres_1)\n",
    "print(nombres_1)"
   ]
  },
  {
   "cell_type": "code",
   "execution_count": 14,
   "id": "21aacf41",
   "metadata": {},
   "outputs": [
    {
     "name": "stdout",
     "output_type": "stream",
     "text": [
      "[1, 2, 3, 4, 4, 4, 7]\n"
     ]
    }
   ],
   "source": [
    "# Un deuxième exemple\n",
    "nombres_2 = [1, 2, 3, 4, 4, 7]\n",
    "insere(4, nombres_2)\n",
    "print(nombres_2)"
   ]
  },
  {
   "cell_type": "code",
   "execution_count": 15,
   "id": "930a6114",
   "metadata": {},
   "outputs": [
    {
     "name": "stdout",
     "output_type": "stream",
     "text": [
      "[4]\n"
     ]
    }
   ],
   "source": [
    "# Un troisième exemple\n",
    "nombres_3 = []\n",
    "insere(4, nombres_3)\n",
    "print(nombres_3)"
   ]
  },
  {
   "cell_type": "markdown",
   "id": "7ed7be66",
   "metadata": {},
   "source": [
    "## Exercice 2"
   ]
  },
  {
   "cell_type": "code",
   "execution_count": 16,
   "id": "a3c48a1a",
   "metadata": {},
   "outputs": [],
   "source": [
    "def fusion(liste_a, liste_b):\n",
    "    taille_a = len(liste_a)\n",
    "    taille_b = len(liste_b)\n",
    "    liste_triee = []\n",
    "    i_a = 0\n",
    "    i_b = 0\n",
    "    while (i_a < taille_a) and (i_b < taille_b):\n",
    "        if liste_a[i_a] < liste_b[i_b]:\n",
    "            liste_triee.append(liste_a[i_a])\n",
    "            i_a = i_a + 1\n",
    "        else:\n",
    "            liste_triee.append(liste_b[i_b])\n",
    "            i_b = i_b + 1\n",
    "    while i_a < taille_a:\n",
    "        liste_triee.append(liste_a[i_a])\n",
    "        i_a = i_a + 1\n",
    "    while i_b < taille_b:\n",
    "        liste_triee.append(liste_b[i_b])\n",
    "        i_b = i_b + 1\n",
    "    return liste_triee"
   ]
  },
  {
   "cell_type": "code",
   "execution_count": 17,
   "id": "be66dc93",
   "metadata": {},
   "outputs": [],
   "source": [
    "assert fusion([1, 6, 10], []) == [1, 6, 10]\n",
    "assert fusion([], [0, 7, 8, 9]) == [0, 7, 8, 9]"
   ]
  },
  {
   "cell_type": "markdown",
   "id": "cb0f7b41",
   "metadata": {},
   "source": [
    "## Exercice 3"
   ]
  },
  {
   "cell_type": "code",
   "execution_count": 22,
   "id": "6a6e0f35",
   "metadata": {},
   "outputs": [],
   "source": [
    "def nb_max_consecutifs(motif, phrase):\n",
    "    nb_max = 0\n",
    "    nb_consecutifs = 0\n",
    "    for i in range(len(phrase)):\n",
    "        if phrase[i] == motif:\n",
    "            nb_consecutifs = nb_consecutifs + 1\n",
    "        else:\n",
    "            if nb_consecutifs > nb_max:\n",
    "                nb_max = nb_consecutifs\n",
    "            nb_consecutifs = 0\n",
    "    return nb_max       "
   ]
  },
  {
   "cell_type": "code",
   "execution_count": 27,
   "id": "111a165a",
   "metadata": {},
   "outputs": [],
   "source": [
    "phrase = \"\"\"Dans une phrase !!! écrite !!! certains utilisateurs abusent des points d'exclamations !! \n",
    "            Ce pour différentes raisons ! Bref.\"\"\"\n",
    "assert nb_max_consecutifs(\"!\", phrase) == 3"
   ]
  }
 ],
 "metadata": {
  "kernelspec": {
   "display_name": "Python 3 (ipykernel)",
   "language": "python",
   "name": "python3"
  },
  "language_info": {
   "codemirror_mode": {
    "name": "ipython",
    "version": 3
   },
   "file_extension": ".py",
   "mimetype": "text/x-python",
   "name": "python",
   "nbconvert_exporter": "python",
   "pygments_lexer": "ipython3",
   "version": "3.9.12"
  },
  "latex_envs": {
   "LaTeX_envs_menu_present": true,
   "autoclose": false,
   "autocomplete": true,
   "bibliofile": "biblio.bib",
   "cite_by": "apalike",
   "current_citInitial": 1,
   "eqLabelWithNumbers": true,
   "eqNumInitial": 1,
   "hotkeys": {
    "equation": "Ctrl-E",
    "itemize": "Ctrl-I"
   },
   "labels_anchors": false,
   "latex_user_defs": false,
   "report_style_numbering": false,
   "user_envs_cfg": false
  }
 },
 "nbformat": 4,
 "nbformat_minor": 5
}
