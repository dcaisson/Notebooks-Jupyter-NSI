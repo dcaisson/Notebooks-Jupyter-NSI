{
 "cells": [
  {
   "cell_type": "code",
   "execution_count": 4,
   "metadata": {},
   "outputs": [],
   "source": [
    "def bin2dec(n):\n",
    "    \"\"\" Permet la conversion de la base $2$ vers la base $10$\n",
    "    Entrée : une chaine de caractères n qui donne l'écriture\n",
    "    d'un nombre en base 2\n",
    "    Sortie : le nombre en base 10\n",
    "    \"\"\"\n",
    "    longueur = len(n)\n",
    "    decimal = 0\n",
    "    for i in range(longueur):\n",
    "        decimal = decimal + int(n[i]) * 2 ** (longueur - 1 - i)\n",
    "    return decimal"
   ]
  },
  {
   "cell_type": "code",
   "execution_count": 5,
   "metadata": {},
   "outputs": [],
   "source": [
    "# Quelques tests\n",
    "assert bin2dec(\"11111111\") == 255\n",
    "assert bin2dec(\"10010110\") == 150\n",
    "assert bin2dec(\"11110000000\") == 1920"
   ]
  }
 ],
 "metadata": {
  "finalized": {
   "timestamp": 1618448989742,
   "trusted": true
  },
  "kernelspec": {
   "display_name": "Python 3 (ipykernel)",
   "language": "python",
   "name": "python3"
  },
  "language_info": {
   "codemirror_mode": {
    "name": "ipython",
    "version": 3
   },
   "file_extension": ".py",
   "mimetype": "text/x-python",
   "name": "python",
   "nbconvert_exporter": "python",
   "pygments_lexer": "ipython3",
   "version": "3.8.11"
  },
  "latex_envs": {
   "LaTeX_envs_menu_present": true,
   "autoclose": false,
   "autocomplete": true,
   "bibliofile": "biblio.bib",
   "cite_by": "apalike",
   "current_citInitial": 1,
   "eqLabelWithNumbers": true,
   "eqNumInitial": 1,
   "hotkeys": {
    "equation": "Ctrl-E",
    "itemize": "Ctrl-I"
   },
   "labels_anchors": false,
   "latex_user_defs": false,
   "report_style_numbering": false,
   "user_envs_cfg": false
  }
 },
 "nbformat": 4,
 "nbformat_minor": 2
}
