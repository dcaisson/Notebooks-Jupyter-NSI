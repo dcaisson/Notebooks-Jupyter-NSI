{
 "cells": [
  {
   "cell_type": "markdown",
   "metadata": {},
   "source": [
    "# Algorithme des k plus proches voisins"
   ]
  },
  {
   "cell_type": "markdown",
   "metadata": {},
   "source": [
    "## 1. Introduction"
   ]
  },
  {
   "cell_type": "markdown",
   "metadata": {},
   "source": [
    "À l'entrée de l'école de Poudlard, le Choixpeau magique répartit les élèves dans les différentes maisons (Gryffondor, Serpentard, Serdaigle et Poufsouffle) en fonction de leur courage, leur loyauté, leur sagesse et leur malice.   \n",
    "\n",
    "Le Choixpeau magique dispose d'un fichier CSV (``choixpeau.csv``) dans lequel sont répertoriés les données d'un échantillon d'élèves."
   ]
  },
  {
   "cell_type": "markdown",
   "metadata": {},
   "source": [
    "Voici les 6 premières lignes de ce fichier :   \n",
    "\n",
    "|    Nom   | Courage | Loyauté | Sagesse | Malice |   Maison   |\n",
    "|:--------:|:-------:|:-------:|:-------:|:------:|:----------:|\n",
    "|  Adrian  |    9    |    4    |    7    |   10   | Serpentard |\n",
    "|  Andrew  |    9    |    3    |    4    |    7   | Gryffondor |\n",
    "| Angelina |    10   |    6    |    5    |    9   | Gryffondor |\n",
    "|  Anthony |    2    |    8    |    8    |    3   |  Serdaigle |\n",
    "|  Arthur  |    10   |    4    |    2    |    5   | Gryffondor |"
   ]
  },
  {
   "cell_type": "markdown",
   "metadata": {},
   "source": [
    "Et voici les élèves que le Choixpeau magique souhaite orienter :   \n",
    "\n",
    "|    Nom   | Courage | Loyauté | Sagesse | Malice |\n",
    "|:--------:|:-------:|:-------:|:-------:|:------:|\n",
    "| Hermione |    8    |    6    |    6    |    6   |\n",
    "|   Drago  |    6    |    6    |    5    |    8   |\n",
    "|    Cho   |    7    |    6    |    9    |    6   |\n",
    "|  Cédric  |    7    |    10   |    5    |    6   |"
   ]
  },
  {
   "cell_type": "markdown",
   "metadata": {},
   "source": [
    "L'objectif de ce projet est d'aider le Choixpeau à déterminer la maison des nouveaux élèves."
   ]
  },
  {
   "cell_type": "markdown",
   "metadata": {},
   "source": [
    "## 2. Modéliser un élève"
   ]
  },
  {
   "cell_type": "markdown",
   "metadata": {},
   "source": [
    "On décide de modéliser un élève par un dictionnaire avec les données à disposition. Par exemple :"
   ]
  },
  {
   "cell_type": "code",
   "execution_count": 3,
   "metadata": {},
   "outputs": [],
   "source": [
    "adrian = {\"nom\": \"Adrian\", \"courage\": 9, \"loyauté\": 4,\n",
    "          \"sagesse\": 7, \"malice\": 10, \"maison\": \"Serpentard\"}"
   ]
  },
  {
   "cell_type": "code",
   "execution_count": 4,
   "metadata": {},
   "outputs": [],
   "source": [
    "hermione = {\"nom\": \"Hermione\", \"courage\": 8, \"loyauté\": 6,\n",
    "            \"sagesse\": 6, \"malice\": 6}"
   ]
  },
  {
   "cell_type": "markdown",
   "metadata": {},
   "source": [
    "1. Donner la modélisation de l'élève Anthony."
   ]
  },
  {
   "cell_type": "code",
   "execution_count": 5,
   "metadata": {},
   "outputs": [],
   "source": [
    "# Répondre dans cette cellule\n",
    "anthony = {\"nom\": \"Anthony\", \"courage\": 2, \"loyauté\": 8,\n",
    "          \"sagesse\": 8, \"malice\": 3, \"maison\": \"Serdaigle\"}"
   ]
  },
  {
   "cell_type": "markdown",
   "metadata": {},
   "source": [
    "2. On décide d'utiliser la distance de Manhattan pour calculer la distance entre deux élèves, c'est-à-dire (avec des notations évidentes) :\n",
    "\n",
    "``distance(eleve1, eleve2) = |C1 - C2| + |L1 - L2| + |S1 - S2| + |M1 - M2|``"
   ]
  },
  {
   "cell_type": "markdown",
   "metadata": {},
   "source": [
    "a. Vérifier que la distance entre Hermione et Adrian est égale à $8$."
   ]
  },
  {
   "cell_type": "markdown",
   "metadata": {},
   "source": [
    "distance(hermione, adrian) = |8-9| + |6-4| + |6-7| + |6-10| = 1 + 2 + 1 + 4 = 8"
   ]
  },
  {
   "cell_type": "markdown",
   "metadata": {},
   "source": [
    "b. Quelle est la distance entre Arthur et Drago ?"
   ]
  },
  {
   "cell_type": "markdown",
   "metadata": {},
   "source": [
    "distance(arthur, drago) = |10-6| + |4-6| + |2-5| + |5-8| = 12"
   ]
  },
  {
   "cell_type": "markdown",
   "metadata": {},
   "source": [
    "c. Écrire une fonction ``distance`` qui prend en paramètres deux élèves (représentés chacun par un dictionnaire) et qui renvoie la distance (de Manhattan) entre ces deux élèves."
   ]
  },
  {
   "cell_type": "code",
   "execution_count": 6,
   "metadata": {},
   "outputs": [],
   "source": [
    "# À vous de jouer\n",
    "def distance(eleve1, eleve2):\n",
    "    c1 = eleve1[\"courage\"]\n",
    "    c2 = eleve2[\"courage\"]\n",
    "    l1 = eleve1[\"loyauté\"]\n",
    "    l2 = eleve2[\"loyauté\"]\n",
    "    s1 = eleve1[\"sagesse\"]\n",
    "    s2 = eleve2[\"sagesse\"]\n",
    "    m1 = eleve1[\"malice\"]\n",
    "    m2 = eleve2[\"malice\"]\n",
    "    d = abs(c1 - c2) + abs(l1 - l2) + abs(s1 - s2) + abs(m1 - m2)\n",
    "    return d"
   ]
  },
  {
   "cell_type": "code",
   "execution_count": 7,
   "metadata": {},
   "outputs": [],
   "source": [
    "assert distance(hermione, adrian) == 8\n",
    "assert distance(hermione, hermione) == 0"
   ]
  },
  {
   "cell_type": "markdown",
   "metadata": {},
   "source": [
    "## 3. Fichier CSV"
   ]
  },
  {
   "cell_type": "markdown",
   "metadata": {},
   "source": [
    "3. Écrire une fonction ``lire_csv`` qui prend en paramètre un fichier CSV contenant les données d'élèves et qui renvoie une liste contenant ces données. Plus précisément, la fonction ``lire_csv`` renvoie une liste de dictionnaires, chaque dictionnaire modélisant un élève.   \n",
    "\n",
    "   *Aide 1 : la fonction ``strip`` pourra être utile...*   \n",
    "   *Aide 2 : attention, certaines valeurs de chaque dictionnaire sont des entiers !*"
   ]
  },
  {
   "cell_type": "code",
   "execution_count": 8,
   "metadata": {},
   "outputs": [
    {
     "data": {
      "text/plain": [
       "'Serpentard'"
      ]
     },
     "execution_count": 8,
     "metadata": {},
     "output_type": "execute_result"
    }
   ],
   "source": [
    "'Serpentard\\n'.strip()"
   ]
  },
  {
   "cell_type": "code",
   "execution_count": 9,
   "metadata": {},
   "outputs": [],
   "source": [
    "# À vous de jouer\n",
    "def lire_csv(fichier):\n",
    "    eleves = []\n",
    "    # on lit le fichier\n",
    "    with open(fichier, \"r\") as f:\n",
    "        for ligne in f:\n",
    "            liste = ligne.strip().split(\";\")\n",
    "            if liste[0] != \"Nom\":\n",
    "                eleves.append({\"nom\": liste[0], \"courage\": int(liste[1]),\n",
    "                               \"loyauté\": int(liste[2]), \"sagesse\": int(liste[3]),\n",
    "                               \"malice\": int(liste[4]), \"maison\": liste[5]})\n",
    "    return eleves"
   ]
  },
  {
   "cell_type": "code",
   "execution_count": 10,
   "metadata": {
    "scrolled": true
   },
   "outputs": [
    {
     "data": {
      "text/plain": [
       "[{'nom': 'Adrian',\n",
       "  'courage': 9,\n",
       "  'loyauté': 4,\n",
       "  'sagesse': 7,\n",
       "  'malice': 10,\n",
       "  'maison': 'Serpentard'},\n",
       " {'nom': 'Andrew',\n",
       "  'courage': 9,\n",
       "  'loyauté': 3,\n",
       "  'sagesse': 4,\n",
       "  'malice': 7,\n",
       "  'maison': 'Gryffondor'},\n",
       " {'nom': 'Angelina',\n",
       "  'courage': 10,\n",
       "  'loyauté': 6,\n",
       "  'sagesse': 5,\n",
       "  'malice': 9,\n",
       "  'maison': 'Gryffondor'},\n",
       " {'nom': 'Anthony',\n",
       "  'courage': 2,\n",
       "  'loyauté': 8,\n",
       "  'sagesse': 8,\n",
       "  'malice': 3,\n",
       "  'maison': 'Serdaigle'},\n",
       " {'nom': 'Arthur',\n",
       "  'courage': 10,\n",
       "  'loyauté': 4,\n",
       "  'sagesse': 2,\n",
       "  'malice': 5,\n",
       "  'maison': 'Gryffondor'},\n",
       " {'nom': 'Bellatrix',\n",
       "  'courage': 10,\n",
       "  'loyauté': 4,\n",
       "  'sagesse': 9,\n",
       "  'malice': 9,\n",
       "  'maison': 'Serpentard'},\n",
       " {'nom': 'Bole',\n",
       "  'courage': 7,\n",
       "  'loyauté': 4,\n",
       "  'sagesse': 6,\n",
       "  'malice': 10,\n",
       "  'maison': 'Serpentard'},\n",
       " {'nom': 'Colin',\n",
       "  'courage': 10,\n",
       "  'loyauté': 7,\n",
       "  'sagesse': 4,\n",
       "  'malice': 7,\n",
       "  'maison': 'Gryffondor'},\n",
       " {'nom': 'Cormac',\n",
       "  'courage': 9,\n",
       "  'loyauté': 6,\n",
       "  'sagesse': 5,\n",
       "  'malice': 4,\n",
       "  'maison': 'Gryffondor'},\n",
       " {'nom': 'Dean',\n",
       "  'courage': 9,\n",
       "  'loyauté': 8,\n",
       "  'sagesse': 4,\n",
       "  'malice': 7,\n",
       "  'maison': 'Gryffondor'},\n",
       " {'nom': 'Demelza',\n",
       "  'courage': 10,\n",
       "  'loyauté': 6,\n",
       "  'sagesse': 5,\n",
       "  'malice': 3,\n",
       "  'maison': 'Gryffondor'},\n",
       " {'nom': 'Derrick',\n",
       "  'courage': 5,\n",
       "  'loyauté': 4,\n",
       "  'sagesse': 6,\n",
       "  'malice': 5,\n",
       "  'maison': 'Serpentard'},\n",
       " {'nom': 'Eddie',\n",
       "  'courage': 5,\n",
       "  'loyauté': 7,\n",
       "  'sagesse': 10,\n",
       "  'malice': 3,\n",
       "  'maison': 'Serdaigle'},\n",
       " {'nom': 'Ernie',\n",
       "  'courage': 4,\n",
       "  'loyauté': 8,\n",
       "  'sagesse': 7,\n",
       "  'malice': 4,\n",
       "  'maison': 'Poufsouffle'},\n",
       " {'nom': 'Euan',\n",
       "  'courage': 9,\n",
       "  'loyauté': 2,\n",
       "  'sagesse': 7,\n",
       "  'malice': 4,\n",
       "  'maison': 'Gryffondor'},\n",
       " {'nom': 'Gilderoy',\n",
       "  'courage': 7,\n",
       "  'loyauté': 9,\n",
       "  'sagesse': 9,\n",
       "  'malice': 9,\n",
       "  'maison': 'Serdaigle'},\n",
       " {'nom': 'Gregory',\n",
       "  'courage': 6,\n",
       "  'loyauté': 9,\n",
       "  'sagesse': 7,\n",
       "  'malice': 8,\n",
       "  'maison': 'Serpentard'},\n",
       " {'nom': 'Hannah',\n",
       "  'courage': 8,\n",
       "  'loyauté': 10,\n",
       "  'sagesse': 2,\n",
       "  'malice': 4,\n",
       "  'maison': 'Poufsouffle'},\n",
       " {'nom': 'Harper',\n",
       "  'courage': 6,\n",
       "  'loyauté': 3,\n",
       "  'sagesse': 5,\n",
       "  'malice': 10,\n",
       "  'maison': 'Serpentard'},\n",
       " {'nom': 'Jimmy',\n",
       "  'courage': 9,\n",
       "  'loyauté': 9,\n",
       "  'sagesse': 9,\n",
       "  'malice': 10,\n",
       "  'maison': 'Gryffondor'},\n",
       " {'nom': 'Justin',\n",
       "  'courage': 5,\n",
       "  'loyauté': 10,\n",
       "  'sagesse': 7,\n",
       "  'malice': 10,\n",
       "  'maison': 'Poufsouffle'},\n",
       " {'nom': 'Katie',\n",
       "  'courage': 10,\n",
       "  'loyauté': 2,\n",
       "  'sagesse': 3,\n",
       "  'malice': 9,\n",
       "  'maison': 'Gryffondor'},\n",
       " {'nom': 'Lavande',\n",
       "  'courage': 10,\n",
       "  'loyauté': 8,\n",
       "  'sagesse': 8,\n",
       "  'malice': 6,\n",
       "  'maison': 'Gryffondor'},\n",
       " {'nom': 'Lee',\n",
       "  'courage': 10,\n",
       "  'loyauté': 2,\n",
       "  'sagesse': 2,\n",
       "  'malice': 8,\n",
       "  'maison': 'Gryffondor'},\n",
       " {'nom': 'Luna',\n",
       "  'courage': 2,\n",
       "  'loyauté': 9,\n",
       "  'sagesse': 9,\n",
       "  'malice': 2,\n",
       "  'maison': 'Serdaigle'},\n",
       " {'nom': 'Marcus',\n",
       "  'courage': 6,\n",
       "  'loyauté': 5,\n",
       "  'sagesse': 8,\n",
       "  'malice': 10,\n",
       "  'maison': 'Serpentard'},\n",
       " {'nom': 'Marietta',\n",
       "  'courage': 10,\n",
       "  'loyauté': 8,\n",
       "  'sagesse': 10,\n",
       "  'malice': 9,\n",
       "  'maison': 'Serdaigle'},\n",
       " {'nom': 'Michael',\n",
       "  'courage': 4,\n",
       "  'loyauté': 2,\n",
       "  'sagesse': 6,\n",
       "  'malice': 5,\n",
       "  'maison': 'Serdaigle'},\n",
       " {'nom': 'Milicent',\n",
       "  'courage': 9,\n",
       "  'loyauté': 3,\n",
       "  'sagesse': 5,\n",
       "  'malice': 6,\n",
       "  'maison': 'Serpentard'},\n",
       " {'nom': 'Mimi',\n",
       "  'courage': 4,\n",
       "  'loyauté': 4,\n",
       "  'sagesse': 9,\n",
       "  'malice': 10,\n",
       "  'maison': 'Serdaigle'},\n",
       " {'nom': 'Montague',\n",
       "  'courage': 5,\n",
       "  'loyauté': 7,\n",
       "  'sagesse': 2,\n",
       "  'malice': 10,\n",
       "  'maison': 'Serpentard'},\n",
       " {'nom': 'Neville',\n",
       "  'courage': 10,\n",
       "  'loyauté': 5,\n",
       "  'sagesse': 6,\n",
       "  'malice': 4,\n",
       "  'maison': 'Gryffondor'},\n",
       " {'nom': 'Norbert',\n",
       "  'courage': 3,\n",
       "  'loyauté': 10,\n",
       "  'sagesse': 7,\n",
       "  'malice': 6,\n",
       "  'maison': 'Poufsouffle'},\n",
       " {'nom': 'Nymphadora',\n",
       "  'courage': 2,\n",
       "  'loyauté': 5,\n",
       "  'sagesse': 3,\n",
       "  'malice': 8,\n",
       "  'maison': 'Poufsouffle'},\n",
       " {'nom': 'Padma',\n",
       "  'courage': 6,\n",
       "  'loyauté': 6,\n",
       "  'sagesse': 6,\n",
       "  'malice': 9,\n",
       "  'maison': 'Serdaigle'},\n",
       " {'nom': 'Paenny',\n",
       "  'courage': 2,\n",
       "  'loyauté': 8,\n",
       "  'sagesse': 9,\n",
       "  'malice': 8,\n",
       "  'maison': 'Poufsouffle'},\n",
       " {'nom': 'Pansy',\n",
       "  'courage': 4,\n",
       "  'loyauté': 4,\n",
       "  'sagesse': 10,\n",
       "  'malice': 8,\n",
       "  'maison': 'Serpentard'},\n",
       " {'nom': 'Parvati',\n",
       "  'courage': 10,\n",
       "  'loyauté': 5,\n",
       "  'sagesse': 2,\n",
       "  'malice': 6,\n",
       "  'maison': 'Gryffondor'},\n",
       " {'nom': 'Pomona',\n",
       "  'courage': 5,\n",
       "  'loyauté': 10,\n",
       "  'sagesse': 7,\n",
       "  'malice': 8,\n",
       "  'maison': 'Poufsouffle'},\n",
       " {'nom': 'Quirinus',\n",
       "  'courage': 7,\n",
       "  'loyauté': 10,\n",
       "  'sagesse': 10,\n",
       "  'malice': 2,\n",
       "  'maison': 'Serdaigle'},\n",
       " {'nom': 'Roger',\n",
       "  'courage': 9,\n",
       "  'loyauté': 10,\n",
       "  'sagesse': 10,\n",
       "  'malice': 8,\n",
       "  'maison': 'Serdaigle'},\n",
       " {'nom': 'Romilda',\n",
       "  'courage': 10,\n",
       "  'loyauté': 6,\n",
       "  'sagesse': 2,\n",
       "  'malice': 9,\n",
       "  'maison': 'Gryffondor'},\n",
       " {'nom': 'Saemus',\n",
       "  'courage': 7,\n",
       "  'loyauté': 4,\n",
       "  'sagesse': 8,\n",
       "  'malice': 3,\n",
       "  'maison': 'Gryffondor'},\n",
       " {'nom': 'Sirius',\n",
       "  'courage': 10,\n",
       "  'loyauté': 8,\n",
       "  'sagesse': 10,\n",
       "  'malice': 7,\n",
       "  'maison': 'Gryffondor'},\n",
       " {'nom': 'Susan',\n",
       "  'courage': 5,\n",
       "  'loyauté': 6,\n",
       "  'sagesse': 5,\n",
       "  'malice': 5,\n",
       "  'maison': 'Poufsouffle'},\n",
       " {'nom': 'Susan',\n",
       "  'courage': 4,\n",
       "  'loyauté': 10,\n",
       "  'sagesse': 10,\n",
       "  'malice': 5,\n",
       "  'maison': 'Poufsouffle'},\n",
       " {'nom': 'Ted',\n",
       "  'courage': 5,\n",
       "  'loyauté': 9,\n",
       "  'sagesse': 8,\n",
       "  'malice': 4,\n",
       "  'maison': 'Poufsouffle'},\n",
       " {'nom': 'Térence',\n",
       "  'courage': 6,\n",
       "  'loyauté': 9,\n",
       "  'sagesse': 2,\n",
       "  'malice': 8,\n",
       "  'maison': 'Serpentard'},\n",
       " {'nom': 'Terry',\n",
       "  'courage': 8,\n",
       "  'loyauté': 4,\n",
       "  'sagesse': 10,\n",
       "  'malice': 5,\n",
       "  'maison': 'Serdaigle'},\n",
       " {'nom': 'Vincent',\n",
       "  'courage': 4,\n",
       "  'loyauté': 9,\n",
       "  'sagesse': 2,\n",
       "  'malice': 10,\n",
       "  'maison': 'Serpentard'}]"
      ]
     },
     "execution_count": 10,
     "metadata": {},
     "output_type": "execute_result"
    }
   ],
   "source": [
    "# Test\n",
    "lire_csv(\"choixpeau.csv\")"
   ]
  },
  {
   "cell_type": "markdown",
   "metadata": {},
   "source": [
    "## 4. Trouver la maison majoritaire"
   ]
  },
  {
   "cell_type": "markdown",
   "metadata": {},
   "source": [
    "4. Écrire une fonction ``occurrence_maisons`` qui prend en paramètre une liste d'élèves et qui renvoie un dictionnaire dont :\n",
    "   - les clés sont les maisons (chaînes de caractères) ;\n",
    "   - les valeurs sont le nombre de fois où chaque maison apparaît."
   ]
  },
  {
   "cell_type": "code",
   "execution_count": 11,
   "metadata": {},
   "outputs": [],
   "source": [
    "# À vous de jouer\n",
    "def occurrence_maisons(liste):\n",
    "    maisons = {\"Serpentard\": 0,\n",
    "               \"Gryffondor\": 0,\n",
    "               \"Serdaigle\": 0,\n",
    "               \"Poufsouffle\": 0}\n",
    "    # on parcourt la liste d'élèves (de dictionnaires)\n",
    "    for eleve in liste:\n",
    "        maison = eleve[\"maison\"]\n",
    "        maisons[maison] = maisons[maison] + 1    \n",
    "    return maisons"
   ]
  },
  {
   "cell_type": "code",
   "execution_count": 12,
   "metadata": {},
   "outputs": [],
   "source": [
    "# Test\n",
    "liste = lire_csv(\"choixpeau.csv\")\n",
    "assert occurrence_maisons(liste) == {\"Serpentard\": 12, \"Gryffondor\": 17, \"Serdaigle\": 11, \"Poufsouffle\": 10}"
   ]
  },
  {
   "cell_type": "markdown",
   "metadata": {},
   "source": [
    "5. Écrire une fonction ``maison_majoritaire`` qui prend en paramètre une liste d'élèves et qui renvoie le nom de la maison la plus représentée."
   ]
  },
  {
   "cell_type": "code",
   "execution_count": 19,
   "metadata": {},
   "outputs": [],
   "source": [
    "# À vous de jouer\n",
    "def maison_majoritaire(liste):\n",
    "    maisons = occurrence_maisons(liste)\n",
    "    # on parcourt le dictionnaire maisons\n",
    "    # pour trouver la maison majoritaire\n",
    "    maison_maj = \"\"\n",
    "    occurrence_max = 0\n",
    "    for maison in maisons: # ou maisons.keys()\n",
    "        if maisons[maison] > occurrence_max:\n",
    "            maison_maj = maison\n",
    "            occurrence_max = maisons[maison]\n",
    "    return maison_maj"
   ]
  },
  {
   "cell_type": "code",
   "execution_count": 20,
   "metadata": {},
   "outputs": [],
   "source": [
    "# Test\n",
    "assert maison_majoritaire(liste) == \"Gryffondor\""
   ]
  },
  {
   "cell_type": "markdown",
   "metadata": {},
   "source": [
    "## 5. Les sept plus proches voisins"
   ]
  },
  {
   "cell_type": "markdown",
   "metadata": {},
   "source": [
    "6. Écrire une fonction ``sept_plus_proches_voisins`` qui prend en paramètres :\n",
    "   - une liste d'élèves ``table`` ;\n",
    "   - un nouvel élève ``nouveau`` qui n'a pas encore de maison,    \n",
    "et qui renvoie la liste des 7 plus proches voisins du nouvel élève."
   ]
  },
  {
   "cell_type": "code",
   "execution_count": 22,
   "metadata": {},
   "outputs": [],
   "source": [
    "# À vous de jouer\n",
    "def sept_plus_proches_voisins(table, nouveau):\n",
    "    # on parcourt table\n",
    "    table_avec_distance = []\n",
    "    for eleve in table:\n",
    "        eleve[\"distance\"] = distance(nouveau, eleve)\n",
    "        table_avec_distance.append(eleve)\n",
    "    # on trie la liste table_avec_distance de la plus petite\n",
    "    # distance à la plus grande distance\n",
    "    #/!\\ : le critère de tri est donc la distance\n",
    "    table_avec_distance.sort(key=lambda eleve: eleve[\"distance\"])\n",
    "    resultat = []\n",
    "    for i in range(7):\n",
    "        resultat.append(table_avec_distance[i])\n",
    "    return resultat"
   ]
  },
  {
   "cell_type": "code",
   "execution_count": 30,
   "metadata": {},
   "outputs": [
    {
     "data": {
      "text/plain": [
       "[{'nom': 'Adrian',\n",
       "  'courage': 9,\n",
       "  'loyauté': 4,\n",
       "  'sagesse': 7,\n",
       "  'malice': 10,\n",
       "  'maison': 'Serpentard',\n",
       "  'distance': 0},\n",
       " {'nom': 'Bole',\n",
       "  'courage': 7,\n",
       "  'loyauté': 4,\n",
       "  'sagesse': 6,\n",
       "  'malice': 10,\n",
       "  'maison': 'Serpentard',\n",
       "  'distance': 3},\n",
       " {'nom': 'Bellatrix',\n",
       "  'courage': 10,\n",
       "  'loyauté': 4,\n",
       "  'sagesse': 9,\n",
       "  'malice': 9,\n",
       "  'maison': 'Serpentard',\n",
       "  'distance': 4},\n",
       " {'nom': 'Marcus',\n",
       "  'courage': 6,\n",
       "  'loyauté': 5,\n",
       "  'sagesse': 8,\n",
       "  'malice': 10,\n",
       "  'maison': 'Serpentard',\n",
       "  'distance': 5},\n",
       " {'nom': 'Angelina',\n",
       "  'courage': 10,\n",
       "  'loyauté': 6,\n",
       "  'sagesse': 5,\n",
       "  'malice': 9,\n",
       "  'maison': 'Gryffondor',\n",
       "  'distance': 6},\n",
       " {'nom': 'Harper',\n",
       "  'courage': 6,\n",
       "  'loyauté': 3,\n",
       "  'sagesse': 5,\n",
       "  'malice': 10,\n",
       "  'maison': 'Serpentard',\n",
       "  'distance': 6},\n",
       " {'nom': 'Andrew',\n",
       "  'courage': 9,\n",
       "  'loyauté': 3,\n",
       "  'sagesse': 4,\n",
       "  'malice': 7,\n",
       "  'maison': 'Gryffondor',\n",
       "  'distance': 7}]"
      ]
     },
     "execution_count": 30,
     "metadata": {},
     "output_type": "execute_result"
    }
   ],
   "source": [
    "sept_plus_proches_voisins(liste, adrian)"
   ]
  },
  {
   "cell_type": "markdown",
   "metadata": {},
   "source": [
    "## 6. Attribuer une maison"
   ]
  },
  {
   "cell_type": "markdown",
   "metadata": {},
   "source": [
    "7. Écrire une fonction ``attribuer_maison`` qui prend en paramètres :\n",
    "   - une liste d'élèves ``table`` ;\n",
    "   - un nouvel élève ``nouveau`` qui n'a pas encore de maison,     \n",
    "   et qui renvoie la maison du nouvel élève (la maison majoritaire parmi les 7 plus proches voisins du nouvel élève)"
   ]
  },
  {
   "cell_type": "code",
   "execution_count": 31,
   "metadata": {},
   "outputs": [],
   "source": [
    "# À vous de jouer\n",
    "def attribuer_maison(table, nouveau):\n",
    "    # on cherche d'abord les 7 plus proches voisins de nouveau\n",
    "    voisins = sept_plus_proches_voisins(table, nouveau)\n",
    "    # on renvoie la maison majoritaire de ces 7 plus proches voisins\n",
    "    return maison_majoritaire(voisins)    "
   ]
  },
  {
   "cell_type": "code",
   "execution_count": 32,
   "metadata": {},
   "outputs": [
    {
     "data": {
      "text/plain": [
       "'Serpentard'"
      ]
     },
     "execution_count": 32,
     "metadata": {},
     "output_type": "execute_result"
    }
   ],
   "source": [
    "nouvel_eleve = {\"nom\": \"Yann\", \"courage\": 9, \"loyauté\": 4,\n",
    "                \"sagesse\": 7, \"malice\": 10}\n",
    "liste = lire_csv(\"choixpeau.csv\")\n",
    "attribuer_maison(liste, nouvel_eleve)"
   ]
  }
 ],
 "metadata": {
  "kernelspec": {
   "display_name": "Python 3 (ipykernel)",
   "language": "python",
   "name": "python3"
  },
  "language_info": {
   "codemirror_mode": {
    "name": "ipython",
    "version": 3
   },
   "file_extension": ".py",
   "mimetype": "text/x-python",
   "name": "python",
   "nbconvert_exporter": "python",
   "pygments_lexer": "ipython3",
   "version": "3.10.10"
  },
  "latex_envs": {
   "LaTeX_envs_menu_present": true,
   "autoclose": false,
   "autocomplete": true,
   "bibliofile": "biblio.bib",
   "cite_by": "apalike",
   "current_citInitial": 1,
   "eqLabelWithNumbers": true,
   "eqNumInitial": 1,
   "hotkeys": {
    "equation": "Ctrl-E",
    "itemize": "Ctrl-I"
   },
   "labels_anchors": false,
   "latex_user_defs": false,
   "report_style_numbering": false,
   "user_envs_cfg": false
  }
 },
 "nbformat": 4,
 "nbformat_minor": 2
}
