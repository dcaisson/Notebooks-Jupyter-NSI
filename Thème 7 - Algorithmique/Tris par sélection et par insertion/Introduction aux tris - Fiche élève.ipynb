{
 "cells": [
  {
   "cell_type": "markdown",
   "metadata": {},
   "source": [
    "## Introduction aux tris &ndash; Fiche élève"
   ]
  },
  {
   "cell_type": "markdown",
   "metadata": {},
   "source": [
    "### Sommaire  \n",
    "[**1. Introduction**](#introduction)  \n",
    "[**2. Le tri par sélection (*selection sort*)**](#tri-par-selection)  \n",
    "&nbsp;&nbsp;&nbsp;&nbsp;[2.1 Principe](#principe-selection)  \n",
    "&nbsp;&nbsp;&nbsp;&nbsp;[2.2 Quelques exemples](#exemples-selection)  \n",
    "&nbsp;&nbsp;&nbsp;&nbsp;[2.3 Algorithme du tri par sélection](#algorithme-selection)  \n",
    "&nbsp;&nbsp;&nbsp;&nbsp;[2.4 Implémentation en Python](#python-selection)  \n",
    "&nbsp;&nbsp;&nbsp;&nbsp;[2.5 Complexité et estimation du &laquo;coût&raquo;](#complexite-selection)  \n",
    "&nbsp;&nbsp;&nbsp;&nbsp;[2.6 Correction partielle et terminaison](#correction-terminaison-selection)  \n",
    "[**3. Le tri par insertion (*insertion sort*)**](#tri-par-insertion)   \n",
    "&nbsp;&nbsp;&nbsp;&nbsp;[3.1 Principe](#principe-insertion)  \n",
    "&nbsp;&nbsp;&nbsp;&nbsp;[3.2 Quelques exemples](#exemples-insertion)  \n",
    "&nbsp;&nbsp;&nbsp;&nbsp;[3.3 Algorithme du tri par insertion](#algorithme-insertion)  \n",
    "&nbsp;&nbsp;&nbsp;&nbsp;[3.4 Implémentation en Python](#python-insertion)  \n",
    "&nbsp;&nbsp;&nbsp;&nbsp;[3.5 Coût dans le pire des cas](#cout-insertion)  \n",
    "&nbsp;&nbsp;&nbsp;&nbsp;[3.6 Correction partielle et terminaison](#correction-terminaison-insertion)  \n",
    "&nbsp;&nbsp;&nbsp;&nbsp;[3.7 Comparaison des tris par sélection et par insertion](#comparaison-selection-insertion)  \n",
    "[**4. Le tri en Python**](#tri-python) "
   ]
  },
  {
   "cell_type": "markdown",
   "metadata": {},
   "source": [
    "### 1. Introduction<a id=\"introduction\"></a>\n",
    "Les méthodes de tris sont essentielles dans la manipulation de données. En effet, une fois des données stockées (comme des livres rangés dans une bibliothèque, des mots rangés dans un dictionnaire, des copies de baccalauréat stockées dans un centre d'examen etc), on souhaite y accéder et ce travail est facilité lorsque les données sont triées. Pour rechercher un élément dans une liste, il est beaucoup plus simple que ces éléments soient ordonnés : pour rechercher un livre à la bibliothèque, mieux vaut qu'ils soient classés par ordre alphabétique, même chose pour la recherche d'un mot dans un dictionnaire.\n",
    "\n",
    "Depuis les débuts de l'informatique, les algorithmes de tri ont fait l'objet de nombreuses recherches. Betty Snyder-Holberton, qui a travaillé sur les premiers ordinateurs (ENIAC et UNIVAC), compte parmi les auteurs des premiers algorithmes de tri (vers 1951). De nouveaux algorithmes sont toujours en cours d'invention, comme le Timsort assez récent car datant de 2002.\n",
    "\n",
    "Il existe de nombreux algorithmes de tri. Cette année, nous verrons deux tris : le **tri par sélection** et le **tri par insertion**. Il s'agit de *tris par comparaisons* qui s'appuient sur la comparaison deux à deux des éléments d'une liste. Chaque algorithme de tri a :\n",
    "- une complexité temporelle : il s'agit du coût de l'algorithme en temps ;\n",
    "- une complexité spatiale : il s'agit de l'espace mémoire occupé. Il est possible de trier une liste *en place* (la liste triée est donc modifiée ce qui implique que la liste de départ n'est pas conservée) ou *pas en place* (on crée une copie de la liste à trier et on trie cette copie). Si on ne souhaite pas conserver la liste d'origine, le tri en place permet d'économiser de l'espace mémoire."
   ]
  },
  {
   "cell_type": "markdown",
   "metadata": {},
   "source": [
    "### 2. Le tri par sélection (*selection sort*)<a id=\"tri-par-selection\"></a>\n",
    "\n",
    "#### 2.1 Principe<a id=\"principe-selection\"></a>\n",
    "On dispose d'une liste de $n$ données. On cherche la plus petite donnée et on la place en première position, puis on cherche la plus petite donnée parmi les données restantes et on la place en deuxième position, et ainsi de suite."
   ]
  },
  {
   "cell_type": "markdown",
   "metadata": {},
   "source": [
    "##### <span style=\"color:blue\">Exercice 1</span>\n",
    "<span style=\"color:blue\">Faire un schéma illustrant le tri par sélection.</span>  "
   ]
  },
  {
   "cell_type": "markdown",
   "metadata": {},
   "source": [
    "#### 2.2 Quelques exemples<a id=\"exemples-selection\"></a>\n",
    "On souhaite trier la liste ```[9, 3, 1, 6]```.\n",
    "- ```[9, 3, 1, 6]``` : le plus petit élément de la liste est ```1``` : on le place en première position en le permutant ```1``` avec ```9```.\n",
    "- <code>[<span style=\"color:red\">1</span>, 3, 9, 6]</code> : parmi les données restantes, ```3``` est le plus petit élément. Il se trouve déjà deuxième position.\n",
    "- <code>[<span style=\"color:red\">1, 3</span>, 9, 6]</code> : parmi les données restantes, ```6``` est le plus petit élément. On le place en troisième position en le permutant avec ```9```.\n",
    "- <code>[<span style=\"color:red\">1, 3, 6, 9</span>]</code> : le tableau est trié.\n",
    "\n",
    "*Remarque : une fois l'avant-dernier élément à sa place, le dernier élément est nécessairement en bonne position aussi.*\n",
    "\n",
    "##### <span style=\"color:blue\">Exercice 2</span>\n",
    "<span style=\"color:blue\">1. On souhaite trier la liste <code><span style=\"color:blue\">[3, 4, 1, 7, 2]</span></code> en utilisant le tri par sélection. Préciser les différentes étapes.</span>   \n",
    "<span style=\"color:blue\">2. Même travail avec la liste <code><span style=\"color:blue\">[7, 4, 3, 2, 9, 5].</span></code></span>  "
   ]
  },
  {
   "cell_type": "markdown",
   "metadata": {},
   "source": [
    "#### 2.3 Algorithme du tri par sélection<a id=\"algorithme-selection\"></a>\n",
    "Voici l'algorithme du tri par sélection, écrit de façon &laquo;concise&raquo; :\n",
    "<pre>\n",
    "procédure tri_selection(L[0..n]):\n",
    "    pour i de 0 à n-1\n",
    "        trouver l'indice i_min du minimum de L[i..n]\n",
    "        échanger L[i] et L[i_min]\n",
    "    fin pour\n",
    "</pre>"
   ]
  },
  {
   "cell_type": "markdown",
   "metadata": {},
   "source": [
    "#### 2.4 Implémentation en Python<a id=\"python-selection\"></a>\n",
    "##### <span style=\"color:blue\">Exercice 3</span>\n",
    "<span style=\"color:blue\">Écrire une fonction <code style=\"color:blue\">tri_selection(L)</code> qui trie une liste <code style=\"color:blue\">L</code> donnée en paramètre en utilisant le tri par sélection. On écrira deux fonctions &laquo;auxiliaires&raquo; <code style=\"color:blue\">indice_min(L, i)</code> et <code style=\"color:blue\">echange(L, i, j)</code>.</span>"
   ]
  },
  {
   "cell_type": "code",
   "execution_count": null,
   "metadata": {},
   "outputs": [],
   "source": [
    "# À vous de jouer !\n",
    "# Une fonction qui permet de trouver l'indice du minimum\n",
    "def indice_min(L, i):\n",
    "    \"\"\" Renvoie l'indice du minimum de la liste L[i:]\n",
    "    Entrées : une liste L et un indice i\n",
    "    Sortie : l'indice du minimum de la liste L[i:]\n",
    "    Par exemple :\n",
    "    >>> indice_min([1, 2, 5, 4, 3, 6], 2)\n",
    "    4\n",
    "    >>> indice_min([1, 5, 3, 6, 8, 2], 3)\n",
    "    5\n",
    "    \"\"\"\n",
    "    pass\n",
    "\n",
    "\n",
    "# Une fonction qui échange deux élements d'une liste L\n",
    "def echange(L, i, j):\n",
    "    \"\"\" Échange les éléments d'indices i et j de la liste L\"\"\"\n",
    "    pass\n",
    "    \n",
    "    \n",
    "def tri_selection(L):\n",
    "    pass\n",
    "\n",
    "# À essayer avec L = [7, 4, 3, 2, 9, 5] par exemple"
   ]
  },
  {
   "cell_type": "markdown",
   "metadata": {},
   "source": [
    "#### 2.5 Complexité et estimation du &laquo;coût&raquo;<a id=\"complexite-selection\"></a>\n",
    "Le tri par sélection est-il un tri &laquo;efficace&raquo; ? Pour se faire une idée de la réponse, on peut utiliser la fonction ```perf_counter``` du module ```time``` :\n",
    "\n",
    "```python\n",
    "from time import *\n",
    "debut = perf_counter()\n",
    "# Placer ici le code\n",
    "# dont on veut mesurer\n",
    "# le temps d'exécution\n",
    "fin = perf_counter()\n",
    "print(f\"Temps passé : {fin - debut} s.\")\n",
    "```\n",
    "\n",
    "Le code ci-dessous permet d'afficher les temps mis pour trier des listes d'entiers choisis au hasard, de tailles variables, avec le tri par sélection."
   ]
  },
  {
   "cell_type": "code",
   "execution_count": null,
   "metadata": {},
   "outputs": [],
   "source": [
    "from time import *\n",
    "from random import randint\n",
    "\n",
    "for n in [1000, 2000, 4000, 8000, 16000]:\n",
    "    L = [randint(1, 100000) for _ in range(n)]\n",
    "\n",
    "    debut = perf_counter()\n",
    "    tri_selection(L)\n",
    "    fin = perf_counter()\n",
    "    print(f\"Temps mis pour trier {n} entiers : {round(fin - debut, 2)} s.\")"
   ]
  },
  {
   "cell_type": "markdown",
   "metadata": {},
   "source": [
    "##### <span style=\"color:blue\">Exercice 4</span>\n",
    "<span style=\"color:blue\">1. Que constate-t-on lorsque la taille des données (c'est-à-dire le nombre d'entiers à trier) double ?</span>   \n",
    "<span style=\"color:blue\">2. Estimer le temps mis pour trier $250\\,000$ entiers puis $1\\,000\\,000$ d'entiers (sur la machine que vous êtes en train d'utiliser).</span>"
   ]
  },
  {
   "cell_type": "markdown",
   "metadata": {},
   "source": [
    "##### Estimation du &laquo;coût&raquo; de l'algorithme<a id=\"cout-selection\"></a>\n",
    "Dans sa première étape, le tri par sélection parcourt toute la liste à la recherche de la plus petite valeur, ce qui prend un temps proportionnel à la taille $n$ de la liste. Dans la deuxième étape, on parcourt $n-1$ cases à la recherche du plus petit élément, puis $n-2$ cases dans l'étape suivante, et ainsi de suite jusqu'à la dernière étape qui est immédiate car il n'y a plus qu'un seul élément. Au total, on a donc fait :\n",
    "\n",
    "$$n+(n-1)+(n-2)+\\dots+2+1$$\n",
    "\n",
    "c'est-à-dire $\\dfrac{n(n+1)}{2}$, soit de l'ordre de $n^2$ calculs élémentaires."
   ]
  },
  {
   "cell_type": "markdown",
   "metadata": {},
   "source": [
    "#### 2.6 Correction et terminaison<a id=\"correction-terminaison-selection\"></a>\n",
    "##### Terminaison de l'algorithme de tri par sélection\n",
    "En réécrivant la fonction ```tri_selection``` sans utiliser de fonction auxiliaire, on obtiendrait la fonction ci-dessous :"
   ]
  },
  {
   "cell_type": "code",
   "execution_count": null,
   "metadata": {},
   "outputs": [],
   "source": [
    "def tri_selection(L):\n",
    "    n = len(L)\n",
    "    for i in range(n-1):\n",
    "        i_min = i\n",
    "        for j in range(i+1, n):\n",
    "            if L[j] < L[i_min]:\n",
    "                i_min = j\n",
    "        L[i], L[i_min] = L[i_min], L[i]"
   ]
  },
  {
   "cell_type": "markdown",
   "metadata": {},
   "source": [
    "Il y a deux boucles ```for``` imbriquées donc le nombre de passages dans ces deux boucles est parfaitement déterminé, et il est évidemment fini, ce qui prouve la terminaison de l'algorithme."
   ]
  },
  {
   "cell_type": "markdown",
   "metadata": {},
   "source": [
    "##### Correction partielle (l'algorithme permet bien de trier la liste)\n",
    "On prouve la correction en utilisant un **invariant de boucle** : &laquo;après le ```i-ème``` passage dans la boucle, la liste ```L[0..i]``` est triée et tous ses éléments sont inférieurs ou égaux à ceux de la liste ```L[i+1..n]```.&raquo;\n",
    "\n",
    "*Remarque : attention, on a écrit cet invariant en utilisant les notations du paragraphe 2.3 et non la syntaxe Python.*"
   ]
  },
  {
   "cell_type": "markdown",
   "metadata": {},
   "source": [
    "### 3. Le tri par insertion (*insertion sort*)<a id=\"tri-par-insertion\"></a>\n",
    "\n",
    "#### 3.1 Principe<a id=\"principe-insertion\"></a>\n",
    "Il s'agit d'un algorithme de tri, souvent utilisé par les joueurs de cartes : on parcourt la liste de la gauche vers la droite et en maintenant une partie déjà triée sur la gauche :\n",
    "\n",
    "```\n",
    "|----------|----------------|\n",
    "|déjà triée|pas encore triée|\n",
    "|----------|----------------|\n",
    "```\n",
    "\n",
    "Mais plutôt que de chercher la plus petite valeur dans la partie non encore triée, le tri par insertion va *insérer* la première valeur non encore triée dans la partie gauche déjà triée. Pour cela, on va permuter cette valeur avec celle qui se trouve à sa gauche, tant que la valeur située à gauche est supérieure.\n",
    "\n",
    "##### <span style=\"color:blue\">Exercice 5</span>\n",
    "<span style=\"color:blue\">Faire un schéma illustrant le tri par insertion.</span>  "
   ]
  },
  {
   "cell_type": "markdown",
   "metadata": {},
   "source": [
    "#### 3.2 Quelques exemples<a id=\"exemples-insertion\"></a>\n",
    "On souhaite trier la liste ```[10, 9, 3, 1, 6]```.\n",
    "- <code>[<span style=\"color:red\">10</span>, <span style=\"color:blue\">9, 3, 1, 6</span>]</code> : la partie rouge comporte un élément et elle est donc triée. La partie en bleue n'est, pour l'instant, pas triée : son premier élément est ```9```.\n",
    "- <code>[<span style=\"color:red\">9, 10</span>, <span style=\"color:blue\">3, 1, 6</span>]</code> : on a permuté les valeurs ```9``` et ```10```. La première valeur de la partie non triée est maintenant ```3```.\n",
    "- <code>[<span style=\"color:red\">3, 9, 10</span>, <span style=\"color:blue\">1, 6</span>]</code> : on a permuté ```3``` et ```10``` puis ```3``` et ```9```. La première valeur de la partie non triée est maintenant ```1```.\n",
    "- <code>[<span style=\"color:red\">1, 3, 9, 10</span>, <span style=\"color:blue\">6</span>]</code> : on a permuté ```1``` et ```10``` puis ```1``` et ```9```, et enfin ```1``` et ```3```. La seule valeur de la partie non triée est maintenant ```6```.\n",
    "- <code>[<span style=\"color:red\">1, 3, 6, 9, 10</span>]</code> : on a permuté ```6``` et ```10``` puis ```6``` et ```9```. La liste est triée !"
   ]
  },
  {
   "cell_type": "markdown",
   "metadata": {},
   "source": [
    "#### 3.3 Algorithme du tri par insertion<a id=\"algorithme-insertion\"></a>\n",
    "Voici une écriture concise du tri par insertion :\n",
    "<pre>\n",
    "procédure tri_insertion(L[0..n]):\n",
    "    pour i de 1 à n\n",
    "        insérer L[i] dans la liste L[0..i-1]\n",
    "    fin pour\n",
    "</pre>"
   ]
  },
  {
   "cell_type": "markdown",
   "metadata": {},
   "source": [
    "#### 3.4 Implémentation en Python<a id=\"python-insertion\"></a>\n",
    "##### <span style=\"color:blue\">Exercice 6</span>\n",
    "<span style=\"color:blue\">Écrire une fonction <code style=\"color:blue\">tri_insertion(L)</code> qui trie une liste <code style=\"color:blue\">L</code> donnée en paramètre en utilisant le tri par insertion. On écrira une fonction &laquo;auxiliaire&raquo; <code style=\"color:blue\">indice_min(L, i, elt)</code>.</span>"
   ]
  },
  {
   "cell_type": "code",
   "execution_count": null,
   "metadata": {},
   "outputs": [],
   "source": [
    "# À vous de jouer !\n",
    "# Une fonction qui permet d'insérer un élément dans une liste triée\n",
    "def indice_min(L, i):\n",
    "    \"\"\" Insère L[i] dans la liste L[:i-1] (supposée triée) à la \"bonne place\"\n",
    "    Entrées : une liste L, un indice i telle que L[:i-1] soit triée,\n",
    "    \"\"\"\n",
    "    pass\n",
    "\n",
    "\n",
    "def tri_insertion(L):\n",
    "    pass\n",
    "\n",
    "# À essayer avec L = [7, 4, 3, 2, 9, 5] par exemple"
   ]
  },
  {
   "cell_type": "markdown",
   "metadata": {},
   "source": [
    "#### 3.5 Coût dans le pire des cas<a id=\"cout-insertion\"></a>"
   ]
  },
  {
   "cell_type": "markdown",
   "metadata": {},
   "source": [
    "##### <span style=\"color:blue\">Exercice 7</span>\n",
    "<span style=\"color:blue\">1. Décrire les étapes permettant de trier la liste <code style=\"color:blue\">[5, 4, 3, 2, 1]</code> en utilisant le tri par insertion.</span>   \n",
    "<span style=\"color:blue\">2. Que peut-on dire du tri par insertion lorsque la liste à trier se présente en ordre décroissant</code> ?</span>   \n",
    "<span style=\"color:blue\">3. Dans ce cas (liste qui se présente en ordre décroissant), en notant <code style=\"color:blue\">n</code> la taille de la liste, combien de permutations d'éléments sont nécessaires ?</span>"
   ]
  },
  {
   "cell_type": "markdown",
   "metadata": {},
   "source": [
    "#### 3.6 Correction partielle et terminaison<a id=\"correction-terminaison-insertion\"></a>\n",
    "En réécrivant la fonction ```tri_insertion``` sans utiliser de fonction auxiliaire, on obtiendrait la fonction ci-dessous :"
   ]
  },
  {
   "cell_type": "code",
   "execution_count": null,
   "metadata": {},
   "outputs": [],
   "source": [
    "def tri_insertion(L):\n",
    "    n = len(L)\n",
    "    for i in range(1, n):\n",
    "        j = i\n",
    "        while j > 0 and L[j] < L[j - 1]:\n",
    "            L[j], L[j-1] = L[j-1], L[j]\n",
    "            j = j - 1"
   ]
  },
  {
   "cell_type": "markdown",
   "metadata": {},
   "source": [
    "##### <span style=\"color:blue\">Exercice 8 &ndash; Terminaison de l'algorithme de tri par insertion</span>\n",
    "<span style=\"color:blue\">1. Que peut-on dire du nombre de passages dans la boucle <code style=\"color:blue\">for</code> ?</span>   \n",
    "<span style=\"color:blue\">2. La boucle interne est une boucle <code style=\"color:blue\">while</code>. Justifier qu'il y a au plus <code style=\"color:blue\">i</code> passages dans cette boucle <code style=\"color:blue\">while</code>.</span>   \n",
    "<span style=\"color:blue\">3. Que peut-on déduire des deux questions précédentes ?"
   ]
  },
  {
   "cell_type": "markdown",
   "metadata": {},
   "source": [
    "##### <span style=\"color:blue\">Exercice 9 &ndash; Correction partielle de l'algorithme de tri par insertion</span>\n",
    "<span style=\"color:blue\">On rappelle que le tri par insertion s'écrit :\n",
    "<pre style=\"color:blue\">\n",
    "procédure tri_insertion(L[0..n]):\n",
    "    pour i de 1 à n\n",
    "        insérer L[i] dans la liste L[0..i-1]\n",
    "    fin pour\n",
    "</pre>\n",
    "</span>\n",
    "    \n",
    "<span style=\"color:blue\">Donner un invariant qui prouve la correction partielle de l'algorithme de tri par insertion.</span>"
   ]
  },
  {
   "cell_type": "markdown",
   "metadata": {},
   "source": [
    "#### 3.7 Comparaison des tris par sélection et par insertion<a id=\"comparaison-selection-insertion\"></a>"
   ]
  },
  {
   "cell_type": "code",
   "execution_count": null,
   "metadata": {
    "scrolled": true
   },
   "outputs": [],
   "source": [
    "from time import *\n",
    "from random import randint\n",
    "\n",
    "for n in [1000, 2000, 4000, 8000, 16000]:\n",
    "    L = [randint(1, 100000) for _ in range(n)]\n",
    "    M = list(L) # permet d'avoir une copie \"indépendante\" de la liste L\n",
    "\n",
    "    debut = perf_counter()\n",
    "    tri_selection(L)\n",
    "    fin = perf_counter()\n",
    "    print(f\"Tri par sélection : Temps mis pour trier {n} entiers : {round(fin - debut, 2)} s.\")\n",
    "    \n",
    "    debut = perf_counter()\n",
    "    tri_insertion(M)\n",
    "    fin = perf_counter()\n",
    "    print(f\"Tri par insertion : Temps mis pour trier {n} entiers : {round(fin - debut, 2)} s.\\n\")"
   ]
  },
  {
   "cell_type": "markdown",
   "metadata": {},
   "source": [
    "### 4. Le tri en Python<a id=\"tri-python\"></a>"
   ]
  },
  {
   "cell_type": "markdown",
   "metadata": {},
   "source": [
    "On a vu que pour trier des listes de $n$ éléments à l'aide d'un tri par sélection ou d'un tri par insertion, il fallait effectuer &laquo;de l'ordre de $n^2$&raquo; opérations élémentaires.\n",
    "\n",
    "Python fournit des fonctions pour trier des listes qui sont plus efficaces que les tris par sélection et par insertion. Si ```L``` est une liste de nombres :\n",
    "- la fonction ```sorted``` renvoie une **nouvelle liste** triée dont les élements sont ceux de ```L``` (syntaxe : <code style=\"color:red\">sorted(L)</code>) ;\n",
    "- la fonction ```sort``` permet de trier la liste ```L``` en place c'est-à-dire que la liste ```L``` est modifiée (syntaxe : <code style=\"color:red\">L.sort()</code>)."
   ]
  },
  {
   "cell_type": "markdown",
   "metadata": {},
   "source": [
    "##### <span style=\"color:blue\">Exercice 10</span>\n",
    "<span style=\"color:blue\">1. Que fait le code de la cellule ci-dessous ?</span>   \n",
    "<span style=\"color:blue\">2. Que constate-t-on ?</span>"
   ]
  },
  {
   "cell_type": "code",
   "execution_count": null,
   "metadata": {},
   "outputs": [],
   "source": [
    "from time import *\n",
    "from random import randint\n",
    "\n",
    "n = 16000\n",
    "L = [randint(1, 100000) for _ in range(n)]\n",
    "\n",
    "debut = perf_counter()\n",
    "L.sort()\n",
    "fin = perf_counter()\n",
    "print(f\"Tri Python : Temps mis pour trier {n} entiers : {round(fin - debut, 5)} s.\")"
   ]
  },
  {
   "cell_type": "markdown",
   "metadata": {},
   "source": [
    "Le tri utilisé par Python nécessite &laquo;de l'ordre de $n\\log(n)$&raquo; opération où $\\log(n)$ est simplement le nombre de bits nécessaires pour écrire $n$ en binaire. Le graphique ci-dessous permet de se rendre compte de la plus grande efficacité du tri utilisé par Python."
   ]
  },
  {
   "cell_type": "code",
   "execution_count": null,
   "metadata": {},
   "outputs": [],
   "source": [
    "from math import log\n",
    "import matplotlib.pyplot as plt\n",
    "\n",
    "t = range(2, 50000, 100)\n",
    "y1 = [i ** 2 for i in t]\n",
    "y2 = [i * log(i, 2) for i in t]\n",
    "plt.xlabel(\"Nombre n d'éléments à trier\")\n",
    "plt.ylabel(\"Nombre d'opérations élémentaires\")\n",
    "plt.plot(t, y1, label=\"Tris par sélection/insertion\")\n",
    "plt.plot(t, y2, label=\"Tri Python\")\n",
    "plt.legend()\n",
    "plt.show()"
   ]
  }
 ],
 "metadata": {
  "kernelspec": {
   "display_name": "Python 3 (ipykernel)",
   "language": "python",
   "name": "python3"
  },
  "language_info": {
   "codemirror_mode": {
    "name": "ipython",
    "version": 3
   },
   "file_extension": ".py",
   "mimetype": "text/x-python",
   "name": "python",
   "nbconvert_exporter": "python",
   "pygments_lexer": "ipython3",
   "version": "3.10.10"
  }
 },
 "nbformat": 4,
 "nbformat_minor": 2
}
