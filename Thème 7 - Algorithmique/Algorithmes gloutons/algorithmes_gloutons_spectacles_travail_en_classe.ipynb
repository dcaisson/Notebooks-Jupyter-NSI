{
 "cells": [
  {
   "cell_type": "markdown",
   "metadata": {},
   "source": [
    "# Algorithmes gloutons &ndash; Organisation d'un festival &ndash; Fiche élève"
   ]
  },
  {
   "cell_type": "markdown",
   "metadata": {},
   "source": [
    "## Sommaire<a id=\"sommaire\"></a> \n",
    "[**1. Problème**](#probleme)  \n",
    "&nbsp;&nbsp;&nbsp;&nbsp;[1.1 Présentation du problème](#presentation-du-probleme)  \n",
    "&nbsp;&nbsp;&nbsp;&nbsp;[1.2 Conventions et vocabulaire](#conventions-et-vocabulaire)  \n",
    "[**2. Activité débranchée**](#activite-debranchee)  \n",
    "[**3. Plusieurs stratégies**](#plusieurs-strategies)  \n",
    "&nbsp;&nbsp;&nbsp;&nbsp;[3.1 Tri par durées croissantes](#tri-par-durees-croissantes)  \n",
    "&nbsp;&nbsp;&nbsp;&nbsp;[3.2 Tri par dates de début croissantes](#tri-par-dates-de-debut-croissantes)  \n",
    "&nbsp;&nbsp;&nbsp;&nbsp;[3.3 Tri par nombres d'incompatibilités croissants](#tri-par-nombres-incompatibilites-croissants)  \n",
    "&nbsp;&nbsp;&nbsp;&nbsp;[3.4 Tri par dates de fin croissantes](#tri-par-dates-de-fin-croissantes)  \n",
    "[**4. À retenir**](#a-retenir)  \n",
    "[**5. Un peu de Python...**](#python)  \n",
    "[**Licence**](#licence) "
   ]
  },
  {
   "cell_type": "markdown",
   "metadata": {},
   "source": [
    "## 1. Problème<a id=\"probleme\"></a>"
   ]
  },
  {
   "cell_type": "markdown",
   "metadata": {},
   "source": [
    " [Retour au sommaire](#sommaire) "
   ]
  },
  {
   "cell_type": "markdown",
   "metadata": {},
   "source": [
    "### 1.1 Présentation du problème<a id=\"presentation-du-probleme\"></a>"
   ]
  },
  {
   "cell_type": "markdown",
   "metadata": {},
   "source": [
    " [Retour au sommaire](#sommaire) "
   ]
  },
  {
   "cell_type": "markdown",
   "metadata": {},
   "source": [
    "Un organisateur de festival dispose d'une seule scène qu'il veut utiliser pour présenter des spectacles. À un moment donné, un seul spectacle peut donc avoir lieu.  \n",
    "\n",
    "L'organisateur reçoit des propositions multiples de groupes qu'il collecte dans un tableur. Il note le nom des groupes, l'heure de début de leur spectacle et l'heure de fin.  \n",
    "\n",
    "**Comment cet organisateur peut-il s'organiser pour rendre maximal le nombre de spectacles présentés ?**"
   ]
  },
  {
   "cell_type": "markdown",
   "metadata": {},
   "source": [
    "### 1.2 Conventions et vocabulaire<a id=\"conventions-et-vocabulaire\"></a>"
   ]
  },
  {
   "cell_type": "markdown",
   "metadata": {},
   "source": [
    " [Retour au sommaire](#sommaire) "
   ]
  },
  {
   "cell_type": "markdown",
   "metadata": {},
   "source": [
    "Dans cette fiche :  \n",
    "- on écrira 800 pour parler de 8h00 et 1832 pour parler de 18h32 ;  \n",
    "- un spectacle dont l'heure de début est 12h00 et l'heure de fin 13h00 aura lieu sur l'intervalle $[1200;1300[$ et on dira qu'il est **compatible** avec un spectacle commençant à 13h00."
   ]
  },
  {
   "cell_type": "markdown",
   "metadata": {},
   "source": [
    "## 2. Activité débranchée<a id=\"activite-debranchee\"></a>"
   ]
  },
  {
   "cell_type": "markdown",
   "metadata": {},
   "source": [
    " [Retour au sommaire](#sommaire) "
   ]
  },
  {
   "cell_type": "markdown",
   "metadata": {},
   "source": [
    "<font style=\"color:rgb(113,65,224)\">**Exercice 1**  \n",
    "1. Découper la bande (disponible sur Moodle) représentant le temps entre 8h00 et 22h00 et les rectangles représentant les douze spectacles.  \n",
    "2. Essayer de placer le maximum de spectacles sur la ligne du temps.  \n",
    "</font>"
   ]
  },
  {
   "cell_type": "markdown",
   "metadata": {},
   "source": [
    "## 3. Plusieurs stratégies<a id=\"plusieurs-strategies\"></a>"
   ]
  },
  {
   "cell_type": "markdown",
   "metadata": {},
   "source": [
    " [Retour au sommaire](#sommaire) "
   ]
  },
  {
   "cell_type": "markdown",
   "metadata": {},
   "source": [
    "On peut envisager plusieurs stratégies :"
   ]
  },
  {
   "cell_type": "markdown",
   "metadata": {},
   "source": [
    "### 3.1 Tri par durées croissantes<a id=\"tri-par-durees-croissantes\"></a>"
   ]
  },
  {
   "cell_type": "markdown",
   "metadata": {},
   "source": [
    " [Retour au sommaire](#sommaire) "
   ]
  },
  {
   "cell_type": "markdown",
   "metadata": {},
   "source": [
    "<font style=\"color:rgb(113,65,224)\">**Exercice 2**  \n",
    "Une première méthode consiste à prendre les spectacles par ordre croissant de durée. On peut en effet raisonnablement penser que planifier d'abord les spectacles les plus courts laissera plus de temps pour les autres.  \n",
    "1. Quel planning produit cette stratégie gloutonne ?  \n",
    "2. Combien de spectacles la scène accueillera-t-elle ?\n",
    "</font> "
   ]
  },
  {
   "cell_type": "markdown",
   "metadata": {},
   "source": [
    "### 3.2 Tri par dates de début croissantes<a id=\"tri-par-dates-de-debut-croissantes\"></a>"
   ]
  },
  {
   "cell_type": "markdown",
   "metadata": {},
   "source": [
    " [Retour au sommaire](#sommaire) "
   ]
  },
  {
   "cell_type": "markdown",
   "metadata": {},
   "source": [
    "<font style=\"color:rgb(113,65,224)\">**Exercice 3**  \n",
    "Une deuxième méthode est de considérer les spectacles par ordre croissant de leur heure de début, l'idée étant de commencer au plus vite un nouveau spectacle. Le choix glouton consiste à prendre à chaque étape le spectacle commençant le plus tôt, à condition qu'il soit compatible avec ceux déjà planifiés.\n",
    "1. Quel planning produit cette stratégie gloutonne ?  \n",
    "2. Combien de spectacles la scène accueillera-t-elle ?\n",
    "</font> "
   ]
  },
  {
   "cell_type": "markdown",
   "metadata": {},
   "source": [
    "### 3.3 Tri par nombres d'incompatibilités croissants<a id=\"tri-par-nombres-incompatibilites-croissants\"></a>"
   ]
  },
  {
   "cell_type": "markdown",
   "metadata": {},
   "source": [
    " [Retour au sommaire](#sommaire) "
   ]
  },
  {
   "cell_type": "markdown",
   "metadata": {},
   "source": [
    "<font style=\"color:rgb(113,65,224)\">**Exercice 4**  \n",
    "Une troisième possibilité revient à prendre les spectacles par ordre croissant de leurs incompatibilités. Procéder ainsi permet de privilégier les spectacles qui &laquo; gênent &raquo; le moins, et donc d'avoir moins de contraintes pour planifier les autres.\n",
    "1. Quel planning produit cette stratégie gloutonne ?  \n",
    "2. Combien de spectacles la scène accueillera-t-elle ?\n",
    "</font> "
   ]
  },
  {
   "cell_type": "markdown",
   "metadata": {},
   "source": [
    "### 3.4 Tri par dates de fin croissantes<a id=\"tri-par-dates-de-fin-croissantes\"></a>"
   ]
  },
  {
   "cell_type": "markdown",
   "metadata": {},
   "source": [
    " [Retour au sommaire](#sommaire) "
   ]
  },
  {
   "cell_type": "markdown",
   "metadata": {},
   "source": [
    "<font style=\"color:rgb(113,65,224)\">**Exercice 5**  \n",
    "La dernière stratégie envisagée consiste à laisser le plus de temps possible après la planification d'un spectacle. On considère donc les spectacles par ordre croissant de leur heure de fin.  \n",
    "1. Quel planning produit cette stratégie gloutonne ?  \n",
    "2. Combien de spectacles la scène accueillera-t-elle ?\n",
    "</font> "
   ]
  },
  {
   "cell_type": "markdown",
   "metadata": {},
   "source": [
    "## 4. À retenir<a id=\"a-retenir\"></a>"
   ]
  },
  {
   "cell_type": "markdown",
   "metadata": {},
   "source": [
    " [Retour au sommaire](#sommaire) "
   ]
  },
  {
   "cell_type": "markdown",
   "metadata": {},
   "source": [
    "On admettra que <font style=\"color:red\">cette dernière stratégie est optimale.</font> "
   ]
  },
  {
   "cell_type": "markdown",
   "metadata": {},
   "source": [
    "## 5. Un peu de Python... <a id=\"python\"></a>"
   ]
  },
  {
   "cell_type": "markdown",
   "metadata": {},
   "source": [
    " [Retour au sommaire](#sommaire) "
   ]
  },
  {
   "cell_type": "markdown",
   "metadata": {},
   "source": [
    "<font style=\"color:rgb(113,65,224)\">**Exercice 6**  \n",
    "On décide de représenter chaque spectacle par un dictionnaire ayant pour clés :  \n",
    "- ``\"nom\"`` (la valeur associée est une chaîne de caractères); \n",
    "- ``\"début\"`` (la valeur associée est un entier);  \n",
    "- ``\"fin\"`` (la valeur associée est un entier).  \n",
    "    \n",
    "Écrire une fonction ``sont_compatibles(spectacle_1, spectacle_2)`` qui prend deux spectacles en paramètres et qui renvoie ``True`` si les deux spectacles sont compatibles et ``False`` sinon.\n",
    "</font> "
   ]
  },
  {
   "cell_type": "code",
   "execution_count": 5,
   "metadata": {},
   "outputs": [],
   "source": [
    "aminata = {\"nom\": \"Aminata\", \"début\": 1800, \"fin\": 2000}\n",
    "bal = {\"nom\": \"Bal\", \"début\": 915, \"fin\": 1015}\n",
    "desiderata = {\"nom\": \"Desiderata\", \"début\": 815, \"fin\": 945}"
   ]
  },
  {
   "cell_type": "code",
   "execution_count": 6,
   "metadata": {},
   "outputs": [],
   "source": [
    "# À vous de jouer !\n",
    "def sont_compatibles(spectacle_1, spectacle_2):\n",
    "    compatibles = False\n",
    "    if spectacle_1[\"fin\"] <= spectacle_2[\"début\"]:\n",
    "        compatibles = True\n",
    "    if spectacle_2[\"fin\"] <= spectacle_1[\"début\"]:\n",
    "        compatibles = True\n",
    "    return compatibles"
   ]
  },
  {
   "cell_type": "code",
   "execution_count": 7,
   "metadata": {},
   "outputs": [],
   "source": [
    "# Tests\n",
    "assert sont_compatibles(aminata, bal) == True\n",
    "assert sont_compatibles(bal, desiderata) == False"
   ]
  },
  {
   "cell_type": "code",
   "execution_count": 8,
   "metadata": {},
   "outputs": [],
   "source": [
    "# Version \"Python\"\n",
    "def sont_compatibles_python(spectacle_1, spectacle_2):\n",
    "    return True if (spectacle_1[\"fin\"] <= spectacle_2[\"début\"] or spectacle_2[\"fin\"] <= spectacle_1[\"début\"]) else False"
   ]
  },
  {
   "cell_type": "code",
   "execution_count": 9,
   "metadata": {},
   "outputs": [],
   "source": [
    "# Tests\n",
    "assert sont_compatibles_python(aminata, bal) == True\n",
    "assert sont_compatibles_python(bal, desiderata) == False"
   ]
  },
  {
   "cell_type": "markdown",
   "metadata": {},
   "source": [
    "<font style=\"color:rgb(113,65,224)\">**Exercice 7**  \n",
    "Écrire une fonction ``planification(fichier_csv)`` qui prend en entrée :\n",
    "- un fichier CSV ``fichier_csv`` (chaîne de caractères) contenant la liste des spectacles (ainsi que leur heure de début et leur heure de fin) ;\n",
    "et qui renvoie :\n",
    "- la liste des spectacles retenus avec la stratégie 4, chaque spectacle étant représenté par un dictionnaire dont les clés sont ``\"nom\"``, ``\"début\"`` et ``\"fin\"``.\n",
    "</font> "
   ]
  },
  {
   "cell_type": "code",
   "execution_count": 24,
   "metadata": {},
   "outputs": [],
   "source": [
    "# À vous de jouer !\n",
    "import csv\n",
    "\n",
    "\n",
    "def planification(fichier_csv):\n",
    "    # on récupère la liste des spectacles\n",
    "    # (c'est une liste de dictionnaires)\n",
    "    with open(fichier_csv, \"r\", encoding=\"utf-8\") as fichier:\n",
    "        spectacles = list(csv.DictReader(fichier, delimiter=\";\"))\n",
    "    # on trie les spectacles par dates de fin croissantes\n",
    "    spectacles_tries = sorted(spectacles, key=lambda spectacle: int(spectacle[\"fin\"]))\n",
    "    # on répond problème posé\n",
    "    spectacles_retenus = [spectacles_tries[0]]\n",
    "    for i in range(1, len(spectacles_tries)):\n",
    "        # si le spectacle considéré débute après la fin du dernier spectacle retenu\n",
    "        if int(spectacles_tries[i][\"début\"]) >= int(spectacles_retenus[-1][\"fin\"]):\n",
    "            spectacles_retenus.append(spectacles_tries[i])\n",
    "    return spectacles_retenus"
   ]
  },
  {
   "cell_type": "markdown",
   "metadata": {},
   "source": [
    "<font style=\"color:rgb(113,65,224)\">**Exercice 8**  \n",
    "Essayer la fonction avec le fichier ``12_spectacles.csv`` qui contient la liste des spectacles des paragraphes précédents.\n",
    "</font> "
   ]
  },
  {
   "cell_type": "code",
   "execution_count": 25,
   "metadata": {
    "scrolled": true
   },
   "outputs": [
    {
     "data": {
      "text/plain": [
       "[{'nom': 'Desiderata', 'début': '815', 'fin': '945'},\n",
       " {'nom': 'Gag', 'début': '1000', 'fin': '1200'},\n",
       " {'nom': 'Hollow', 'début': '1215', 'fin': '1445'},\n",
       " {'nom': 'Carmen', 'début': '1500', 'fin': '1700'},\n",
       " {'nom': 'Aminata', 'début': '1800', 'fin': '2000'},\n",
       " {'nom': 'Laius', 'début': '2015', 'fin': '2200'}]"
      ]
     },
     "execution_count": 25,
     "metadata": {},
     "output_type": "execute_result"
    }
   ],
   "source": [
    "# À vous de jouer !\n",
    "planification(\"12_spectacles.csv\")"
   ]
  },
  {
   "cell_type": "markdown",
   "metadata": {},
   "source": [
    "<font style=\"color:rgb(113,65,224)\">**Exercice 9**  \n",
    "Essayer la fonction avec le fichier ``3000_spectacles.csv`` qui contient 3000 &laquo; spectacles &raquo;.\n",
    "</font> "
   ]
  },
  {
   "cell_type": "code",
   "execution_count": 26,
   "metadata": {
    "scrolled": true
   },
   "outputs": [
    {
     "data": {
      "text/plain": [
       "[{'nom': '1259', 'début': '800', 'fin': '806'},\n",
       " {'nom': '1850', 'début': '809', 'fin': '814'},\n",
       " {'nom': '1255', 'début': '817', 'fin': '817'},\n",
       " {'nom': '2604', 'début': '821', 'fin': '823'},\n",
       " {'nom': '2480', 'début': '825', 'fin': '826'},\n",
       " {'nom': '653', 'début': '826', 'fin': '829'},\n",
       " {'nom': '1005', 'début': '829', 'fin': '832'},\n",
       " {'nom': '2005', 'début': '832', 'fin': '833'},\n",
       " {'nom': '1785', 'début': '833', 'fin': '835'},\n",
       " {'nom': '2672', 'début': '840', 'fin': '840'},\n",
       " {'nom': '968', 'début': '840', 'fin': '843'},\n",
       " {'nom': '631', 'début': '844', 'fin': '844'},\n",
       " {'nom': '949', 'début': '845', 'fin': '849'},\n",
       " {'nom': '1786', 'début': '849', 'fin': '852'},\n",
       " {'nom': '286', 'début': '852', 'fin': '858'},\n",
       " {'nom': '1904', 'début': '858', 'fin': '903'},\n",
       " {'nom': '987', 'début': '907', 'fin': '910'},\n",
       " {'nom': '1550', 'début': '914', 'fin': '914'},\n",
       " {'nom': '1843', 'début': '914', 'fin': '916'},\n",
       " {'nom': '832', 'début': '918', 'fin': '921'},\n",
       " {'nom': '327', 'début': '924', 'fin': '930'},\n",
       " {'nom': '439', 'début': '930', 'fin': '936'},\n",
       " {'nom': '2105', 'début': '937', 'fin': '938'},\n",
       " {'nom': '1720', 'début': '942', 'fin': '948'},\n",
       " {'nom': '2285', 'début': '948', 'fin': '956'},\n",
       " {'nom': '1128', 'début': '958', 'fin': '960'},\n",
       " {'nom': '2278', 'début': '960', 'fin': '1001'},\n",
       " {'nom': '125', 'début': '1002', 'fin': '1003'},\n",
       " {'nom': '961', 'début': '1004', 'fin': '1004'},\n",
       " {'nom': '1279', 'début': '1005', 'fin': '1005'},\n",
       " {'nom': '896', 'début': '1007', 'fin': '1010'},\n",
       " {'nom': '1432', 'début': '1010', 'fin': '1013'},\n",
       " {'nom': '1851', 'début': '1013', 'fin': '1014'},\n",
       " {'nom': '60', 'début': '1014', 'fin': '1020'},\n",
       " {'nom': '2019', 'début': '1027', 'fin': '1028'},\n",
       " {'nom': '1300', 'début': '1035', 'fin': '1039'},\n",
       " {'nom': '1426', 'début': '1041', 'fin': '1042'},\n",
       " {'nom': '345', 'début': '1049', 'fin': '1049'},\n",
       " {'nom': '568', 'début': '1051', 'fin': '1052'},\n",
       " {'nom': '95', 'début': '1053', 'fin': '1057'},\n",
       " {'nom': '244', 'début': '1058', 'fin': '1104'},\n",
       " {'nom': '420', 'début': '1109', 'fin': '1109'},\n",
       " {'nom': '1449', 'début': '1109', 'fin': '1109'},\n",
       " {'nom': '553', 'début': '1111', 'fin': '1113'},\n",
       " {'nom': '602', 'début': '1119', 'fin': '1119'},\n",
       " {'nom': '33', 'début': '1127', 'fin': '1128'},\n",
       " {'nom': '1288', 'début': '1131', 'fin': '1132'},\n",
       " {'nom': '1848', 'début': '1132', 'fin': '1132'},\n",
       " {'nom': '947', 'début': '1136', 'fin': '1137'},\n",
       " {'nom': '2098', 'début': '1137', 'fin': '1143'},\n",
       " {'nom': '859', 'début': '1151', 'fin': '1151'},\n",
       " {'nom': '43', 'début': '1153', 'fin': '1200'},\n",
       " {'nom': '2208', 'début': '1203', 'fin': '1208'},\n",
       " {'nom': '1815', 'début': '1209', 'fin': '1209'},\n",
       " {'nom': '1773', 'début': '1214', 'fin': '1217'},\n",
       " {'nom': '996', 'début': '1223', 'fin': '1224'},\n",
       " {'nom': '2259', 'début': '1225', 'fin': '1226'},\n",
       " {'nom': '2744', 'début': '1230', 'fin': '1231'},\n",
       " {'nom': '2778', 'début': '1233', 'fin': '1238'},\n",
       " {'nom': '2139', 'début': '1239', 'fin': '1243'},\n",
       " {'nom': '316', 'début': '1245', 'fin': '1245'},\n",
       " {'nom': '399', 'début': '1251', 'fin': '1252'},\n",
       " {'nom': '2659', 'début': '1252', 'fin': '1255'},\n",
       " {'nom': 'Quartet', 'début': '1255', 'fin': '1301'},\n",
       " {'nom': '2723', 'début': '1308', 'fin': '1310'},\n",
       " {'nom': '1240', 'début': '1311', 'fin': '1313'},\n",
       " {'nom': '1221', 'début': '1321', 'fin': '1322'},\n",
       " {'nom': '1435', 'début': '1328', 'fin': '1334'},\n",
       " {'nom': '597', 'début': '1339', 'fin': '1343'},\n",
       " {'nom': '2137', 'début': '1344', 'fin': '1345'},\n",
       " {'nom': '1126', 'début': '1350', 'fin': '1350'},\n",
       " {'nom': '1165', 'début': '1353', 'fin': '1354'},\n",
       " {'nom': '2442', 'début': '1354', 'fin': '1360'},\n",
       " {'nom': '1471', 'début': '1401', 'fin': '1402'},\n",
       " {'nom': '1934', 'début': '1402', 'fin': '1402'},\n",
       " {'nom': '1586', 'début': '1402', 'fin': '1407'},\n",
       " {'nom': '2131', 'début': '1412', 'fin': '1412'},\n",
       " {'nom': '1057', 'début': '1414', 'fin': '1417'},\n",
       " {'nom': '1303', 'début': '1417', 'fin': '1418'},\n",
       " {'nom': '753', 'début': '1418', 'fin': '1419'},\n",
       " {'nom': '738', 'début': '1420', 'fin': '1421'},\n",
       " {'nom': '592', 'début': '1422', 'fin': '1422'},\n",
       " {'nom': '1109', 'début': '1424', 'fin': '1425'},\n",
       " {'nom': '2673', 'début': '1427', 'fin': '1427'},\n",
       " {'nom': '1627', 'début': '1434', 'fin': '1437'},\n",
       " {'nom': '1675', 'début': '1444', 'fin': '1444'},\n",
       " {'nom': '931', 'début': '1447', 'fin': '1447'},\n",
       " {'nom': '2307', 'début': '1447', 'fin': '1451'},\n",
       " {'nom': '270', 'début': '1456', 'fin': '1458'},\n",
       " {'nom': '2846', 'début': '1460', 'fin': '1500'},\n",
       " {'nom': '2117', 'début': '1502', 'fin': '1506'},\n",
       " {'nom': '2645', 'début': '1508', 'fin': '1510'},\n",
       " {'nom': '108', 'début': '1510', 'fin': '1511'},\n",
       " {'nom': '1637', 'début': '1514', 'fin': '1517'},\n",
       " {'nom': '2840', 'début': '1518', 'fin': '1519'},\n",
       " {'nom': '2127', 'début': '1523', 'fin': '1529'},\n",
       " {'nom': '2819', 'début': '1529', 'fin': '1532'},\n",
       " {'nom': '2383', 'début': '1536', 'fin': '1536'},\n",
       " {'nom': '2714', 'début': '1541', 'fin': '1541'},\n",
       " {'nom': '2316', 'début': '1548', 'fin': '1549'},\n",
       " {'nom': '1158', 'début': '1549', 'fin': '1551'},\n",
       " {'nom': '2146', 'début': '1552', 'fin': '1554'},\n",
       " {'nom': '398', 'début': '1554', 'fin': '1556'},\n",
       " {'nom': '1289', 'début': '1601', 'fin': '1603'},\n",
       " {'nom': '2783', 'début': '1607', 'fin': '1607'},\n",
       " {'nom': '958', 'début': '1610', 'fin': '1612'},\n",
       " {'nom': '1898', 'début': '1613', 'fin': '1621'},\n",
       " {'nom': '1501', 'début': '1622', 'fin': '1625'},\n",
       " {'nom': '1962', 'début': '1630', 'fin': '1631'},\n",
       " {'nom': '2240', 'début': '1633', 'fin': '1634'},\n",
       " {'nom': '689', 'début': '1636', 'fin': '1636'},\n",
       " {'nom': '468', 'début': '1639', 'fin': '1643'},\n",
       " {'nom': '2916', 'début': '1644', 'fin': '1644'},\n",
       " {'nom': '945', 'début': '1646', 'fin': '1648'},\n",
       " {'nom': '789', 'début': '1649', 'fin': '1649'},\n",
       " {'nom': '1306', 'début': '1651', 'fin': '1652'},\n",
       " {'nom': '786', 'début': '1652', 'fin': '1660'},\n",
       " {'nom': '994', 'début': '1701', 'fin': '1701'},\n",
       " {'nom': '68', 'début': '1703', 'fin': '1706'},\n",
       " {'nom': '15', 'début': '1710', 'fin': '1714'},\n",
       " {'nom': '72', 'début': '1721', 'fin': '1722'},\n",
       " {'nom': '2093', 'début': '1727', 'fin': '1730'},\n",
       " {'nom': '2838', 'début': '1732', 'fin': '1735'},\n",
       " {'nom': '1774', 'début': '1735', 'fin': '1737'},\n",
       " {'nom': '837', 'début': '1740', 'fin': '1741'},\n",
       " {'nom': '1042', 'début': '1743', 'fin': '1749'},\n",
       " {'nom': '2136', 'début': '1754', 'fin': '1754'},\n",
       " {'nom': '1710', 'début': '1757', 'fin': '1802'},\n",
       " {'nom': '667', 'début': '1806', 'fin': '1806'},\n",
       " {'nom': '241', 'début': '1815', 'fin': '1815'},\n",
       " {'nom': '2068', 'début': '1824', 'fin': '1824'},\n",
       " {'nom': '613', 'début': '1831', 'fin': '1832'},\n",
       " {'nom': '27', 'début': '1838', 'fin': '1839'},\n",
       " {'nom': '2023', 'début': '1839', 'fin': '1840'},\n",
       " {'nom': '1098', 'début': '1841', 'fin': '1843'},\n",
       " {'nom': '1011', 'début': '1843', 'fin': '1845'},\n",
       " {'nom': '2902', 'début': '1847', 'fin': '1849'},\n",
       " {'nom': '1161', 'début': '1853', 'fin': '1854'},\n",
       " {'nom': '1154', 'début': '1855', 'fin': '1856'},\n",
       " {'nom': '459', 'début': '1857', 'fin': '1858'},\n",
       " {'nom': '1358', 'début': '1901', 'fin': '1902'},\n",
       " {'nom': '2142', 'début': '1906', 'fin': '1906'},\n",
       " {'nom': '2331', 'début': '1911', 'fin': '1914'},\n",
       " {'nom': '490', 'début': '1915', 'fin': '1915'},\n",
       " {'nom': '734', 'début': '1916', 'fin': '1918'},\n",
       " {'nom': '1016', 'début': '1919', 'fin': '1919'},\n",
       " {'nom': '1188', 'début': '1919', 'fin': '1924'},\n",
       " {'nom': '204', 'début': '1925', 'fin': '1926'},\n",
       " {'nom': '1776', 'début': '1926', 'fin': '1928'},\n",
       " {'nom': '1360', 'début': '1932', 'fin': '1933'},\n",
       " {'nom': '1696', 'début': '1934', 'fin': '1938'},\n",
       " {'nom': '1930', 'début': '1943', 'fin': '1944'},\n",
       " {'nom': '1834', 'début': '1946', 'fin': '1946'},\n",
       " {'nom': '980', 'début': '1948', 'fin': '1954'},\n",
       " {'nom': '601', 'début': '1954', 'fin': '2000'},\n",
       " {'nom': '1247', 'début': '2001', 'fin': '2001'},\n",
       " {'nom': '1074', 'début': '2001', 'fin': '2009'},\n",
       " {'nom': '2090', 'début': '2009', 'fin': '2011'},\n",
       " {'nom': '2265', 'début': '2012', 'fin': '2013'},\n",
       " {'nom': '2203', 'début': '2013', 'fin': '2015'},\n",
       " {'nom': '305', 'début': '2019', 'fin': '2023'},\n",
       " {'nom': '1246', 'début': '2023', 'fin': '2028'},\n",
       " {'nom': '798', 'début': '2029', 'fin': '2029'},\n",
       " {'nom': '2154', 'début': '2029', 'fin': '2031'},\n",
       " {'nom': '1258', 'début': '2032', 'fin': '2035'},\n",
       " {'nom': '2314', 'début': '2039', 'fin': '2042'},\n",
       " {'nom': '2884', 'début': '2044', 'fin': '2045'},\n",
       " {'nom': '176', 'début': '2047', 'fin': '2047'},\n",
       " {'nom': '1351', 'début': '2051', 'fin': '2053'},\n",
       " {'nom': '976', 'début': '2053', 'fin': '2055'},\n",
       " {'nom': '40', 'début': '2060', 'fin': '2100'},\n",
       " {'nom': '381', 'début': '2104', 'fin': '2104'},\n",
       " {'nom': '2663', 'début': '2108', 'fin': '2111'},\n",
       " {'nom': '91', 'début': '2113', 'fin': '2119'},\n",
       " {'nom': '2486', 'début': '2119', 'fin': '2122'},\n",
       " {'nom': '1698', 'début': '2122', 'fin': '2127'},\n",
       " {'nom': '1138', 'début': '2129', 'fin': '2131'},\n",
       " {'nom': '1642', 'début': '2132', 'fin': '2137'},\n",
       " {'nom': '2588', 'début': '2137', 'fin': '2140'},\n",
       " {'nom': '443', 'début': '2141', 'fin': '2141'},\n",
       " {'nom': '310', 'début': '2144', 'fin': '2145'},\n",
       " {'nom': '281', 'début': '2146', 'fin': '2151'},\n",
       " {'nom': '524', 'début': '2154', 'fin': '2160'},\n",
       " {'nom': '544', 'début': '2160', 'fin': '2219'}]"
      ]
     },
     "execution_count": 26,
     "metadata": {},
     "output_type": "execute_result"
    }
   ],
   "source": [
    "# À vous de jouer !\n",
    "planification(\"3000_spectacles.csv\")"
   ]
  },
  {
   "cell_type": "markdown",
   "metadata": {},
   "source": [
    "<a rel=\"license\" href=\"http://creativecommons.org/licenses/by-nc-sa/4.0/\"><img alt=\"Licence Creative Commons\" style=\"border-width:0\" src=\"https://i.creativecommons.org/l/by-nc-sa/4.0/88x31.png\" /></a><br />Ce(tte) œuvre est mise à disposition selon les termes de la <a rel=\"license\" href=\"http://creativecommons.org/licenses/by-nc-sa/4.0/\">Licence Creative Commons Attribution - Pas d’Utilisation Commerciale - Partage dans les Mêmes Conditions 4.0 International</a>.<a id=\"licence\"></a>"
   ]
  }
 ],
 "metadata": {
  "finalized": {
   "timestamp": 1618448989742,
   "trusted": true
  },
  "kernelspec": {
   "display_name": "Python 3 (ipykernel)",
   "language": "python",
   "name": "python3"
  },
  "language_info": {
   "codemirror_mode": {
    "name": "ipython",
    "version": 3
   },
   "file_extension": ".py",
   "mimetype": "text/x-python",
   "name": "python",
   "nbconvert_exporter": "python",
   "pygments_lexer": "ipython3",
   "version": "3.8.13"
  },
  "latex_envs": {
   "LaTeX_envs_menu_present": true,
   "autoclose": false,
   "autocomplete": true,
   "bibliofile": "biblio.bib",
   "cite_by": "apalike",
   "current_citInitial": 1,
   "eqLabelWithNumbers": true,
   "eqNumInitial": 1,
   "hotkeys": {
    "equation": "Ctrl-E",
    "itemize": "Ctrl-I"
   },
   "labels_anchors": false,
   "latex_user_defs": false,
   "report_style_numbering": false,
   "user_envs_cfg": false
  }
 },
 "nbformat": 4,
 "nbformat_minor": 2
}
