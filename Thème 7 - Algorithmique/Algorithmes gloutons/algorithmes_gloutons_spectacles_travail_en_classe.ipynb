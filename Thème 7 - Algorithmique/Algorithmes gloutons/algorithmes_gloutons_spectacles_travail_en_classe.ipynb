{
 "cells": [
  {
   "cell_type": "markdown",
   "metadata": {},
   "source": [
    "# Algorithmes gloutons &ndash; Organisation d'un festival &ndash; Fiche élève"
   ]
  },
  {
   "cell_type": "markdown",
   "metadata": {},
   "source": [
    "## Sommaire<a id=\"sommaire\"></a> \n",
    "[**1. Problème**](#probleme)  \n",
    "&nbsp;&nbsp;&nbsp;&nbsp;[1.1 Présentation du problème](#presentation-du-probleme)  \n",
    "&nbsp;&nbsp;&nbsp;&nbsp;[1.2 Conventions et vocabulaire](#conventions-et-vocabulaire)  \n",
    "[**2. Activité débranchée**](#activite-debranchee)  \n",
    "[**3. Plusieurs stratégies**](#plusieurs-strategies)  \n",
    "&nbsp;&nbsp;&nbsp;&nbsp;[3.1 Tri par durées croissantes](#tri-par-durees-croissantes)  \n",
    "&nbsp;&nbsp;&nbsp;&nbsp;[3.2 Tri par dates de début croissantes](#tri-par-dates-de-debut-croissantes)  \n",
    "&nbsp;&nbsp;&nbsp;&nbsp;[3.3 Tri par nombres d'incompatibilités croissants](#tri-par-nombres-incompatibilites-croissants)  \n",
    "&nbsp;&nbsp;&nbsp;&nbsp;[3.4 Tri par dates de fin croissantes](#tri-par-dates-de-fin-croissantes)  \n",
    "[**4. À retenir**](#a-retenir)  \n",
    "[**5. Un peu de Python...**](#python)  \n",
    "[**Licence**](#licence) "
   ]
  },
  {
   "cell_type": "markdown",
   "metadata": {},
   "source": [
    "## 1. Problème<a id=\"probleme\"></a>"
   ]
  },
  {
   "cell_type": "markdown",
   "metadata": {},
   "source": [
    " [Retour au sommaire](#sommaire) "
   ]
  },
  {
   "cell_type": "markdown",
   "metadata": {},
   "source": [
    "### 1.1 Présentation du problème<a id=\"presentation-du-probleme\"></a>"
   ]
  },
  {
   "cell_type": "markdown",
   "metadata": {},
   "source": [
    " [Retour au sommaire](#sommaire) "
   ]
  },
  {
   "cell_type": "markdown",
   "metadata": {},
   "source": [
    "Un organisateur de festival dispose d'une seule scène qu'il veut utiliser pour présenter des spectacles. À un moment donné, un seul spectacle peut donc avoir lieu.  \n",
    "\n",
    "L'organisateur reçoit des propositions multiples de groupes qu'il collecte dans un tableur. Il note le nom des groupes, l'heure de début de leur spectacle et l'heure de fin.  \n",
    "\n",
    "**Comment cet organisateur peut-il s'organiser pour rendre maximal le nombre de spectacles présentés ?**"
   ]
  },
  {
   "cell_type": "markdown",
   "metadata": {},
   "source": [
    "### 1.2 Conventions et vocabulaire<a id=\"conventions-et-vocabulaire\"></a>"
   ]
  },
  {
   "cell_type": "markdown",
   "metadata": {},
   "source": [
    " [Retour au sommaire](#sommaire) "
   ]
  },
  {
   "cell_type": "markdown",
   "metadata": {},
   "source": [
    "Dans cette fiche :  \n",
    "- on écrira 800 pour parler de 8h00 et 1832 pour parler de 18h32 ;  \n",
    "- un spectacle dont l'heure de début est 12h00 et l'heure de fin 13h00 aura lieu sur l'intervalle $[1200;1300[$ et on dira qu'il est **compatible** avec un spectacle commençant à 13h00."
   ]
  },
  {
   "cell_type": "markdown",
   "metadata": {},
   "source": [
    "## 2. Activité débranchée<a id=\"activite-debranchee\"></a>"
   ]
  },
  {
   "cell_type": "markdown",
   "metadata": {},
   "source": [
    " [Retour au sommaire](#sommaire) "
   ]
  },
  {
   "cell_type": "markdown",
   "metadata": {},
   "source": [
    "<font style=\"color:rgb(113,65,224)\">**Exercice 1**  \n",
    "1. Découper la bande (disponible sur Moodle) représentant le temps entre 8h00 et 22h00 et les rectangles représentant les douze spectacles.  \n",
    "2. Essayer de placer le maximum de spectacles sur la ligne du temps.  \n",
    "</font>"
   ]
  },
  {
   "cell_type": "markdown",
   "metadata": {},
   "source": [
    "## 3. Plusieurs stratégies<a id=\"plusieurs-strategies\"></a>"
   ]
  },
  {
   "cell_type": "markdown",
   "metadata": {},
   "source": [
    " [Retour au sommaire](#sommaire) "
   ]
  },
  {
   "cell_type": "markdown",
   "metadata": {},
   "source": [
    "On peut envisager plusieurs stratégies :"
   ]
  },
  {
   "cell_type": "markdown",
   "metadata": {},
   "source": [
    "### 3.1 Tri par durées croissantes<a id=\"tri-par-durees-croissantes\"></a>"
   ]
  },
  {
   "cell_type": "markdown",
   "metadata": {},
   "source": [
    " [Retour au sommaire](#sommaire) "
   ]
  },
  {
   "cell_type": "markdown",
   "metadata": {},
   "source": [
    "<font style=\"color:rgb(113,65,224)\">**Exercice 2**  \n",
    "Une première méthode consiste à prendre les spectacles par ordre croissant de durée. On peut en effet raisonnablement penser que planifier d'abord les spectacles les plus courts laissera plus de temps pour les autres.  \n",
    "1. Quel planning produit cette stratégie gloutonne ?  \n",
    "2. Combien de spectacles la scène accueillera-t-elle ?\n",
    "</font> "
   ]
  },
  {
   "cell_type": "markdown",
   "metadata": {},
   "source": [
    "### 3.2 Tri par dates de début croissantes<a id=\"tri-par-dates-de-debut-croissantes\"></a>"
   ]
  },
  {
   "cell_type": "markdown",
   "metadata": {},
   "source": [
    " [Retour au sommaire](#sommaire) "
   ]
  },
  {
   "cell_type": "markdown",
   "metadata": {},
   "source": [
    "<font style=\"color:rgb(113,65,224)\">**Exercice 3**  \n",
    "Une deuxième méthode est de considérer les spectacles par ordre croissant de leur heure de début, l'idée étant de commencer au plus vite un nouveau spectacle. Le choix glouton consiste à prendre à chaque étape le spectacle commençant le plus tôt, à condition qu'il soit compatible avec ceux déjà planifiés.\n",
    "1. Quel planning produit cette stratégie gloutonne ?  \n",
    "2. Combien de spectacles la scène accueillera-t-elle ?\n",
    "</font> "
   ]
  },
  {
   "cell_type": "markdown",
   "metadata": {},
   "source": [
    "### 3.3 Tri par nombres d'incompatibilités croissants<a id=\"tri-par-nombres-incompatibilites-croissants\"></a>"
   ]
  },
  {
   "cell_type": "markdown",
   "metadata": {},
   "source": [
    " [Retour au sommaire](#sommaire) "
   ]
  },
  {
   "cell_type": "markdown",
   "metadata": {},
   "source": [
    "<font style=\"color:rgb(113,65,224)\">**Exercice 4**  \n",
    "Une troisième possibilité revient à prendre les spectacles par ordre croissant de leurs incompatibilités. Procéder ainsi permet de privilégier les spectacles qui &laquo; gênent &raquo; le moins, et donc d'avoir moins de contraintes pour planifier les autres.\n",
    "1. Quel planning produit cette stratégie gloutonne ?  \n",
    "2. Combien de spectacles la scène accueillera-t-elle ?\n",
    "</font> "
   ]
  },
  {
   "cell_type": "markdown",
   "metadata": {},
   "source": [
    "### 3.4 Tri par dates de fin croissantes<a id=\"tri-par-dates-de-fin-croissantes\"></a>"
   ]
  },
  {
   "cell_type": "markdown",
   "metadata": {},
   "source": [
    " [Retour au sommaire](#sommaire) "
   ]
  },
  {
   "cell_type": "markdown",
   "metadata": {},
   "source": [
    "<font style=\"color:rgb(113,65,224)\">**Exercice 5**  \n",
    "La dernière stratégie envisagée consiste à laisser le plus de temps possible après la planification d'un spectacle. On considère donc les spectacles par ordre croissant de leur heure de fin.  \n",
    "1. Quel planning produit cette stratégie gloutonne ?  \n",
    "2. Combien de spectacles la scène accueillera-t-elle ?\n",
    "</font> "
   ]
  },
  {
   "cell_type": "markdown",
   "metadata": {},
   "source": [
    "## 4. À retenir<a id=\"a-retenir\"></a>"
   ]
  },
  {
   "cell_type": "markdown",
   "metadata": {},
   "source": [
    " [Retour au sommaire](#sommaire) "
   ]
  },
  {
   "cell_type": "markdown",
   "metadata": {},
   "source": [
    "On admettra que <font style=\"color:red\">cette dernière stratégie est optimale.</font> "
   ]
  },
  {
   "cell_type": "markdown",
   "metadata": {},
   "source": [
    "## 5. Un peu de Python... <a id=\"python\"></a>"
   ]
  },
  {
   "cell_type": "markdown",
   "metadata": {},
   "source": [
    " [Retour au sommaire](#sommaire) "
   ]
  },
  {
   "cell_type": "markdown",
   "metadata": {},
   "source": [
    "<font style=\"color:rgb(113,65,224)\">**Exercice 6**  \n",
    "On décide de représenter chaque spectacle par un dictionnaire ayant pour clés :  \n",
    "- ``\"nom\"`` (la valeur associée est une chaîne de caractères); \n",
    "- ``\"début\"`` (la valeur associée est un entier);  \n",
    "- ``\"fin\"`` (la valeur associée est un entier).  \n",
    "    \n",
    "Écrire une fonction ``sont_compatibles(spectacle_1, spectacle_2)`` qui prend deux spectacles en paramètres et qui renvoie ``True`` si les deux spectacles sont compatibles et ``False`` sinon.\n",
    "</font> "
   ]
  },
  {
   "cell_type": "code",
   "execution_count": 1,
   "metadata": {},
   "outputs": [],
   "source": [
    "# À vous de jouer !\n",
    "def sont_compatibles(spectacle_1, spectacle_2):\n",
    "    pass"
   ]
  },
  {
   "cell_type": "markdown",
   "metadata": {},
   "source": [
    "<font style=\"color:rgb(113,65,224)\">**Exercice 7**  \n",
    "Écrire une fonction ``planification(fichier_csv)`` qui prend en entrée :\n",
    "- un fichier CSV ``fichier_csv`` (chaîne de caractères) contenant la liste des spectacles (ainsi que leur heure de début et leur heure de fin) ;\n",
    "et qui renvoie :\n",
    "- la liste des spectacles retenus avec la stratégie 4, chaque spectacle étant représenté par un dictionnaire dont les clés sont ``\"nom\"``, ``\"début\"`` et ``\"fin\"``.\n",
    "</font> "
   ]
  },
  {
   "cell_type": "code",
   "execution_count": null,
   "metadata": {},
   "outputs": [],
   "source": [
    "# À vous de jouer !\n",
    "def planification(fichier_csv):\n",
    "    pass"
   ]
  },
  {
   "cell_type": "markdown",
   "metadata": {},
   "source": [
    "<font style=\"color:rgb(113,65,224)\">**Exercice 8**  \n",
    "Essayer la fonction avec le fichier ``12_spectacles.csv`` qui contient la liste des spectacles des paragraphes précédents.\n",
    "</font> "
   ]
  },
  {
   "cell_type": "code",
   "execution_count": null,
   "metadata": {
    "scrolled": true
   },
   "outputs": [],
   "source": [
    "# À vous de jouer !"
   ]
  },
  {
   "cell_type": "markdown",
   "metadata": {},
   "source": [
    "<font style=\"color:rgb(113,65,224)\">**Exercice 9**  \n",
    "Essayer la fonction avec le fichier ``3000_spectacles.csv`` qui contient 3000 &laquo; spectacles &raquo;.\n",
    "</font> "
   ]
  },
  {
   "cell_type": "code",
   "execution_count": null,
   "metadata": {
    "scrolled": true
   },
   "outputs": [],
   "source": [
    "# À vous de jouer !"
   ]
  },
  {
   "cell_type": "markdown",
   "metadata": {},
   "source": [
    "<a rel=\"license\" href=\"http://creativecommons.org/licenses/by-nc-sa/4.0/\"><img alt=\"Licence Creative Commons\" style=\"border-width:0\" src=\"https://i.creativecommons.org/l/by-nc-sa/4.0/88x31.png\" /></a><br />Ce(tte) œuvre est mise à disposition selon les termes de la <a rel=\"license\" href=\"http://creativecommons.org/licenses/by-nc-sa/4.0/\">Licence Creative Commons Attribution - Pas d’Utilisation Commerciale - Partage dans les Mêmes Conditions 4.0 International</a>.<a id=\"licence\"></a>"
   ]
  }
 ],
 "metadata": {
  "finalized": {
   "timestamp": 1618448989742,
   "trusted": true
  },
  "kernelspec": {
   "display_name": "Python 3 (ipykernel)",
   "language": "python",
   "name": "python3"
  },
  "language_info": {
   "codemirror_mode": {
    "name": "ipython",
    "version": 3
   },
   "file_extension": ".py",
   "mimetype": "text/x-python",
   "name": "python",
   "nbconvert_exporter": "python",
   "pygments_lexer": "ipython3",
   "version": "3.8.13"
  },
  "latex_envs": {
   "LaTeX_envs_menu_present": true,
   "autoclose": false,
   "autocomplete": true,
   "bibliofile": "biblio.bib",
   "cite_by": "apalike",
   "current_citInitial": 1,
   "eqLabelWithNumbers": true,
   "eqNumInitial": 1,
   "hotkeys": {
    "equation": "Ctrl-E",
    "itemize": "Ctrl-I"
   },
   "labels_anchors": false,
   "latex_user_defs": false,
   "report_style_numbering": false,
   "user_envs_cfg": false
  }
 },
 "nbformat": 4,
 "nbformat_minor": 2
}
