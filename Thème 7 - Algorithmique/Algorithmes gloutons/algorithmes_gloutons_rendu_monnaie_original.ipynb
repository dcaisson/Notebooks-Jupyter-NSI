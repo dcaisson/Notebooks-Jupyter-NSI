{
 "cells": [
  {
   "cell_type": "markdown",
   "metadata": {},
   "source": [
    "# Algorithmes gloutons"
   ]
  },
  {
   "cell_type": "markdown",
   "metadata": {},
   "source": [
    "## Sommaire<a id=\"sommaire\"></a> \n",
    "[**1. Le problème du rendu de monnaie**](#probleme-rendu-monnaie)  \n",
    "&nbsp;&nbsp;&nbsp;&nbsp;[1.1 Un premier exemple](#un-premier-exemple)  \n",
    "&nbsp;&nbsp;&nbsp;&nbsp;[1.2 Avec une monnaie fictive](#monnaie-fictive)    \n",
    "[**2. Pour votre culture**](#culture)    \n",
    "[**Licence**](#licence) "
   ]
  },
  {
   "cell_type": "markdown",
   "metadata": {},
   "source": [
    "## 1. Le problème du rendu de monnaie<a id=\"probleme-rendu-monnaie\"></a>"
   ]
  },
  {
   "cell_type": "markdown",
   "metadata": {},
   "source": [
    " [Retour au sommaire](#sommaire) "
   ]
  },
  {
   "cell_type": "markdown",
   "metadata": {},
   "source": [
    "### 1.1 Un premier exemple<a id=\"un-premier-exemple\"></a>"
   ]
  },
  {
   "cell_type": "markdown",
   "metadata": {},
   "source": [
    " [Retour au sommaire](#sommaire) "
   ]
  },
  {
   "cell_type": "markdown",
   "metadata": {},
   "source": [
    "L'entreprise Sharp commercialise des caisses enregistreuses automatiques. Au début de la journée, le commerçant &laquo; charge &raquo; la machine en pièces et en billets. Chaque client glisse directement les billets ou les pièces dans la machine qui se charge de rendre automatiquement la monnaie.\n",
    "\n",
    "![caisse Sharp](https://github.com/dcaisson/Notebooks-Jupyter-NSI/raw/6da0e95671d4b30a0600ed14e17b62e65a6cba04/Th%C3%A8me%207%20-%20Algorithmique/Algorithmes%20gloutons/caisse_enregistreuse_sharp.png)"
   ]
  },
  {
   "cell_type": "markdown",
   "metadata": {},
   "source": [
    "La machine dipose de billets de 20€, 10€ et 5€, ainsi que de pièces de 2€, 1€, 50, 20, 10, 5, 2 et 1 centime(s) d'euros.  \n",
    "Afin de satisfaire les clients, <font style=\"color:red\">on cherche à déterminer un algorithme qui va permettre de rendre le moins de monnaie possible.</font>"
   ]
  },
  {
   "cell_type": "markdown",
   "metadata": {},
   "source": [
    "<font style=\"color:rgb(113,65,224)\">**Exercice 1**  \n",
    "Un client règle un achat d'une valeur de 0,85€ avec un billet de 50€. Préciser le rendu de monnaie obtenu en utilisant l'algorithme de rendu de monnaie &laquo; usuel &raquo; (qui consiste à choisir à chaque fois le billet ou la pièce ayant le montant le plus élevé).\n",
    "</font>"
   ]
  },
  {
   "cell_type": "markdown",
   "metadata": {},
   "source": [
    "*Répondre dans cette cellule*"
   ]
  },
  {
   "cell_type": "markdown",
   "metadata": {},
   "source": [
    "<font style=\"color:rgb(113,65,224)\">**Exercice 2**  \n",
    "On souhaite écrire une fonction ``rendu_monnaie(montant, somme_recue)`` qui prend en paramètres :  \n",
    "- le montant ``montant`` à payer ;  \n",
    "- la somme ``somme_recue`` donnée par le client,  \n",
    "    \n",
    "et qui renvoie un dictionnaire détaillant le rendu de monnaie effectué (en utilisant l'algorithme &laquo; usuel &raquo;) :  \n",
    "- les clés sont des chaînes de caractères décrivant les billets et pièces disponibles ;  \n",
    "- chaque valeur indique le nombre de billets/pièces utilisés dans le rendu de monnaie. </font> "
   ]
  },
  {
   "cell_type": "markdown",
   "metadata": {},
   "source": [
    "<font style=\"color:rgb(113,65,224)\">&nbsp;&nbsp;&nbsp;&nbsp;1. Quel dictionnaire renvoie la fonction dans le cas de l'exercice 1 ?  </font>"
   ]
  },
  {
   "cell_type": "code",
   "execution_count": 3,
   "metadata": {},
   "outputs": [],
   "source": [
    "# Répondre dans cette cellule"
   ]
  },
  {
   "cell_type": "markdown",
   "metadata": {},
   "source": [
    "<font style=\"color:rgb(113,65,224)\">&nbsp;&nbsp;&nbsp;&nbsp;2. Écrire deux tests pour la fonction ``rendu_monnaie``.\n",
    "</font>"
   ]
  },
  {
   "cell_type": "code",
   "execution_count": null,
   "metadata": {},
   "outputs": [],
   "source": [
    "# Écrire les tests ici"
   ]
  },
  {
   "cell_type": "markdown",
   "metadata": {},
   "source": [
    "<font style=\"color:rgb(113,65,224)\">&nbsp;&nbsp;&nbsp;&nbsp;3. Écrire la fonction ``rendu_monnaie``.\n",
    "</font>"
   ]
  },
  {
   "cell_type": "code",
   "execution_count": 4,
   "metadata": {},
   "outputs": [],
   "source": [
    "# À vous de jouer !"
   ]
  },
  {
   "cell_type": "markdown",
   "metadata": {},
   "source": [
    "### 1.2 Avec une monnaie fictive<a id=\"monnaie-fictive\"></a>"
   ]
  },
  {
   "cell_type": "markdown",
   "metadata": {},
   "source": [
    " [Retour au sommaire](#sommaire) "
   ]
  },
  {
   "cell_type": "markdown",
   "metadata": {},
   "source": [
    "<font style=\"color:rgb(113,65,224)\">**Exercice 3**  \n",
    "Dans un lointain pays, la monnaie officielle est le Tara. Les habitants utilisent :  \n",
    "- des billets de 200, 100, 30, 20 et 5 Taras ;\n",
    "- des pièces de 2, 1 Taras ;\n",
    "- des pièces de 30, 10, 5 et 1 centimes de Taras.\n",
    "</font>"
   ]
  },
  {
   "cell_type": "markdown",
   "metadata": {},
   "source": [
    "<font style=\"color:rgb(113,65,224)\">&nbsp;&nbsp;&nbsp;&nbsp;1. Adapter la fonction ``rendu_monnaie`` précédente et écrire une fonction ``rendu_monnaie_taras``.</font>"
   ]
  },
  {
   "cell_type": "code",
   "execution_count": 6,
   "metadata": {},
   "outputs": [],
   "source": [
    "# À vous de jouer !"
   ]
  },
  {
   "cell_type": "markdown",
   "metadata": {},
   "source": [
    "<font style=\"color:rgb(113,65,224)\">&nbsp;&nbsp;&nbsp;&nbsp;2. Préciser le rendu de monnaie correspondant à un achat de 55 Taras réglé avec un billet de 100 Taras.</font>"
   ]
  },
  {
   "cell_type": "markdown",
   "metadata": {},
   "source": [
    "*Répondre dans cette cellule*"
   ]
  },
  {
   "cell_type": "markdown",
   "metadata": {},
   "source": [
    "<font style=\"color:rgb(113,65,224)\">&nbsp;&nbsp;&nbsp;&nbsp;3. Ce rendu de monnaie est-il optimal ?</font>"
   ]
  },
  {
   "cell_type": "markdown",
   "metadata": {},
   "source": [
    "## 2. Pour votre culture<a id=\"culture\"></a>"
   ]
  },
  {
   "cell_type": "markdown",
   "metadata": {},
   "source": [
    " [Retour au sommaire](#sommaire) "
   ]
  },
  {
   "cell_type": "markdown",
   "metadata": {},
   "source": [
    "<font style=\"color:rgb(113,65,224)\">**Exercice 4**  \n",
    "1. Qu'appelle-t-on un système de monnaie canonique ?   \n",
    "2. Proposer un système de monnaie non canonique.\n",
    "</font>"
   ]
  },
  {
   "cell_type": "markdown",
   "metadata": {},
   "source": [
    "*Répondre dans cette cellule*"
   ]
  },
  {
   "cell_type": "markdown",
   "metadata": {},
   "source": [
    "<a rel=\"license\" href=\"http://creativecommons.org/licenses/by-nc-sa/4.0/\"><img alt=\"Licence Creative Commons\" style=\"border-width:0\" src=\"https://i.creativecommons.org/l/by-nc-sa/4.0/88x31.png\" /></a><br />Ce(tte) œuvre est mise à disposition selon les termes de la <a rel=\"license\" href=\"http://creativecommons.org/licenses/by-nc-sa/4.0/\">Licence Creative Commons Attribution - Pas d’Utilisation Commerciale - Partage dans les Mêmes Conditions 4.0 International</a>.<a id=\"licence\"></a>"
   ]
  }
 ],
 "metadata": {
  "finalized": {
   "timestamp": 1618448989742,
   "trusted": true
  },
  "kernelspec": {
   "display_name": "Python 3 (ipykernel)",
   "language": "python",
   "name": "python3"
  },
  "language_info": {
   "codemirror_mode": {
    "name": "ipython",
    "version": 3
   },
   "file_extension": ".py",
   "mimetype": "text/x-python",
   "name": "python",
   "nbconvert_exporter": "python",
   "pygments_lexer": "ipython3",
   "version": "3.10.10"
  },
  "latex_envs": {
   "LaTeX_envs_menu_present": true,
   "autoclose": false,
   "autocomplete": true,
   "bibliofile": "biblio.bib",
   "cite_by": "apalike",
   "current_citInitial": 1,
   "eqLabelWithNumbers": true,
   "eqNumInitial": 1,
   "hotkeys": {
    "equation": "Ctrl-E",
    "itemize": "Ctrl-I"
   },
   "labels_anchors": false,
   "latex_user_defs": false,
   "report_style_numbering": false,
   "user_envs_cfg": false
  }
 },
 "nbformat": 4,
 "nbformat_minor": 2
}
