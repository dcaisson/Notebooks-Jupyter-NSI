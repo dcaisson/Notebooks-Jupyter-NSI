{
 "cells": [
  {
   "cell_type": "markdown",
   "metadata": {},
   "source": [
    "# Algorithmes gloutons &ndash; Éléments de correction"
   ]
  },
  {
   "cell_type": "markdown",
   "metadata": {},
   "source": [
    "## Sommaire<a id=\"sommaire\"></a> \n",
    "[**1. Le problème du sac à dos**](#probleme-sac-a-dos)  \n",
    "&nbsp;&nbsp;&nbsp;&nbsp;[1.1 Un premier exemple](#un-premier-exemple)  \n",
    "&nbsp;&nbsp;&nbsp;&nbsp;[1.2 Plusieurs stratégies](#plusieurs-strategies)    \n",
    "[**2. Avec Python**](#avec-python)    \n",
    "[**3. À retenir**](#a-retenir)      \n",
    "[**Licence**](#licence) "
   ]
  },
  {
   "cell_type": "markdown",
   "metadata": {},
   "source": [
    "## 1. Le problème du sac à dos <a id=\"probleme-sac-a-dos\"></a>"
   ]
  },
  {
   "cell_type": "markdown",
   "metadata": {},
   "source": [
    " [Retour au sommaire](#sommaire) "
   ]
  },
  {
   "cell_type": "markdown",
   "metadata": {},
   "source": [
    "Un voleur s'introduit dans une maison avec l'intention d'emporter un butin de <font style=\"color:red\">valeur maximale</font>, mais il est confronté à un problème : son sac à dos a une <font style=\"color:red\">capacité limitée</font> en poids.   \n",
    "L'objectif de cette partie est d'aider notre voleur à optimiser la valeur de son butin. Il s'agit d'un <font style=\"color:red\">*problème d'optimisation*</font>."
   ]
  },
  {
   "cell_type": "markdown",
   "metadata": {},
   "source": [
    "### 1.1 Un premier exemple<a id=\"un-premier-exemple\"></a>"
   ]
  },
  {
   "cell_type": "markdown",
   "metadata": {},
   "source": [
    " [Retour au sommaire](#sommaire) "
   ]
  },
  {
   "cell_type": "markdown",
   "metadata": {},
   "source": [
    "<font style=\"color:rgb(113,65,224)\">**Exercice 1**  \n",
    "On suppose, dans cet exemple, que le sac supporte un poids maximal de 40 kg, et que le voleur s'intéresse à sept objets numérotés de 1 à 7 dont les poids et les valeurs sont détaillés dans le tableau ci-dessous :\n",
    "    \n",
    "|   Objet $i$  |  1 |  2 |  3 |  4 |  5 |  6 |  7 |\n",
    "|:------------:|:--:|:--:|:--:|:--:|:--:|:--:|:--:|\n",
    "| Valeur $v_i$ | 20 | 10 | 25 | 15 | 18 | 27 |  8 |\n",
    "|  Poids $p_i$ |  6 |  4 |  8 | 10 | 12 |  5 | 11 |\n",
    "    \n",
    "1. Donner une composition possible du sac en indiquant le poids total et la valeur du butin.\n",
    "2. Donner une composition permettant d'obtenir un butin de valeur maximale.\n",
    "</font>"
   ]
  },
  {
   "cell_type": "markdown",
   "metadata": {},
   "source": [
    "*Répondre dans cette cellule*"
   ]
  },
  {
   "cell_type": "markdown",
   "metadata": {},
   "source": [
    "### 1.2 Plusieurs stratégies<a id=\"plusieurs-strategies\"></a>"
   ]
  },
  {
   "cell_type": "markdown",
   "metadata": {},
   "source": [
    " [Retour au sommaire](#sommaire) "
   ]
  },
  {
   "cell_type": "markdown",
   "metadata": {},
   "source": [
    "<font style=\"color:rgb(113,65,224)\">**Exercice 2**  \n",
    "Notre voleur, qui compte bien visiter d'autres habitations, met au point plusieurs stratégies. Il décide de remplir son sac :\n",
    "- stratégie 1 : &laquo;en choisissant d'abord les objets ayant la plus grande valeur&raquo; ;\n",
    "- stratégie 2 : &laquo;en choisissant d'abord les objets ayant le plus petit poids&raquo; ;\n",
    "- stratégie 3 : &laquo;en choisissant d'abord les objets pour lesquels le rapport valeur/poids est le plus grand&raquo;.    \n",
    "    \n",
    "1. Reprendre l'exemple précédent et préciser la valeur du butin avec chacune des trois stratégies.\n",
    "2. Laquelle des trois stratégies donne le butin maximal ?\n",
    "</font>"
   ]
  },
  {
   "cell_type": "markdown",
   "metadata": {},
   "source": [
    "*Répondre dans cette cellule*"
   ]
  },
  {
   "cell_type": "markdown",
   "metadata": {},
   "source": [
    "<font style=\"color:rgb(113,65,224)\">**Exercice 3**  \n",
    "Comparer les trois stratégies dans les cas suivants :\n",
    "<ol>\n",
    "<li></li>\n",
    "\n",
    "|   Objet $i$  |  1 |  2 |  3 |  4 |  5 |  6 |  7 |\n",
    "|:------------:|:--:|:--:|:--:|:--:|:--:|:--:|:--:|\n",
    "| Valeur $v_i$ | 20 | 10 | 25 | 15 | 18 | 27 |  8 |\n",
    "|  Poids $p_i$ |  6 |  4 | 18 | 10 | 12 |  5 | 11 |\n",
    "\n",
    "<li></li>\n",
    "\n",
    "|   Objet $i$  |  1 |  2 |  3 |  4 |  5 |  6 |  7 |\n",
    "|:------------:|:--:|:--:|:--:|:--:|:--:|:--:|:--:|\n",
    "| Valeur $v_i$ | 15 | 14 | 13 | 15 | 18 | 27 | 18 |\n",
    "|  Poids $p_i$ |  6 |  4 |  8 | 10 | 12 | 25 | 11 |\n",
    "\n",
    "</ol>\n",
    "</font>"
   ]
  },
  {
   "cell_type": "markdown",
   "metadata": {},
   "source": [
    "*Répondre dans cette cellule*"
   ]
  },
  {
   "cell_type": "markdown",
   "metadata": {},
   "source": [
    "## 2. Avec Python<a id=\"avec-python\"></a>"
   ]
  },
  {
   "cell_type": "markdown",
   "metadata": {},
   "source": [
    " [Retour au sommaire](#sommaire) "
   ]
  },
  {
   "cell_type": "markdown",
   "metadata": {},
   "source": [
    "<font style=\"color:rgb(113,65,224)\">**Exercice 4**  \n",
    "Écrire une fonction ``strategie_1`` qui prend en paramètres :\n",
    "- la liste ``valeurs`` des différentes valeurs ;\n",
    "- la liste ``poids`` des différents poids ;\n",
    "- la capacité ``poids_max_sac`` du sac en poids,\n",
    "\n",
    "et qui renvoie le triplet ``(sac, valeur, poids)`` dans lequel :  \n",
    "  \n",
    "- ``sac`` est une liste d'objets **obtenue avec la stratégie 1**, chaque objet étant (modélisé par) un dictionnaire (par exemple ``{\"valeur\": 20, \"poids\": 6}``) ;\n",
    "- ``valeur`` est la valeur du butin ;\n",
    "- ``poids`` est le poids du sac.\n",
    "</font>"
   ]
  },
  {
   "cell_type": "code",
   "execution_count": 13,
   "metadata": {},
   "outputs": [],
   "source": [
    "# À vous de jouer !\n",
    "def strategie_1(valeurs, poids, poids_max_sac):\n",
    "    # on crée la liste des objets (par compréhension)\n",
    "    objets = [{\"valeur\": valeurs[i], \"poids\": poids[i]} for i in range(len(valeurs))]\n",
    "    # on crée la liste des objets triés par valeurs décroissantes\n",
    "    objets_tries = sorted(objets, key=lambda objet:objet[\"valeur\"], reverse=True)\n",
    "    # sac est la liste des objets emportés\n",
    "    # poids_restant_disponible indique la place restante dans le sac\n",
    "    # valeur est la valeur du butin\n",
    "    sac = []\n",
    "    poids_sac = 0\n",
    "    valeur = 0\n",
    "    # on parcourt la liste objets_tries et on prend chaque objet qu'on peut emporter\n",
    "    for i in range(len(objets_tries)):\n",
    "        objet = objets_tries[i]\n",
    "        # si on peut emporter l'objet, on le prend\n",
    "        # et on met à jour poids_restant_disponible et valeur\n",
    "        if poids_sac + objet[\"poids\"] <= poids_max_sac:\n",
    "            sac.append(objet)\n",
    "            poids_sac = poids_sac + objet[\"poids\"]\n",
    "            valeur = valeur + objet[\"valeur\"]\n",
    "    return (sac, valeur, poids_sac)"
   ]
  },
  {
   "cell_type": "code",
   "execution_count": 14,
   "metadata": {},
   "outputs": [],
   "source": [
    "# Tester votre fonction\n",
    "valeurs = [20, 10, 25, 15, 18, 27, 8]\n",
    "poids = [6, 4, 8, 10, 12, 5, 11]\n",
    "poids_max_sac = 40\n",
    "assert strategie_1(valeurs, poids, poids_max_sac) == ([{'valeur': 27, 'poids': 5},\n",
    "  {'valeur': 25, 'poids': 8},\n",
    "  {'valeur': 20, 'poids': 6},\n",
    "  {'valeur': 18, 'poids': 12},\n",
    "  {'valeur': 10, 'poids': 4}],\n",
    " 100,\n",
    " 35)"
   ]
  },
  {
   "cell_type": "markdown",
   "metadata": {},
   "source": [
    "<font style=\"color:rgb(113,65,224)\">**Exercice 5**  \n",
    "Écrire une fonction ``strategie_2`` qui prend en paramètres :\n",
    "- la liste ``valeurs`` des différentes valeurs ;\n",
    "- la liste ``poids`` des différents poids ;\n",
    "- la capacité ``poids_max_sac`` du sac en poids,    \n",
    "\n",
    "et qui renvoie le triplet ``(sac, valeur, poids)`` dans lequel :\n",
    "    \n",
    "- ``sac`` est une liste d'objets **obtenue avec la stratégie 2**, chaque objet étant (modélisé par) un dictionnaire (par exemple ``{\"valeur\": 20, \"poids\": 6}``) ;\n",
    "- ``valeur`` est la valeur du butin ;\n",
    "- ``poids`` est le poids du sac.\n",
    "</font>"
   ]
  },
  {
   "cell_type": "code",
   "execution_count": 15,
   "metadata": {},
   "outputs": [],
   "source": [
    "# À vous de jouer !\n",
    "def strategie_2(valeurs, poids, poids_max_sac):\n",
    "    # on crée la liste des objets (par compréhension)\n",
    "    objets = [{\"valeur\": valeurs[i], \"poids\": poids[i]} for i in range(len(valeurs))]\n",
    "    # on crée la liste des objets triés par valeurs décroissantes\n",
    "    objets_tries = sorted(objets, key=lambda objet:objet[\"poids\"])\n",
    "    # sac est la liste des objets emportés\n",
    "    # poids_restant_disponible indique la place restante dans le sac\n",
    "    # valeur est la valeur du butin\n",
    "    sac = []\n",
    "    poids_sac = 0\n",
    "    valeur = 0\n",
    "    # on parcourt la liste objets_tries et on prend chaque objet qu'on peut emporter\n",
    "    for i in range(len(objets_tries)):\n",
    "        objet = objets_tries[i]\n",
    "        # si on peut emporter l'objet, on le prend\n",
    "        # et on met à jour poids_restant_disponible et valeur\n",
    "        if poids_sac + objet[\"poids\"] <= poids_max_sac:\n",
    "            sac.append(objet)\n",
    "            poids_sac = poids_sac + objet[\"poids\"]\n",
    "            valeur = valeur + objet[\"valeur\"]\n",
    "    return (sac, valeur, poids_sac)  "
   ]
  },
  {
   "cell_type": "code",
   "execution_count": 16,
   "metadata": {},
   "outputs": [],
   "source": [
    "# Tester votre fonction\n",
    "valeurs = [20, 10, 25, 15, 18, 27, 8]\n",
    "poids = [6, 4, 8, 10, 12, 5, 11]\n",
    "poids_max_sac = 40\n",
    "assert strategie_2(valeurs, poids, poids_max_sac) == ([{'valeur': 10, 'poids': 4},\n",
    "  {'valeur': 27, 'poids': 5},\n",
    "  {'valeur': 20, 'poids': 6},\n",
    "  {'valeur': 25, 'poids': 8},\n",
    "  {'valeur': 15, 'poids': 10}],\n",
    " 97,\n",
    " 33)"
   ]
  },
  {
   "cell_type": "markdown",
   "metadata": {},
   "source": [
    "<font style=\"color:rgb(113,65,224)\">**Exercice 6**  \n",
    "Écrire une fonction ``strategie_3`` qui prend en paramètres :\n",
    "- la liste ``valeurs`` des différentes valeurs ;\n",
    "- la liste ``poids`` des différents poids ;\n",
    "- la capacité ``poids_max_sac`` du sac en poids,   \n",
    "\n",
    "et qui renvoie le triplet ``(sac, valeur, poids)`` dans lequel :\n",
    "    \n",
    "- ``sac`` est une liste d'objets **obtenue avec la stratégie 3**, chaque objet étant (modélisé par) un dictionnaire (par exemple ``{\"valeur\": 20, \"poids\": 6}``) ;\n",
    "- ``valeur`` est la valeur du butin ;\n",
    "- ``poids`` est le poids du sac.\n",
    "</font>"
   ]
  },
  {
   "cell_type": "code",
   "execution_count": 17,
   "metadata": {},
   "outputs": [],
   "source": [
    "# À vous de jouer !\n",
    "def strategie_3(valeurs, poids, poids_max_sac):\n",
    "    # on crée la liste des objets (par compréhension)\n",
    "    objets = [{\"valeur\": valeurs[i], \"poids\": poids[i]} for i in range(len(valeurs))]\n",
    "    # on crée la liste des objets triés par valeurs décroissantes\n",
    "    objets_tries = sorted(objets, key=lambda objet:objet[\"valeur\"]/objet[\"poids\"], reverse=True)\n",
    "    # sac est la liste des objets emportés\n",
    "    # poids_restant_disponible indique la place restante dans le sac\n",
    "    # valeur est la valeur du butin\n",
    "    sac = []\n",
    "    poids_sac = 0\n",
    "    valeur = 0\n",
    "    # on parcourt la liste objets_tries et on prend chaque objet qu'on peut emporter\n",
    "    for i in range(len(objets_tries)):\n",
    "        objet = objets_tries[i]\n",
    "        # si on peut emporter l'objet, on le prend\n",
    "        # et on met à jour poids_restant_disponible et valeur\n",
    "        if poids_sac + objet[\"poids\"] <= poids_max_sac:\n",
    "            sac.append(objet)\n",
    "            poids_sac = poids_sac + objet[\"poids\"]\n",
    "            valeur = valeur + objet[\"valeur\"]\n",
    "    return (sac, valeur, poids_sac)"
   ]
  },
  {
   "cell_type": "code",
   "execution_count": 20,
   "metadata": {},
   "outputs": [],
   "source": [
    "# Tester votre fonction\n",
    "valeurs = [20, 10, 25, 15, 18, 27, 8]\n",
    "poids = [6, 4, 8, 10, 12, 5, 11]\n",
    "poids_max_sac = 40\n",
    "assert strategie_3(valeurs, poids, poids_max_sac) == ([{'valeur': 27, 'poids': 5},\n",
    "  {'valeur': 20, 'poids': 6},\n",
    "  {'valeur': 25, 'poids': 8},\n",
    "  {'valeur': 10, 'poids': 4},\n",
    "  {'valeur': 15, 'poids': 10}],\n",
    " 97,\n",
    " 33)"
   ]
  },
  {
   "cell_type": "markdown",
   "metadata": {},
   "source": [
    "## 3. À retenir<a id=\"a-retenir\"></a>"
   ]
  },
  {
   "cell_type": "markdown",
   "metadata": {},
   "source": [
    " [Retour au sommaire](#sommaire) "
   ]
  },
  {
   "cell_type": "markdown",
   "metadata": {},
   "source": [
    "<font style=\"color:red\">Un problème d'optimisation</font> consiste à trouver parmi les différentes solutions d'un problème une solution qui soit <font style=\"color:red\">la meilleure possible</font>. La <font style=\"color:red\">stratégie gloutonne</font> (qui met en oeuvre <font style=\"color:red\">un algorithme glouton</font>) est une heuristique visant à <font style=\"color:red\">produire **efficacement** une solution qu'on espère bonne</font>, <font style=\"color:red\">sans qu'elle soit nécessairement optimale</font>. \n",
    "\n",
    "Elle procède par <font style=\"color:red\">une suite de choix</font> en sélectionnant à chaque étape la solution qui paraît être <font style=\"color:red\">la meilleure</font>."
   ]
  },
  {
   "cell_type": "markdown",
   "metadata": {},
   "source": [
    "<a rel=\"license\" href=\"http://creativecommons.org/licenses/by-nc-sa/4.0/\"><img alt=\"Licence Creative Commons\" style=\"border-width:0\" src=\"https://i.creativecommons.org/l/by-nc-sa/4.0/88x31.png\" /></a><br />Ce(tte) œuvre est mise à disposition selon les termes de la <a rel=\"license\" href=\"http://creativecommons.org/licenses/by-nc-sa/4.0/\">Licence Creative Commons Attribution - Pas d’Utilisation Commerciale - Partage dans les Mêmes Conditions 4.0 International</a>.<a id=\"licence\"></a>"
   ]
  }
 ],
 "metadata": {
  "finalized": {
   "timestamp": 1618448989742,
   "trusted": true
  },
  "kernelspec": {
   "display_name": "Python 3 (ipykernel)",
   "language": "python",
   "name": "python3"
  },
  "language_info": {
   "codemirror_mode": {
    "name": "ipython",
    "version": 3
   },
   "file_extension": ".py",
   "mimetype": "text/x-python",
   "name": "python",
   "nbconvert_exporter": "python",
   "pygments_lexer": "ipython3",
   "version": "3.10.10"
  },
  "latex_envs": {
   "LaTeX_envs_menu_present": true,
   "autoclose": false,
   "autocomplete": true,
   "bibliofile": "biblio.bib",
   "cite_by": "apalike",
   "current_citInitial": 1,
   "eqLabelWithNumbers": true,
   "eqNumInitial": 1,
   "hotkeys": {
    "equation": "Ctrl-E",
    "itemize": "Ctrl-I"
   },
   "labels_anchors": false,
   "latex_user_defs": false,
   "report_style_numbering": false,
   "user_envs_cfg": false
  }
 },
 "nbformat": 4,
 "nbformat_minor": 2
}
