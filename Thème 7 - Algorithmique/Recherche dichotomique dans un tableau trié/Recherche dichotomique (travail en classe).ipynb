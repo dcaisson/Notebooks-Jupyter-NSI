{
 "cells": [
  {
   "cell_type": "markdown",
   "metadata": {},
   "source": [
    "## Recherche dichotomique dans un tableau trié &ndash; Fiche élève"
   ]
  },
  {
   "cell_type": "markdown",
   "metadata": {},
   "source": [
    "### Sommaire\n",
    "[**1. Introduction**](#introduction)  \n",
    "[**2. Mise en oeuvre**](#mise-en-oeuvre)  \n",
    "[**3. Terminaison**](#terminaison)   \n",
    "[**4. Efficacité**](#efficacite)  \n",
    "[**5. Correction**](#correction) "
   ]
  },
  {
   "cell_type": "markdown",
   "metadata": {},
   "source": [
    "### 1. Introduction<a id=\"introduction\"></a>\n",
    "La façon la plus simple de chercher une valeur dans une liste est de parcourir un à un les éléments de la liste (on parle de *parcours séquentiel*) et de comparer ces éléments à la valeur recherchée. Si cette valeur n'est pas dans la liste ou si elle est présente une seule fois à la fin de la liste, il est nécessaire de parcourir toute la liste. Le coût de cette recherche séquentielle est donc de l'ordre de $n$ où $n$ est la taille de la liste : on parle de coût linéaire (en $n$).\n",
    "\n",
    "Il est possible de faire mieux en utilisant la **recherche dichotomique** (aussi appelée **recherche par dichotomie**) <span style=\"color: red;\">lorsque la liste est triée</span>. Cette méthode de recherche a été formalisée en 1946 dans un article de [John Mauchly](https://fr.wikipedia.org/wiki/John_William_Mauchly), un physicien américain qui a co-conçu l'[ENIAC](https://fr.wikipedia.org/wiki/ENIAC), un des premiers ordinateurs.\n",
    "\n",
    "Voir la présentation jointe (fichier ``exemples_introduction_recherche_dichotomique.pdf``) à ce notebook.\n",
    "\n",
    "La recherche dichotomique utilise le principe [&laquo; diviser pour régner &raquo;](https://fr.wikipedia.org/wiki/Diviser_pour_r%C3%A9gner_(informatique)) (*divide and conquer* en anglais) qui consiste en trois étapes :\n",
    "- diviser : le problème initial (ici, la recherche d'un élément dans une liste triée) est divisé en sous-problèmes ;\n",
    "- régner : chacun des sous-problèmes est résolu ;\n",
    "- combiner : trouver une solution au problème initial à partir des solutions des sous-problèmes."
   ]
  },
  {
   "cell_type": "markdown",
   "metadata": {},
   "source": [
    "### 2. Mise en oeuvre<a id=\"mise-en-oeuvre\"></a>"
   ]
  },
  {
   "cell_type": "markdown",
   "metadata": {},
   "source": [
    "##### <span style=\"color:blue\">Exercice 1</span>\n",
    "<span style=\"color:blue\">1. Écrire (en pseudo-code) l'algorithme de recherche par dichotomie.</span>\n",
    "\n",
    "**Algorithme de recherche par dichotomie**   \n",
    "Entrées : un entier ``elt`` et une liste triée d'entiers ``liste[1..n]``   \n",
    "Sortie : ``Vrai`` si l'entier ``elt`` appartient à la liste ``liste[1..n]``, ``Faux`` sinon   \n",
    "\n",
    "<pre><code>\n",
    "début &larr; 1\n",
    "fin &larr; n\n",
    "trouvé &larr; Faux\n",
    "tant que début &leq; fin et non trouvé faire :\n",
    "    milieu &larr; (début + fin) // 2\n",
    "    si milieu = elt alors :\n",
    "        trouvé &larr; Vrai\n",
    "    sinon :\n",
    "        si milieu < elt alors :\n",
    "            début &larr; milieu + 1\n",
    "        sinon :\n",
    "            fin &larr; milieu - 1\n",
    "renvoyer trouvé\n",
    "</code></pre>"
   ]
  },
  {
   "cell_type": "markdown",
   "metadata": {},
   "source": [
    "<span style=\"color:blue\">2. Écrire, en Python, une fonction <code>recherche_dichotomique(elt, liste)</code> qui prend en paramètres un entier <code>elt</code> et une liste triée d'entiers <code>liste</code>, et qui utilise la recherche dichotomique pour renvoyer <code>True</code> si l'entier <code>elt</code> se trouve dans la liste, <code>False</code> sinon.</span>"
   ]
  },
  {
   "cell_type": "code",
   "execution_count": null,
   "metadata": {},
   "outputs": [],
   "source": [
    "# À vous de jouer !\n",
    "def recherche_dichotomique(elt, liste):\n",
    "    \"\"\" Utilise la recherche dichotomique pour rechercher un élément dans une liste triée.\n",
    "    - Entrées : un entier elt et une liste triée d'entiers liste\n",
    "    - Sortie : True si l'entier elt fait partie de la liste, False sinon\n",
    "    \"\"\"\n",
    "    pass\n",
    "\n",
    "# À essayer\n",
    "liste = [2, 3, 5, 8, 10, 12, 15, 20, 31]\n",
    "recherche_dichotomique(10, liste)"
   ]
  },
  {
   "cell_type": "markdown",
   "metadata": {},
   "source": [
    "##### <span style=\"color:blue\">Exercice 2</span>\n",
    "<span style=\"color:blue\">Modifier la fonction précédente afin qu'elle renvoie une position (un indice) de l'élément cherché lorsque celui-ci est présent et ``None`` dans le cas contraire.</span>"
   ]
  },
  {
   "cell_type": "code",
   "execution_count": null,
   "metadata": {},
   "outputs": [],
   "source": [
    "# À vous de jouer !\n",
    "def recherche_dichotomique_indice(elt, liste):\n",
    "    \"\"\" Utilise la recherche dichotomique pour rechercher un élément dans une liste triée.\n",
    "    - Entrées : un entier elt et une liste triée d'entiers liste\n",
    "    - Sortie : une position de l'entier cherché lorsque celui-ci est présent et None dans \n",
    "    le cas contraire\n",
    "    \"\"\"\n",
    "    pass\n",
    "\n",
    "# À essayer\n",
    "liste = [2, 3, 5, 8, 10, 12, 15, 20, 31]\n",
    "recherche_dichotomique_indice(10, liste)"
   ]
  },
  {
   "cell_type": "markdown",
   "metadata": {},
   "source": [
    "### 3. Terminaison<a id=\"terminaison\"></a>\n",
    "**Rappel. &ndash;** Pour prouver qu'une boucle conditionnelle de type ```tant que``` se termine, on peut chercher un entier naturel qui décroît (strictement) à chaque passage dans la boucle. Cette quantité (entière) s'appelle un variant de boucle."
   ]
  },
  {
   "cell_type": "markdown",
   "metadata": {},
   "source": [
    "##### <span style=\"color:blue\">Exercice 3</span>\n",
    "<span style=\"color:blue\">Prouver la terminaison de l'algorithme de recherche par dichotomie à l'aide d'un variant de boucle.</span>"
   ]
  },
  {
   "cell_type": "markdown",
   "metadata": {},
   "source": [
    "### 4. Efficacité<a id=\"efficacite\"></a>\n",
    "Pour mesurer l'efficacité de la recherche dichotomique, on peut s'intéresser au nombre de valeurs de la liste qui ont été examinées : il s'agit du nombre d'itérations de la boucle ``tant que``. \n",
    "\n",
    "Plaçons-nous dans le pire des cas, lorsque la valeur cherchée n'apparaît pas dans la liste triée. Prenons l'exemple d'un tableau de taille $100$ :     \n",
    "- À la première itération, on va se restreindre à une liste de taille environ $50$.\n",
    "- À la deuxième itération, on va se restreindre à une liste de taille environ $25$.\n",
    "- À la troisième itération, on va se restreindre à une liste de taille environ $12$.\n",
    "- Et ainsi de suite...  \n",
    "\n",
    "Au total, on ne fera jamais plus de $7$ itérations. On peut retrouver cette valeur maximale $7$ en cherchant **la plus petite valeur de n telle que $2^n$ dépasse $100$ (la taille de la liste)** :\n",
    "\n",
    "- $2^6 = 64$ et $2^7 = 128$ : cette valeur est bien égale à $7$."
   ]
  },
  {
   "cell_type": "markdown",
   "metadata": {},
   "source": [
    "##### <span style=\"color:blue\">Exercice 4</span>\n",
    "<span style=\"color:blue\">1. Avec la recherche dichotomique, combien d'itérations sont suffisantes pour rechercher un élément dans une liste triée d'un million d'éléments ?</span>   \n",
    "<span style=\"color:blue\">2. Comparer avec une recherche séquentielle.</span>"
   ]
  },
  {
   "cell_type": "markdown",
   "metadata": {},
   "source": [
    "**À retenir. &ndash;** La **recherche dichotomique** permet de rechercher une valeur dans une liste triée. Le principe consiste à **diviser par deux** à chaque fois la taille de la liste dans laquelle s'effectue la recherche. Cet algorithme est **très efficace**. Il ne faut que quelques dizaines de comparaisons élémentaires pour chercher un élément donné dans une liste (triée) en contenant des milliards."
   ]
  },
  {
   "cell_type": "markdown",
   "metadata": {},
   "source": [
    "Essayer par exemple le code suivant :"
   ]
  },
  {
   "cell_type": "code",
   "execution_count": null,
   "metadata": {},
   "outputs": [],
   "source": [
    "def recherche_sequentielle(elt, liste):\n",
    "    trouve = False\n",
    "    i = 0\n",
    "    while (not trouve) and (i < len(liste)):\n",
    "        if liste[i] == elt:\n",
    "            trouve = True\n",
    "        i += 1\n",
    "    return trouve"
   ]
  },
  {
   "cell_type": "code",
   "execution_count": null,
   "metadata": {},
   "outputs": [],
   "source": [
    "from random import randint\n",
    "from time import *\n",
    "\n",
    "# Une liste de dix millions d'entiers compris entre 1 et 1 000 000 000 (un milliard)\n",
    "L = [randint(1, 10 ** 9) for _ in range(10 ** 7)]\n",
    "\n",
    "# Tri de la liste\n",
    "L.sort() # rappel : la liste L est modifiée !\n",
    "\n",
    "# Un entier choisi au hasard entre 1 et 1 000 000 000\n",
    "elt = randint(1, 10 ** 9)"
   ]
  },
  {
   "cell_type": "code",
   "execution_count": null,
   "metadata": {},
   "outputs": [],
   "source": [
    "# Temps mis pour rechercher l'entier n avec un parcours séquentiel\n",
    "debut = perf_counter()\n",
    "recherche_sequentielle(elt, L)\n",
    "fin = perf_counter()\n",
    "print(f\"Temps mis avec un parcours séquentiel : {round(fin - debut, 2)} s.\")\n",
    "\n",
    "# Temps mis pour rechercher l'entier n avec la recherche dichotomique\n",
    "debut = perf_counter()\n",
    "recherche_dichotomique(elt, L)\n",
    "fin = perf_counter()\n",
    "print(f\"Temps mis avec la recherche dichotomique : {round(fin - debut, 6)} s.\")"
   ]
  },
  {
   "cell_type": "markdown",
   "metadata": {},
   "source": [
    "### 5. Correction<a id=\"correction\"></a>\n",
    "\n",
    "**Algorithme de recherche par dichotomie**   \n",
    "Entrées : un entier ``elt`` et une liste triée d'entiers ``liste[1..n]``   \n",
    "Sortie : ``Vrai`` si l'entier ``elt`` appartient à la liste ``liste[1..n]``, ``Faux`` sinon   \n",
    "\n",
    "<pre><code>\n",
    "début &larr; 1\n",
    "fin &larr; n\n",
    "trouvé &larr; Faux\n",
    "tant que (non trouvé) et début &le; fin faire :\n",
    "    milieu &larr; (début + fin) // 2\n",
    "    si liste[milieu] = elt alors :\n",
    "        trouvé &larr; Vrai\n",
    "    sinon :\n",
    "        si liste[milieu] &gt; elt alors :\n",
    "            fin &larr; milieu - 1\n",
    "        sinon :\n",
    "            début &larr; milieu + 1\n",
    "renvoyer trouvé\n",
    "</code></pre>\n",
    "Il faut comprendre que :   \n",
    "- l'algorithme renvoie ``Vrai`` uniquement lorsque la valeur recherchée a été trouvée (évident car l'instruction <code>trouvé &larr; Vrai</code> n'est exécutée que lorsque l'égalité <code>liste[milieu] = elt</code> est vérifiée) ;\n",
    "- lorsque l'algorithme renvoie ``Faux``, la valeur recherchée n'est pas présente dans le tableau.   \n",
    "\n",
    "*Remarque : l'algorithme ne cherche jamais à accéder à la liste en dehors de ses bornes car on a toujours <code>début &le; milieu &le; fin</code>.*\n",
    "\n",
    "Pour prouver le second point, on utilise l'invariant de boucle suivant : \n",
    "<p style=\"text-align : center\">la valeur recherchée <code>elt</code> ne peut se trouver que dans <code>liste[début..fin]</code></p>\n",
    "\n",
    "On vérifie alors deux choses :\n",
    "- cet invariant est vrai avant d'entrer dans la boucle (évident car, avant la boucle, ``début`` vaut ``1`` et ``fin`` vaut ``n``) ;\n",
    "- à chaque passage dans la boucle, l'invariant est préservé."
   ]
  }
 ],
 "metadata": {
  "kernelspec": {
   "display_name": "Python 3 (ipykernel)",
   "language": "python",
   "name": "python3"
  },
  "language_info": {
   "codemirror_mode": {
    "name": "ipython",
    "version": 3
   },
   "file_extension": ".py",
   "mimetype": "text/x-python",
   "name": "python",
   "nbconvert_exporter": "python",
   "pygments_lexer": "ipython3",
   "version": "3.9.10"
  },
  "latex_envs": {
   "LaTeX_envs_menu_present": true,
   "autoclose": false,
   "autocomplete": true,
   "bibliofile": "biblio.bib",
   "cite_by": "apalike",
   "current_citInitial": 1,
   "eqLabelWithNumbers": true,
   "eqNumInitial": 1,
   "hotkeys": {
    "equation": "Ctrl-E",
    "itemize": "Ctrl-I"
   },
   "labels_anchors": false,
   "latex_user_defs": false,
   "report_style_numbering": false,
   "user_envs_cfg": false
  }
 },
 "nbformat": 4,
 "nbformat_minor": 2
}
