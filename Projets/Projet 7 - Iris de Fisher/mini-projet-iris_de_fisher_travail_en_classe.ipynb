{
 "cells": [
  {
   "cell_type": "markdown",
   "metadata": {},
   "source": [
    "# Mini-projet &ndash; Iris de Fisher"
   ]
  },
  {
   "cell_type": "markdown",
   "metadata": {},
   "source": [
    "## Sommaire<a id=\"sommaire\"></a>\n",
    "[**1. Manipuler des fichiers CSV à l'aide du module ``csv``**](#manipuler-fichiers-csv)  \n",
    "&nbsp;&nbsp;&nbsp;&nbsp;[1.1 Lire un fichier CSV &ndash; Un exemple](#lire-fichier-csv)  \n",
    "&nbsp;&nbsp;&nbsp;&nbsp;[1.2 Écrire dans un fichier CSV &ndash; Un exemple](#ecrire-fichier-csv)    \n",
    "[**2. Compléments sur les tris**](#complements-sur-les-tris)  \n",
    "&nbsp;&nbsp;&nbsp;&nbsp;[2.1 Rappels sur les fonctions ``sorted`` et ``sort``](#rappels-sorted-sort)  \n",
    "&nbsp;&nbsp;&nbsp;&nbsp;[2.2 Fonctions anonymes/lambda](#fonctions-lambda)   \n",
    "[**3. Le jeu de données *Iris de Fisher***](#jeu-de-donnees-iris)   \n",
    "&nbsp;&nbsp;&nbsp;&nbsp;[3.1 Présentation du jeu de données](#presentation)  \n",
    "&nbsp;&nbsp;&nbsp;&nbsp;[3.2 Un travail sur les données brutes](#travail-donnees-brutes)  \n",
    "&nbsp;&nbsp;&nbsp;&nbsp;[3.3 Représentation graphique à l'aide de ``matplotlib``](#representation-matplotlib)  \n",
    "&nbsp;&nbsp;&nbsp;&nbsp;[3.4 Deux nouveaux iris &ndash; Conjectures](#nouveaux-iris-conjecture)    \n",
    "[**4. Classification à l'aide de l'algorithme des $k$ plus proches voisins**](#classification-knn)   \n",
    "&nbsp;&nbsp;&nbsp;&nbsp;[4.1 Fonction ``distance``](#fonction-distance)  \n",
    "&nbsp;&nbsp;&nbsp;&nbsp;[4.2 Trouver les $k$ plus proches voisins d'un nouvel iris](#trouver-kppv)  \n",
    "&nbsp;&nbsp;&nbsp;&nbsp;[4.3 Fonction ``occurrences_especes``](#fonction-occurrences_especes)    \n",
    "&nbsp;&nbsp;&nbsp;&nbsp;[4.4 Déterminer l'espèce majoritaire](#determiner-espece-majoritaire)    \n",
    "&nbsp;&nbsp;&nbsp;&nbsp;[4.5 Classification d'un nouvel iris](#classification-nouvel-iris)    \n",
    "[**Licence**](#licence) "
   ]
  },
  {
   "cell_type": "markdown",
   "metadata": {},
   "source": [
    "## 1. Manipuler des fichiers CSV à l'aide du module ``csv``<a id=\"manipuler-fichiers-csv\"></a>"
   ]
  },
  {
   "cell_type": "markdown",
   "metadata": {},
   "source": [
    "Dans le projet &laquo; Harry Potter &raquo;, nous avons déjà travaillé avec des fichiers CSV. Le module ``csv`` de Python permet une manipulation plus aisée de ce type de fichiers."
   ]
  },
  {
   "cell_type": "markdown",
   "metadata": {},
   "source": [
    " [Retour au sommaire](#sommaire) "
   ]
  },
  {
   "cell_type": "markdown",
   "metadata": {},
   "source": [
    "### 1.1 Lire un fichier CSV &ndash; Un exemple<a id=\"lire-fichier-csv\"></a>"
   ]
  },
  {
   "cell_type": "markdown",
   "metadata": {},
   "source": [
    " [Retour au sommaire](#sommaire) "
   ]
  },
  {
   "cell_type": "markdown",
   "metadata": {},
   "source": [
    "<font style=\"color:rgb(113,65,224)\">**Exercice 1**    \n",
    "Télécharger le fichier ``eleves_celebres.csv`` puis exécuter le code de la cellule ci-dessous.</font>"
   ]
  },
  {
   "cell_type": "code",
   "execution_count": 2,
   "metadata": {},
   "outputs": [
    {
     "data": {
      "text/plain": [
       "[{'prénom': 'Brian',\n",
       "  'jour': '1',\n",
       "  'mois': '1',\n",
       "  'année': '1942',\n",
       "  'projet': 'programmer avec style',\n",
       "  '': None},\n",
       " {'prénom': 'Grace',\n",
       "  'jour': '9',\n",
       "  'mois': '12',\n",
       "  'année': '1906',\n",
       "  'projet': 'production de code machine',\n",
       "  '': None},\n",
       " {'prénom': 'Linus',\n",
       "  'jour': '28',\n",
       "  'mois': '12',\n",
       "  'année': '1969',\n",
       "  'projet': \"un petit système d'exploitation\",\n",
       "  '': None},\n",
       " {'prénom': 'Donald',\n",
       "  'jour': '10',\n",
       "  'mois': '1',\n",
       "  'année': '1938',\n",
       "  'projet': 'tout sur les algorithmes',\n",
       "  '': None},\n",
       " {'prénom': 'Alan',\n",
       "  'jour': '23',\n",
       "  'mois': '6',\n",
       "  'année': '1912',\n",
       "  'projet': 'déchiffrer des codes secrets',\n",
       "  '': None},\n",
       " {'prénom': 'Blaise',\n",
       "  'jour': '19',\n",
       "  'mois': '6',\n",
       "  'année': '1623',\n",
       "  'projet': 'machine arithmétique',\n",
       "  '': None},\n",
       " {'prénom': 'Margaret',\n",
       "  'jour': '17',\n",
       "  'mois': '8',\n",
       "  'année': '1936',\n",
       "  'projet': \"atterrissage d'un module lunaire\",\n",
       "  '': None},\n",
       " {'prénom': 'Alan',\n",
       "  'jour': '1',\n",
       "  'mois': '4',\n",
       "  'année': '1922',\n",
       "  'projet': \"ce qu'un programmeur doit savoir\",\n",
       "  '': None},\n",
       " {'prénom': 'Joseph Marie',\n",
       "  'jour': '7',\n",
       "  'mois': '7',\n",
       "  'année': '1752',\n",
       "  'projet': 'programmer des dessins',\n",
       "  '': None}]"
      ]
     },
     "execution_count": 2,
     "metadata": {},
     "output_type": "execute_result"
    }
   ],
   "source": [
    "import csv\n",
    "\n",
    "with open(\"eleves_celebres.csv\", \"r\", encoding=\"utf-8\") as fichier:\n",
    "    table = list(csv.DictReader(fichier))\n",
    "\n",
    "table"
   ]
  },
  {
   "cell_type": "markdown",
   "metadata": {},
   "source": [
    "Après avoir importé le module ``csv``, on ouvre le fichier ``eleves_celebres.csv``. La fonction ``DictReader`` du module ``csv`` renvoie une valeur spéciale qui peut être convertie en liste Python grâce à la fonction ``list``.    \n",
    "\n",
    "On obtient alors <font style=\"color:red\">une liste de dictionnaires</font> ordonnés Python dont les clés sont obtenues grâce à la première ligne du fichier CSV.    \n",
    "\n",
    "*Remarque. &ndash; En Python, un dictionnaire ordonné est un dictionnaire particulier qui &laquo; stocke &raquo; un ordre particulier pour ses clés. Dans cette fiche, nous utiliserons les dictionnaires ordonnés comme des dictionnaires &laquo; classiques &raquo;.*"
   ]
  },
  {
   "cell_type": "markdown",
   "metadata": {},
   "source": [
    "<font style=\"color:rgb(113,65,224)\">**Exercice 2**   \n",
    "Écrire une fonction ``ouvrir_csv`` qui prend en paramètre une chaîne de caractères (le nom d'un fichier CSV) et qui renvoie les données de ce fichier sous forme d'une liste de dictionnaires.</font>"
   ]
  },
  {
   "cell_type": "code",
   "execution_count": 3,
   "metadata": {},
   "outputs": [],
   "source": [
    "# À vous de jouer !\n",
    "def ouvrir_csv(fichier):\n",
    "    with open(fichier, \"r\", encoding=\"utf-8\") as fichier:\n",
    "        table = list(csv.DictReader(fichier))\n",
    "    return table"
   ]
  },
  {
   "cell_type": "code",
   "execution_count": 4,
   "metadata": {
    "scrolled": true
   },
   "outputs": [
    {
     "data": {
      "text/plain": [
       "[{'prénom': 'Brian',\n",
       "  'jour': '1',\n",
       "  'mois': '1',\n",
       "  'année': '1942',\n",
       "  'projet': 'programmer avec style',\n",
       "  '': None},\n",
       " {'prénom': 'Grace',\n",
       "  'jour': '9',\n",
       "  'mois': '12',\n",
       "  'année': '1906',\n",
       "  'projet': 'production de code machine',\n",
       "  '': None},\n",
       " {'prénom': 'Linus',\n",
       "  'jour': '28',\n",
       "  'mois': '12',\n",
       "  'année': '1969',\n",
       "  'projet': \"un petit système d'exploitation\",\n",
       "  '': None},\n",
       " {'prénom': 'Donald',\n",
       "  'jour': '10',\n",
       "  'mois': '1',\n",
       "  'année': '1938',\n",
       "  'projet': 'tout sur les algorithmes',\n",
       "  '': None},\n",
       " {'prénom': 'Alan',\n",
       "  'jour': '23',\n",
       "  'mois': '6',\n",
       "  'année': '1912',\n",
       "  'projet': 'déchiffrer des codes secrets',\n",
       "  '': None},\n",
       " {'prénom': 'Blaise',\n",
       "  'jour': '19',\n",
       "  'mois': '6',\n",
       "  'année': '1623',\n",
       "  'projet': 'machine arithmétique',\n",
       "  '': None},\n",
       " {'prénom': 'Margaret',\n",
       "  'jour': '17',\n",
       "  'mois': '8',\n",
       "  'année': '1936',\n",
       "  'projet': \"atterrissage d'un module lunaire\",\n",
       "  '': None},\n",
       " {'prénom': 'Alan',\n",
       "  'jour': '1',\n",
       "  'mois': '4',\n",
       "  'année': '1922',\n",
       "  'projet': \"ce qu'un programmeur doit savoir\",\n",
       "  '': None},\n",
       " {'prénom': 'Joseph Marie',\n",
       "  'jour': '7',\n",
       "  'mois': '7',\n",
       "  'année': '1752',\n",
       "  'projet': 'programmer des dessins',\n",
       "  '': None}]"
      ]
     },
     "execution_count": 4,
     "metadata": {},
     "output_type": "execute_result"
    }
   ],
   "source": [
    "ouvrir_csv(\"eleves_celebres.csv\")"
   ]
  },
  {
   "cell_type": "markdown",
   "metadata": {},
   "source": [
    "### 1.2 Écrire dans un fichier CSV &ndash; Un exemple<a id=\"ecrire-fichier-csv\"></a>"
   ]
  },
  {
   "cell_type": "markdown",
   "metadata": {},
   "source": [
    " [Retour au sommaire](#sommaire) "
   ]
  },
  {
   "cell_type": "markdown",
   "metadata": {},
   "source": [
    "On dispose de la liste de Pokémons ci-dessous (il s'agit d'une liste de dictionnaires)."
   ]
  },
  {
   "cell_type": "code",
   "execution_count": 5,
   "metadata": {},
   "outputs": [],
   "source": [
    "pokemons = [{'#': '1',\n",
    "  'Name': 'Bulbasaur',\n",
    "  'Type 1': 'Grass',\n",
    "  'Type 2': 'Poison',\n",
    "  'Total': '318',\n",
    "  'HP': '45',\n",
    "  'Attack': '49',\n",
    "  'Defense': '49',\n",
    "  'Sp. Atk': '65',\n",
    "  'Sp. Def': '65',\n",
    "  'Speed': '45',\n",
    "  'Generation': '1',\n",
    "  'Legendary': 'False'},\n",
    " {'#': '2',\n",
    "  'Name': 'Ivysaur',\n",
    "  'Type 1': 'Grass',\n",
    "  'Type 2': 'Poison',\n",
    "  'Total': '405',\n",
    "  'HP': '60',\n",
    "  'Attack': '62',\n",
    "  'Defense': '63',\n",
    "  'Sp. Atk': '80',\n",
    "  'Sp. Def': '80',\n",
    "  'Speed': '60',\n",
    "  'Generation': '1',\n",
    "  'Legendary': 'False'},\n",
    " {'#': '3',\n",
    "  'Name': 'Venusaur',\n",
    "  'Type 1': 'Grass',\n",
    "  'Type 2': 'Poison',\n",
    "  'Total': '525',\n",
    "  'HP': '80',\n",
    "  'Attack': '82',\n",
    "  'Defense': '83',\n",
    "  'Sp. Atk': '100',\n",
    "  'Sp. Def': '100',\n",
    "  'Speed': '80',\n",
    "  'Generation': '1',\n",
    "  'Legendary': 'False'},\n",
    " {'#': '3',\n",
    "  'Name': 'VenusaurMega Venusaur',\n",
    "  'Type 1': 'Grass',\n",
    "  'Type 2': 'Poison',\n",
    "  'Total': '625',\n",
    "  'HP': '80',\n",
    "  'Attack': '100',\n",
    "  'Defense': '123',\n",
    "  'Sp. Atk': '122',\n",
    "  'Sp. Def': '120',\n",
    "  'Speed': '80',\n",
    "  'Generation': '1',\n",
    "  'Legendary': 'False'},\n",
    " {'#': '4',\n",
    "  'Name': 'Charmander',\n",
    "  'Type 1': 'Fire',\n",
    "  'Type 2': '',\n",
    "  'Total': '309',\n",
    "  'HP': '39',\n",
    "  'Attack': '52',\n",
    "  'Defense': '43',\n",
    "  'Sp. Atk': '60',\n",
    "  'Sp. Def': '50',\n",
    "  'Speed': '65',\n",
    "  'Generation': '1',\n",
    "  'Legendary': 'False'},\n",
    " {'#': '5',\n",
    "  'Name': 'Charmeleon',\n",
    "  'Type 1': 'Fire',\n",
    "  'Type 2': '',\n",
    "  'Total': '405',\n",
    "  'HP': '58',\n",
    "  'Attack': '64',\n",
    "  'Defense': '58',\n",
    "  'Sp. Atk': '80',\n",
    "  'Sp. Def': '65',\n",
    "  'Speed': '80',\n",
    "  'Generation': '1',\n",
    "  'Legendary': 'False'},\n",
    " {'#': '6',\n",
    "  'Name': 'Charizard',\n",
    "  'Type 1': 'Fire',\n",
    "  'Type 2': 'Flying',\n",
    "  'Total': '534',\n",
    "  'HP': '78',\n",
    "  'Attack': '84',\n",
    "  'Defense': '78',\n",
    "  'Sp. Atk': '109',\n",
    "  'Sp. Def': '85',\n",
    "  'Speed': '100',\n",
    "  'Generation': '1',\n",
    "  'Legendary': 'False'},\n",
    " {'#': '6',\n",
    "  'Name': 'CharizardMega Charizard X',\n",
    "  'Type 1': 'Fire',\n",
    "  'Type 2': 'Dragon',\n",
    "  'Total': '634',\n",
    "  'HP': '78',\n",
    "  'Attack': '130',\n",
    "  'Defense': '111',\n",
    "  'Sp. Atk': '130',\n",
    "  'Sp. Def': '85',\n",
    "  'Speed': '100',\n",
    "  'Generation': '1',\n",
    "  'Legendary': 'False'},\n",
    " {'#': '6',\n",
    "  'Name': 'CharizardMega Charizard Y',\n",
    "  'Type 1': 'Fire',\n",
    "  'Type 2': 'Flying',\n",
    "  'Total': '634',\n",
    "  'HP': '78',\n",
    "  'Attack': '104',\n",
    "  'Defense': '78',\n",
    "  'Sp. Atk': '159',\n",
    "  'Sp. Def': '115',\n",
    "  'Speed': '100',\n",
    "  'Generation': '1',\n",
    "  'Legendary': 'False'},\n",
    " {'#': '7',\n",
    "  'Name': 'Squirtle',\n",
    "  'Type 1': 'Water',\n",
    "  'Type 2': '',\n",
    "  'Total': '314',\n",
    "  'HP': '44',\n",
    "  'Attack': '48',\n",
    "  'Defense': '65',\n",
    "  'Sp. Atk': '50',\n",
    "  'Sp. Def': '64',\n",
    "  'Speed': '43',\n",
    "  'Generation': '1',\n",
    "  'Legendary': 'False'}]"
   ]
  },
  {
   "cell_type": "markdown",
   "metadata": {},
   "source": [
    "Pour générer un fichier CSV contenant les informations précédentes, on utilise le module ``csv`` de la façon suivante :"
   ]
  },
  {
   "cell_type": "code",
   "execution_count": 6,
   "metadata": {},
   "outputs": [],
   "source": [
    "with open(\"pokemons.csv\", \"w\") as sortie:\n",
    "    w = csv.DictWriter(sortie, ['#', 'Name', 'Type 1', 'Type 2', 'Total', \n",
    "                                'HP', 'Attack', 'Defense', 'Sp. Atk', 'Sp. Def', \n",
    "                                'Speed', 'Generation', 'Legendary'])\n",
    "    w.writeheader()\n",
    "    w.writerows(pokemons)"
   ]
  },
  {
   "cell_type": "markdown",
   "metadata": {},
   "source": [
    "Pour utiliser la fonction ``DictWriter``, il faut préciser la liste des attributs en paramètre. La fonction ``writeheader`` permet alors d'écrire la première ligne du fichier CSV, et ``writerows(pokemons)`` permet d'écrire le reste du fichier CSV.\n",
    "\n",
    "*Remarque. &ndash; Si le fichier ``pokemons.csv`` existe déjà, il est écrasé, sinon il est créé.*"
   ]
  },
  {
   "cell_type": "markdown",
   "metadata": {},
   "source": [
    "<font style=\"color:rgb(113,65,224)\">**Exercice 3**    \n",
    "Après avoir exécuté le code précédent, ouvrir le fichier ``pokemons.csv`` généré à l'aide d'un éditeur de textes ou de code.\n",
    "</font>"
   ]
  },
  {
   "cell_type": "code",
   "execution_count": 7,
   "metadata": {},
   "outputs": [
    {
     "ename": "ModuleNotFoundError",
     "evalue": "No module named 'basthon'",
     "output_type": "error",
     "traceback": [
      "\u001b[0;31m---------------------------------------------------------------------------\u001b[0m",
      "\u001b[0;31mModuleNotFoundError\u001b[0m                       Traceback (most recent call last)",
      "\u001b[0;32m/tmp/ipykernel_14738/244116366.py\u001b[0m in \u001b[0;36m<module>\u001b[0;34m\u001b[0m\n\u001b[1;32m      1\u001b[0m \u001b[0;31m# Pour télécharger un fichier présent sur basthon.fr\u001b[0m\u001b[0;34m\u001b[0m\u001b[0;34m\u001b[0m\u001b[0;34m\u001b[0m\u001b[0m\n\u001b[0;32m----> 2\u001b[0;31m \u001b[0;32mimport\u001b[0m \u001b[0mbasthon\u001b[0m\u001b[0;34m\u001b[0m\u001b[0;34m\u001b[0m\u001b[0m\n\u001b[0m\u001b[1;32m      3\u001b[0m \u001b[0mbasthon\u001b[0m\u001b[0;34m.\u001b[0m\u001b[0mdownload\u001b[0m\u001b[0;34m(\u001b[0m\u001b[0;34m\"pokemons.csv\"\u001b[0m\u001b[0;34m)\u001b[0m\u001b[0;34m\u001b[0m\u001b[0;34m\u001b[0m\u001b[0m\n",
      "\u001b[0;31mModuleNotFoundError\u001b[0m: No module named 'basthon'"
     ]
    }
   ],
   "source": [
    "# Pour télécharger un fichier présent sur basthon.fr\n",
    "import basthon\n",
    "basthon.download(\"pokemons.csv\")"
   ]
  },
  {
   "cell_type": "markdown",
   "metadata": {},
   "source": [
    "<font style=\"color:rgb(113,65,224)\">**Exercice 4**    \n",
    "Écrire une fonction ``ecrire_csv`` qui prend en paramètres :\n",
    "  - une chaîne de caractères ``fichier_sortie`` (le nom du fichier CSV de sortie) ;\n",
    "  - une liste d'attributs ``attributs`` (pour la première ligne du fichier CSV de sortie);\n",
    "  - une liste de dictionnaires ``donnees``,\n",
    "et qui écrit dans le fichier CSV les données présentes dans la liste ``donnees``.</font>"
   ]
  },
  {
   "cell_type": "code",
   "execution_count": 8,
   "metadata": {},
   "outputs": [],
   "source": [
    "# À vous de jouer !\n",
    "def ecrire_csv(fichier_sortie, attributs, donnees):\n",
    "    with open(fichier_sortie, \"w\") as sortie:\n",
    "        w = csv.DictWriter(sortie, attributs)\n",
    "        w.writeheader()\n",
    "        w.writerows(donnees)"
   ]
  },
  {
   "cell_type": "markdown",
   "metadata": {},
   "source": [
    "## 2. Compléments sur les tris<a id=\"complements-sur-les-tris\"></a>"
   ]
  },
  {
   "cell_type": "markdown",
   "metadata": {},
   "source": [
    " [Retour au sommaire](#sommaire) "
   ]
  },
  {
   "cell_type": "markdown",
   "metadata": {},
   "source": [
    "### 2.1 Rappels sur les fonctions ``sorted`` et ``sort``<a id=\"rappels-sorted-sort\"></a>"
   ]
  },
  {
   "cell_type": "markdown",
   "metadata": {},
   "source": [
    " [Retour au sommaire](#sommaire) "
   ]
  },
  {
   "cell_type": "markdown",
   "metadata": {},
   "source": [
    "<font style=\"color:rgb(113,65,224)\">**Exercice 5**    \n",
    "1. À quoi servent les fonctions ``sorted`` et ``sort`` ?\n",
    "2. Quelle différence importante y a-t-il entre ces deux fonctions ?</font>"
   ]
  },
  {
   "cell_type": "markdown",
   "metadata": {},
   "source": [
    "*Répondre dans cette cellule*\n",
    "1. Ces fonctions permettent de trier des listes.\n",
    "2. ``sort`` modifie la liste alors que ``sorted`` crée une nouvelle liste."
   ]
  },
  {
   "cell_type": "markdown",
   "metadata": {},
   "source": [
    "### 2.2 Fonctions anonymes/lambda<a id=\"fonctions-lambda\"></a>"
   ]
  },
  {
   "cell_type": "markdown",
   "metadata": {},
   "source": [
    " [Retour au sommaire](#sommaire) "
   ]
  },
  {
   "cell_type": "markdown",
   "metadata": {},
   "source": [
    "<font style=\"color:rgb(113,65,224)\">**Exercice 6**    \n",
    "1. Essayer le code de la cellule ci-dessous :</font>"
   ]
  },
  {
   "cell_type": "code",
   "execution_count": 9,
   "metadata": {},
   "outputs": [
    {
     "data": {
      "text/plain": [
       "11"
      ]
     },
     "execution_count": 9,
     "metadata": {},
     "output_type": "execute_result"
    }
   ],
   "source": [
    "suivant = lambda n: n + 1\n",
    "suivant(10)"
   ]
  },
  {
   "cell_type": "markdown",
   "metadata": {},
   "source": [
    "<font style=\"color:rgb(113,65,224)\">2. Qu'a-t-on défini ?</font>"
   ]
  },
  {
   "cell_type": "markdown",
   "metadata": {},
   "source": [
    "*Répondre dans cette cellule*  \n",
    "On a défini une fonction."
   ]
  },
  {
   "cell_type": "markdown",
   "metadata": {},
   "source": [
    "<font style=\"color:rgb(113,65,224)\">3. De quelle autre manière aurait-on pu définir la fonction ``suivant`` ?</font>"
   ]
  },
  {
   "cell_type": "code",
   "execution_count": 10,
   "metadata": {},
   "outputs": [],
   "source": [
    "def suivant(n):\n",
    "    return n + 1"
   ]
  },
  {
   "cell_type": "markdown",
   "metadata": {},
   "source": [
    "<font style=\"color:rgb(113,65,224)\">**Exercice 7**    \n",
    "On souhaite trier la liste ``pokemons`` du Pokémon le plus lent au Pokémon le plus rapide. Python permet de réaliser cette opération très facilement.    \n",
    "1. Écrire une fonction qui prend un dictionnaire (représentant un Pokémon) en paramètre et qui renvoie la vitesse de celui-ci (un entier). On utilisera la syntaxe vue dans l'exercice précédent (fonction lambda).</font>"
   ]
  },
  {
   "cell_type": "code",
   "execution_count": 11,
   "metadata": {},
   "outputs": [],
   "source": [
    "# À vous de jouer !\n",
    "vitesse = lambda pokemon: int(pokemon['Speed'])"
   ]
  },
  {
   "cell_type": "code",
   "execution_count": 12,
   "metadata": {},
   "outputs": [],
   "source": [
    "bulbasaur = {'#': '1',\n",
    "  'Name': 'Bulbasaur',\n",
    "  'Type 1': 'Grass',\n",
    "  'Type 2': 'Poison',\n",
    "  'Total': '318',\n",
    "  'HP': '45',\n",
    "  'Attack': '49',\n",
    "  'Defense': '49',\n",
    "  'Sp. Atk': '65',\n",
    "  'Sp. Def': '65',\n",
    "  'Speed': '45',\n",
    "  'Generation': '1',\n",
    "  'Legendary': 'False'}"
   ]
  },
  {
   "cell_type": "code",
   "execution_count": 13,
   "metadata": {},
   "outputs": [
    {
     "data": {
      "text/plain": [
       "45"
      ]
     },
     "execution_count": 13,
     "metadata": {},
     "output_type": "execute_result"
    }
   ],
   "source": [
    "vitesse(bulbasaur)"
   ]
  },
  {
   "cell_type": "markdown",
   "metadata": {},
   "source": [
    "<font style=\"color:rgb(113,65,224)\">2. Il suffit alors d'utiliser la fonction ``sorted`` (ou la fonction ``sort``) avec un paramètre optionnel égal à la fonction définie précédemment :</font>\n",
    "\n",
    "```python\n",
    "sorted(pokemons, key=<écrire la fonction lambda ici>)\n",
    "```\n",
    "\n",
    "  <font style=\"color:rgb(113,65,224)\">Essayer dans la cellule ci-dessous.</font>"
   ]
  },
  {
   "cell_type": "code",
   "execution_count": 14,
   "metadata": {},
   "outputs": [
    {
     "data": {
      "text/plain": [
       "[{'#': '7',\n",
       "  'Name': 'Squirtle',\n",
       "  'Type 1': 'Water',\n",
       "  'Type 2': '',\n",
       "  'Total': '314',\n",
       "  'HP': '44',\n",
       "  'Attack': '48',\n",
       "  'Defense': '65',\n",
       "  'Sp. Atk': '50',\n",
       "  'Sp. Def': '64',\n",
       "  'Speed': '43',\n",
       "  'Generation': '1',\n",
       "  'Legendary': 'False'},\n",
       " {'#': '1',\n",
       "  'Name': 'Bulbasaur',\n",
       "  'Type 1': 'Grass',\n",
       "  'Type 2': 'Poison',\n",
       "  'Total': '318',\n",
       "  'HP': '45',\n",
       "  'Attack': '49',\n",
       "  'Defense': '49',\n",
       "  'Sp. Atk': '65',\n",
       "  'Sp. Def': '65',\n",
       "  'Speed': '45',\n",
       "  'Generation': '1',\n",
       "  'Legendary': 'False'},\n",
       " {'#': '2',\n",
       "  'Name': 'Ivysaur',\n",
       "  'Type 1': 'Grass',\n",
       "  'Type 2': 'Poison',\n",
       "  'Total': '405',\n",
       "  'HP': '60',\n",
       "  'Attack': '62',\n",
       "  'Defense': '63',\n",
       "  'Sp. Atk': '80',\n",
       "  'Sp. Def': '80',\n",
       "  'Speed': '60',\n",
       "  'Generation': '1',\n",
       "  'Legendary': 'False'},\n",
       " {'#': '4',\n",
       "  'Name': 'Charmander',\n",
       "  'Type 1': 'Fire',\n",
       "  'Type 2': '',\n",
       "  'Total': '309',\n",
       "  'HP': '39',\n",
       "  'Attack': '52',\n",
       "  'Defense': '43',\n",
       "  'Sp. Atk': '60',\n",
       "  'Sp. Def': '50',\n",
       "  'Speed': '65',\n",
       "  'Generation': '1',\n",
       "  'Legendary': 'False'},\n",
       " {'#': '3',\n",
       "  'Name': 'Venusaur',\n",
       "  'Type 1': 'Grass',\n",
       "  'Type 2': 'Poison',\n",
       "  'Total': '525',\n",
       "  'HP': '80',\n",
       "  'Attack': '82',\n",
       "  'Defense': '83',\n",
       "  'Sp. Atk': '100',\n",
       "  'Sp. Def': '100',\n",
       "  'Speed': '80',\n",
       "  'Generation': '1',\n",
       "  'Legendary': 'False'},\n",
       " {'#': '3',\n",
       "  'Name': 'VenusaurMega Venusaur',\n",
       "  'Type 1': 'Grass',\n",
       "  'Type 2': 'Poison',\n",
       "  'Total': '625',\n",
       "  'HP': '80',\n",
       "  'Attack': '100',\n",
       "  'Defense': '123',\n",
       "  'Sp. Atk': '122',\n",
       "  'Sp. Def': '120',\n",
       "  'Speed': '80',\n",
       "  'Generation': '1',\n",
       "  'Legendary': 'False'},\n",
       " {'#': '5',\n",
       "  'Name': 'Charmeleon',\n",
       "  'Type 1': 'Fire',\n",
       "  'Type 2': '',\n",
       "  'Total': '405',\n",
       "  'HP': '58',\n",
       "  'Attack': '64',\n",
       "  'Defense': '58',\n",
       "  'Sp. Atk': '80',\n",
       "  'Sp. Def': '65',\n",
       "  'Speed': '80',\n",
       "  'Generation': '1',\n",
       "  'Legendary': 'False'},\n",
       " {'#': '6',\n",
       "  'Name': 'Charizard',\n",
       "  'Type 1': 'Fire',\n",
       "  'Type 2': 'Flying',\n",
       "  'Total': '534',\n",
       "  'HP': '78',\n",
       "  'Attack': '84',\n",
       "  'Defense': '78',\n",
       "  'Sp. Atk': '109',\n",
       "  'Sp. Def': '85',\n",
       "  'Speed': '100',\n",
       "  'Generation': '1',\n",
       "  'Legendary': 'False'},\n",
       " {'#': '6',\n",
       "  'Name': 'CharizardMega Charizard X',\n",
       "  'Type 1': 'Fire',\n",
       "  'Type 2': 'Dragon',\n",
       "  'Total': '634',\n",
       "  'HP': '78',\n",
       "  'Attack': '130',\n",
       "  'Defense': '111',\n",
       "  'Sp. Atk': '130',\n",
       "  'Sp. Def': '85',\n",
       "  'Speed': '100',\n",
       "  'Generation': '1',\n",
       "  'Legendary': 'False'},\n",
       " {'#': '6',\n",
       "  'Name': 'CharizardMega Charizard Y',\n",
       "  'Type 1': 'Fire',\n",
       "  'Type 2': 'Flying',\n",
       "  'Total': '634',\n",
       "  'HP': '78',\n",
       "  'Attack': '104',\n",
       "  'Defense': '78',\n",
       "  'Sp. Atk': '159',\n",
       "  'Sp. Def': '115',\n",
       "  'Speed': '100',\n",
       "  'Generation': '1',\n",
       "  'Legendary': 'False'}]"
      ]
     },
     "execution_count": 14,
     "metadata": {},
     "output_type": "execute_result"
    }
   ],
   "source": [
    "# À vous de jouer !\n",
    "sorted(pokemons, key=vitesse)"
   ]
  },
  {
   "cell_type": "markdown",
   "metadata": {},
   "source": [
    "<font style=\"color:rgb(113,65,224)\">3. De la même manière, trier la liste ``pokemons`` du Pokémon le plus faible au Pokémon le plus fort.</font>"
   ]
  },
  {
   "cell_type": "code",
   "execution_count": 15,
   "metadata": {},
   "outputs": [
    {
     "data": {
      "text/plain": [
       "[{'#': '3',\n",
       "  'Name': 'VenusaurMega Venusaur',\n",
       "  'Type 1': 'Grass',\n",
       "  'Type 2': 'Poison',\n",
       "  'Total': '625',\n",
       "  'HP': '80',\n",
       "  'Attack': '100',\n",
       "  'Defense': '123',\n",
       "  'Sp. Atk': '122',\n",
       "  'Sp. Def': '120',\n",
       "  'Speed': '80',\n",
       "  'Generation': '1',\n",
       "  'Legendary': 'False'},\n",
       " {'#': '6',\n",
       "  'Name': 'CharizardMega Charizard Y',\n",
       "  'Type 1': 'Fire',\n",
       "  'Type 2': 'Flying',\n",
       "  'Total': '634',\n",
       "  'HP': '78',\n",
       "  'Attack': '104',\n",
       "  'Defense': '78',\n",
       "  'Sp. Atk': '159',\n",
       "  'Sp. Def': '115',\n",
       "  'Speed': '100',\n",
       "  'Generation': '1',\n",
       "  'Legendary': 'False'},\n",
       " {'#': '6',\n",
       "  'Name': 'CharizardMega Charizard X',\n",
       "  'Type 1': 'Fire',\n",
       "  'Type 2': 'Dragon',\n",
       "  'Total': '634',\n",
       "  'HP': '78',\n",
       "  'Attack': '130',\n",
       "  'Defense': '111',\n",
       "  'Sp. Atk': '130',\n",
       "  'Sp. Def': '85',\n",
       "  'Speed': '100',\n",
       "  'Generation': '1',\n",
       "  'Legendary': 'False'},\n",
       " {'#': '7',\n",
       "  'Name': 'Squirtle',\n",
       "  'Type 1': 'Water',\n",
       "  'Type 2': '',\n",
       "  'Total': '314',\n",
       "  'HP': '44',\n",
       "  'Attack': '48',\n",
       "  'Defense': '65',\n",
       "  'Sp. Atk': '50',\n",
       "  'Sp. Def': '64',\n",
       "  'Speed': '43',\n",
       "  'Generation': '1',\n",
       "  'Legendary': 'False'},\n",
       " {'#': '1',\n",
       "  'Name': 'Bulbasaur',\n",
       "  'Type 1': 'Grass',\n",
       "  'Type 2': 'Poison',\n",
       "  'Total': '318',\n",
       "  'HP': '45',\n",
       "  'Attack': '49',\n",
       "  'Defense': '49',\n",
       "  'Sp. Atk': '65',\n",
       "  'Sp. Def': '65',\n",
       "  'Speed': '45',\n",
       "  'Generation': '1',\n",
       "  'Legendary': 'False'},\n",
       " {'#': '4',\n",
       "  'Name': 'Charmander',\n",
       "  'Type 1': 'Fire',\n",
       "  'Type 2': '',\n",
       "  'Total': '309',\n",
       "  'HP': '39',\n",
       "  'Attack': '52',\n",
       "  'Defense': '43',\n",
       "  'Sp. Atk': '60',\n",
       "  'Sp. Def': '50',\n",
       "  'Speed': '65',\n",
       "  'Generation': '1',\n",
       "  'Legendary': 'False'},\n",
       " {'#': '2',\n",
       "  'Name': 'Ivysaur',\n",
       "  'Type 1': 'Grass',\n",
       "  'Type 2': 'Poison',\n",
       "  'Total': '405',\n",
       "  'HP': '60',\n",
       "  'Attack': '62',\n",
       "  'Defense': '63',\n",
       "  'Sp. Atk': '80',\n",
       "  'Sp. Def': '80',\n",
       "  'Speed': '60',\n",
       "  'Generation': '1',\n",
       "  'Legendary': 'False'},\n",
       " {'#': '5',\n",
       "  'Name': 'Charmeleon',\n",
       "  'Type 1': 'Fire',\n",
       "  'Type 2': '',\n",
       "  'Total': '405',\n",
       "  'HP': '58',\n",
       "  'Attack': '64',\n",
       "  'Defense': '58',\n",
       "  'Sp. Atk': '80',\n",
       "  'Sp. Def': '65',\n",
       "  'Speed': '80',\n",
       "  'Generation': '1',\n",
       "  'Legendary': 'False'},\n",
       " {'#': '3',\n",
       "  'Name': 'Venusaur',\n",
       "  'Type 1': 'Grass',\n",
       "  'Type 2': 'Poison',\n",
       "  'Total': '525',\n",
       "  'HP': '80',\n",
       "  'Attack': '82',\n",
       "  'Defense': '83',\n",
       "  'Sp. Atk': '100',\n",
       "  'Sp. Def': '100',\n",
       "  'Speed': '80',\n",
       "  'Generation': '1',\n",
       "  'Legendary': 'False'},\n",
       " {'#': '6',\n",
       "  'Name': 'Charizard',\n",
       "  'Type 1': 'Fire',\n",
       "  'Type 2': 'Flying',\n",
       "  'Total': '534',\n",
       "  'HP': '78',\n",
       "  'Attack': '84',\n",
       "  'Defense': '78',\n",
       "  'Sp. Atk': '109',\n",
       "  'Sp. Def': '85',\n",
       "  'Speed': '100',\n",
       "  'Generation': '1',\n",
       "  'Legendary': 'False'}]"
      ]
     },
     "execution_count": 15,
     "metadata": {},
     "output_type": "execute_result"
    }
   ],
   "source": [
    "# À vous de jouer !\n",
    "sorted(pokemons, key=lambda pokemon: pokemon['Attack'])"
   ]
  },
  {
   "cell_type": "markdown",
   "metadata": {},
   "source": [
    "## 3. Le jeu de données *Iris de Fisher*<a id=\"jeu-de-donnees-iris\"></a>"
   ]
  },
  {
   "cell_type": "markdown",
   "metadata": {},
   "source": [
    " [Retour au sommaire](#sommaire) "
   ]
  },
  {
   "cell_type": "markdown",
   "metadata": {},
   "source": [
    "### 3.1 Présentation du jeu de données<a id=\"presentation\"></a>"
   ]
  },
  {
   "cell_type": "markdown",
   "metadata": {},
   "source": [
    " [Retour au sommaire](#sommaire) "
   ]
  },
  {
   "cell_type": "markdown",
   "metadata": {},
   "source": [
    "Ce jeu de données, connu aussi sous le nom de ***Iris de Fisher***, a été présenté par Ronald Fisher en 1936 dans l'article *The use of multiple measurements in taxonomic problems.*\n",
    "\n",
    "Le jeu de données comprend 150 échantillons de chacune des trois espèces d'iris : Iris setosa, Iris virginica et Iris versicolor. Quatre caractéristiques ont été mesurées à partir de chaque échantillon : la longueur et la largeur des sépales, la longueur et la largeur des pétales, en centimètres.\n",
    "\n",
    "![Image des iris](iris_resized.png)"
   ]
  },
  {
   "cell_type": "markdown",
   "metadata": {},
   "source": [
    "### 3.2 Un travail sur les données brutes<a id=\"travail-donnees-brutes\"></a>"
   ]
  },
  {
   "cell_type": "markdown",
   "metadata": {},
   "source": [
    " [Retour au sommaire](#sommaire) "
   ]
  },
  {
   "cell_type": "markdown",
   "metadata": {},
   "source": [
    "<font style=\"color:rgb(113,65,224)\">**Exercice 8**\n",
    "1. Télécharger le fichier ``iris_data_set.csv`` puis afficher les caractéristiques des 5 premiers échantillons à l'aide de la fonction ``ouvrir_csv`` et une liste par compréhension.</font>"
   ]
  },
  {
   "cell_type": "code",
   "execution_count": 16,
   "metadata": {
    "scrolled": true
   },
   "outputs": [
    {
     "data": {
      "text/plain": [
       "[{'sepal_length': '5.1',\n",
       "  'sepal_width': '3.5',\n",
       "  'petal_length': '1.4',\n",
       "  'petal_width': '0.2',\n",
       "  'species': 'setosa'},\n",
       " {'sepal_length': '4.9',\n",
       "  'sepal_width': '3.0',\n",
       "  'petal_length': '1.4',\n",
       "  'petal_width': '0.2',\n",
       "  'species': 'setosa'},\n",
       " {'sepal_length': '4.7',\n",
       "  'sepal_width': '3.2',\n",
       "  'petal_length': '1.3',\n",
       "  'petal_width': '0.2',\n",
       "  'species': 'setosa'},\n",
       " {'sepal_length': '4.6',\n",
       "  'sepal_width': '3.1',\n",
       "  'petal_length': '1.5',\n",
       "  'petal_width': '0.2',\n",
       "  'species': 'setosa'},\n",
       " {'sepal_length': '5.0',\n",
       "  'sepal_width': '3.6',\n",
       "  'petal_length': '1.4',\n",
       "  'petal_width': '0.2',\n",
       "  'species': 'setosa'}]"
      ]
     },
     "execution_count": 16,
     "metadata": {},
     "output_type": "execute_result"
    }
   ],
   "source": [
    "# À vous de jouer !\n",
    "ensemble_iris = ouvrir_csv(\"iris_data_set.csv\")\n",
    "[ensemble_iris[i] for i in range(5)]"
   ]
  },
  {
   "cell_type": "markdown",
   "metadata": {},
   "source": [
    "<font style=\"color:rgb(113,65,224)\">2. Afin de simplifier, nous allons travailler uniquement sur la longueur et la largeur des pétales. Créer un fichier ``iris_data_set_petals.csv`` obtenu en supprimant la longueur et la largeur des sépales. On remplacera également ``petal_length``, ``petal_width`` et ``species`` par ``longueur_petales``, ``largeur_petales`` et ``espece``.</font>"
   ]
  },
  {
   "cell_type": "code",
   "execution_count": 17,
   "metadata": {},
   "outputs": [],
   "source": [
    "# À vous de jouer !\n",
    "ensemble_iris_fr = []\n",
    "for iris in ensemble_iris:\n",
    "    iris_fr = {}\n",
    "    iris_fr[\"longueur_petales\"] = iris[\"petal_length\"]\n",
    "    iris_fr[\"largeur_petales\"] = iris[\"petal_width\"]\n",
    "    iris_fr[\"espece\"] = iris[\"species\"]\n",
    "    ensemble_iris_fr.append(iris_fr)"
   ]
  },
  {
   "cell_type": "code",
   "execution_count": 18,
   "metadata": {},
   "outputs": [],
   "source": [
    "ecrire_csv(\"iris_data_set_petals.csv\", \n",
    "           [\"longueur_petales\", \"largeur_petales\", \"espece\"],\n",
    "           ensemble_iris_fr\n",
    "          )"
   ]
  },
  {
   "cell_type": "markdown",
   "metadata": {},
   "source": [
    "<font style=\"color:rgb(113,65,224)\">3. Vérifier que le résultat semble correct, en utilisant par exemple la fonction ``ouvrir_csv``.</font>"
   ]
  },
  {
   "cell_type": "code",
   "execution_count": 19,
   "metadata": {
    "scrolled": true
   },
   "outputs": [
    {
     "data": {
      "text/plain": [
       "[{'longueur_petales': '1.4', 'largeur_petales': '0.2', 'espece': 'setosa'},\n",
       " {'longueur_petales': '1.4', 'largeur_petales': '0.2', 'espece': 'setosa'},\n",
       " {'longueur_petales': '1.3', 'largeur_petales': '0.2', 'espece': 'setosa'},\n",
       " {'longueur_petales': '1.5', 'largeur_petales': '0.2', 'espece': 'setosa'},\n",
       " {'longueur_petales': '1.4', 'largeur_petales': '0.2', 'espece': 'setosa'},\n",
       " {'longueur_petales': '1.7', 'largeur_petales': '0.4', 'espece': 'setosa'},\n",
       " {'longueur_petales': '1.4', 'largeur_petales': '0.3', 'espece': 'setosa'},\n",
       " {'longueur_petales': '1.5', 'largeur_petales': '0.2', 'espece': 'setosa'},\n",
       " {'longueur_petales': '1.4', 'largeur_petales': '0.2', 'espece': 'setosa'},\n",
       " {'longueur_petales': '1.5', 'largeur_petales': '0.1', 'espece': 'setosa'},\n",
       " {'longueur_petales': '1.5', 'largeur_petales': '0.2', 'espece': 'setosa'},\n",
       " {'longueur_petales': '1.6', 'largeur_petales': '0.2', 'espece': 'setosa'},\n",
       " {'longueur_petales': '1.4', 'largeur_petales': '0.1', 'espece': 'setosa'},\n",
       " {'longueur_petales': '1.1', 'largeur_petales': '0.1', 'espece': 'setosa'},\n",
       " {'longueur_petales': '1.2', 'largeur_petales': '0.2', 'espece': 'setosa'},\n",
       " {'longueur_petales': '1.5', 'largeur_petales': '0.4', 'espece': 'setosa'},\n",
       " {'longueur_petales': '1.3', 'largeur_petales': '0.4', 'espece': 'setosa'},\n",
       " {'longueur_petales': '1.4', 'largeur_petales': '0.3', 'espece': 'setosa'},\n",
       " {'longueur_petales': '1.7', 'largeur_petales': '0.3', 'espece': 'setosa'},\n",
       " {'longueur_petales': '1.5', 'largeur_petales': '0.3', 'espece': 'setosa'},\n",
       " {'longueur_petales': '1.7', 'largeur_petales': '0.2', 'espece': 'setosa'},\n",
       " {'longueur_petales': '1.5', 'largeur_petales': '0.4', 'espece': 'setosa'},\n",
       " {'longueur_petales': '1.0', 'largeur_petales': '0.2', 'espece': 'setosa'},\n",
       " {'longueur_petales': '1.7', 'largeur_petales': '0.5', 'espece': 'setosa'},\n",
       " {'longueur_petales': '1.9', 'largeur_petales': '0.2', 'espece': 'setosa'},\n",
       " {'longueur_petales': '1.6', 'largeur_petales': '0.2', 'espece': 'setosa'},\n",
       " {'longueur_petales': '1.6', 'largeur_petales': '0.4', 'espece': 'setosa'},\n",
       " {'longueur_petales': '1.5', 'largeur_petales': '0.2', 'espece': 'setosa'},\n",
       " {'longueur_petales': '1.4', 'largeur_petales': '0.2', 'espece': 'setosa'},\n",
       " {'longueur_petales': '1.6', 'largeur_petales': '0.2', 'espece': 'setosa'},\n",
       " {'longueur_petales': '1.6', 'largeur_petales': '0.2', 'espece': 'setosa'},\n",
       " {'longueur_petales': '1.5', 'largeur_petales': '0.4', 'espece': 'setosa'},\n",
       " {'longueur_petales': '1.5', 'largeur_petales': '0.1', 'espece': 'setosa'},\n",
       " {'longueur_petales': '1.4', 'largeur_petales': '0.2', 'espece': 'setosa'},\n",
       " {'longueur_petales': '1.5', 'largeur_petales': '0.1', 'espece': 'setosa'},\n",
       " {'longueur_petales': '1.2', 'largeur_petales': '0.2', 'espece': 'setosa'},\n",
       " {'longueur_petales': '1.3', 'largeur_petales': '0.2', 'espece': 'setosa'},\n",
       " {'longueur_petales': '1.5', 'largeur_petales': '0.1', 'espece': 'setosa'},\n",
       " {'longueur_petales': '1.3', 'largeur_petales': '0.2', 'espece': 'setosa'},\n",
       " {'longueur_petales': '1.5', 'largeur_petales': '0.2', 'espece': 'setosa'},\n",
       " {'longueur_petales': '1.3', 'largeur_petales': '0.3', 'espece': 'setosa'},\n",
       " {'longueur_petales': '1.3', 'largeur_petales': '0.3', 'espece': 'setosa'},\n",
       " {'longueur_petales': '1.3', 'largeur_petales': '0.2', 'espece': 'setosa'},\n",
       " {'longueur_petales': '1.6', 'largeur_petales': '0.6', 'espece': 'setosa'},\n",
       " {'longueur_petales': '1.9', 'largeur_petales': '0.4', 'espece': 'setosa'},\n",
       " {'longueur_petales': '1.4', 'largeur_petales': '0.3', 'espece': 'setosa'},\n",
       " {'longueur_petales': '1.6', 'largeur_petales': '0.2', 'espece': 'setosa'},\n",
       " {'longueur_petales': '1.4', 'largeur_petales': '0.2', 'espece': 'setosa'},\n",
       " {'longueur_petales': '1.5', 'largeur_petales': '0.2', 'espece': 'setosa'},\n",
       " {'longueur_petales': '1.4', 'largeur_petales': '0.2', 'espece': 'setosa'},\n",
       " {'longueur_petales': '4.7', 'largeur_petales': '1.4', 'espece': 'versicolor'},\n",
       " {'longueur_petales': '4.5', 'largeur_petales': '1.5', 'espece': 'versicolor'},\n",
       " {'longueur_petales': '4.9', 'largeur_petales': '1.5', 'espece': 'versicolor'},\n",
       " {'longueur_petales': '4.0', 'largeur_petales': '1.3', 'espece': 'versicolor'},\n",
       " {'longueur_petales': '4.6', 'largeur_petales': '1.5', 'espece': 'versicolor'},\n",
       " {'longueur_petales': '4.5', 'largeur_petales': '1.3', 'espece': 'versicolor'},\n",
       " {'longueur_petales': '4.7', 'largeur_petales': '1.6', 'espece': 'versicolor'},\n",
       " {'longueur_petales': '3.3', 'largeur_petales': '1.0', 'espece': 'versicolor'},\n",
       " {'longueur_petales': '4.6', 'largeur_petales': '1.3', 'espece': 'versicolor'},\n",
       " {'longueur_petales': '3.9', 'largeur_petales': '1.4', 'espece': 'versicolor'},\n",
       " {'longueur_petales': '3.5', 'largeur_petales': '1.0', 'espece': 'versicolor'},\n",
       " {'longueur_petales': '4.2', 'largeur_petales': '1.5', 'espece': 'versicolor'},\n",
       " {'longueur_petales': '4.0', 'largeur_petales': '1.0', 'espece': 'versicolor'},\n",
       " {'longueur_petales': '4.7', 'largeur_petales': '1.4', 'espece': 'versicolor'},\n",
       " {'longueur_petales': '3.6', 'largeur_petales': '1.3', 'espece': 'versicolor'},\n",
       " {'longueur_petales': '4.4', 'largeur_petales': '1.4', 'espece': 'versicolor'},\n",
       " {'longueur_petales': '4.5', 'largeur_petales': '1.5', 'espece': 'versicolor'},\n",
       " {'longueur_petales': '4.1', 'largeur_petales': '1.0', 'espece': 'versicolor'},\n",
       " {'longueur_petales': '4.5', 'largeur_petales': '1.5', 'espece': 'versicolor'},\n",
       " {'longueur_petales': '3.9', 'largeur_petales': '1.1', 'espece': 'versicolor'},\n",
       " {'longueur_petales': '4.8', 'largeur_petales': '1.8', 'espece': 'versicolor'},\n",
       " {'longueur_petales': '4.0', 'largeur_petales': '1.3', 'espece': 'versicolor'},\n",
       " {'longueur_petales': '4.9', 'largeur_petales': '1.5', 'espece': 'versicolor'},\n",
       " {'longueur_petales': '4.7', 'largeur_petales': '1.2', 'espece': 'versicolor'},\n",
       " {'longueur_petales': '4.3', 'largeur_petales': '1.3', 'espece': 'versicolor'},\n",
       " {'longueur_petales': '4.4', 'largeur_petales': '1.4', 'espece': 'versicolor'},\n",
       " {'longueur_petales': '4.8', 'largeur_petales': '1.4', 'espece': 'versicolor'},\n",
       " {'longueur_petales': '5.0', 'largeur_petales': '1.7', 'espece': 'versicolor'},\n",
       " {'longueur_petales': '4.5', 'largeur_petales': '1.5', 'espece': 'versicolor'},\n",
       " {'longueur_petales': '3.5', 'largeur_petales': '1.0', 'espece': 'versicolor'},\n",
       " {'longueur_petales': '3.8', 'largeur_petales': '1.1', 'espece': 'versicolor'},\n",
       " {'longueur_petales': '3.7', 'largeur_petales': '1.0', 'espece': 'versicolor'},\n",
       " {'longueur_petales': '3.9', 'largeur_petales': '1.2', 'espece': 'versicolor'},\n",
       " {'longueur_petales': '5.1', 'largeur_petales': '1.6', 'espece': 'versicolor'},\n",
       " {'longueur_petales': '4.5', 'largeur_petales': '1.5', 'espece': 'versicolor'},\n",
       " {'longueur_petales': '4.5', 'largeur_petales': '1.6', 'espece': 'versicolor'},\n",
       " {'longueur_petales': '4.7', 'largeur_petales': '1.5', 'espece': 'versicolor'},\n",
       " {'longueur_petales': '4.4', 'largeur_petales': '1.3', 'espece': 'versicolor'},\n",
       " {'longueur_petales': '4.1', 'largeur_petales': '1.3', 'espece': 'versicolor'},\n",
       " {'longueur_petales': '4.0', 'largeur_petales': '1.3', 'espece': 'versicolor'},\n",
       " {'longueur_petales': '4.4', 'largeur_petales': '1.2', 'espece': 'versicolor'},\n",
       " {'longueur_petales': '4.6', 'largeur_petales': '1.4', 'espece': 'versicolor'},\n",
       " {'longueur_petales': '4.0', 'largeur_petales': '1.2', 'espece': 'versicolor'},\n",
       " {'longueur_petales': '3.3', 'largeur_petales': '1.0', 'espece': 'versicolor'},\n",
       " {'longueur_petales': '4.2', 'largeur_petales': '1.3', 'espece': 'versicolor'},\n",
       " {'longueur_petales': '4.2', 'largeur_petales': '1.2', 'espece': 'versicolor'},\n",
       " {'longueur_petales': '4.2', 'largeur_petales': '1.3', 'espece': 'versicolor'},\n",
       " {'longueur_petales': '4.3', 'largeur_petales': '1.3', 'espece': 'versicolor'},\n",
       " {'longueur_petales': '3.0', 'largeur_petales': '1.1', 'espece': 'versicolor'},\n",
       " {'longueur_petales': '4.1', 'largeur_petales': '1.3', 'espece': 'versicolor'},\n",
       " {'longueur_petales': '6.0', 'largeur_petales': '2.5', 'espece': 'virginica'},\n",
       " {'longueur_petales': '5.1', 'largeur_petales': '1.9', 'espece': 'virginica'},\n",
       " {'longueur_petales': '5.9', 'largeur_petales': '2.1', 'espece': 'virginica'},\n",
       " {'longueur_petales': '5.6', 'largeur_petales': '1.8', 'espece': 'virginica'},\n",
       " {'longueur_petales': '5.8', 'largeur_petales': '2.2', 'espece': 'virginica'},\n",
       " {'longueur_petales': '6.6', 'largeur_petales': '2.1', 'espece': 'virginica'},\n",
       " {'longueur_petales': '4.5', 'largeur_petales': '1.7', 'espece': 'virginica'},\n",
       " {'longueur_petales': '6.3', 'largeur_petales': '1.8', 'espece': 'virginica'},\n",
       " {'longueur_petales': '5.8', 'largeur_petales': '1.8', 'espece': 'virginica'},\n",
       " {'longueur_petales': '6.1', 'largeur_petales': '2.5', 'espece': 'virginica'},\n",
       " {'longueur_petales': '5.1', 'largeur_petales': '2.0', 'espece': 'virginica'},\n",
       " {'longueur_petales': '5.3', 'largeur_petales': '1.9', 'espece': 'virginica'},\n",
       " {'longueur_petales': '5.5', 'largeur_petales': '2.1', 'espece': 'virginica'},\n",
       " {'longueur_petales': '5.0', 'largeur_petales': '2.0', 'espece': 'virginica'},\n",
       " {'longueur_petales': '5.1', 'largeur_petales': '2.4', 'espece': 'virginica'},\n",
       " {'longueur_petales': '5.3', 'largeur_petales': '2.3', 'espece': 'virginica'},\n",
       " {'longueur_petales': '5.5', 'largeur_petales': '1.8', 'espece': 'virginica'},\n",
       " {'longueur_petales': '6.7', 'largeur_petales': '2.2', 'espece': 'virginica'},\n",
       " {'longueur_petales': '6.9', 'largeur_petales': '2.3', 'espece': 'virginica'},\n",
       " {'longueur_petales': '5.0', 'largeur_petales': '1.5', 'espece': 'virginica'},\n",
       " {'longueur_petales': '5.7', 'largeur_petales': '2.3', 'espece': 'virginica'},\n",
       " {'longueur_petales': '4.9', 'largeur_petales': '2.0', 'espece': 'virginica'},\n",
       " {'longueur_petales': '6.7', 'largeur_petales': '2.0', 'espece': 'virginica'},\n",
       " {'longueur_petales': '4.9', 'largeur_petales': '1.8', 'espece': 'virginica'},\n",
       " {'longueur_petales': '5.7', 'largeur_petales': '2.1', 'espece': 'virginica'},\n",
       " {'longueur_petales': '6.0', 'largeur_petales': '1.8', 'espece': 'virginica'},\n",
       " {'longueur_petales': '4.8', 'largeur_petales': '1.8', 'espece': 'virginica'},\n",
       " {'longueur_petales': '4.9', 'largeur_petales': '1.8', 'espece': 'virginica'},\n",
       " {'longueur_petales': '5.6', 'largeur_petales': '2.1', 'espece': 'virginica'},\n",
       " {'longueur_petales': '5.8', 'largeur_petales': '1.6', 'espece': 'virginica'},\n",
       " {'longueur_petales': '6.1', 'largeur_petales': '1.9', 'espece': 'virginica'},\n",
       " {'longueur_petales': '6.4', 'largeur_petales': '2.0', 'espece': 'virginica'},\n",
       " {'longueur_petales': '5.6', 'largeur_petales': '2.2', 'espece': 'virginica'},\n",
       " {'longueur_petales': '5.1', 'largeur_petales': '1.5', 'espece': 'virginica'},\n",
       " {'longueur_petales': '5.6', 'largeur_petales': '1.4', 'espece': 'virginica'},\n",
       " {'longueur_petales': '6.1', 'largeur_petales': '2.3', 'espece': 'virginica'},\n",
       " {'longueur_petales': '5.6', 'largeur_petales': '2.4', 'espece': 'virginica'},\n",
       " {'longueur_petales': '5.5', 'largeur_petales': '1.8', 'espece': 'virginica'},\n",
       " {'longueur_petales': '4.8', 'largeur_petales': '1.8', 'espece': 'virginica'},\n",
       " {'longueur_petales': '5.4', 'largeur_petales': '2.1', 'espece': 'virginica'},\n",
       " {'longueur_petales': '5.6', 'largeur_petales': '2.4', 'espece': 'virginica'},\n",
       " {'longueur_petales': '5.1', 'largeur_petales': '2.3', 'espece': 'virginica'},\n",
       " {'longueur_petales': '5.1', 'largeur_petales': '1.9', 'espece': 'virginica'},\n",
       " {'longueur_petales': '5.9', 'largeur_petales': '2.3', 'espece': 'virginica'},\n",
       " {'longueur_petales': '5.7', 'largeur_petales': '2.5', 'espece': 'virginica'},\n",
       " {'longueur_petales': '5.2', 'largeur_petales': '2.3', 'espece': 'virginica'},\n",
       " {'longueur_petales': '5.0', 'largeur_petales': '1.9', 'espece': 'virginica'},\n",
       " {'longueur_petales': '5.2', 'largeur_petales': '2.0', 'espece': 'virginica'},\n",
       " {'longueur_petales': '5.4', 'largeur_petales': '2.3', 'espece': 'virginica'},\n",
       " {'longueur_petales': '5.1', 'largeur_petales': '1.8', 'espece': 'virginica'}]"
      ]
     },
     "execution_count": 19,
     "metadata": {},
     "output_type": "execute_result"
    }
   ],
   "source": [
    "# À vous de jouer!\n",
    "ouvrir_csv(\"iris_data_set_petals.csv\")"
   ]
  },
  {
   "cell_type": "markdown",
   "metadata": {},
   "source": [
    "### 3.3 Représentation graphique à l'aide de ``matplotlib``<a id=\"representation-matplotlib\"></a>"
   ]
  },
  {
   "cell_type": "markdown",
   "metadata": {},
   "source": [
    " [Retour au sommaire](#sommaire) "
   ]
  },
  {
   "cell_type": "markdown",
   "metadata": {},
   "source": [
    "La bibliothèque ``matplotlib`` permet de représenter les données du fichier précédent (``iris_data_set_petals.csv``)."
   ]
  },
  {
   "cell_type": "markdown",
   "metadata": {},
   "source": [
    "<font style=\"color:rgb(113,65,224)\">**Exercice 9**    \n",
    "Compléter le code suivant pour que les échantillons d'Iris Virginica soient aussi représentés sur le graphique, par des croix en forme de signe ``+``.\n",
    "\n",
    "*Aide. &ndash; Quelques options de ``plt.scatter`` se trouvent [ici](https://matplotlib.org/stable/api/markers_api.html#module-matplotlib.markers) et [là](https://matplotlib.org/stable/api/colors_api.html).*</font>"
   ]
  },
  {
   "cell_type": "code",
   "execution_count": 20,
   "metadata": {},
   "outputs": [
    {
     "data": {
      "text/plain": [
       "['Mattéo', 'Maurine', 'Manua']"
      ]
     },
     "execution_count": 20,
     "metadata": {},
     "output_type": "execute_result"
    }
   ],
   "source": [
    "# Nouvelle syntaxe\n",
    "eleves = [\"Eka\", \"Mattéo\", \"Maurine\", \"Eline\", \"Manua\", \"Gabriel\"]\n",
    "[eleve for eleve in eleves if eleve[0]==\"M\"]"
   ]
  },
  {
   "cell_type": "code",
   "execution_count": 21,
   "metadata": {},
   "outputs": [
    {
     "data": {
      "image/png": "[encoded data removed]",
      "text/plain": [
       "<Figure size 432x288 with 1 Axes>"
      ]
     },
     "metadata": {
      "needs_background": "light"
     },
     "output_type": "display_data"
    }
   ],
   "source": [
    "import matplotlib.pyplot as plt\n",
    "echantillons_sans_sepales = ouvrir_csv(\"iris_data_set_petals.csv\")\n",
    "\n",
    "X_setosa = [float(iris['longueur_petales']) \n",
    "            for iris in echantillons_sans_sepales\n",
    "            if iris['espece']=='setosa'\n",
    "           ]\n",
    "Y_setosa = [float(iris['largeur_petales']) \n",
    "            for iris in echantillons_sans_sepales\n",
    "            if iris['espece']=='setosa'\n",
    "           ]\n",
    "X_versicolor = [float(iris['longueur_petales']) \n",
    "            for iris in echantillons_sans_sepales\n",
    "            if iris['espece']=='versicolor'\n",
    "           ]\n",
    "Y_versicolor = [float(iris['largeur_petales']) \n",
    "            for iris in echantillons_sans_sepales\n",
    "            if iris['espece']=='versicolor'\n",
    "           ]\n",
    "\n",
    "# début de code à compléter (1/2)\n",
    "X_virginica = [float(iris['longueur_petales']) \n",
    "            for iris in echantillons_sans_sepales\n",
    "            if iris['espece']=='virginica'\n",
    "           ]\n",
    "Y_virginica = [float(iris['largeur_petales']) \n",
    "            for iris in echantillons_sans_sepales\n",
    "            if iris['espece']=='virginica'\n",
    "           ]\n",
    "# fin de code à compléter (1/2)\n",
    "\n",
    "plt.scatter(X_setosa, Y_setosa, color='g', label='setosa', \n",
    "            s=20, marker='*')\n",
    "plt.scatter(X_versicolor, Y_versicolor, color='r', label='versicolor',\n",
    "            s=20, marker='.')\n",
    "\n",
    "# début de code à compléter (2/2)\n",
    "plt.scatter(X_virginica, Y_virginica, color='b', label='virginica',\n",
    "           s=20, marker='+')\n",
    "# fin de code à compléter (2/2)\n",
    "\n",
    "plt.legend()\n",
    "# étiquettes des axes\n",
    "plt.xlabel('Longueur des pétales (en cm)')\n",
    "plt.ylabel('Largeur des pétales (en cm)')\n",
    "# affichage du graphique\n",
    "plt.show()"
   ]
  },
  {
   "cell_type": "markdown",
   "metadata": {},
   "source": [
    "### 3.4 Deux nouveaux iris : conjectures<a id=\"nouveaux-iris-conjecture\"></a>"
   ]
  },
  {
   "cell_type": "markdown",
   "metadata": {},
   "source": [
    " [Retour au sommaire](#sommaire) "
   ]
  },
  {
   "cell_type": "markdown",
   "metadata": {},
   "source": [
    "On se demande à quelle espèce appartiennent les deux iris suivants :\n",
    "\n",
    "|        | Longueur des pétales (en cm) | Largeur des pétales (en cm) |\n",
    "|:------:|:----------------------------:|:---------------------------:|\n",
    "| Iris 1 |               2              |             0,5             |\n",
    "| Iris 2 |              2,5             |             0,75            |"
   ]
  },
  {
   "cell_type": "markdown",
   "metadata": {},
   "source": [
    "<font style=\"color:rgb(113,65,224)\">**Exercice 10**    \n",
    "En utilisant ``plt.scatter``, représenter ces deux iris sur le graphique précédent, l'iris 1 par un triangle jaune avec la pointe vers le bas, l'iris 2 par un triangle mauve avec la pointe vers le haut.</font>"
   ]
  },
  {
   "cell_type": "code",
   "execution_count": null,
   "metadata": {},
   "outputs": [],
   "source": [
    "# À vous de jouer !\n",
    "import matplotlib.pyplot as plt\n",
    "echantillons_sans_sepales = ouvrir_csv(\"iris_data_set_petals.csv\")\n",
    "\n",
    "X_setosa = [float(iris['longueur_petales']) \n",
    "            for iris in echantillons_sans_sepales\n",
    "            if iris['espece']=='setosa'\n",
    "           ]\n",
    "Y_setosa = [float(iris['largeur_petales']) \n",
    "            for iris in echantillons_sans_sepales\n",
    "            if iris['espece']=='setosa'\n",
    "           ]\n",
    "X_versicolor = [float(iris['longueur_petales']) \n",
    "            for iris in echantillons_sans_sepales\n",
    "            if iris['espece']=='versicolor'\n",
    "           ]\n",
    "Y_versicolor = [float(iris['largeur_petales']) \n",
    "            for iris in echantillons_sans_sepales\n",
    "            if iris['espece']=='versicolor'\n",
    "           ]\n",
    "\n",
    "# début de code à compléter (1/2)\n",
    "X_virginica = [float(iris['longueur_petales']) \n",
    "            for iris in echantillons_sans_sepales\n",
    "            if iris['espece']=='virginica'\n",
    "           ]\n",
    "Y_virginica = [float(iris['largeur_petales']) \n",
    "            for iris in echantillons_sans_sepales\n",
    "            if iris['espece']=='virginica'\n",
    "           ]\n",
    "# fin de code à compléter (1/2)\n",
    "\n",
    "plt.scatter(X_setosa, Y_setosa, color='g', label='setosa', \n",
    "            s=20, marker='*')\n",
    "plt.scatter(X_versicolor, Y_versicolor, color='r', label='versicolor',\n",
    "            s=20, marker='.')\n",
    "\n",
    "# début de code à compléter (2/2)\n",
    "plt.scatter(X_virginica, Y_virginica, color='b', label='virginica',\n",
    "           s=20, marker='+')\n",
    "# fin de code à compléter (2/2)\n",
    "\n",
    "# on ajoute les deux iris que l'on souhaite classer\n",
    "plt.scatter()\n",
    "plt.scatter()\n",
    "\n",
    "plt.legend()\n",
    "# étiquettes des axes\n",
    "plt.xlabel('Longueur des pétales (en cm)')\n",
    "plt.ylabel('Largeur des pétales (en cm)')\n",
    "# affichage du graphique\n",
    "plt.show()"
   ]
  },
  {
   "cell_type": "markdown",
   "metadata": {},
   "source": [
    "## 4. Classification à l'aide de l'algorithme des $k$ plus proches voisins<a id=\"classification-knn\"></a>"
   ]
  },
  {
   "cell_type": "markdown",
   "metadata": {},
   "source": [
    " [Retour au sommaire](#sommaire) "
   ]
  },
  {
   "cell_type": "markdown",
   "metadata": {},
   "source": [
    "### 4.1 Fonction ``distance``<a id=\"fonction-distance\"></a>"
   ]
  },
  {
   "cell_type": "markdown",
   "metadata": {},
   "source": [
    " [Retour au sommaire](#sommaire) "
   ]
  },
  {
   "cell_type": "markdown",
   "metadata": {},
   "source": [
    "<font style=\"color:rgb(113,65,224)\">**Exercice 11**   \n",
    "Écrire une fonction ``distance`` qui prend en paramètres :\n",
    "- ``longueur_A`` et ``largeur_A`` : la longueur et la largeur des pétales d'un premier iris ;\n",
    "- ``longueur_B`` et ``largeur_B`` : la longueur et la largeur des pétales d'un second iris,\n",
    "\n",
    "et qui renvoie la distance entre les deux iris donnée par :\n",
    "\n",
    "\n",
    "$\\sqrt{(\\text{longueur_A}-\\text{longueur_B})^2+(\\text{largeur_A}-\\text{largeur_B})^2}$.</font>"
   ]
  },
  {
   "cell_type": "code",
   "execution_count": null,
   "metadata": {},
   "outputs": [],
   "source": [
    "# À vous de jouer !\n",
    "from math import sqrt\n",
    "\n",
    "\n",
    "def distance(longueur_A, largeur_A, longueur_B, largeur_B):\n",
    "    pass"
   ]
  },
  {
   "cell_type": "markdown",
   "metadata": {},
   "source": [
    "### 4.2 Trouver les $k$ plus proches voisins d'un nouvel iris<a id=\"trouver-kppv\"></a>"
   ]
  },
  {
   "cell_type": "markdown",
   "metadata": {},
   "source": [
    " [Retour au sommaire](#sommaire) "
   ]
  },
  {
   "cell_type": "markdown",
   "metadata": {},
   "source": [
    "<font style=\"color:rgb(113,65,224)\">**Exercice 12**    \n",
    "Écrire une fonction ``kppv`` qui prend en paramètres :\n",
    "- une liste ``echantillons`` d'iris (de dictionnaires ayant trois clés : la longueur et la largeur des pétales, l'espèce) ;\n",
    "- un entier naturel non nul ``k`` ;\n",
    "- la longueur ``longueur`` et la largeur ``largeur`` d'un nouvel iris,\n",
    "\n",
    "et qui renvoie les $k$ plus proches voisins de ce nouvel iris.</font>"
   ]
  },
  {
   "cell_type": "code",
   "execution_count": null,
   "metadata": {},
   "outputs": [],
   "source": [
    "# À vous de jouer !\n",
    "def kppv(echantillons, k, longueur, largeur):\n",
    "    pass"
   ]
  },
  {
   "cell_type": "code",
   "execution_count": null,
   "metadata": {},
   "outputs": [],
   "source": [
    "# Un test pour vérifier votre travail\n",
    "echantillons = ouvrir_csv('iris_data_set_petals.csv')\n",
    "assert kppv(echantillons, 5, 2, 0.5) == [\n",
    "     {'longueur_petales': '1.9',\n",
    "      'largeur_petales': '0.4',\n",
    "      'espece': 'setosa',\n",
    "      'distance': 0.14142135623730953},\n",
    "     {'longueur_petales': '1.7',\n",
    "      'largeur_petales': '0.5',\n",
    "      'espece': 'setosa',\n",
    "      'distance': 0.30000000000000004},\n",
    "     {'longueur_petales': '1.7',\n",
    "      'largeur_petales': '0.4',\n",
    "      'espece': 'setosa',\n",
    "      'distance': 0.31622776601683794},\n",
    "     {'longueur_petales': '1.9',\n",
    "      'largeur_petales': '0.2',\n",
    "      'espece': 'setosa',\n",
    "      'distance': 0.31622776601683794},\n",
    "     {'longueur_petales': '1.7',\n",
    "      'largeur_petales': '0.3',\n",
    "      'espece': 'setosa',\n",
    "      'distance': 0.36055512754639896}\n",
    "]"
   ]
  },
  {
   "cell_type": "markdown",
   "metadata": {},
   "source": [
    "### 4.3 Fonction ``occurrences_especes``<a id=\"fonction-occurrences_especes\"></a>"
   ]
  },
  {
   "cell_type": "markdown",
   "metadata": {},
   "source": [
    " [Retour au sommaire](#sommaire) "
   ]
  },
  {
   "cell_type": "markdown",
   "metadata": {},
   "source": [
    "<font style=\"color:rgb(113,65,224)\">**Exercice 13**    \n",
    "On souhaite écrire une fonction ``occurrences_especes`` qui prend en paramètre une liste d'iris ``echantillons`` et qui renvoie un dictionnaire dont les clés sont les trois espèces et les valeurs le nombre d'iris de chaque espèce.\n",
    "1. Sachant que le jeu de données contient $50$ Iris Setosa, $50$ Iris Versicolor et $50$ Iris Virginica, compléter le test de la fonction ``occurrences_especes``.\n",
    "2. Écrire alors la fonction ``occurrences_especes``, puis utiliser le test écrit précédemment.</font>"
   ]
  },
  {
   "cell_type": "code",
   "execution_count": null,
   "metadata": {},
   "outputs": [],
   "source": [
    "# À vous de jouer !\n",
    "def occurrences_especes(echantillons):\n",
    "    pass"
   ]
  },
  {
   "cell_type": "code",
   "execution_count": null,
   "metadata": {},
   "outputs": [],
   "source": [
    "# Un test à compléter\n",
    "echantillons = ouvrir_csv('iris_data_set_petals.csv')\n",
    "# décommenter puis compléter la ligne ci-dessous\n",
    "# assert occurrences_especes(echantillons) == ..."
   ]
  },
  {
   "cell_type": "markdown",
   "metadata": {},
   "source": [
    "### 4.4 Déterminer l'espèce majoritaire<a id=\"determiner-espece-majoritaire\"></a>"
   ]
  },
  {
   "cell_type": "markdown",
   "metadata": {},
   "source": [
    "<font style=\"color:rgb(113,65,224)\">**Exercice 14**    \n",
    "On souhaite écrire une fonction ``espece_majoritaire`` qui prend en paramètre une liste d'iris ``echantillons`` et qui renvoie l'espèce majoritaire de cette liste.\n",
    "1. Compléter le test de la fonction ``espece_majoritaire``.\n",
    "2. Écrire la fonction ``espece_majoritaire``, puis utiliser le test écrit précédemment.</font>"
   ]
  },
  {
   "cell_type": "code",
   "execution_count": null,
   "metadata": {},
   "outputs": [],
   "source": [
    "# À vous de jouer !\n",
    "def espece_majoritaire(echantillons):\n",
    "    pass"
   ]
  },
  {
   "cell_type": "code",
   "execution_count": null,
   "metadata": {},
   "outputs": [],
   "source": [
    "# Un test à compléter\n",
    "echantillons = [{'longueur_petales': '1.4', 'largeur_petales': '0.2', 'espece': 'setosa'},\n",
    "                {'longueur_petales': '1.4', 'largeur_petales': '0.2', 'espece': 'setosa'},\n",
    "                {'longueur_petales': '1.3', 'largeur_petales': '0.2', 'espece': 'setosa'},\n",
    "                {'longueur_petales': '1.6', 'largeur_petales': '0.6', 'espece': 'setosa'},\n",
    "                {'longueur_petales': '1.9', 'largeur_petales': '0.4', 'espece': 'setosa'},\n",
    "                {'longueur_petales': '1.4', 'largeur_petales': '0.3', 'espece': 'setosa'},\n",
    "                {'longueur_petales': '3.5', 'largeur_petales': '1.0', 'espece': 'versicolor'},\n",
    "                {'longueur_petales': '3.8', 'largeur_petales': '1.1', 'espece': 'versicolor'},\n",
    "                {'longueur_petales': '3.7', 'largeur_petales': '1.0', 'espece': 'versicolor'},\n",
    "                {'longueur_petales': '3.9', 'largeur_petales': '1.2', 'espece': 'versicolor'},\n",
    "                {'longueur_petales': '5.2', 'largeur_petales': '2.3', 'espece': 'virginica'},\n",
    "                {'longueur_petales': '5.0', 'largeur_petales': '1.9', 'espece': 'virginica'},\n",
    "                {'longueur_petales': '5.2', 'largeur_petales': '2.0', 'espece': 'virginica'},\n",
    "                {'longueur_petales': '5.4', 'largeur_petales': '2.3', 'espece': 'virginica'},\n",
    "                {'longueur_petales': '5.1', 'largeur_petales': '1.8', 'espece': 'virginica'}\n",
    "               ]\n",
    "# décommenter puis compléter la ligne ci-dessous\n",
    "# assert espece_majoritaire(echantillons) == ..."
   ]
  },
  {
   "cell_type": "markdown",
   "metadata": {},
   "source": [
    "### 4.5 Classification d'un nouvel iris<a id=\"classification-nouvel-iris\"></a>"
   ]
  },
  {
   "cell_type": "markdown",
   "metadata": {},
   "source": [
    " [Retour au sommaire](#sommaire) "
   ]
  },
  {
   "cell_type": "markdown",
   "metadata": {},
   "source": [
    "<font style=\"color:rgb(113,65,224)\">**Exercice 15**    \n",
    "Écrire une fonction ``classification`` qui prend en paramètres :\n",
    "- une liste d'iris ``echantillons`` (de dictionnaires ayant trois clés : la longueur et la largeur des pétales, l'espèce) ;\n",
    "- un entier naturel non nul ``k`` ;\n",
    "- la longueur ``longueur`` et la largeur ``largeur`` d'un nouvel iris,\n",
    "\n",
    "et qui renvoie l'espèce majoritaire parmi les $k$ plus proches voisins du nouvel iris.</font>"
   ]
  },
  {
   "cell_type": "code",
   "execution_count": null,
   "metadata": {},
   "outputs": [],
   "source": [
    "# À vous de jouer !\n",
    "def classification(echantillons, k, longueur, largeur):\n",
    "    pass"
   ]
  },
  {
   "cell_type": "markdown",
   "metadata": {},
   "source": [
    "<font style=\"color:rgb(113,65,224)\">**Exercice 16**    \n",
    "Classer alors les iris 1 et 2 en utilisant $k=9$.</font>"
   ]
  },
  {
   "cell_type": "code",
   "execution_count": null,
   "metadata": {},
   "outputs": [],
   "source": [
    "# On classe l'iris 1\n",
    "echantillons = ouvrir_csv(\"iris_data_set_petals.csv\")\n",
    "pass"
   ]
  },
  {
   "cell_type": "code",
   "execution_count": null,
   "metadata": {},
   "outputs": [],
   "source": [
    "# On classe l'iris 2\n",
    "pass"
   ]
  },
  {
   "cell_type": "markdown",
   "metadata": {},
   "source": [
    "<a rel=\"license\" href=\"http://creativecommons.org/licenses/by-nc-sa/4.0/\"><img alt=\"Licence Creative Commons\" style=\"border-width:0\" src=\"https://i.creativecommons.org/l/by-nc-sa/4.0/88x31.png\" /></a><br />Ce(tte) œuvre est mise à disposition selon les termes de la <a rel=\"license\" href=\"http://creativecommons.org/licenses/by-nc-sa/4.0/\">Licence Creative Commons Attribution - Pas d’Utilisation Commerciale - Partage dans les Mêmes Conditions 4.0 International</a>.<a id=\"licence\"></a>"
   ]
  }
 ],
 "metadata": {
  "kernelspec": {
   "display_name": "Python 3.8 (ipykernel)",
   "language": "python",
   "name": "python3.8"
  },
  "language_info": {
   "codemirror_mode": {
    "name": "ipython",
    "version": 3
   },
   "file_extension": ".py",
   "mimetype": "text/x-python",
   "name": "python",
   "nbconvert_exporter": "python",
   "pygments_lexer": "ipython3",
   "version": "3.8.13"
  },
  "latex_envs": {
   "LaTeX_envs_menu_present": true,
   "autoclose": false,
   "autocomplete": true,
   "bibliofile": "biblio.bib",
   "cite_by": "apalike",
   "current_citInitial": 1,
   "eqLabelWithNumbers": true,
   "eqNumInitial": 1,
   "hotkeys": {
    "equation": "Ctrl-E",
    "itemize": "Ctrl-I"
   },
   "labels_anchors": false,
   "latex_user_defs": false,
   "report_style_numbering": false,
   "user_envs_cfg": false
  }
 },
 "nbformat": 4,
 "nbformat_minor": 2
}
